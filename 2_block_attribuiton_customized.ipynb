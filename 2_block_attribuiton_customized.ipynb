{
 "cells": [
  {
   "cell_type": "markdown",
   "metadata": {},
   "source": [
    "# Block attribuiton customized\n",
    "\n",
    "This notebook updates the `miners.json` with manual edits to `miners_customized.json`\n",
    "and adds different attributions to `blocks_attributions_0-$(current_blockheight).json`\n",
    "\n",
    "\n",
    "\n",
    "### Types of attributions:\n",
    "- `custom_addr`\n",
    "- `custom_marker`\n",
    "- `cusrtom`\n",
    "- `graphsense_cluster`\n",
    "- `graphsense_tag`\n",
    "\n",
    "\n",
    "### Later:\n",
    "The address history is not done anymore in this notebook.\n",
    "The `addresses_0-$(current_blockheight).json` file contains the tx histroy of all coinbase output addresses. \n",
    "- `address_history`"
   ]
  },
  {
   "cell_type": "markdown",
   "metadata": {},
   "source": [
    "## Imports"
   ]
  },
  {
   "cell_type": "code",
   "execution_count": 1,
   "metadata": {
    "ExecuteTime": {
     "end_time": "2019-06-02T19:31:41.934910Z",
     "start_time": "2019-06-02T19:31:41.469078Z"
    }
   },
   "outputs": [],
   "source": [
    "# python3.5\n",
    "import pandas as pd\n",
    "import numpy as np\n",
    "import matplotlib.pyplot as plt\n",
    "\n",
    "import re\n",
    "import binascii\n",
    "import sys\n",
    "import random # draw samples\n",
    "\n",
    "import csv\n",
    "import json\n",
    "\n",
    "import os.path # os.path.isfile; \n",
    "from collections import defaultdict\n",
    "\n",
    "import pprint\n",
    "pp = pprint.PrettyPrinter(indent=4)"
   ]
  },
  {
   "cell_type": "code",
   "execution_count": 2,
   "metadata": {
    "ExecuteTime": {
     "end_time": "2019-06-02T19:31:44.894200Z",
     "start_time": "2019-06-02T19:31:44.883668Z"
    }
   },
   "outputs": [
    {
     "data": {
      "text/plain": [
       "<module 'util' from '/home/matteo/deep_dive/util.py'>"
      ]
     },
     "execution_count": 2,
     "metadata": {},
     "output_type": "execute_result"
    }
   ],
   "source": [
    "# custom imports \n",
    "import util\n",
    "from importlib import reload\n",
    "reload(util)"
   ]
  },
  {
   "cell_type": "markdown",
   "metadata": {},
   "source": [
    "## Global varibales and functions"
   ]
  },
  {
   "cell_type": "code",
   "execution_count": 3,
   "metadata": {
    "ExecuteTime": {
     "end_time": "2019-06-02T19:31:50.758608Z",
     "start_time": "2019-06-02T19:31:50.748429Z"
    }
   },
   "outputs": [
    {
     "name": "stdout",
     "output_type": "stream",
     "text": [
      "556400\n"
     ]
    }
   ],
   "source": [
    "# data up to blockheight \n",
    "current_blockheight = util.CURRENT_BLOCKHEIGHT\n",
    "print(current_blockheight)"
   ]
  },
  {
   "cell_type": "markdown",
   "metadata": {},
   "source": [
    "### Input"
   ]
  },
  {
   "cell_type": "markdown",
   "metadata": {},
   "source": [
    "#### `miners.json`\n",
    "The mining entity data from:\n",
    "* blockchain.info \n",
    "* blocktrail.com\n",
    "\n",
    "Again this data is in our custom JSON format defined above."
   ]
  },
  {
   "cell_type": "code",
   "execution_count": 4,
   "metadata": {
    "ExecuteTime": {
     "end_time": "2019-06-02T19:32:00.332803Z",
     "start_time": "2019-06-02T19:32:00.328361Z"
    }
   },
   "outputs": [],
   "source": [
    "miners_json_file = './dataset/miners.json'\n",
    "assert( os.path.isfile(miners_json_file) )"
   ]
  },
  {
   "cell_type": "markdown",
   "metadata": {},
   "source": [
    "#### `blocks_attribution_0-$(current_blockheight).json`\n",
    "already performed block attributions to link same miners and pools together:\n",
    "- `blockchain_info_tag`\n",
    "- `blockchain_info_address`\n",
    "- `blockchain_info`\n",
    "- `blocktrail`"
   ]
  },
  {
   "cell_type": "code",
   "execution_count": 5,
   "metadata": {
    "ExecuteTime": {
     "end_time": "2019-06-02T19:32:04.462436Z",
     "start_time": "2019-06-02T19:32:04.457335Z"
    }
   },
   "outputs": [],
   "source": [
    "blocks_attribution_json_file = './dataset/blocks_attribution_0-' + str(current_blockheight) + '.json'\n",
    "assert( os.path.isfile(blocks_attribution_json_file) )"
   ]
  },
  {
   "cell_type": "code",
   "execution_count": 6,
   "metadata": {
    "ExecuteTime": {
     "end_time": "2019-06-02T19:32:09.088250Z",
     "start_time": "2019-06-02T19:32:08.965668Z"
    }
   },
   "outputs": [
    {
     "name": "stdout",
     "output_type": "stream",
     "text": [
      "1,3G\t./dataset/blocks_attribution_0-556400.json\r\n"
     ]
    }
   ],
   "source": [
    "!du -sh $blocks_attribution_json_file"
   ]
  },
  {
   "cell_type": "markdown",
   "metadata": {},
   "source": [
    "#### `address_cluster.json`\n",
    "Graphsense address cluster created by multiple-input clustering\n",
    "\n",
    "* `address`: address that gets mapped to a cluster\n",
    "* `cluster`: graphsense cluster\n",
    "\n",
    "```\n",
    "address,cluster\n",
    "1qp3SJMVVEDGMVwdKqFnMzGa2xEPxMdjh,234254928\n",
    "1bp7rn5kNqVUMDwzNgpGDcK2AmQXsx5y7,217034837\n",
    "```"
   ]
  },
  {
   "cell_type": "code",
   "execution_count": 8,
   "metadata": {
    "ExecuteTime": {
     "end_time": "2019-06-02T19:33:13.162576Z",
     "start_time": "2019-06-02T19:33:13.159252Z"
    }
   },
   "outputs": [],
   "source": [
    "address_cluster_csv_file = './dataset/address_cluster.csv'\n",
    "assert( os.path.isfile(address_cluster_csv_file) )"
   ]
  },
  {
   "cell_type": "code",
   "execution_count": 9,
   "metadata": {
    "ExecuteTime": {
     "end_time": "2019-06-02T19:33:15.306976Z",
     "start_time": "2019-06-02T19:33:15.180903Z"
    }
   },
   "outputs": [
    {
     "name": "stdout",
     "output_type": "stream",
     "text": [
      "109M\t./dataset/address_cluster.csv\r\n"
     ]
    }
   ],
   "source": [
    "!du -sh $address_cluster_csv_file"
   ]
  },
  {
   "cell_type": "code",
   "execution_count": 12,
   "metadata": {
    "ExecuteTime": {
     "end_time": "2019-06-02T19:35:10.860470Z",
     "start_time": "2019-06-02T19:35:03.442873Z"
    }
   },
   "outputs": [
    {
     "data": {
      "text/plain": [
       "2554886"
      ]
     },
     "execution_count": 12,
     "metadata": {},
     "output_type": "execute_result"
    }
   ],
   "source": [
    "# load all address->cluster mappings into a dict\n",
    "\n",
    "address_to_cluster = dict()\n",
    "i = 0\n",
    "limit = 1000000\n",
    "#limit = 100\n",
    "\n",
    "with open(address_cluster_csv_file) as fp:\n",
    "    reader = csv.DictReader(fp)\n",
    "    for row in reader:\n",
    "        address_to_cluster[ row[\"address\"] ] = int(row[\"cluster\"])\n",
    "        #i += 1\n",
    "        #if i > limit:\n",
    "        #    break\n",
    "\n",
    "len(address_to_cluster)"
   ]
  },
  {
   "cell_type": "markdown",
   "metadata": {},
   "source": [
    "#### `cluster_tags.json`\n",
    "Graphsense address cluster tags for clusters\n",
    "\n",
    "* `cluster`: graphsense cluster id\n",
    "* `address`: address that was mapped to this cluster\n",
    "* `tag`: tag of this cluster \n",
    "* `source`: source where this tag came from\n",
    "* `actor_category`: see below\n",
    "* `source_uri`: source of the tag uri\n",
    "\n",
    "```\n",
    "cluster,address,tag,source,actor_category,source_uri\n",
    "104828426,19LyARU1iNQ6zDJknAm3hsakUHy5Fa2C2M,Saalbacher Hof,blockchain.info,,https://blockchain.info/de/tags\n",
    "100416883,1HYE1CcnTxUdFuvF4mit4hqhUxaLe6eft3,P2P ND Haarlem 3,blockchain.info,,https://blockchain.info/de/tags\n",
    "```"
   ]
  },
  {
   "cell_type": "code",
   "execution_count": 14,
   "metadata": {
    "ExecuteTime": {
     "end_time": "2019-06-02T19:37:33.633632Z",
     "start_time": "2019-06-02T19:37:33.626299Z"
    }
   },
   "outputs": [],
   "source": [
    "address_cluster_tags_csv_file = './dataset/cluster_tags.csv'\n",
    "assert( os.path.isfile(address_cluster_tags_csv_file) )"
   ]
  },
  {
   "cell_type": "code",
   "execution_count": 15,
   "metadata": {
    "ExecuteTime": {
     "end_time": "2019-06-02T19:37:35.208621Z",
     "start_time": "2019-06-02T19:37:35.068249Z"
    }
   },
   "outputs": [
    {
     "name": "stdout",
     "output_type": "stream",
     "text": [
      "196K\t./dataset/cluster_tags.csv\r\n"
     ]
    }
   ],
   "source": [
    "!du -sh $address_cluster_tags_csv_file"
   ]
  },
  {
   "cell_type": "markdown",
   "metadata": {},
   "source": [
    "### Output"
   ]
  },
  {
   "cell_type": "markdown",
   "metadata": {},
   "source": [
    "#### `miners_custom.json`\n",
    "The mining entity data from:\n",
    "* blockchain.info \n",
    "* blocktrail.com\n",
    "\n",
    "Plus:\n",
    "* **custom edits and manually identified markers**\n",
    "\n",
    "Again this data is in our custom JSON miner format."
   ]
  },
  {
   "cell_type": "code",
   "execution_count": 17,
   "metadata": {
    "ExecuteTime": {
     "end_time": "2019-06-02T19:38:40.048234Z",
     "start_time": "2019-06-02T19:38:40.039562Z"
    }
   },
   "outputs": [],
   "source": [
    "miners_custom_json_file = './dataset/miners_custom.json'\n",
    "if os.path.isfile(miners_custom_json_file):\n",
    "    print(\"Output file \" + miners_custom_json_file +  \"exists, will be overwritten.\")"
   ]
  },
  {
   "cell_type": "markdown",
   "metadata": {},
   "source": [
    "#### `blocks_attribution_0-$(current_blockheight).json`\n",
    "already performed block attributions to link same miners and pools together:\n",
    "- `blockchain_info_tag`\n",
    "- `blockchain_info_address`\n",
    "- `blockchain_info`\n",
    "- `blocktrail`\n",
    "\n",
    "Plus:\n",
    "- `coinbase_marker`\n",
    "- `graphsense_cluster`\n",
    "- `graphsense_tag`"
   ]
  },
  {
   "cell_type": "code",
   "execution_count": 18,
   "metadata": {
    "ExecuteTime": {
     "end_time": "2019-06-02T19:38:45.354785Z",
     "start_time": "2019-06-02T19:38:45.343080Z"
    }
   },
   "outputs": [
    {
     "name": "stdout",
     "output_type": "stream",
     "text": [
      "Output file ./dataset/blocks_attribution_0-556400.jsonexists, will be overwritten.\n"
     ]
    }
   ],
   "source": [
    "blocks_attribution_json_file = './dataset/blocks_attribution_0-' + str(current_blockheight) + '.json'\n",
    "if os.path.isfile(blocks_attribution_json_file):\n",
    "    print(\"Output file \" + blocks_attribution_json_file +  \"exists, will be overwritten.\")"
   ]
  },
  {
   "cell_type": "markdown",
   "metadata": {},
   "source": [
    "#### `address_conflicts_0-$(current_blockheight).json`\n",
    "~~The history of every coinbase output address~~\n",
    "Only **conflicting**:\n",
    "\n",
    "The address history of every coinbase output address that was attributed to more than one mining pool"
   ]
  },
  {
   "cell_type": "code",
   "execution_count": 19,
   "metadata": {
    "ExecuteTime": {
     "end_time": "2019-06-02T19:38:54.629796Z",
     "start_time": "2019-06-02T19:38:54.623256Z"
    }
   },
   "outputs": [],
   "source": [
    "addresses_json_file = './dataset/address_conflicts_0-' + str(current_blockheight) + '.json'\n",
    "if os.path.isfile(addresses_json_file):\n",
    "    print(\"Output file \" + addresses_json_file +  \"exists, will be overwritten.\")"
   ]
  },
  {
   "cell_type": "markdown",
   "metadata": {},
   "source": [
    "#### `attribution_conflicts_0-$(current_blockheight).json`\n",
    "Attribution conflicts"
   ]
  },
  {
   "cell_type": "code",
   "execution_count": 20,
   "metadata": {
    "ExecuteTime": {
     "end_time": "2019-06-02T19:38:58.620817Z",
     "start_time": "2019-06-02T19:38:58.617553Z"
    }
   },
   "outputs": [],
   "source": [
    "conflicts_json_file = './dataset/conflicts_0-' + str(current_blockheight) + '.json'\n",
    "if os.path.isfile(conflicts_json_file):\n",
    "    print(\"Output file \" + conflicts_json_file +  \"exists, will be overwritten.\")"
   ]
  },
  {
   "cell_type": "markdown",
   "metadata": {},
   "source": [
    "#### `cluster_to_miners_conflicts_0-$(current_blockheight).json`\n",
    "Collisions of clusters that where attributed to more than one miner"
   ]
  },
  {
   "cell_type": "code",
   "execution_count": 21,
   "metadata": {
    "ExecuteTime": {
     "end_time": "2019-06-02T19:39:02.282318Z",
     "start_time": "2019-06-02T19:39:02.276174Z"
    }
   },
   "outputs": [],
   "source": [
    "cluster_to_miners_collisions_json_file = './dataset/cluster_to_miners_conflicts_0-' + str(current_blockheight) + '.json'\n",
    "if os.path.isfile(cluster_to_miners_collisions_json_file):\n",
    "    print(\"Output file \" + cluster_to_miners_collisions_json_file +  \"exists, will be overwritten.\")"
   ]
  },
  {
   "cell_type": "markdown",
   "metadata": {},
   "source": [
    "## Custom addr/marker attribution"
   ]
  },
  {
   "cell_type": "code",
   "execution_count": 22,
   "metadata": {
    "ExecuteTime": {
     "end_time": "2019-06-02T19:39:14.184654Z",
     "start_time": "2019-06-02T19:39:14.064708Z"
    }
   },
   "outputs": [],
   "source": [
    "with open(miners_json_file, 'r') as fp:\n",
    "    miners = json.load(fp)"
   ]
  },
  {
   "cell_type": "markdown",
   "metadata": {},
   "source": [
    "Manually add markers that have been identified by us to the *miners* dict:"
   ]
  },
  {
   "cell_type": "code",
   "execution_count": 23,
   "metadata": {
    "ExecuteTime": {
     "end_time": "2019-06-02T19:39:27.010702Z",
     "start_time": "2019-06-02T19:39:26.955595Z"
    }
   },
   "outputs": [
    {
     "name": "stdout",
     "output_type": "stream",
     "text": [
      "\n"
     ]
    }
   ],
   "source": [
    "# F2Pool:\n",
    "#util.add_marker(\"F2Pool\",miners,b\"\\xf0\\x9f\\x90\\x9f\",\"manual\")  # the fish of DiscusFish (🐟 ) as bystes, works but has a problem when persited to json file\n",
    "util.add_marker(\"F2Pool\",miners,\"🐟\",\"manual\")  # the fish of DiscusFish (🐟 )\n",
    "\n",
    "# BTCC:\n",
    "#util.add_marker(\"BTCC Pool\",miners,\"btcc\",\"manual\") # <- false positive: 'Mined by user shbtcc'\n",
    "#util.add_marker(\"BTCC Pool\",miners,\"BTCC\",\"manual\") # already in: '/BTCC/'\n",
    "\n",
    "# AntPool:\n",
    "#util.add_marker(\"AntPool\",miners,\"AntPool\",\"manual\") # already in: 'Mined by AntPool' '/AntPool/'\n",
    "\n",
    "# ViaBTC:\n",
    "#util.add_marker(\"ViaBTC\",miners,\"viabtc.com\",\"manual\") # already in: 'viabtc.com deploy'\n",
    "\n",
    "# CANOE\n",
    "util.add_marker(\"CANOE\",miners,\"/canoepool/\",\"manual\")\n",
    "\n",
    "# Bixin / HaoBTC\n",
    "util.add_marker(\"Bixin\",miners,\"Bixin\",\"manual\")\n",
    "util.add_marker(\"Bixin\",miners,\"HAOBTC\",\"manual\") # already in: '/HaoBTC/'\n",
    "#util.add_marker(\"Bixin\",miners,\"haobtc\",\"manual\") # <- this produces a lot of false positives with F2Pool 'Mined by haobtc'\n",
    "\n",
    "# BTC.TOP\n",
    "#util.add_marker(\"BTC.TOP\",miners,\"/E2M & BTC.TOP/\",\"manual\") # This pool is now called 'WAYI.CN' \n",
    "\n",
    "# BitClub Network\n",
    "# util.add_marker(\"BitClub Network\",miners,\"BitClub Network\",\"manual\") # already in: '/BitClub Network/'\n",
    "\n",
    "util.add_marker(\"Poolin\",miners,\"/poolin.com/\",\"manual\")\n",
    "\n",
    "# Add manually identified pool names by searching for coinbase strings:\n",
    "\n",
    "util.add_name(\"digitalBTC\",miners,\"MINTSY\",\"manual\")\n",
    "util.add_name(\"Mt Red\",miners,\"MTRED\",\"manual\")\n",
    "util.add_name(\"Waterhole\",miners,\"WATERHOLE.IO\",\"manual\")\n",
    "util.add_name(\"Bravo Mining\",miners,\"BRAVO\",\"manual\")\n",
    "util.add_name(\"BitcoinRussia\",miners,\"BITCOIN-RUSSIA.RU\",\"manual\")\n",
    "util.add_name(\"Bitcoin India\",miners,\"BITCOIN-INDIA\",\"manual\")\n",
    "util.add_name(\"xbtc.exx.com&bw.com\",miners,\"EXX\",\"manual\")\n",
    "util.add_name(\"PHash.IO\",miners,\"PHASH.CN\",\"manual\")\n",
    "\n",
    "# Add manually idenified miners by searching for coinbase strings:\n",
    "\n",
    "# btcpoolman (only mined one block)\n",
    "util.add_miner(\"btcpoolman\",\n",
    "               miners,\n",
    "               names_dict= { \"BTCPOOLMAN\": { util.DD_URL:\"\",\n",
    "                                            util.DD_CURRENCIES: [\"BTC\",],\n",
    "                                            util.DD_FULLNAME: \"\",\n",
    "                                            util.DD_FIRSTUSED: 0,\n",
    "                                            util.DD_LASTUSED: 0,\n",
    "                                            util.DD_SOURCES:[\"manual\",] } },\n",
    "               addresses_dict= { \"1J4UEn8dauHCpaU8zfuAqkZJ7U1556gmEf\": { util.DD_CURRENCIES: [\"BTC\",],\n",
    "                                              util.DD_FIRSTUSED: 0,\n",
    "                                              util.DD_LASTUSED: 0,\n",
    "                                              util.DD_SOURCES:[\"manual\",] } },\n",
    "               markers_dict={ \"/btcpoolman/\": { util.DD_CURRENCIES: [\"BTC\",],\n",
    "                                              util.DD_FIRSTUSED: 0,\n",
    "                                              util.DD_LASTUSED: 0,\n",
    "                                              util.DD_SOURCES:[\"manual\",] } },)\n",
    "# b2pool\n",
    "util.add_miner(\"b2pool\",\n",
    "               miners,\n",
    "               names_dict= { \"B2POOL\": { util.DD_URL:\"\",\n",
    "                                            util.DD_CURRENCIES: [\"BTC\",],\n",
    "                                            util.DD_FULLNAME: \"\",\n",
    "                                            util.DD_FIRSTUSED: 0,\n",
    "                                            util.DD_LASTUSED: 0,\n",
    "                                            util.DD_SOURCES:[\"manual\",] } },\n",
    "               addresses_dict= { \"3Nz8KABPqaHWYRfmrizpk8KKJJtNANMNtP\": { util.DD_CURRENCIES: [\"BTC\",],\n",
    "                                              util.DD_FIRSTUSED: 0,\n",
    "                                              util.DD_LASTUSED: 0,\n",
    "                                              util.DD_SOURCES:[\"manual\",] } },\n",
    "               markers_dict={ \"b2pool\": { util.DD_CURRENCIES: [\"BTC\",],\n",
    "                                              util.DD_FIRSTUSED: 0,\n",
    "                                              util.DD_LASTUSED: 0,\n",
    "                                              util.DD_SOURCES:[\"manual\",] } },)\n",
    "\n",
    "# migpool\n",
    "util.add_miner(\"migpool\",\n",
    "               miners,\n",
    "               names_dict= { \"MIGPOOL\": { util.DD_URL:\"\",\n",
    "                                            util.DD_CURRENCIES: [\"BTC\",],\n",
    "                                            util.DD_FULLNAME: \"\",\n",
    "                                            util.DD_FIRSTUSED: 0,\n",
    "                                            util.DD_LASTUSED: 0,\n",
    "                                            util.DD_SOURCES:[\"manual\",] } },\n",
    "               addresses_dict= { \"3JM1Uu9vFjSPrVve8S6v7hkHNVGzV3dW98\": { util.DD_CURRENCIES: [\"BTC\",],\n",
    "                                              util.DD_FIRSTUSED: 0,\n",
    "                                              util.DD_LASTUSED: 0,\n",
    "                                              util.DD_SOURCES:[\"manual\",] } },\n",
    "               markers_dict={ \"/MiGPool/\": { util.DD_CURRENCIES: [\"BTC\",],\n",
    "                                              util.DD_FIRSTUSED: 0,\n",
    "                                              util.DD_LASTUSED: 0,\n",
    "                                              util.DD_SOURCES:[\"manual\",] } },)\n",
    "\n",
    "# btpool\n",
    "util.add_miner(\"BTPOOL\",\n",
    "               miners,\n",
    "               names_dict= { \"btpool\": { util.DD_URL:\"\",\n",
    "                                            util.DD_CURRENCIES: [\"BTC\",],\n",
    "                                            util.DD_FULLNAME: \"\",\n",
    "                                            util.DD_FIRSTUSED: 0,\n",
    "                                            util.DD_LASTUSED: 0,\n",
    "                                            util.DD_SOURCES:[\"manual\",] } },\n",
    "               addresses_dict= { \"1134jVdutTZpDfsPjLu4U1vE3UURdWeFui\": { util.DD_CURRENCIES: [\"BTC\",],\n",
    "                                              util.DD_FIRSTUSED: 0,\n",
    "                                              util.DD_LASTUSED: 0,\n",
    "                                              util.DD_SOURCES:[\"manual\",] } },\n",
    "               markers_dict={ \"/BTPOOL/\": { util.DD_CURRENCIES: [\"BTC\",],\n",
    "                                              util.DD_FIRSTUSED: 0,\n",
    "                                              util.DD_LASTUSED: 0,\n",
    "                                              util.DD_SOURCES:[\"manual\",] } },)\n",
    "\n",
    "bt_pool_addresses = {\n",
    " '134AnrmSLjjCPP6b8ZjT4YKLX6i2RJBqf9',\n",
    " '14gXJ8DXTTwbwrnjBmVG9Q6MGEFgu1h3GJ',\n",
    " '157BdGfshRYJt38M3wAomB7vPvLV8xMGqc',\n",
    " '1618ZtpkSNQ2VHhbTcsZTyTCJAH8WToJav',\n",
    " '16wpxZavanjK3excfeP3Z2hrxhgNR2ZQEK',\n",
    " '18BjFdiThEtu7D8hF3yURRPyPh9gNkRcBB',\n",
    " '19NuSmWEaCzvrFipZPWEQgZBKspbirsUmh',\n",
    " '19eC3KhGNKoAij7tTX41cvS3wL6K4w3kBC',\n",
    " '1A9fXzM5YhygvTPpRuv3hASUVvQrdzrdid',\n",
    " '1BjQJ9qmkmxHCUgj2pfjgfX9xEykqjMoXA',\n",
    " '1CFQ6a9yk2Buj3hCvXCcy7fVHJip2bCfa8',\n",
    " '1HFBo8KGsx6GufonyMw3WKwLxckdvYatPF',\n",
    " '1Hbu4aBg4ngy2J5vdgb7fagYaNXTryy8gA',\n",
    " '1LJVjXVRamik5N2cZ11B4bbhChmvbzZoYm',\n",
    " '1NQNUt6dZYvYaovYPL5KRCc8abpSAuNThP',\n",
    " '1PHhNs6de2qQfpjBEVAz5ujGKZrTHQNhnJ',\n",
    " '1Q7MES3Ww6cUHBNTyNBgf9kZHHDFAq6Asp',\n",
    " '1iP4ZL65gaSVDqg7VVDJniopX2cDcRKHi'    \n",
    "}\n",
    "for address in bt_pool_addresses:\n",
    "    util.add_addr(\"btpool\",miners,address,source=\"manual\",currencies=[\"BTC\",])\n",
    "\n",
    "# coinpool\n",
    "util.add_miner(\"coinpool\",\n",
    "               miners,\n",
    "               names_dict= { \"COINPOOL\": { util.DD_URL:\"\",\n",
    "                                            util.DD_CURRENCIES: [\"BTC\",],\n",
    "                                            util.DD_FULLNAME: \"\",\n",
    "                                            util.DD_FIRSTUSED: 0,\n",
    "                                            util.DD_LASTUSED: 0,\n",
    "                                            util.DD_SOURCES:[\"manual\",] } },\n",
    "               addresses_dict= { \"1FuAnHgWpHjviGAXBQGvJrdUfwwmtSoTUG\": { util.DD_CURRENCIES: [\"BTC\",],\n",
    "                                              util.DD_FIRSTUSED: 0,\n",
    "                                              util.DD_LASTUSED: 0,\n",
    "                                              util.DD_SOURCES:[\"manual\",] } },\n",
    "               markers_dict={ \"ecoinpool\": { util.DD_CURRENCIES: [\"BTC\",],\n",
    "                                              util.DD_FIRSTUSED: 0,\n",
    "                                              util.DD_LASTUSED: 0,\n",
    "                                              util.DD_SOURCES:[\"manual\",] } },)\n",
    "\n",
    "# mkalinin.ru\n",
    "util.add_miner(\"mkalinin.ru\",\n",
    "               miners,\n",
    "               names_dict= { \"pool.mkalinin.ru\": { util.DD_URL:\"http://dribbble.com\",\n",
    "                                            util.DD_CURRENCIES: [\"BTC\",],\n",
    "                                            util.DD_FULLNAME: \"\",\n",
    "                                            util.DD_FIRSTUSED: 0,\n",
    "                                            util.DD_LASTUSED: 0,\n",
    "                                            util.DD_SOURCES:[\"manual\",] } },\n",
    "               addresses_dict= { \"13vYtrrm69Aba27Ezxhc71jx4pcyoLWdvL\": { util.DD_CURRENCIES: [\"BTC\",],\n",
    "                                              util.DD_FIRSTUSED: 0,\n",
    "                                              util.DD_LASTUSED: 0,\n",
    "                                              util.DD_SOURCES:[\"manual\",] } },\n",
    "               markers_dict={ \"mmpool.mkalinin.ru\": { util.DD_CURRENCIES: [\"BTC\",],\n",
    "                                              util.DD_FIRSTUSED: 0,\n",
    "                                              util.DD_LASTUSED: 0,\n",
    "                                              util.DD_SOURCES:[\"manual\",] } },)\n",
    "\n",
    "util.add_addr(\"mkalinin.ru\",miners,'1EoAmuLBeLC2YpRAFwRnzM6PrbaGUNFgW8',source=\"manual\",currencies=[\"BTC\",])\n",
    "\n",
    "# coinumserv\n",
    "util.add_miner(\"coiniumserv\",\n",
    "               miners,\n",
    "               names_dict= { \"COINIUMSERV\": { util.DD_URL:\"\",\n",
    "                                            util.DD_CURRENCIES: [\"BTC\",],\n",
    "                                            util.DD_FULLNAME: \"\",\n",
    "                                            util.DD_FIRSTUSED: 0,\n",
    "                                            util.DD_LASTUSED: 0,\n",
    "                                            util.DD_SOURCES:[\"manual\",] } },\n",
    "               addresses_dict= { \"1KVcqebRwgwRK6PMCrn34KoSRbm7gfXv8B\": { util.DD_CURRENCIES: [\"BTC\",],\n",
    "                                              util.DD_FIRSTUSED: 0,\n",
    "                                              util.DD_LASTUSED: 0,\n",
    "                                              util.DD_SOURCES:[\"manual\",] } },\n",
    "               markers_dict={ \"/CoiniumServ/\": { util.DD_CURRENCIES: [\"BTC\",],\n",
    "                                              util.DD_FIRSTUSED: 0,\n",
    "                                              util.DD_LASTUSED: 0,\n",
    "                                              util.DD_SOURCES:[\"manual\",] } },)\n",
    "\n",
    "# Tigerpool\n",
    "util.add_miner(\"tigerpool.net\",\n",
    "               miners,\n",
    "               names_dict= { \"TigerPool\": { util.DD_URL:\"\",\n",
    "                                            util.DD_CURRENCIES: [\"BTC\",],\n",
    "                                            util.DD_FULLNAME: \"\",\n",
    "                                            util.DD_FIRSTUSED: 0,\n",
    "                                            util.DD_LASTUSED: 0,\n",
    "                                            util.DD_SOURCES:[\"manual\",] } },\n",
    "               markers_dict={ \"tigerpool.net\": { util.DD_CURRENCIES: [\"BTC\",],\n",
    "                                              util.DD_FIRSTUSED: 0,\n",
    "                                              util.DD_LASTUSED: 0,\n",
    "                                              util.DD_SOURCES:[\"manual\",] } },)\n",
    "\n",
    "# Masterpool \n",
    "util.add_miner(\"Masterpool\",\n",
    "               miners,\n",
    "               names_dict= { \"MasterPool\": { util.DD_URL:\"\",\n",
    "                                            util.DD_CURRENCIES: [\"BTC\",],\n",
    "                                            util.DD_FULLNAME: \"\",\n",
    "                                            util.DD_FIRSTUSED: 0,\n",
    "                                            util.DD_LASTUSED: 0,\n",
    "                                            util.DD_SOURCES:[\"manual\",] } },\n",
    "               markers_dict={ \"/MasterPool/\": { util.DD_CURRENCIES: [\"BTC\",],\n",
    "                                              util.DD_FIRSTUSED: 0,\n",
    "                                              util.DD_LASTUSED: 0,\n",
    "                                              util.DD_SOURCES:[\"manual\",] } },)\n",
    "\n",
    "# BITFARMS \n",
    "util.add_miner(\"Bitfarms\",\n",
    "               miners,\n",
    "               names_dict= { \"BITFARMS\": { util.DD_URL:\"\",\n",
    "                                            util.DD_CURRENCIES: [\"BTC\",],\n",
    "                                            util.DD_FULLNAME: \"\",\n",
    "                                            util.DD_FIRSTUSED: 0,\n",
    "                                            util.DD_LASTUSED: 0,\n",
    "                                            util.DD_SOURCES:[\"manual\",] } },\n",
    "               markers_dict={ \"BITFARMS\": { util.DD_CURRENCIES: [\"BTC\",],\n",
    "                                              util.DD_FIRSTUSED: 0,\n",
    "                                              util.DD_LASTUSED: 0,\n",
    "                                              util.DD_SOURCES:[\"manual\",] } },)\n",
    "\n",
    "# okminer\n",
    "util.add_miner(\"okminer\",\n",
    "               miners,\n",
    "               names_dict= { \"OKminer\": { util.DD_URL:\"\",\n",
    "                                            util.DD_CURRENCIES: [\"BTC\",],\n",
    "                                            util.DD_FULLNAME: \"\",\n",
    "                                            util.DD_FIRSTUSED: 0,\n",
    "                                            util.DD_LASTUSED: 0,\n",
    "                                            util.DD_SOURCES:[\"manual\",] } },\n",
    "               markers_dict={ \"okminer\": { util.DD_CURRENCIES: [\"BTC\",],\n",
    "                                              util.DD_FIRSTUSED: 0,\n",
    "                                              util.DD_LASTUSED: 0,\n",
    "                                              util.DD_SOURCES:[\"manual\",] } },)\n",
    "\n",
    "print()"
   ]
  },
  {
   "cell_type": "markdown",
   "metadata": {},
   "source": [
    "Perform custom attributions based on updated *miner* information:"
   ]
  },
  {
   "cell_type": "code",
   "execution_count": 26,
   "metadata": {
    "ExecuteTime": {
     "end_time": "2019-06-02T19:40:19.054632Z",
     "start_time": "2019-06-02T19:39:53.082415Z"
    }
   },
   "outputs": [],
   "source": [
    "with open(blocks_attribution_json_file, 'r') as fp:\n",
    "    blocks = json.load(fp)"
   ]
  },
  {
   "cell_type": "code",
   "execution_count": 27,
   "metadata": {
    "ExecuteTime": {
     "end_time": "2019-06-02T19:40:19.068921Z",
     "start_time": "2019-06-02T19:40:19.056471Z"
    }
   },
   "outputs": [],
   "source": [
    "def attribute_blocks(blocks,\n",
    "                     miners_dict,\n",
    "                     addr_attr,\n",
    "                     marker_attr,\n",
    "                     both_attr,\n",
    "                     source,\n",
    "                     override=False,\n",
    "                     update=False):\n",
    "    \"\"\" Attribute given blocks based on given miners_dict json\n",
    "    \n",
    "    Takes names for the different attribution per address, marker and both as well as a source \n",
    "    from where the miners_dict information comes from. Overrides existing attributions with given\n",
    "    names if override flag is set. \n",
    "    Returns tuple of (blocks,miners_dict,conflicts) and does change miners_dict in the process.\n",
    "    \"\"\"\n",
    "    i = 0\n",
    "    conflicts = list()\n",
    "    conflicts.clear()\n",
    "\n",
    "    for blknum in blocks:\n",
    "        match = list()\n",
    "        addr_match = list()\n",
    "        cb_match = list()\n",
    "\n",
    "        try:\n",
    "            # first always test if not already attributed \n",
    "            if ( addr_attr not in blocks[ blknum ][ util.D_ATTRIBUTIONS ].keys() ) or override:\n",
    "                # match address\n",
    "                if len( blocks[ blknum ][ util.D_ADDRESSES ] ) == 1:\n",
    "                    # only match if there is just one output address in the coinbase \n",
    "                    address = blocks[ blknum ][ util.D_ADDRESSES ][0]\n",
    "                    match = util.match_address_to_miner( address, miners_dict, strict=False, blknum=int(blknum) )\n",
    "\n",
    "                    if len( match ) >= 1:\n",
    "                        # if multiple coinbase markers match we can get more than one match\n",
    "                        matched_miners = defaultdict(list)\n",
    "                        for ma in match:\n",
    "                            matched_miners[ ma[0] ].append( ma[1] )\n",
    "                        j = 0\n",
    "                        attr = \"\"\n",
    "                        for mi in matched_miners:\n",
    "                            blocks[ blknum ][ util.D_ATTRIBUTIONS ][ addr_attr + attr ] = { util.DDD_MINER:mi,\n",
    "                                                                                               \"matches\":matched_miners[mi],\n",
    "                                                                                               util.DDD_SRC:source }\n",
    "                            j += 1\n",
    "                            attr = str(j)\n",
    "\n",
    "            if ( marker_attr not in blocks[ blknum ][ util.D_ATTRIBUTIONS ].keys() ) or override:\n",
    "                # match coinbase\n",
    "                coinbase = blocks[ blknum ][ util.D_CB ]\n",
    "                match = util.match_coinbase_to_miner( coinbase, miners_dict, strict=False, blknum=int(blknum) )\n",
    "\n",
    "                if len( match ) >= 1:\n",
    "                    # if multiple coinbase markers match we can get more than one match\n",
    "                    matched_miners = defaultdict(list)\n",
    "                    for ma in match:\n",
    "                        matched_miners[ ma[0] ].append( ma[1] )\n",
    "                    j = 0\n",
    "                    attr = \"\"\n",
    "                    for mi in matched_miners:\n",
    "                        blocks[ blknum ][ util.D_ATTRIBUTIONS ][ marker_attr + attr ] = { util.DDD_MINER:mi,\n",
    "                                                                                           \"matches\":matched_miners[mi],\n",
    "                                                                                           util.DDD_SRC:source }\n",
    "                        j += 1\n",
    "                        attr = str(j)\n",
    "\n",
    "            if ( both_attr not in blocks[ blknum ][ util.D_ATTRIBUTIONS ].keys() ) or override:\n",
    "                # match both and update miners\n",
    "                coinbase = blocks[ blknum ][ util.D_CB ]\n",
    "                if len( blocks[ blknum ][ util.D_ADDRESSES ] ) == 1:\n",
    "                    address = blocks[ blknum ][ util.D_ADDRESSES ][0]\n",
    "                    match = util.match_miner(miners_dict,address,coinbase,update=update, blknum=int(blknum) )\n",
    "                else:\n",
    "                    match = util.match_miner(miners=miners_dict,coinbase=coinbase, blknum=int(blknum) )\n",
    "\n",
    "                if len( match ) > 0:\n",
    "                    # There could be more than one marker of the same pool that matches simultaniously\n",
    "                    matches = list()\n",
    "                    #print(match)\n",
    "                    for m in match:\n",
    "                        matches.append( m[1] )\n",
    "                    blocks[ blknum ][ util.D_ATTRIBUTIONS ][ both_attr ] = { util.DDD_MINER:match[0][0],\n",
    "                                                                                    \"matches\":matches,\n",
    "                                                                                    util.DDD_SRC:source }\n",
    "        except util.ConflictingMinerData as e:\n",
    "            print()\n",
    "            print(\"Message    = \",e.message)\n",
    "            print(\"Blockheight= \",blknum)\n",
    "            print(\"Miner1     = \",e.miner1)\n",
    "            print(\"Miner2     = \",e.miner2)\n",
    "            print(\"Coinbase   = \",e.coinbase)\n",
    "            print(\"CoinbaseStr= \",repr(binascii.unhexlify(e.coinbase)))\n",
    "            print(\"Addesses   = \",e.address)\n",
    "            print(\"addr_match = \",e.addr_match)\n",
    "            print(\"cb_match   = \",e.cb_match)\n",
    "            conflicts.append( { \"message\":e.message,\n",
    "                                util.DDD_MINER + \"1\":e.miner1,\n",
    "                                util.DDD_MINER + \"2\":e.miner2,\n",
    "                                util.D_CB + \"1\":e.coinbase,\n",
    "                                \"address\": e.address,\n",
    "                                \"addr_match\": e.addr_match,\n",
    "                                \"cb_match\": e.cb_match,\n",
    "                                util.DDD_SRC:source } )\n",
    "\n",
    "        # progress bar     \n",
    "        i+=1\n",
    "        if i % 1000 == 0:\n",
    "            print(i,end=\"\\r\")\n",
    "            sys.stdout.flush()\n",
    "    return (blocks,miners_dict,conflicts)"
   ]
  },
  {
   "cell_type": "code",
   "execution_count": 28,
   "metadata": {
    "ExecuteTime": {
     "end_time": "2019-06-02T19:43:52.664082Z",
     "start_time": "2019-06-02T19:40:19.071073Z"
    }
   },
   "outputs": [
    {
     "name": "stdout",
     "output_type": "stream",
     "text": [
      "......................................................."
     ]
    }
   ],
   "source": [
    "i = 0\n",
    "conflicts = list()\n",
    "\n",
    "override_custom = True\n",
    "\n",
    "for blknum in blocks:\n",
    "    match = list()\n",
    "    addr_match = list()\n",
    "    cb_match = list()\n",
    "    \n",
    "    \n",
    "    try:\n",
    "        if ( util.DD_CUSTOM_ADDR_ATTR not in blocks[ blknum ][ util.D_ATTRIBUTIONS ].keys() ) or override_custom:\n",
    "            if len( blocks[ blknum ][ util.D_ADDRESSES ] ) == 1:\n",
    "                address = blocks[ blknum ][ util.D_ADDRESSES ][0]\n",
    "                match = util.match_address_to_miner(address,miners,strict=False,blknum=int(blknum))\n",
    "                #if len( match ) == 1:\n",
    "                #    blocks[ blknum ][ util.D_ATTRIBUTIONS ][ util.DD_CUSTOM_ADDR_ATTR ] = { util.DDD_MINER:match[0][0],\n",
    "                #                                                                       \"matches\":[ match[0][1], ],\n",
    "                #                                                                       util.DDD_SRC:\"custom\" }\n",
    "                \n",
    "                if len( match ) >= 1:\n",
    "                        matched_miners = defaultdict(list)\n",
    "                        for ma in match:\n",
    "                            matched_miners[ ma[0] ].append( ma[1] )\n",
    "                        j = 0\n",
    "                        attr = \"\"\n",
    "                        for mi in matched_miners:\n",
    "                            blocks[ blknum ][ util.D_ATTRIBUTIONS ][ util.DD_CUSTOM_ADDR_ATTR + attr ] = { util.DDD_MINER:mi,\n",
    "                                                                                       \"matches\":matched_miners[mi],\n",
    "                                                                                       util.DDD_SRC:\"custom\" }\n",
    "                            j += 1\n",
    "                            attr = str(j)\n",
    "                \n",
    "        if ( util.DD_CUSTOM_MARKER_ATTR not in blocks[ blknum ][ util.D_ATTRIBUTIONS ].keys() ) or override_custom:\n",
    "            coinbase = blocks[ blknum ][ util.D_CB ]\n",
    "            match = util.match_coinbase_to_miner(coinbase,miners,strict=False,blknum=int(blknum))\n",
    "            if len( match ) >= 1:\n",
    "                # if multiple coinbase markers match we can get more than one match\n",
    "                matched_miners = defaultdict(list)\n",
    "                for ma in match:\n",
    "                    matched_miners[ ma[0] ].append( ma[1] )\n",
    "                j = 0\n",
    "                attr = \"\"\n",
    "                for mi in matched_miners:\n",
    "                    blocks[ blknum ][ util.D_ATTRIBUTIONS ][ util.DD_CUSTOM_MARKER_ATTR + attr ] = { util.DDD_MINER:mi,\n",
    "                                                                                       \"matches\":matched_miners[mi],\n",
    "                                                                                       util.DDD_SRC:\"custom\" }\n",
    "                    j += 1\n",
    "                    attr = str(j)\n",
    "                    \n",
    "        # match with updated coinbase markers\n",
    "        if ( util.DD_CUSTOM_ATTR not in blocks[ blknum ][ util.D_ATTRIBUTIONS ].keys() ) or override_custom:\n",
    "            # match if not already attributed \n",
    "            coinbase = blocks[ blknum ][ util.D_CB ]\n",
    "            if len( blocks[ blknum ][ util.D_ADDRESSES ] ) == 1:\n",
    "                # match via address if there is only one coinbase output address\n",
    "                address = blocks[ blknum ][ util.D_ADDRESSES ][0]\n",
    "                match = util.match_miner(miners,address,coinbase,update=True,blknum=int(blknum))\n",
    "            else:\n",
    "                # match via coinbase markers in any case\n",
    "                match = util.match_miner(miners=miners,coinbase=coinbase,blknum=int(blknum))\n",
    "            if len( match ) == 1:\n",
    "                blocks[ blknum ][ util.D_ATTRIBUTIONS ][ util.DD_CUSTOM_ATTR ] = { util.DDD_MINER:match[0][0],\n",
    "                                                                                 \"matches\":[ match[0][1], ],\n",
    "                                                                                 util.DDD_SRC:\"custom\" }\n",
    "\n",
    "            if len( match ) > 1:\n",
    "                # if multiple coinbase markers match we can get more than one match\n",
    "                matches = list()\n",
    "                #print(match)\n",
    "                for m in match:\n",
    "                    matches.append( m[1] )\n",
    "                blocks[ blknum ][ util.D_ATTRIBUTIONS ][ util.DD_CUSTOM_ATTR ] = { util.DDD_MINER:match[0][0],\n",
    "                                                                                 \"matches\":matches,\n",
    "                                                                                 util.DDD_SRC:\"manual\" }  \n",
    "                \n",
    "    except util.ConflictingMinerData as e:\n",
    "        #print()\n",
    "        #print(\"Message    = \",e.message)\n",
    "        #print(\"Blockheight= \",blknum)\n",
    "        #print(\"Miner1     = \",e.miner1)\n",
    "        #print(\"Miner2     = \",e.miner2)\n",
    "        #print(\"Coinbase   = \",e.coinbase)\n",
    "        #print(\"CoinbaseStr= \",repr(binascii.unhexlify(e.coinbase)))\n",
    "        #print(\"Addesses   = \",e.address)\n",
    "        #print(\"addr_match = \",e.addr_match)\n",
    "        #print(\"cb_match   = \",e.cb_match)\n",
    "        conflicts.append( { \"message\":e.message,\n",
    "                            util.DDD_MINER + \"1\":e.miner1,\n",
    "                            \"blockheight\":blknum,\n",
    "                            util.DDD_MINER + \"2\":e.miner2,\n",
    "                            util.D_CB + \"1\":e.coinbase,\n",
    "                            \"address\": e.address,\n",
    "                            \"addr_match\": e.addr_match,\n",
    "                            \"cb_match\": e.cb_match,\n",
    "                            util.DDD_SRC:\"manual\" }  )\n",
    "        \n",
    "        \n",
    "    i+=1\n",
    "    if i > 10000:\n",
    "        i = 0\n",
    "        sys.stdout.write('.')\n",
    "        sys.stdout.flush()"
   ]
  },
  {
   "cell_type": "code",
   "execution_count": 30,
   "metadata": {
    "ExecuteTime": {
     "end_time": "2019-06-02T19:46:59.435665Z",
     "start_time": "2019-06-02T19:46:59.432923Z"
    }
   },
   "outputs": [],
   "source": [
    "(blocks,miners,conflicts) = util.attribute_blocks(blocks=blocks,\n",
    "                                   miners_dict=miners,\n",
    "                                   addr_attr=util.DD_CUSTOM_ADDR_ATTR,\n",
    "                                   marker_attr=util.DD_CUSTOM_MARKER_ATTR,\n",
    "                                   both_attr=util.DD_CUSTOM_ATTR,\n",
    "                                   source=\"custom\",\n",
    "                                   override=True,\n",
    "                                   update=True)"
   ]
  },
  {
   "cell_type": "code",
   "execution_count": 32,
   "metadata": {
    "ExecuteTime": {
     "end_time": "2019-06-02T19:52:21.512982Z",
     "start_time": "2019-06-02T19:52:21.509023Z"
    }
   },
   "outputs": [
    {
     "data": {
      "text/plain": [
       "602"
      ]
     },
     "execution_count": 32,
     "metadata": {},
     "output_type": "execute_result"
    }
   ],
   "source": [
    "len(conflicts) # 163 # 415 # 596 # 601 # 602"
   ]
  },
  {
   "cell_type": "code",
   "execution_count": 35,
   "metadata": {
    "ExecuteTime": {
     "end_time": "2019-06-02T19:55:04.669825Z",
     "start_time": "2019-06-02T19:55:04.666155Z"
    }
   },
   "outputs": [],
   "source": [
    "(blocks,miners,conflicts) = util.attribute_blocks(blocks=blocks,\n",
    "                                   miners_dict=miners,\n",
    "                                   addr_attr=util.DD_CUSTOM_ADDR_ATTR,\n",
    "                                   marker_attr=util.DD_CUSTOM_MARKER_ATTR,\n",
    "                                   both_attr=util.DD_CUSTOM_ATTR,\n",
    "                                   source=\"custom\",\n",
    "                                   override=True,\n",
    "                                   update=True)"
   ]
  },
  {
   "cell_type": "code",
   "execution_count": 34,
   "metadata": {
    "ExecuteTime": {
     "end_time": "2019-06-02T19:54:57.588005Z",
     "start_time": "2019-06-02T19:54:57.584295Z"
    }
   },
   "outputs": [
    {
     "data": {
      "text/plain": [
       "602"
      ]
     },
     "execution_count": 34,
     "metadata": {},
     "output_type": "execute_result"
    }
   ],
   "source": [
    "len(conflicts) # 163 # 415 # 596 # 601 # 602"
   ]
  },
  {
   "cell_type": "code",
   "execution_count": 36,
   "metadata": {
    "ExecuteTime": {
     "end_time": "2019-06-02T19:55:09.060500Z",
     "start_time": "2019-06-02T19:55:09.048124Z"
    }
   },
   "outputs": [
    {
     "name": "stdout",
     "output_type": "stream",
     "text": [
      "146\n"
     ]
    }
   ],
   "source": [
    "i = 0\n",
    "for conflict in conflicts:\n",
    "    if conflict[\"message\"] == 'Addr and Cb match differ':\n",
    "        i += 1\n",
    "        #print(conflict)\n",
    "print(i) # 145"
   ]
  },
  {
   "cell_type": "code",
   "execution_count": 37,
   "metadata": {
    "ExecuteTime": {
     "end_time": "2019-06-02T19:55:10.849303Z",
     "start_time": "2019-06-02T19:55:10.844796Z"
    }
   },
   "outputs": [
    {
     "name": "stdout",
     "output_type": "stream",
     "text": [
      "451\n"
     ]
    }
   ],
   "source": [
    "i = 0\n",
    "for conflict in conflicts:\n",
    "    if conflict[\"message\"] == 'Multiple addresses match':\n",
    "        i += 1\n",
    "        #pprint.pprint(conflict)\n",
    "print(i) # 270"
   ]
  },
  {
   "cell_type": "code",
   "execution_count": 39,
   "metadata": {
    "ExecuteTime": {
     "end_time": "2019-06-02T19:55:19.599244Z",
     "start_time": "2019-06-02T19:55:19.581974Z"
    }
   },
   "outputs": [
    {
     "data": {
      "text/plain": [
       "75"
      ]
     },
     "execution_count": 39,
     "metadata": {},
     "output_type": "execute_result"
    }
   ],
   "source": [
    "util.check_for_miner_addresses_from_markers(miners)"
   ]
  },
  {
   "cell_type": "code",
   "execution_count": 40,
   "metadata": {
    "ExecuteTime": {
     "end_time": "2019-06-02T19:55:24.438061Z",
     "start_time": "2019-06-02T19:55:21.079301Z"
    }
   },
   "outputs": [
    {
     "name": "stdout",
     "output_type": "stream",
     "text": [
      "147SwRQdpCfj5p8PnfsXV2SsVVpVcz3aPq : 2\n",
      "1FLH1SoLv4U68yUERhDiWzrJn5TggMqkaZ : 2\n",
      "19RE4mz2UbDxDVougc6GGdoT4x5yXxwFq2 : 2\n",
      "197miJmttpCt2ubVs6DDtGBYFDroxHmvVB : 2\n"
     ]
    },
    {
     "data": {
      "text/plain": [
       "True"
      ]
     },
     "execution_count": 40,
     "metadata": {},
     "output_type": "execute_result"
    }
   ],
   "source": [
    "util.check_for_obvious_address_collisions(miners)"
   ]
  },
  {
   "cell_type": "code",
   "execution_count": 41,
   "metadata": {
    "ExecuteTime": {
     "end_time": "2019-06-02T19:57:45.598182Z",
     "start_time": "2019-06-02T19:55:55.649650Z"
    }
   },
   "outputs": [],
   "source": [
    "with open(blocks_attribution_json_file, 'w') as fp: \n",
    "    json.dump(blocks, fp)"
   ]
  },
  {
   "cell_type": "code",
   "execution_count": 42,
   "metadata": {
    "ExecuteTime": {
     "end_time": "2019-06-02T19:57:46.390250Z",
     "start_time": "2019-06-02T19:57:45.604446Z"
    }
   },
   "outputs": [],
   "source": [
    "with open(miners_custom_json_file, 'w') as fp:\n",
    "    json.dump(miners, fp)"
   ]
  },
  {
   "cell_type": "code",
   "execution_count": 43,
   "metadata": {
    "ExecuteTime": {
     "end_time": "2019-06-02T19:57:46.407934Z",
     "start_time": "2019-06-02T19:57:46.391663Z"
    }
   },
   "outputs": [],
   "source": [
    "with open(conflicts_json_file, 'w') as fp:\n",
    "    json.dump(conflicts, fp)"
   ]
  },
  {
   "cell_type": "markdown",
   "metadata": {},
   "source": [
    "## Address history "
   ]
  },
  {
   "cell_type": "code",
   "execution_count": 408,
   "metadata": {},
   "outputs": [],
   "source": [
    "#if blocks is None:\n",
    "#    with open(blocks_attribution_json_file, 'r') as fp:\n",
    "#        blocks = json.load(fp)"
   ]
  },
  {
   "cell_type": "code",
   "execution_count": 409,
   "metadata": {},
   "outputs": [
    {
     "data": {
      "text/plain": [
       "556401"
      ]
     },
     "execution_count": 409,
     "metadata": {},
     "output_type": "execute_result"
    }
   ],
   "source": [
    "len(blocks)"
   ]
  },
  {
   "cell_type": "markdown",
   "metadata": {},
   "source": [
    "Add all coinbase marker matches "
   ]
  },
  {
   "cell_type": "code",
   "execution_count": 44,
   "metadata": {
    "ExecuteTime": {
     "end_time": "2019-06-02T19:57:48.794127Z",
     "start_time": "2019-06-02T19:57:46.409958Z"
    }
   },
   "outputs": [
    {
     "name": "stdout",
     "output_type": "stream",
     "text": [
      ".............................."
     ]
    }
   ],
   "source": [
    "addresses = dict()\n",
    "\n",
    "for blknum in blocks:\n",
    "    # iterate over all blocks\n",
    "    # and check found coinbase markers\n",
    "    matches = list()\n",
    "    if util.DD_CUSTOM_MARKER_ATTR in blocks[ blknum ][ util.D_ATTRIBUTIONS ].keys():\n",
    "        # only check if there is a coinbase marker attribution\n",
    "        coinbase = blocks[ blknum ][ util.D_CB ]\n",
    "        if len( blocks[ blknum ][ util.D_ADDRESSES ] ) == 1:\n",
    "            # only check if there is just one coinbase output address - otherwise we are not sure to which address the marker applies\n",
    "            addr = blocks[ blknum ][ util.D_ADDRESSES ][0]\n",
    "            \n",
    "            for attr in blocks[ blknum ][ util.D_ATTRIBUTIONS ]:\n",
    "                if attr.startswith( util.DD_CUSTOM_MARKER_ATTR ):\n",
    "                    matches.extend( blocks[ blknum ][ util.D_ATTRIBUTIONS ][ attr ][ \"matches\" ] ) \n",
    "            \n",
    "            for m in matches:\n",
    "                # go over all matches and add them to a set for the address \n",
    "                #print(m)\n",
    "                if \"cb_match\" in m.keys():  \n",
    "                    if addr in addresses.keys():\n",
    "                        addresses[ addr ].add(m[\"cb_match\"])\n",
    "                    else:\n",
    "                        addresses[ addr ] = set() \n",
    "                        addresses[ addr ].add(m[\"cb_match\"])\n",
    "                    \n",
    "        i+=1\n",
    "        if i > 10000:\n",
    "            i = 0\n",
    "            sys.stdout.write('.')\n",
    "            sys.stdout.flush()\n"
   ]
  },
  {
   "cell_type": "code",
   "execution_count": 45,
   "metadata": {
    "ExecuteTime": {
     "end_time": "2019-06-02T19:57:48.799840Z",
     "start_time": "2019-06-02T19:57:48.796134Z"
    }
   },
   "outputs": [
    {
     "data": {
      "text/plain": [
       "6114"
      ]
     },
     "execution_count": 45,
     "metadata": {},
     "output_type": "execute_result"
    }
   ],
   "source": [
    "len(addresses) # 6039 # 6100 # 6108 # 6114"
   ]
  },
  {
   "cell_type": "code",
   "execution_count": 46,
   "metadata": {
    "ExecuteTime": {
     "end_time": "2019-06-02T19:57:48.811220Z",
     "start_time": "2019-06-02T19:57:48.801912Z"
    }
   },
   "outputs": [
    {
     "name": "stdout",
     "output_type": "stream",
     "text": [
      "1GG9HQZchCRxPSBV5SwZ9GoYEVq9vVLGqU : {'yourbtc.net', 'ozco.in'}\n",
      "1KFHE7w8BhaENAswwryaoccDb6qcT6DbYY : {'🐟', '七彩神仙鱼'}\n",
      "152f1muMCNa7goXYhYAQC61hxEgGacmncB : {'BTCChina.com', 'btcchina.com', '/BTCC/', 'BTCChina Pool'}\n",
      "15urYnyeJe3gwbGJ74wcX89Tz7ZtsFDVew : {'/AntPool/', 'Mined by AntPool'}\n",
      "1N2H8sDjwK7xM1RDZ6o5SVUuoDsynCKfCM : {'bypmneU', 'by polmine.pl'}\n",
      "1DrK44np3gMKuvcGeFVv9Jk67zodP52eMu : {'/Bitfury/', '/BitFury/'}\n",
      "18cBEMRxXHqzWWCxZNtU91F5sbUNKhL5PX : {'/ViaBTC/', 'viabtc.com deploy', 'okminer'}\n",
      "1KsFhYKLs8qb1GHqrPxHoywNQpet2CtP9t : {'Bixin', '/HaoBTC/'}\n",
      "1FLH1SoLv4U68yUERhDiWzrJn5TggMqkaZ : {'/BTC.COM/', '/WATERHOLE.IO/'}\n",
      "147SwRQdpCfj5p8PnfsXV2SsVVpVcz3aPq : {'/BTC.TOP/', '/canoepool/'}\n",
      "1Nh7uHdvY6fNwtQtM1G5EZAFPLC33B59rB : {'Mined By AntPool', 'Mined by AntPool'}\n",
      "3BidxLnZUwkgrnKAdWN4freEzBTn2ganx8 : {'/DCEX/', '/DCExploration/'}\n",
      "165GCEAx81wce33FWEnPCRhdjcXCrBJdKn : {'/Bitcoin-Russia.ru/', '/Bitcoin-Ukraine.com.ua/'}\n",
      "1RtUKxMRGBrz7Qt3YPZJb988PddKCNEFk : {'BW Pool', 'BWPool'}\n",
      "39pLhpmYEhYaz6MrxvBVndTEK1x45MAsdN : {'/tigerpool.net', 'tigerpool.net'}\n",
      "1NFw6R8ySoyzCvRrKGK2jWDuVUcq8ECggP : {'/SigmaPool.com/', 'SigmaPool.com'}\n",
      "3JQSigWTCHyBLRD979JWgEtWP5YiiFwcQB : {'/poolin.com/', '/poolin.com'}\n",
      "1GbqpH5CeStEQmCAEZ6KSiJ6iNFGQ29WEB : {'/SigmaPool.com/', 'SigmaPool.com'}\n",
      "3N2JE5b9AbjkVcw11xwYNm6XnGMTfqU8Rc : {'/poolin.com/', '/poolin.com'}\n",
      "3JAvzKWgtxPzcbTqKeAT7qfwoZBjtVmkBU : {'/poolin.com/', '/poolin.com'}\n",
      "20\n"
     ]
    }
   ],
   "source": [
    "i = 0\n",
    "address_collisions = dict()\n",
    "\n",
    "for addr in addresses:\n",
    "    if len(addresses[ addr ]) > 1:\n",
    "        address_collisions[ addr ] = addresses[ addr ]\n",
    "        print(addr,\":\",addresses[ addr ])\n",
    "        #break\n",
    "        i += 1\n",
    "print(i)"
   ]
  },
  {
   "cell_type": "code",
   "execution_count": 47,
   "metadata": {
    "ExecuteTime": {
     "end_time": "2019-06-02T19:57:55.415534Z",
     "start_time": "2019-06-02T19:57:55.404717Z"
    }
   },
   "outputs": [],
   "source": [
    "# Since the pools are sets we have to write our own JSON encoder\n",
    "class SetEncoder(json.JSONEncoder):\n",
    "    def default(self, obj):\n",
    "        if isinstance(obj, set):\n",
    "            return list(obj)\n",
    "        return json.JSONEncoder.default(self, obj)\n",
    "\n",
    "with open(addresses_json_file, 'w') as fp:\n",
    "    json.dump(address_collisions, fp, cls=SetEncoder)"
   ]
  },
  {
   "cell_type": "markdown",
   "metadata": {},
   "source": [
    "## Gaphsense cluster"
   ]
  },
  {
   "cell_type": "markdown",
   "metadata": {},
   "source": [
    "### Manually add miner names from walletexplorer.com\n",
    "These names are amongst the Graphsense tags.\n"
   ]
  },
  {
   "cell_type": "code",
   "execution_count": 416,
   "metadata": {},
   "outputs": [],
   "source": [
    "#with open(miners_custom_json_file, 'r') as fp:\n",
    "#    miners = json.load(fp)"
   ]
  },
  {
   "cell_type": "code",
   "execution_count": 48,
   "metadata": {
    "ExecuteTime": {
     "end_time": "2019-06-02T19:58:23.032339Z",
     "start_time": "2019-06-02T19:58:23.015462Z"
    }
   },
   "outputs": [
    {
     "name": "stdout",
     "output_type": "stream",
     "text": [
      "\n"
     ]
    }
   ],
   "source": [
    "# manually add pool names to miners that have been fetched from walletexplorer.com\n",
    "# and are also tags in the Graphsense clusters\n",
    "# https://www.walletexplorer.com/\n",
    "source = \"walletexplorer.com\"\n",
    "\n",
    "# BTCC:\n",
    "util.add_name(\"BTCC Pool\",miners,\"BTCCPool\",source) \n",
    "\n",
    "# SlushPool\n",
    "util.add_name(\"SlushPool\",miners,\"SlushPool.com\",source)\n",
    "util.add_name(\"SlushPool\",miners,\"SlushPool.com-old\",source)\n",
    "util.add_name(\"SlushPool\",miners,\"SlushPool.com-old2\",source)\n",
    "\n",
    "# GHash.IO\n",
    "util.add_name(\"GHash.IO\",miners,\"GHash.io\",source)\n",
    "\n",
    "# AntPool:\n",
    "util.add_name(\"AntPool\",miners,\"AntPool.com\",source) \n",
    "util.add_name(\"AntPool\",miners,\"AntPool.com-old\",source)\n",
    "util.add_name(\"AntPool\",miners,\"AntPool.com-old2\",source)\n",
    "\n",
    "# BitMinter\n",
    "util.add_name(\"BitMinter\",miners,\"BitMinter.com\",source)\n",
    "\n",
    "# EclipseMC\n",
    "util.add_name(\"EclipseMC\",miners,\"EclipseMC.com\",source)\n",
    "util.add_name(\"EclipseMC\",miners,\"EclipseMC.com-old\",source)\n",
    "util.add_name(\"EclipseMC\",miners,\"EclipseMC.com-old2\",source)\n",
    "util.add_name(\"EclipseMC\",miners,\"EclipseMC.com-old3\",source)\n",
    "\n",
    "# KnCMiner\n",
    "util.add_name(\"KnCMiner\",miners,\"KnCMiner.com\",source)\n",
    "\n",
    "# BitFury\n",
    "util.add_name(\"BitFury\",miners,\"Bitfury.org\",source)\n",
    "\n",
    "# BW Pool\n",
    "util.add_name(\"BW Pool\",miners,\"BW.com\",source)\n",
    "\n",
    "# Eligius\n",
    "util.add_name(\"Eligius\",miners,\"Eligius.st\",source)\n",
    "\n",
    "# KanoPool\n",
    "util.add_name(\"KanoPool\",miners,\"Kano.is\",source)\n",
    "util.add_name(\"KanoPool\",miners,\"Kano.is-old\",source)\n",
    "\n",
    "# Telco 214\n",
    "util.add_name(\"Telco 214\",miners,\"Telco214\",source)\n",
    "\n",
    "# 58COIN\n",
    "util.add_name(\"58COIN\",miners,\"58coin.com\",source)\n",
    "\n",
    "\n",
    "\n",
    "print()"
   ]
  },
  {
   "cell_type": "code",
   "execution_count": 419,
   "metadata": {},
   "outputs": [],
   "source": [
    "#with open(miners_custom_json_file, 'w') as fp:\n",
    "#    json.dump(miners, fp)"
   ]
  },
  {
   "cell_type": "markdown",
   "metadata": {},
   "source": [
    "### Attribute blocks to clusters `graphsense_cluster`  i.e., only set miner if tag is from walletexplorer.com\n",
    "____"
   ]
  },
  {
   "cell_type": "markdown",
   "metadata": {},
   "source": [
    "Find all tags that correspond to miner names and assign a unique miner id from our miners json.\n",
    "In a first iteration **only look for walletexplorer.com** miner names"
   ]
  },
  {
   "cell_type": "code",
   "execution_count": 49,
   "metadata": {
    "ExecuteTime": {
     "end_time": "2019-06-02T20:02:44.403493Z",
     "start_time": "2019-06-02T20:02:44.399802Z"
    }
   },
   "outputs": [],
   "source": [
    "name_to_miner = dict()\n",
    "\n",
    "for m in miners:\n",
    "    for n in miners[ m ][ util.D_NAMES ]:\n",
    "        if \"walletexplorer.com\" in miners[ m ][ util.D_NAMES ][ n ][ util.DD_SOURCES ]:\n",
    "            # only add walletexplor.com names\n",
    "            name_to_miner[ n ] = m   "
   ]
  },
  {
   "cell_type": "code",
   "execution_count": 50,
   "metadata": {
    "ExecuteTime": {
     "end_time": "2019-06-02T20:02:46.383058Z",
     "start_time": "2019-06-02T20:02:46.379161Z"
    }
   },
   "outputs": [
    {
     "data": {
      "text/plain": [
       "20"
      ]
     },
     "execution_count": 50,
     "metadata": {},
     "output_type": "execute_result"
    }
   ],
   "source": [
    "len(name_to_miner)"
   ]
  },
  {
   "cell_type": "code",
   "execution_count": 51,
   "metadata": {
    "ExecuteTime": {
     "end_time": "2019-06-02T20:02:48.471036Z",
     "start_time": "2019-06-02T20:02:48.458646Z"
    }
   },
   "outputs": [
    {
     "data": {
      "text/plain": [
       "{'BitMinter.com': 'BitMinter',\n",
       " 'Eligius.st': 'Eligius',\n",
       " 'EclipseMC.com': 'EclipseMC',\n",
       " 'EclipseMC.com-old': 'EclipseMC',\n",
       " 'EclipseMC.com-old2': 'EclipseMC',\n",
       " 'EclipseMC.com-old3': 'EclipseMC',\n",
       " 'GHash.io': 'GHash.IO',\n",
       " 'KnCMiner.com': 'KnCMiner',\n",
       " 'SlushPool.com': 'SlushPool',\n",
       " 'SlushPool.com-old': 'SlushPool',\n",
       " 'SlushPool.com-old2': 'SlushPool',\n",
       " 'AntPool.com': 'AntPool',\n",
       " 'AntPool.com-old': 'AntPool',\n",
       " 'AntPool.com-old2': 'AntPool',\n",
       " 'Kano.is': 'KanoPool',\n",
       " 'Kano.is-old': 'KanoPool',\n",
       " 'BTCCPool': 'BTCC Pool',\n",
       " 'Bitfury.org': 'BitFury',\n",
       " '58coin.com': '58COIN',\n",
       " 'Telco214': 'Telco 214'}"
      ]
     },
     "execution_count": 51,
     "metadata": {},
     "output_type": "execute_result"
    }
   ],
   "source": [
    "name_to_miner"
   ]
  },
  {
   "cell_type": "markdown",
   "metadata": {},
   "source": [
    "Try to attribute a mining pools to a cluster based on the cluster tags of walletexplorer.com\n",
    "The end result is a **mapping of cluster id to mining pool** in the miners json"
   ]
  },
  {
   "cell_type": "code",
   "execution_count": 52,
   "metadata": {
    "ExecuteTime": {
     "end_time": "2019-06-02T20:03:26.235497Z",
     "start_time": "2019-06-02T20:03:26.200890Z"
    }
   },
   "outputs": [],
   "source": [
    "cluster_to_miner = dict()\n",
    "\n",
    "with open(address_cluster_tags_csv_file) as fp:\n",
    "    reader = csv.DictReader(fp)\n",
    "    for row in reader:     \n",
    "        for n in name_to_miner.keys():\n",
    "            if n in row[ \"tag\" ]:\n",
    "                cluster_to_miner[ row[\"cluster\"] ] = name_to_miner[ n ]"
   ]
  },
  {
   "cell_type": "code",
   "execution_count": 53,
   "metadata": {
    "ExecuteTime": {
     "end_time": "2019-06-02T20:03:28.067445Z",
     "start_time": "2019-06-02T20:03:28.060041Z"
    }
   },
   "outputs": [
    {
     "data": {
      "text/plain": [
       "16"
      ]
     },
     "execution_count": 53,
     "metadata": {},
     "output_type": "execute_result"
    }
   ],
   "source": [
    "len(cluster_to_miner)"
   ]
  },
  {
   "cell_type": "code",
   "execution_count": 54,
   "metadata": {
    "ExecuteTime": {
     "end_time": "2019-06-02T20:03:32.229026Z",
     "start_time": "2019-06-02T20:03:32.214786Z"
    }
   },
   "outputs": [
    {
     "data": {
      "text/plain": [
       "{'2457517': 'BitMinter',\n",
       " '9967943': 'Eligius',\n",
       " '12567755': 'SlushPool',\n",
       " '17184660': 'GHash.IO',\n",
       " '23012884': 'AntPool',\n",
       " '27183019': 'KnCMiner',\n",
       " '39061298': 'EclipseMC',\n",
       " '48240376': 'SlushPool',\n",
       " '49332647': 'BitFury',\n",
       " '55843419': 'AntPool',\n",
       " '56989427': 'EclipseMC',\n",
       " '58788964': 'EclipseMC',\n",
       " '88831558': 'KanoPool',\n",
       " '97589177': 'BTCC Pool',\n",
       " '196188226': 'Telco 214',\n",
       " '210140240': 'AntPool'}"
      ]
     },
     "execution_count": 54,
     "metadata": {},
     "output_type": "execute_result"
    }
   ],
   "source": [
    "cluster_to_miner"
   ]
  },
  {
   "cell_type": "markdown",
   "metadata": {},
   "source": [
    "#### Load all cluster addresses and attribute clusters to each miner"
   ]
  },
  {
   "cell_type": "code",
   "execution_count": 56,
   "metadata": {
    "ExecuteTime": {
     "end_time": "2019-06-02T20:04:37.228038Z",
     "start_time": "2019-06-02T20:03:53.628445Z"
    }
   },
   "outputs": [
    {
     "name": "stdout",
     "output_type": "stream",
     "text": [
      "2554886\n",
      "Index(['address', 'cluster'], dtype='object')\n"
     ]
    },
    {
     "data": {
      "text/plain": [
       "2554886"
      ]
     },
     "execution_count": 56,
     "metadata": {},
     "output_type": "execute_result"
    }
   ],
   "source": [
    "# load clusters using pandas dataframe\n",
    "\n",
    "df = pd.read_csv(address_cluster_csv_file)\n",
    "print(len(df))\n",
    "print(df.columns)\n",
    "address_cluster = df.to_dict('index')\n",
    "\n",
    "# load clusters using pandas dataframe in chunks\n",
    "\n",
    "chunksize = 100\n",
    "df = pd.read_csv(address_cluster_csv_file, nrows=chunksize)\n",
    "address_cluster = df.to_dict('index')\n",
    "address_cluster = pd.read_csv(address_cluster_csv_file).to_dict('index')\n",
    "len(address_cluster)"
   ]
  },
  {
   "cell_type": "code",
   "execution_count": 57,
   "metadata": {
    "ExecuteTime": {
     "end_time": "2019-06-02T20:04:44.144245Z",
     "start_time": "2019-06-02T20:04:37.230323Z"
    }
   },
   "outputs": [
    {
     "data": {
      "text/plain": [
       "2554886"
      ]
     },
     "execution_count": 57,
     "metadata": {},
     "output_type": "execute_result"
    }
   ],
   "source": [
    "# load all address->cluster mappings into a dict\n",
    "\n",
    "address_to_cluster = dict()\n",
    "i = 0\n",
    "limit = 1000000\n",
    "#limit = 100\n",
    "\n",
    "with open(address_cluster_csv_file) as fp:\n",
    "    reader = csv.DictReader(fp)\n",
    "    for row in reader:\n",
    "        address_to_cluster[ row[\"address\"] ] = int(row[\"cluster\"])\n",
    "        #i += 1\n",
    "        #if i > limit:\n",
    "        #    break\n",
    "\n",
    "len(address_to_cluster)\n"
   ]
  },
  {
   "cell_type": "markdown",
   "metadata": {},
   "source": [
    "Find clusters that belong to currently known mining pools i.e., attribute clusters to our mining pools"
   ]
  },
  {
   "cell_type": "code",
   "execution_count": 58,
   "metadata": {
    "ExecuteTime": {
     "end_time": "2019-06-02T20:04:44.161094Z",
     "start_time": "2019-06-02T20:04:44.146081Z"
    }
   },
   "outputs": [],
   "source": [
    "miner_to_clusters = dict()\n",
    "\n",
    "for m in miners:\n",
    "    clusters = None\n",
    "    for addr in miners[ m ][ util.D_ADDRESSES ].keys():\n",
    "        if addr in address_to_cluster.keys():\n",
    "            if clusters is not None and address_to_cluster[ addr ] not in clusters:\n",
    "                miner_to_clusters[ m ].append( (addr,address_to_cluster[ addr ]) )\n",
    "                clusters.append( address_to_cluster[ addr ] )\n",
    "            else:\n",
    "                miner_to_clusters[ m ] = [ (addr,address_to_cluster[ addr ]), ] \n",
    "                clusters = [ address_to_cluster[ addr ], ]"
   ]
  },
  {
   "cell_type": "code",
   "execution_count": 59,
   "metadata": {
    "ExecuteTime": {
     "end_time": "2019-06-02T20:04:44.168732Z",
     "start_time": "2019-06-02T20:04:44.162898Z"
    }
   },
   "outputs": [
    {
     "data": {
      "text/plain": [
       "70"
      ]
     },
     "execution_count": 59,
     "metadata": {},
     "output_type": "execute_result"
    }
   ],
   "source": [
    "len(miner_to_clusters) # 83 # 86 # 94"
   ]
  },
  {
   "cell_type": "markdown",
   "metadata": {},
   "source": [
    "#### Check for collision where certain clusters belong to more than one miner"
   ]
  },
  {
   "cell_type": "code",
   "execution_count": 60,
   "metadata": {
    "ExecuteTime": {
     "end_time": "2019-06-02T20:04:53.085220Z",
     "start_time": "2019-06-02T20:04:53.081868Z"
    }
   },
   "outputs": [
    {
     "name": "stdout",
     "output_type": "stream",
     "text": [
      "25  Miners have more than one cluster\n"
     ]
    }
   ],
   "source": [
    "i = 0\n",
    "for m in miner_to_clusters:\n",
    "    if len(miner_to_clusters[ m ]) > 1:\n",
    "        i += 1\n",
    "        #print(m,\":\",miner_to_clusters[ m ])\n",
    "print(i,\" Miners have more than one cluster\") # 30 # 34"
   ]
  },
  {
   "cell_type": "code",
   "execution_count": 61,
   "metadata": {
    "ExecuteTime": {
     "end_time": "2019-06-02T20:05:00.017898Z",
     "start_time": "2019-06-02T20:05:00.005187Z"
    }
   },
   "outputs": [],
   "source": [
    "cluster_to_miners = dict()\n",
    "\n",
    "for m in miner_to_clusters:\n",
    "    for cluster_tuple in miner_to_clusters[ m ]:\n",
    "        miner_cluster = cluster_tuple[1]\n",
    "        if miner_cluster in cluster_to_miners.keys():\n",
    "            cluster_to_miners[ miner_cluster ].add( m )\n",
    "        else:\n",
    "            cluster_to_miners[ miner_cluster ] = set()\n",
    "            cluster_to_miners[ miner_cluster ].add(m)"
   ]
  },
  {
   "cell_type": "code",
   "execution_count": 62,
   "metadata": {
    "ExecuteTime": {
     "end_time": "2019-06-02T20:05:01.220230Z",
     "start_time": "2019-06-02T20:05:01.212513Z"
    }
   },
   "outputs": [
    {
     "data": {
      "text/plain": [
       "115"
      ]
     },
     "execution_count": 62,
     "metadata": {},
     "output_type": "execute_result"
    }
   ],
   "source": [
    "len(cluster_to_miners) # 247 # 360 # 364 # 396"
   ]
  },
  {
   "cell_type": "code",
   "execution_count": 63,
   "metadata": {
    "ExecuteTime": {
     "end_time": "2019-06-02T20:05:04.747056Z",
     "start_time": "2019-06-02T20:05:04.739037Z"
    }
   },
   "outputs": [
    {
     "name": "stdout",
     "output_type": "stream",
     "text": [
      "key   =  51458790\n",
      "value = \n",
      "{'BTC Pool Party'}\n"
     ]
    }
   ],
   "source": [
    "util.get_sample(cluster_to_miners,True,False)"
   ]
  },
  {
   "cell_type": "markdown",
   "metadata": {},
   "source": [
    "These are the collisions, i.e., a cluster that belongs to more than one miner.\n",
    "**These are interesting cases!**"
   ]
  },
  {
   "cell_type": "code",
   "execution_count": 64,
   "metadata": {
    "ExecuteTime": {
     "end_time": "2019-06-02T20:05:08.387897Z",
     "start_time": "2019-06-02T20:05:08.379243Z"
    }
   },
   "outputs": [
    {
     "name": "stdout",
     "output_type": "stream",
     "text": [
      "226924763 : {'Bitcoin-Ukraine', 'BitcoinRussia'}\n",
      "254056608 : {'BTC.com', 'Bixin', '7pool'}\n",
      "235587358 : {'BTC.TOP', 'CANOE'}\n",
      "259819906 : {'BTC.com', 'Waterhole'}\n"
     ]
    }
   ],
   "source": [
    "cluster_to_miners_collisions = dict()\n",
    "\n",
    "for c in cluster_to_miners:\n",
    "    if len(cluster_to_miners[ c ]) > 1:\n",
    "        cluster_to_miners_collisions[ c ] = cluster_to_miners[ c ]\n",
    "        print(c,\":\",cluster_to_miners[ c ])"
   ]
  },
  {
   "cell_type": "code",
   "execution_count": 434,
   "metadata": {},
   "outputs": [],
   "source": [
    "#cluster_to_miners_collisions = dict()\n",
    "#\n",
    "#for c in cluster_to_miners:\n",
    "#    if len(cluster_to_miners[ c ]) > 1:\n",
    "#        cluster_to_miners_collisions[ c ] = cluster_to_miners[ c ]\n",
    "#        print(c,\":\",cluster_to_miners[ c ])"
   ]
  },
  {
   "cell_type": "code",
   "execution_count": 65,
   "metadata": {
    "ExecuteTime": {
     "end_time": "2019-06-02T20:05:12.283671Z",
     "start_time": "2019-06-02T20:05:12.270638Z"
    }
   },
   "outputs": [],
   "source": [
    "# Since the pools are sets we have to write our own JSON encoder\n",
    "class SetEncoder(json.JSONEncoder):\n",
    "    def default(self, obj):\n",
    "        if isinstance(obj, set):\n",
    "            return list(obj)\n",
    "        return json.JSONEncoder.default(self, obj)\n",
    "\n",
    "with open(cluster_to_miners_collisions_json_file, 'w') as fp:\n",
    "    json.dump(cluster_to_miners_collisions, fp, cls=SetEncoder)"
   ]
  },
  {
   "cell_type": "markdown",
   "metadata": {},
   "source": [
    "#### **Attribute blocks** to clusters `graphsense_cluster`  i.e., only set miner if tag is from **walletexplorer.com**"
   ]
  },
  {
   "cell_type": "code",
   "execution_count": 436,
   "metadata": {},
   "outputs": [],
   "source": [
    "#with open(blocks_attribution_json_file, 'r') as fp:\n",
    "#    blocks = json.load(fp)"
   ]
  },
  {
   "cell_type": "code",
   "execution_count": 66,
   "metadata": {
    "ExecuteTime": {
     "end_time": "2019-06-02T20:05:15.884698Z",
     "start_time": "2019-06-02T20:05:14.574719Z"
    }
   },
   "outputs": [
    {
     "name": "stdout",
     "output_type": "stream",
     "text": [
      "..............................."
     ]
    }
   ],
   "source": [
    "override_cluster = True\n",
    "\n",
    "for blknum in blocks:\n",
    "    # iterate over all blocks\n",
    "    if ( util.DD_GS_CLUSTER not in blocks[ blknum ][ util.D_ATTRIBUTIONS ].keys() ) or override_cluster:\n",
    "        # if not already attributed with graphsense cluster\n",
    "        if len( blocks[ blknum ][ util.D_ADDRESSES ] ) == 1:\n",
    "            addr = blocks[ blknum ][ util.D_ADDRESSES ][ 0 ]\n",
    "            if addr not in address_to_cluster.keys():\n",
    "                continue\n",
    "            \n",
    "            cluster = address_to_cluster[ addr ]\n",
    "            if str(cluster) in cluster_to_miner.keys():\n",
    "                cluster_miner = cluster_to_miner[ str(cluster) ]\n",
    "                blocks[ blknum ][ util.D_ATTRIBUTIONS ][ util.DD_GS_CLUSTER ] = { util.DDD_MINER:cluster_miner,\n",
    "                                                                              util.DDD_CLUSTER:cluster,\n",
    "                                                                              util.DDD_SRC:\"graphsense\" }                 \n",
    "        i+=1\n",
    "        if i > 10000:\n",
    "            i = 0\n",
    "            sys.stdout.write('.')\n",
    "            sys.stdout.flush()"
   ]
  },
  {
   "cell_type": "code",
   "execution_count": 67,
   "metadata": {
    "ExecuteTime": {
     "end_time": "2019-06-02T20:05:18.015773Z",
     "start_time": "2019-06-02T20:05:17.886557Z"
    },
    "scrolled": true
   },
   "outputs": [
    {
     "data": {
      "text/plain": [
       "{'time': 1320673487,\n",
       " 'cb': '094269744d696e74657204b652020001032cfabe6d6d100f88209fd48034f16dc2599b664826c0f96e459d63056118f10d314f8112f90100000000000000',\n",
       " 'addresses': ['19PkHafEN18mquJ9ChwZt5YEFoCdPP5vYB'],\n",
       " 'miner': '',\n",
       " 'conflicts': 0,\n",
       " 'attribution': '',\n",
       " 'attributions': {'blockchain_info_address': {'miner': 'BitMinter',\n",
       "   'matches': [{'addr_match': '19PkHafEN18mquJ9ChwZt5YEFoCdPP5vYB'}],\n",
       "   'src': 'blockchain.info'},\n",
       "  'blockchain_info_marker': {'miner': 'BitMinter',\n",
       "   'matches': [{'cb_match': 'BitMinter'}],\n",
       "   'src': 'blockchain.info'},\n",
       "  'blockchain_info': {'miner': 'BitMinter',\n",
       "   'matches': [{'cb_match': 'BitMinter'},\n",
       "    {'addr_match': '19PkHafEN18mquJ9ChwZt5YEFoCdPP5vYB'}],\n",
       "   'src': 'blockchain.info'},\n",
       "  'blockchain_info_address_update': {'miner': 'BitMinter',\n",
       "   'matches': [{'addr_match': '19PkHafEN18mquJ9ChwZt5YEFoCdPP5vYB'}],\n",
       "   'src': 'blockchain.info'},\n",
       "  'blockchain_info_marker_update': {'miner': 'BitMinter',\n",
       "   'matches': [{'cb_match': 'BitMinter'}],\n",
       "   'src': 'blockchain.info'},\n",
       "  'blockchain_info_update': {'miner': 'BitMinter',\n",
       "   'matches': [{'cb_match': 'BitMinter'},\n",
       "    {'addr_match': '19PkHafEN18mquJ9ChwZt5YEFoCdPP5vYB'}],\n",
       "   'src': 'blockchain.info'},\n",
       "  'btccom_address': {'miner': 'BitMinter',\n",
       "   'matches': [{'addr_match': '19PkHafEN18mquJ9ChwZt5YEFoCdPP5vYB'}],\n",
       "   'src': 'btccom'},\n",
       "  'btccom_marker': {'miner': 'BitMinter',\n",
       "   'matches': [{'cb_match': 'BitMinter'}],\n",
       "   'src': 'btccom'},\n",
       "  'btccom': {'miner': 'BitMinter',\n",
       "   'matches': [{'cb_match': 'BitMinter'},\n",
       "    {'addr_match': '19PkHafEN18mquJ9ChwZt5YEFoCdPP5vYB'}],\n",
       "   'src': 'btccom'},\n",
       "  'btccom_address_update': {'miner': 'BitMinter',\n",
       "   'matches': [{'addr_match': '19PkHafEN18mquJ9ChwZt5YEFoCdPP5vYB'}],\n",
       "   'src': 'btccom'},\n",
       "  'btccom_marker_update': {'miner': 'BitMinter',\n",
       "   'matches': [{'cb_match': 'BitMinter'}],\n",
       "   'src': 'btccom'},\n",
       "  'btccom_update': {'miner': 'BitMinter',\n",
       "   'matches': [{'cb_match': 'BitMinter'},\n",
       "    {'addr_match': '19PkHafEN18mquJ9ChwZt5YEFoCdPP5vYB'}],\n",
       "   'src': 'btccom'},\n",
       "  'btccom_blockchain_info_addr': {'miner': 'BitMinter',\n",
       "   'matches': [{'addr_match': '19PkHafEN18mquJ9ChwZt5YEFoCdPP5vYB'}],\n",
       "   'src': 'attribution based on btccom and blockchain.info sources'},\n",
       "  'btccom_blockchain_info_marker': {'miner': 'BitMinter',\n",
       "   'matches': [{'cb_match': 'BitMinter'}],\n",
       "   'src': 'attribution based on btccom and blockchain.info sources'},\n",
       "  'btccom_blockchain_info': {'miner': 'BitMinter',\n",
       "   'matches': [{'cb_match': 'BitMinter'},\n",
       "    {'addr_match': '19PkHafEN18mquJ9ChwZt5YEFoCdPP5vYB'}],\n",
       "   'src': 'attribution based on btccom and blockchain.info sources'},\n",
       "  'btccom_blockchain_info_addr_update': {'miner': 'BitMinter',\n",
       "   'matches': [{'addr_match': '19PkHafEN18mquJ9ChwZt5YEFoCdPP5vYB'}],\n",
       "   'src': 'attribution based on btccom and blockchain.info sources'},\n",
       "  'btccom_blockchain_info_update': {'miner': 'BitMinter',\n",
       "   'matches': [{'cb_match': 'BitMinter'},\n",
       "    {'addr_match': '19PkHafEN18mquJ9ChwZt5YEFoCdPP5vYB'}],\n",
       "   'src': 'attribution based on btccom and blockchain.info sources'},\n",
       "  'initial_addr': {'miner': 'BitMinter',\n",
       "   'matches': [{'addr_match': '19PkHafEN18mquJ9ChwZt5YEFoCdPP5vYB'}],\n",
       "   'src': 'initial attribution based on all sources'},\n",
       "  'initial_marker': {'miner': 'BitMinter',\n",
       "   'matches': [{'cb_match': 'BitMinter'}],\n",
       "   'src': 'initial attribution based on all sources'},\n",
       "  'initial': {'miner': 'BitMinter',\n",
       "   'matches': [{'cb_match': 'BitMinter'},\n",
       "    {'addr_match': '19PkHafEN18mquJ9ChwZt5YEFoCdPP5vYB'}],\n",
       "   'src': 'initial attribution based on all sources'},\n",
       "  'initial_addr_update': {'miner': 'BitMinter',\n",
       "   'matches': [{'addr_match': '19PkHafEN18mquJ9ChwZt5YEFoCdPP5vYB'}],\n",
       "   'src': 'initial attribution based on all sources including update'},\n",
       "  'initial_marker_update': {'miner': 'BitMinter',\n",
       "   'matches': [{'cb_match': 'BitMinter'}],\n",
       "   'src': 'initial attribution based on all sources including update'},\n",
       "  'initial_update': {'miner': 'BitMinter',\n",
       "   'matches': [{'cb_match': 'BitMinter'},\n",
       "    {'addr_match': '19PkHafEN18mquJ9ChwZt5YEFoCdPP5vYB'}],\n",
       "   'src': 'initial attribution based on all sources including update'},\n",
       "  'blocktrail_com': {'miner': 'BitMinter', 'src': 'blocktrail.com'},\n",
       "  'custom_addr': {'miner': 'BitMinter',\n",
       "   'matches': [{'addr_match': '19PkHafEN18mquJ9ChwZt5YEFoCdPP5vYB'}],\n",
       "   'src': 'custom'},\n",
       "  'custom_marker': {'miner': 'BitMinter',\n",
       "   'matches': [{'cb_match': 'BitMinter'}],\n",
       "   'src': 'custom'},\n",
       "  'custom': {'miner': 'BitMinter',\n",
       "   'matches': [{'cb_match': 'BitMinter'},\n",
       "    {'addr_match': '19PkHafEN18mquJ9ChwZt5YEFoCdPP5vYB'}],\n",
       "   'src': 'custom'},\n",
       "  'graphsense_cluster': {'miner': 'BitMinter',\n",
       "   'cluster': 2457517,\n",
       "   'src': 'graphsense'}},\n",
       " 'hash': '0000000000000780b64b3dd7d0412ec0a9a51866e857282654fb858043c9fde9',\n",
       " 'phash': None,\n",
       " 'payout': '5001568767'}"
      ]
     },
     "execution_count": 67,
     "metadata": {},
     "output_type": "execute_result"
    }
   ],
   "source": [
    "for blknum in blocks:\n",
    "    if util.DD_GS_CLUSTER in blocks[ blknum ][ util.D_ATTRIBUTIONS ].keys():\n",
    "        break\n",
    "blocks[blknum]"
   ]
  },
  {
   "cell_type": "code",
   "execution_count": 68,
   "metadata": {
    "ExecuteTime": {
     "end_time": "2019-06-02T20:05:29.941022Z",
     "start_time": "2019-06-02T20:05:29.533917Z"
    }
   },
   "outputs": [
    {
     "name": "stdout",
     "output_type": "stream",
     "text": [
      "Number of successful cluster_tag attributions: 92697 = 16.660136592379583\n"
     ]
    }
   ],
   "source": [
    "i = 0\n",
    "for blknum in blocks:\n",
    "    if util.DD_GS_CLUSTER in blocks[ blknum ][ util.D_ATTRIBUTIONS ].keys():\n",
    "        i += 1\n",
    "print(\"Number of successful cluster_tag attributions:\",i,\"=\",(i/current_blockheight)*100 ) \n",
    "# 92567 = 18.000738954573738\n",
    "# 97252 = 17.47879223580158"
   ]
  },
  {
   "cell_type": "markdown",
   "metadata": {},
   "source": [
    "### Attribute blocks to clusters `graphsense_tag`  i.e., set miner if a miner name was found somewhere in the tags (fuzzy matching of miner)\n",
    "___"
   ]
  },
  {
   "cell_type": "markdown",
   "metadata": {},
   "source": [
    "Find all tags that correspond to **any** miner names and assign a unique miner id from our miners json.\n",
    "In a first iteration only looked only for `walletexplorer.com` miner names, but now we look for any tag that matches a currently known miner name."
   ]
  },
  {
   "cell_type": "code",
   "execution_count": 69,
   "metadata": {
    "ExecuteTime": {
     "end_time": "2019-06-02T20:05:36.679469Z",
     "start_time": "2019-06-02T20:05:36.674434Z"
    }
   },
   "outputs": [],
   "source": [
    "name_to_miner_fuzzy = dict()\n",
    "\n",
    "for m in miners:\n",
    "    for n in miners[ m ][ util.D_NAMES ]:\n",
    "        # try to attribute any name form the miners if it occures in the graphsense tags\n",
    "        # This might cause false positives!\n",
    "        name_to_miner_fuzzy[ n ] = m \n"
   ]
  },
  {
   "cell_type": "code",
   "execution_count": 70,
   "metadata": {
    "ExecuteTime": {
     "end_time": "2019-06-02T20:05:37.868262Z",
     "start_time": "2019-06-02T20:05:37.859431Z"
    }
   },
   "outputs": [
    {
     "data": {
      "text/plain": [
       "197"
      ]
     },
     "execution_count": 70,
     "metadata": {},
     "output_type": "execute_result"
    }
   ],
   "source": [
    "len(name_to_miner_fuzzy) # 167 # 171 # 197"
   ]
  },
  {
   "cell_type": "markdown",
   "metadata": {},
   "source": [
    "Try to attribute a mining pools to a cluster based on the fuzzy matching of cluster tags.\n",
    "The end result is a mapping of **cluster id to mining pool** in the miners json"
   ]
  },
  {
   "cell_type": "code",
   "execution_count": 72,
   "metadata": {
    "ExecuteTime": {
     "end_time": "2019-06-02T20:05:45.429903Z",
     "start_time": "2019-06-02T20:05:45.342125Z"
    }
   },
   "outputs": [],
   "source": [
    "cluster_to_miner_fuzzy = dict()\n",
    "\n",
    "with open(address_cluster_tags_csv_file) as fp:\n",
    "    reader = csv.DictReader(fp)\n",
    "    for row in reader:     \n",
    "        for n in name_to_miner_fuzzy.keys():\n",
    "            if n in row[ \"tag\" ]:\n",
    "                cluster_to_miner_fuzzy[ row[\"cluster\"] ] = name_to_miner_fuzzy[ n ]\n"
   ]
  },
  {
   "cell_type": "code",
   "execution_count": 73,
   "metadata": {
    "ExecuteTime": {
     "end_time": "2019-06-02T20:05:47.019074Z",
     "start_time": "2019-06-02T20:05:47.014646Z"
    }
   },
   "outputs": [
    {
     "data": {
      "text/plain": [
       "92"
      ]
     },
     "execution_count": 73,
     "metadata": {},
     "output_type": "execute_result"
    }
   ],
   "source": [
    "len(cluster_to_miner_fuzzy) # 92 # 84 # 120"
   ]
  },
  {
   "cell_type": "markdown",
   "metadata": {},
   "source": [
    "#### Attribute blocks to clusters `graphsense_tag`  i.e., set miner if a miner name was found somewhere in the tags (fuzzy matching of miner)"
   ]
  },
  {
   "cell_type": "code",
   "execution_count": 74,
   "metadata": {
    "ExecuteTime": {
     "end_time": "2019-06-02T20:05:56.009316Z",
     "start_time": "2019-06-02T20:05:54.660216Z"
    }
   },
   "outputs": [
    {
     "name": "stdout",
     "output_type": "stream",
     "text": [
      "................................"
     ]
    }
   ],
   "source": [
    "override_cluster = True\n",
    "\n",
    "for blknum in blocks:\n",
    "    # iterate over all blocks\n",
    "    if ( util.DD_GS_TAG not in blocks[ blknum ][ util.D_ATTRIBUTIONS ].keys() ) or override_cluster:\n",
    "        # if not already attributed with graphsense tag\n",
    "        coinbase = blocks[ blknum ][ util.D_CB ]\n",
    "        if len( blocks[ blknum ][ util.D_ADDRESSES ] ) == 1:\n",
    "            addr = blocks[ blknum ][ util.D_ADDRESSES ][0]\n",
    "            if addr not in address_to_cluster.keys():\n",
    "                continue\n",
    "                \n",
    "            cluster = address_to_cluster[ addr ]\n",
    "            if str(cluster) in cluster_to_miner_fuzzy.keys():\n",
    "                cluster_miner = cluster_to_miner_fuzzy[ str(cluster) ]\n",
    "                blocks[ blknum ][ util.D_ATTRIBUTIONS ][ util.DD_GS_TAG ] = { util.DDD_MINER:cluster_miner,\n",
    "                                                                              util.DDD_CLUSTER:cluster,\n",
    "                                                                              util.DDD_SRC:\"graphsense\" }                 \n",
    "        i+=1\n",
    "        if i > 10000:\n",
    "            i = 0\n",
    "            sys.stdout.write('.')\n",
    "            sys.stdout.flush()"
   ]
  },
  {
   "cell_type": "code",
   "execution_count": 75,
   "metadata": {
    "ExecuteTime": {
     "end_time": "2019-06-02T20:06:12.990700Z",
     "start_time": "2019-06-02T20:06:12.916337Z"
    },
    "scrolled": true
   },
   "outputs": [
    {
     "data": {
      "text/plain": [
       "{'time': 1320673487,\n",
       " 'cb': '094269744d696e74657204b652020001032cfabe6d6d100f88209fd48034f16dc2599b664826c0f96e459d63056118f10d314f8112f90100000000000000',\n",
       " 'addresses': ['19PkHafEN18mquJ9ChwZt5YEFoCdPP5vYB'],\n",
       " 'miner': '',\n",
       " 'conflicts': 0,\n",
       " 'attribution': '',\n",
       " 'attributions': {'blockchain_info_address': {'miner': 'BitMinter',\n",
       "   'matches': [{'addr_match': '19PkHafEN18mquJ9ChwZt5YEFoCdPP5vYB'}],\n",
       "   'src': 'blockchain.info'},\n",
       "  'blockchain_info_marker': {'miner': 'BitMinter',\n",
       "   'matches': [{'cb_match': 'BitMinter'}],\n",
       "   'src': 'blockchain.info'},\n",
       "  'blockchain_info': {'miner': 'BitMinter',\n",
       "   'matches': [{'cb_match': 'BitMinter'},\n",
       "    {'addr_match': '19PkHafEN18mquJ9ChwZt5YEFoCdPP5vYB'}],\n",
       "   'src': 'blockchain.info'},\n",
       "  'blockchain_info_address_update': {'miner': 'BitMinter',\n",
       "   'matches': [{'addr_match': '19PkHafEN18mquJ9ChwZt5YEFoCdPP5vYB'}],\n",
       "   'src': 'blockchain.info'},\n",
       "  'blockchain_info_marker_update': {'miner': 'BitMinter',\n",
       "   'matches': [{'cb_match': 'BitMinter'}],\n",
       "   'src': 'blockchain.info'},\n",
       "  'blockchain_info_update': {'miner': 'BitMinter',\n",
       "   'matches': [{'cb_match': 'BitMinter'},\n",
       "    {'addr_match': '19PkHafEN18mquJ9ChwZt5YEFoCdPP5vYB'}],\n",
       "   'src': 'blockchain.info'},\n",
       "  'btccom_address': {'miner': 'BitMinter',\n",
       "   'matches': [{'addr_match': '19PkHafEN18mquJ9ChwZt5YEFoCdPP5vYB'}],\n",
       "   'src': 'btccom'},\n",
       "  'btccom_marker': {'miner': 'BitMinter',\n",
       "   'matches': [{'cb_match': 'BitMinter'}],\n",
       "   'src': 'btccom'},\n",
       "  'btccom': {'miner': 'BitMinter',\n",
       "   'matches': [{'cb_match': 'BitMinter'},\n",
       "    {'addr_match': '19PkHafEN18mquJ9ChwZt5YEFoCdPP5vYB'}],\n",
       "   'src': 'btccom'},\n",
       "  'btccom_address_update': {'miner': 'BitMinter',\n",
       "   'matches': [{'addr_match': '19PkHafEN18mquJ9ChwZt5YEFoCdPP5vYB'}],\n",
       "   'src': 'btccom'},\n",
       "  'btccom_marker_update': {'miner': 'BitMinter',\n",
       "   'matches': [{'cb_match': 'BitMinter'}],\n",
       "   'src': 'btccom'},\n",
       "  'btccom_update': {'miner': 'BitMinter',\n",
       "   'matches': [{'cb_match': 'BitMinter'},\n",
       "    {'addr_match': '19PkHafEN18mquJ9ChwZt5YEFoCdPP5vYB'}],\n",
       "   'src': 'btccom'},\n",
       "  'btccom_blockchain_info_addr': {'miner': 'BitMinter',\n",
       "   'matches': [{'addr_match': '19PkHafEN18mquJ9ChwZt5YEFoCdPP5vYB'}],\n",
       "   'src': 'attribution based on btccom and blockchain.info sources'},\n",
       "  'btccom_blockchain_info_marker': {'miner': 'BitMinter',\n",
       "   'matches': [{'cb_match': 'BitMinter'}],\n",
       "   'src': 'attribution based on btccom and blockchain.info sources'},\n",
       "  'btccom_blockchain_info': {'miner': 'BitMinter',\n",
       "   'matches': [{'cb_match': 'BitMinter'},\n",
       "    {'addr_match': '19PkHafEN18mquJ9ChwZt5YEFoCdPP5vYB'}],\n",
       "   'src': 'attribution based on btccom and blockchain.info sources'},\n",
       "  'btccom_blockchain_info_addr_update': {'miner': 'BitMinter',\n",
       "   'matches': [{'addr_match': '19PkHafEN18mquJ9ChwZt5YEFoCdPP5vYB'}],\n",
       "   'src': 'attribution based on btccom and blockchain.info sources'},\n",
       "  'btccom_blockchain_info_update': {'miner': 'BitMinter',\n",
       "   'matches': [{'cb_match': 'BitMinter'},\n",
       "    {'addr_match': '19PkHafEN18mquJ9ChwZt5YEFoCdPP5vYB'}],\n",
       "   'src': 'attribution based on btccom and blockchain.info sources'},\n",
       "  'initial_addr': {'miner': 'BitMinter',\n",
       "   'matches': [{'addr_match': '19PkHafEN18mquJ9ChwZt5YEFoCdPP5vYB'}],\n",
       "   'src': 'initial attribution based on all sources'},\n",
       "  'initial_marker': {'miner': 'BitMinter',\n",
       "   'matches': [{'cb_match': 'BitMinter'}],\n",
       "   'src': 'initial attribution based on all sources'},\n",
       "  'initial': {'miner': 'BitMinter',\n",
       "   'matches': [{'cb_match': 'BitMinter'},\n",
       "    {'addr_match': '19PkHafEN18mquJ9ChwZt5YEFoCdPP5vYB'}],\n",
       "   'src': 'initial attribution based on all sources'},\n",
       "  'initial_addr_update': {'miner': 'BitMinter',\n",
       "   'matches': [{'addr_match': '19PkHafEN18mquJ9ChwZt5YEFoCdPP5vYB'}],\n",
       "   'src': 'initial attribution based on all sources including update'},\n",
       "  'initial_marker_update': {'miner': 'BitMinter',\n",
       "   'matches': [{'cb_match': 'BitMinter'}],\n",
       "   'src': 'initial attribution based on all sources including update'},\n",
       "  'initial_update': {'miner': 'BitMinter',\n",
       "   'matches': [{'cb_match': 'BitMinter'},\n",
       "    {'addr_match': '19PkHafEN18mquJ9ChwZt5YEFoCdPP5vYB'}],\n",
       "   'src': 'initial attribution based on all sources including update'},\n",
       "  'blocktrail_com': {'miner': 'BitMinter', 'src': 'blocktrail.com'},\n",
       "  'custom_addr': {'miner': 'BitMinter',\n",
       "   'matches': [{'addr_match': '19PkHafEN18mquJ9ChwZt5YEFoCdPP5vYB'}],\n",
       "   'src': 'custom'},\n",
       "  'custom_marker': {'miner': 'BitMinter',\n",
       "   'matches': [{'cb_match': 'BitMinter'}],\n",
       "   'src': 'custom'},\n",
       "  'custom': {'miner': 'BitMinter',\n",
       "   'matches': [{'cb_match': 'BitMinter'},\n",
       "    {'addr_match': '19PkHafEN18mquJ9ChwZt5YEFoCdPP5vYB'}],\n",
       "   'src': 'custom'},\n",
       "  'graphsense_cluster': {'miner': 'BitMinter',\n",
       "   'cluster': 2457517,\n",
       "   'src': 'graphsense'},\n",
       "  'graphsense_tag': {'miner': 'BitMinter',\n",
       "   'cluster': 2457517,\n",
       "   'src': 'graphsense'}},\n",
       " 'hash': '0000000000000780b64b3dd7d0412ec0a9a51866e857282654fb858043c9fde9',\n",
       " 'phash': None,\n",
       " 'payout': '5001568767'}"
      ]
     },
     "execution_count": 75,
     "metadata": {},
     "output_type": "execute_result"
    }
   ],
   "source": [
    "for blknum in blocks:\n",
    "    if util.DD_GS_TAG in blocks[ blknum ][ util.D_ATTRIBUTIONS ].keys():\n",
    "        break\n",
    "blocks[blknum]"
   ]
  },
  {
   "cell_type": "code",
   "execution_count": 76,
   "metadata": {
    "ExecuteTime": {
     "end_time": "2019-06-02T20:06:16.612000Z",
     "start_time": "2019-06-02T20:06:16.196968Z"
    }
   },
   "outputs": [
    {
     "name": "stdout",
     "output_type": "stream",
     "text": [
      "Number of successful cluster_tag attributions: 178687 = 32.11484543493889\n"
     ]
    }
   ],
   "source": [
    "i = 0\n",
    "for blknum in blocks:\n",
    "    if util.DD_GS_TAG in blocks[ blknum ][ util.D_ATTRIBUTIONS ].keys():\n",
    "        i += 1\n",
    "print(\"Number of successful cluster_tag attributions:\",i,\"=\",(i/current_blockheight)*100 ) \n",
    "# 167270 = 32.527613565650284\n",
    "# 191845 = 34.479690869877786"
   ]
  },
  {
   "cell_type": "markdown",
   "metadata": {},
   "source": [
    "## Persist files "
   ]
  },
  {
   "cell_type": "code",
   "execution_count": 77,
   "metadata": {
    "ExecuteTime": {
     "end_time": "2019-06-02T20:08:56.565175Z",
     "start_time": "2019-06-02T20:06:22.741212Z"
    }
   },
   "outputs": [],
   "source": [
    "with open(blocks_attribution_json_file, 'w') as fp: \n",
    "    json.dump(blocks, fp)"
   ]
  },
  {
   "cell_type": "code",
   "execution_count": 78,
   "metadata": {
    "ExecuteTime": {
     "end_time": "2019-06-02T20:08:57.542506Z",
     "start_time": "2019-06-02T20:08:56.573580Z"
    }
   },
   "outputs": [],
   "source": [
    "with open(miners_custom_json_file, 'w') as fp:\n",
    "    json.dump(miners, fp)"
   ]
  }
 ],
 "metadata": {
  "kernelspec": {
   "display_name": "Python 3",
   "language": "python",
   "name": "python3"
  },
  "language_info": {
   "codemirror_mode": {
    "name": "ipython",
    "version": 3
   },
   "file_extension": ".py",
   "mimetype": "text/x-python",
   "name": "python",
   "nbconvert_exporter": "python",
   "pygments_lexer": "ipython3",
   "version": "3.6.7"
  }
 },
 "nbformat": 4,
 "nbformat_minor": 2
}
