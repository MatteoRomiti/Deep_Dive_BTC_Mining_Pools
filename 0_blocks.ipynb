{
 "cells": [
  {
   "cell_type": "markdown",
   "metadata": {},
   "source": [
    "# Get raw block data for `blocks.json`\n",
    "\n",
    "This file creates the raw `blocks.json` data containing information from all blocks"
   ]
  },
  {
   "cell_type": "markdown",
   "metadata": {},
   "source": [
    "## Imports"
   ]
  },
  {
   "cell_type": "code",
   "execution_count": 1,
   "metadata": {
    "ExecuteTime": {
     "end_time": "2019-06-03T10:35:10.466046Z",
     "start_time": "2019-06-03T10:35:10.460726Z"
    }
   },
   "outputs": [],
   "source": [
    "# python3.5\n",
    "import csv\n",
    "import json\n",
    "import os.path # os.path.isfile; "
   ]
  },
  {
   "cell_type": "code",
   "execution_count": 2,
   "metadata": {
    "ExecuteTime": {
     "end_time": "2019-06-03T10:35:10.478155Z",
     "start_time": "2019-06-03T10:35:10.468318Z"
    }
   },
   "outputs": [
    {
     "data": {
      "text/plain": [
       "<module 'util' from '/home/matteo/deep_dive/util.py'>"
      ]
     },
     "execution_count": 2,
     "metadata": {},
     "output_type": "execute_result"
    }
   ],
   "source": [
    "# custom imports \n",
    "import util\n",
    "from importlib import reload\n",
    "reload(util)"
   ]
  },
  {
   "cell_type": "markdown",
   "metadata": {},
   "source": [
    "## Global variables and functions"
   ]
  },
  {
   "cell_type": "code",
   "execution_count": 3,
   "metadata": {
    "ExecuteTime": {
     "end_time": "2019-06-03T10:35:10.482389Z",
     "start_time": "2019-06-03T10:35:10.479768Z"
    }
   },
   "outputs": [
    {
     "name": "stdout",
     "output_type": "stream",
     "text": [
      "556400\n"
     ]
    }
   ],
   "source": [
    "# data up to blockheight \n",
    "current_blockheight = util.CURRENT_BLOCKHEIGHT\n",
    "print(current_blockheight)"
   ]
  },
  {
   "cell_type": "markdown",
   "metadata": {},
   "source": [
    "### Input"
   ]
  },
  {
   "cell_type": "markdown",
   "metadata": {},
   "source": [
    "#### `bitcoin_coinbases_and_headers_0-$(current_blockheight).csv`\n",
    "The raw block data from bitcoin block headers and their respective coinbase transactions\n",
    "address,hash,time,height,coinbase,coinbase_addresses\n",
    "* `address`: One of the coinbase output addresses of this block\n",
    "* `hash`: The hash of this block\n",
    "* `time`: The unix timestamp of this block\n",
    "* `height`: The height of this block \n",
    "* `coinbase`: The coinbase field of this block \n",
    "* `coinbase_addresses`: The number of unique coinbase output addresses\n",
    "\n",
    "UPDATE 2019-01-28:\n",
    "* `payout`: Total of BTC (in satoshis) payed out with this block (reward plus fees)\n",
    "* `phash`: Hash of previous block"
   ]
  },
  {
   "cell_type": "code",
   "execution_count": 4,
   "metadata": {
    "ExecuteTime": {
     "end_time": "2019-06-03T10:35:10.486713Z",
     "start_time": "2019-06-03T10:35:10.484038Z"
    }
   },
   "outputs": [],
   "source": [
    "bitcoin_coinbases_and_headers_csv_file = './dataset/bitcoin_coinbases_and_headers_0-' + str(current_blockheight) + '.csv'\n",
    "assert(os.path.isfile(bitcoin_coinbases_and_headers_csv_file))"
   ]
  },
  {
   "cell_type": "markdown",
   "metadata": {},
   "source": [
    "## Output"
   ]
  },
  {
   "cell_type": "markdown",
   "metadata": {},
   "source": [
    "#### `blocks_0-$(current_blockheight).json`\n",
    "The block.json file filled with raw data form the blockchain"
   ]
  },
  {
   "cell_type": "code",
   "execution_count": 5,
   "metadata": {
    "ExecuteTime": {
     "end_time": "2019-06-03T10:35:10.491943Z",
     "start_time": "2019-06-03T10:35:10.488611Z"
    }
   },
   "outputs": [
    {
     "name": "stdout",
     "output_type": "stream",
     "text": [
      "Output file ./dataset/blocks_0-556400.json exists, will be overwritten.\n"
     ]
    }
   ],
   "source": [
    "blocks_json_file = './dataset/blocks_0-' + str(current_blockheight) + '.json'\n",
    "if os.path.isfile(blocks_json_file):\n",
    "    print(\"Output file \" + blocks_json_file +  \" exists, will be overwritten.\")"
   ]
  },
  {
   "cell_type": "markdown",
   "metadata": {},
   "source": [
    "## Add entries to blocks file"
   ]
  },
  {
   "cell_type": "code",
   "execution_count": 6,
   "metadata": {
    "ExecuteTime": {
     "end_time": "2019-06-03T10:35:25.852410Z",
     "start_time": "2019-06-03T10:35:10.493817Z"
    }
   },
   "outputs": [],
   "source": [
    "blocks = dict()\n",
    "blocks.clear()\n",
    "\n",
    "with open(bitcoin_coinbases_and_headers_csv_file) as bitcoin_coinbases_and_headers_fp:\n",
    "    btc_coinbases_and_headers = csv.DictReader(bitcoin_coinbases_and_headers_fp)\n",
    "\n",
    "    for i,row in enumerate(btc_coinbases_and_headers):\n",
    "        \n",
    "        # line,address,bhash,time,height,coinbase,coinbase_addresses,payout\n",
    "        util.add_block(blocks, \n",
    "                       height=row[\"height\"], \n",
    "                       time=int(row[\"time\"]), \n",
    "                       address=row[\"address\"], \n",
    "                       cb=row[\"coinbase\"],\n",
    "                       bhash=row[\"hash\"],\n",
    "                       #phash=row[\"phash\"],\n",
    "                       payout=row[\"payout\"])    "
   ]
  },
  {
   "cell_type": "code",
   "execution_count": 7,
   "metadata": {
    "ExecuteTime": {
     "end_time": "2019-06-03T10:35:25.859001Z",
     "start_time": "2019-06-03T10:35:25.855109Z"
    }
   },
   "outputs": [
    {
     "data": {
      "text/plain": [
       "{'time': 1513622125,\n",
       " 'cb': '0320a107046f0a385a632f4254432e434f4d2ffabe6d6dbdd0ee86f9a1badfd0aa1b3c9dac8d90840cf973f7b2590d6c9adde1a6e0974a010000000000000001283da9a172020000000000',\n",
       " 'addresses': ['34qkc2iac6RsyxZVfyE2S5U5WcRsbg2dpK'],\n",
       " 'miner': '',\n",
       " 'conflicts': 0,\n",
       " 'attribution': '',\n",
       " 'attributions': {},\n",
       " 'hash': '00000000000000000024fb37364cbf81fd49cc2d51c09c75c35433c3a1945d04',\n",
       " 'phash': None,\n",
       " 'payout': '1589351625'}"
      ]
     },
     "execution_count": 7,
     "metadata": {},
     "output_type": "execute_result"
    }
   ],
   "source": [
    "blocks['500000']"
   ]
  },
  {
   "cell_type": "markdown",
   "metadata": {},
   "source": [
    "### Account for blocks bloopers ;) aka. strange blocks\n",
    "https://bitcoin.stackexchange.com/questions/38994/will-there-be-21-million-bitcoins-eventually/38998\n",
    "\n",
    "https://blockchain.info/de/tx/d5d27987d2a3dfc724e359870c6644b40e497bdc0589a033220fe15429d88599"
   ]
  },
  {
   "cell_type": "code",
   "execution_count": 8,
   "metadata": {
    "ExecuteTime": {
     "end_time": "2019-06-03T10:35:26.207822Z",
     "start_time": "2019-06-03T10:35:25.860920Z"
    }
   },
   "outputs": [
    {
     "name": "stdout",
     "output_type": "stream",
     "text": [
      "91722\n",
      "91812\n",
      "501726\n"
     ]
    }
   ],
   "source": [
    "# Check for missing blocks\n",
    "for i in range(current_blockheight):\n",
    "    if str(i) not in blocks.keys():\n",
    "        print(i)\n",
    "        #break"
   ]
  },
  {
   "cell_type": "code",
   "execution_count": 9,
   "metadata": {
    "ExecuteTime": {
     "end_time": "2019-06-03T10:35:26.219589Z",
     "start_time": "2019-06-03T10:35:26.209786Z"
    }
   },
   "outputs": [],
   "source": [
    "# Apply hot fix for missing blocks:\n",
    "if \"91722\" not in blocks.keys():\n",
    "    # https://blockchain.info/rawblock/%2000000000000271a2dc26e7667f8419f2e15416dc6955e5a6c6cdf3f2574dd08e\n",
    "    blocks[\"91722\"] = { util.D_TIME:1289723848, \n",
    "                        util.D_CB:\"0456720e1b00\",\n",
    "                        util.D_ADDRESSES:[],\n",
    "                        util.D_ATTRIBUTIONS:{},\n",
    "                        util.D_ATTRIBUTION:\"\",\n",
    "                        util.D_CONFLICTS:0,\n",
    "                        util.D_MINER:\"\",\n",
    "                        util.D_HASH:\"00000000000271a2dc26e7667f8419f2e15416dc6955e5a6c6cdf3f2574dd08e\",\n",
    "                        util.D_PHASH: \"00000000000a30044feb1a9010445c5b6d4cdc3f32ca747cff2525c32976ba42\",\n",
    "                        util.D_PAYOUT: 5000000000 }\n",
    "    \n",
    "if \"91812\" not in blocks.keys():\n",
    "    # https://blockchain.info/rawblock/00000000000af0aed4792b1acee3d966af36cf5def14935db8de83d6f9306f2f\n",
    "    blocks[\"91812\"] = { util.D_TIME:1289757588, \n",
    "                        util.D_CB:\"0456720e1b00\",\n",
    "                        util.D_ADDRESSES:[],\n",
    "                        util.D_ATTRIBUTIONS:{},\n",
    "                        util.D_ATTRIBUTION:\"\",\n",
    "                        util.D_CONFLICTS:0,\n",
    "                        util.D_MINER:\"\",\n",
    "                        util.D_HASH: \"00000000000af0aed4792b1acee3d966af36cf5def14935db8de83d6f9306f2f\",\n",
    "                        util.D_PHASH: \"000000000002afe839294d4e038b5c831bc09632fd717c0980f8f216dc2b360f\",\n",
    "                        util.D_PAYOUT: 5000000000}\n",
    "    \n",
    "if \"501726\" not in blocks.keys():\n",
    "    # https://blockchain.info/rawblock/0000000000000000004b27f9ee7ba33d6f048f684aaeb0eea4befd80f1701126\n",
    "    blocks[\"501726\"] = { util.D_TIME:1514638520, \n",
    "                         util.D_CB:\"03dea707055a478cb801b80100006ea50000\", \n",
    "                         util.D_ADDRESSES:[], \n",
    "                         util.D_ATTRIBUTIONS:{},\n",
    "                         util.D_ATTRIBUTION:\"\",\n",
    "                         util.D_CONFLICTS:0,\n",
    "                         util.D_MINER:\"\",\n",
    "                         util.D_HASH: \"0000000000000000004b27f9ee7ba33d6f048f684aaeb0eea4befd80f1701126\",\n",
    "                         util.D_PHASH: \"0000000000000000002b5382b8d2d64f0b7caee90fc9951fd5d4d64b99f926bb\",\n",
    "                         util.D_PAYOUT: 0 }"
   ]
  },
  {
   "cell_type": "code",
   "execution_count": 10,
   "metadata": {
    "ExecuteTime": {
     "end_time": "2019-06-03T10:35:38.597994Z",
     "start_time": "2019-06-03T10:35:26.222286Z"
    }
   },
   "outputs": [],
   "source": [
    "with open(blocks_json_file, 'w') as outfile:\n",
    "    json.dump(blocks, outfile)"
   ]
  }
 ],
 "metadata": {
  "kernelspec": {
   "display_name": "Python 3",
   "language": "python",
   "name": "python3"
  },
  "language_info": {
   "codemirror_mode": {
    "name": "ipython",
    "version": 3
   },
   "file_extension": ".py",
   "mimetype": "text/x-python",
   "name": "python",
   "nbconvert_exporter": "python",
   "pygments_lexer": "ipython3",
   "version": "3.6.7"
  }
 },
 "nbformat": 4,
 "nbformat_minor": 2
}
