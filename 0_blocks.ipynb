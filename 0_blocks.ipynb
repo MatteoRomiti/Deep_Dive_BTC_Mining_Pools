{
 "cells": [
  {
   "cell_type": "markdown",
   "metadata": {},
   "source": [
    "# Get raw block data for `blocks.json`\n",
    "\n",
    "This file creates the raw `blocks.json` data containing information from all blocks"
   ]
  },
  {
   "cell_type": "markdown",
   "metadata": {},
   "source": [
    "# A Deep Dive into Bitcoin Mining Pools\n",
    "## An Empirical Analysis of Mining Shares\n",
    "\n",
    "This repository hosts the code for the [research paper](https://arxiv.org/abs/1905.05999) published at [WEIS 2019](https://weis2019.econinfosec.org/).\n",
    "\n",
    "This [dataset](https://zenodo.org/record/3256313#.XRInj3UzaXw) contains files used and produced by the jupyter notebooks.\n",
    "\n",
    "In case you are interested, here are the [slides](https://github.com/MatteoRomiti/WEIS_Deep_Dive_slides/blob/master/demo.pdf)\n",
    "\n",
    "------------\n",
    "\n",
    "#### Abstract\n",
    "\n",
    "Miners play a key role in cryptocurrencies such as Bitcoin: they invest substantial computational resources in processing transactions and minting new currency units. It is well known that an attacker controlling more than half of the network’s mining power could manipulate the state of the system at will. While the influence of large mining pools appears evenly split, the actual distribution of mining power within these pools and their economic relationships with other actors remain undisclosed. To this end, we conduct the first in-depth analysis of mining reward distribution within three of the four largest Bitcoin mining pools and examine their cross-pool economic relationships. Our results suggest that individual miners are simultaneously operating across all three pools and that in each analyzed pool a small number of actors (≤ 20) receives over 50% of all BTC payouts. While the extent of an operator’s control over the resources of a mining pool remains an open debate, our findings are in line with previous research, pointing out centralization tendencies in large mining pools and cryptocurrencies in general.\n",
    "\n",
    "------------\n",
    "\n",
    "## How to\n",
    "\n",
    "If you want to reproduce/improve/contribute to the work, here some instructions.\n",
    "\n",
    "- download and extract the dataset available [here](https://zenodo.org/record/3256313#.XRInj3UzaXw) and place the `dataset` folder in the same directory of the jupyter notebooks\n",
    "\n",
    "- run `pip3 install -r requirements.txt`\n",
    "\n"
   ]
  },
  {
   "cell_type": "markdown",
   "metadata": {},
   "source": [
    "## Imports"
   ]
  },
  {
   "cell_type": "code",
   "execution_count": 1,
   "metadata": {
    "ExecuteTime": {
     "end_time": "2019-06-17T09:38:14.211434Z",
     "start_time": "2019-06-17T09:38:14.204594Z"
    }
   },
   "outputs": [],
   "source": [
    "# python3.5\n",
    "import csv\n",
    "import json\n",
    "import os.path # os.path.isfile; "
   ]
  },
  {
   "cell_type": "code",
   "execution_count": 2,
   "metadata": {
    "ExecuteTime": {
     "end_time": "2019-06-17T09:38:14.226229Z",
     "start_time": "2019-06-17T09:38:14.214686Z"
    }
   },
   "outputs": [
    {
     "data": {
      "text/plain": [
       "<module 'util' from '/home/matteo/deep_dive/util.py'>"
      ]
     },
     "execution_count": 2,
     "metadata": {},
     "output_type": "execute_result"
    }
   ],
   "source": [
    "# custom imports \n",
    "import util\n",
    "from importlib import reload\n",
    "reload(util)"
   ]
  },
  {
   "cell_type": "markdown",
   "metadata": {},
   "source": [
    "## Global variables and functions"
   ]
  },
  {
   "cell_type": "code",
   "execution_count": 3,
   "metadata": {
    "ExecuteTime": {
     "end_time": "2019-06-17T09:38:14.233473Z",
     "start_time": "2019-06-17T09:38:14.229284Z"
    }
   },
   "outputs": [
    {
     "name": "stdout",
     "output_type": "stream",
     "text": [
      "556400\n"
     ]
    }
   ],
   "source": [
    "# data up to blockheight \n",
    "current_blockheight = util.CURRENT_BLOCKHEIGHT\n",
    "print(current_blockheight)"
   ]
  },
  {
   "cell_type": "markdown",
   "metadata": {},
   "source": [
    "### Input"
   ]
  },
  {
   "cell_type": "markdown",
   "metadata": {},
   "source": [
    "#### `bitcoin_coinbases_and_headers_0-$(current_blockheight).csv`\n",
    "The raw block data from bitcoin block headers and their respective coinbase transactions\n",
    "address,hash,time,height,coinbase,coinbase_addresses\n",
    "* `address`: One of the coinbase output addresses of this block\n",
    "* `hash`: The hash of this block\n",
    "* `time`: The unix timestamp of this block\n",
    "* `height`: The height of this block \n",
    "* `coinbase`: The coinbase field of this block \n",
    "* `coinbase_addresses`: The number of unique coinbase output addresses\n",
    "\n",
    "UPDATE 2019-01-28:\n",
    "* `payout`: Total of BTC (in satoshis) payed out with this block (reward plus fees)\n",
    "* `phash`: Hash of previous block"
   ]
  },
  {
   "cell_type": "code",
   "execution_count": 4,
   "metadata": {
    "ExecuteTime": {
     "end_time": "2019-06-17T09:38:14.240452Z",
     "start_time": "2019-06-17T09:38:14.236409Z"
    }
   },
   "outputs": [],
   "source": [
    "bitcoin_coinbases_and_headers_csv_file = './dataset/bitcoin_coinbases_and_headers_0-' + str(current_blockheight) + '.csv'\n",
    "assert(os.path.isfile(bitcoin_coinbases_and_headers_csv_file))"
   ]
  },
  {
   "cell_type": "markdown",
   "metadata": {},
   "source": [
    "## Output"
   ]
  },
  {
   "cell_type": "markdown",
   "metadata": {},
   "source": [
    "#### `blocks_0-$(current_blockheight).json`\n",
    "The block.json file filled with raw data form the blockchain"
   ]
  },
  {
   "cell_type": "code",
   "execution_count": 5,
   "metadata": {
    "ExecuteTime": {
     "end_time": "2019-06-17T09:38:14.245487Z",
     "start_time": "2019-06-17T09:38:14.242333Z"
    }
   },
   "outputs": [
    {
     "name": "stdout",
     "output_type": "stream",
     "text": [
      "Output file ./dataset/blocks_0-556400.json exists, will be overwritten.\n"
     ]
    }
   ],
   "source": [
    "blocks_json_file = './dataset/blocks_0-' + str(current_blockheight) + '.json'\n",
    "if os.path.isfile(blocks_json_file):\n",
    "    print(\"Output file \" + blocks_json_file +  \" exists, will be overwritten.\")"
   ]
  },
  {
   "cell_type": "markdown",
   "metadata": {},
   "source": [
    "## Add entries to blocks file"
   ]
  },
  {
   "cell_type": "code",
   "execution_count": 6,
   "metadata": {
    "ExecuteTime": {
     "end_time": "2019-06-17T09:38:29.229754Z",
     "start_time": "2019-06-17T09:38:14.247046Z"
    }
   },
   "outputs": [],
   "source": [
    "blocks = dict()\n",
    "blocks.clear()\n",
    "\n",
    "with open(bitcoin_coinbases_and_headers_csv_file) as bitcoin_coinbases_and_headers_fp:\n",
    "    btc_coinbases_and_headers = csv.DictReader(bitcoin_coinbases_and_headers_fp)\n",
    "\n",
    "    for i,row in enumerate(btc_coinbases_and_headers):\n",
    "        \n",
    "        # line,address,bhash,time,height,coinbase,coinbase_addresses,payout\n",
    "        util.add_block(blocks, \n",
    "                       height=row[\"height\"], \n",
    "                       time=int(row[\"time\"]), \n",
    "                       address=row[\"address\"], \n",
    "                       cb=row[\"coinbase\"],\n",
    "                       bhash=row[\"hash\"],\n",
    "                       #phash=row[\"phash\"],\n",
    "                       payout=row[\"payout\"])    "
   ]
  },
  {
   "cell_type": "code",
   "execution_count": 7,
   "metadata": {
    "ExecuteTime": {
     "end_time": "2019-06-17T09:38:29.234841Z",
     "start_time": "2019-06-17T09:38:29.231157Z"
    }
   },
   "outputs": [
    {
     "data": {
      "text/plain": [
       "{'time': 1513622125,\n",
       " 'cb': '0320a107046f0a385a632f4254432e434f4d2ffabe6d6dbdd0ee86f9a1badfd0aa1b3c9dac8d90840cf973f7b2590d6c9adde1a6e0974a010000000000000001283da9a172020000000000',\n",
       " 'addresses': ['34qkc2iac6RsyxZVfyE2S5U5WcRsbg2dpK'],\n",
       " 'miner': '',\n",
       " 'conflicts': 0,\n",
       " 'attribution': '',\n",
       " 'attributions': {},\n",
       " 'hash': '00000000000000000024fb37364cbf81fd49cc2d51c09c75c35433c3a1945d04',\n",
       " 'phash': None,\n",
       " 'payout': '1589351625'}"
      ]
     },
     "execution_count": 7,
     "metadata": {},
     "output_type": "execute_result"
    }
   ],
   "source": [
    "blocks['500000']"
   ]
  },
  {
   "cell_type": "markdown",
   "metadata": {},
   "source": [
    "### Account for blocks bloopers ;) aka. strange blocks\n",
    "https://bitcoin.stackexchange.com/questions/38994/will-there-be-21-million-bitcoins-eventually/38998\n",
    "\n",
    "https://blockchain.info/de/tx/d5d27987d2a3dfc724e359870c6644b40e497bdc0589a033220fe15429d88599"
   ]
  },
  {
   "cell_type": "code",
   "execution_count": 8,
   "metadata": {
    "ExecuteTime": {
     "end_time": "2019-06-17T09:38:29.620581Z",
     "start_time": "2019-06-17T09:38:29.237831Z"
    }
   },
   "outputs": [
    {
     "name": "stdout",
     "output_type": "stream",
     "text": [
      "91722\n",
      "91812\n",
      "501726\n"
     ]
    }
   ],
   "source": [
    "# Check for missing blocks\n",
    "for i in range(current_blockheight):\n",
    "    if str(i) not in blocks.keys():\n",
    "        print(i)\n",
    "        #break"
   ]
  },
  {
   "cell_type": "code",
   "execution_count": 9,
   "metadata": {
    "ExecuteTime": {
     "end_time": "2019-06-17T09:38:29.631707Z",
     "start_time": "2019-06-17T09:38:29.622745Z"
    }
   },
   "outputs": [],
   "source": [
    "# Apply hot fix for missing blocks:\n",
    "if \"91722\" not in blocks.keys():\n",
    "    # https://blockchain.info/rawblock/%2000000000000271a2dc26e7667f8419f2e15416dc6955e5a6c6cdf3f2574dd08e\n",
    "    blocks[\"91722\"] = { util.D_TIME:1289723848, \n",
    "                        util.D_CB:\"0456720e1b00\",\n",
    "                        util.D_ADDRESSES:[],\n",
    "                        util.D_ATTRIBUTIONS:{},\n",
    "                        util.D_ATTRIBUTION:\"\",\n",
    "                        util.D_CONFLICTS:0,\n",
    "                        util.D_MINER:\"\",\n",
    "                        util.D_HASH:\"00000000000271a2dc26e7667f8419f2e15416dc6955e5a6c6cdf3f2574dd08e\",\n",
    "                        util.D_PHASH: \"00000000000a30044feb1a9010445c5b6d4cdc3f32ca747cff2525c32976ba42\",\n",
    "                        util.D_PAYOUT: 5000000000 }\n",
    "    \n",
    "if \"91812\" not in blocks.keys():\n",
    "    # https://blockchain.info/rawblock/00000000000af0aed4792b1acee3d966af36cf5def14935db8de83d6f9306f2f\n",
    "    blocks[\"91812\"] = { util.D_TIME:1289757588, \n",
    "                        util.D_CB:\"0456720e1b00\",\n",
    "                        util.D_ADDRESSES:[],\n",
    "                        util.D_ATTRIBUTIONS:{},\n",
    "                        util.D_ATTRIBUTION:\"\",\n",
    "                        util.D_CONFLICTS:0,\n",
    "                        util.D_MINER:\"\",\n",
    "                        util.D_HASH: \"00000000000af0aed4792b1acee3d966af36cf5def14935db8de83d6f9306f2f\",\n",
    "                        util.D_PHASH: \"000000000002afe839294d4e038b5c831bc09632fd717c0980f8f216dc2b360f\",\n",
    "                        util.D_PAYOUT: 5000000000}\n",
    "    \n",
    "if \"501726\" not in blocks.keys():\n",
    "    # https://blockchain.info/rawblock/0000000000000000004b27f9ee7ba33d6f048f684aaeb0eea4befd80f1701126\n",
    "    blocks[\"501726\"] = { util.D_TIME:1514638520, \n",
    "                         util.D_CB:\"03dea707055a478cb801b80100006ea50000\", \n",
    "                         util.D_ADDRESSES:[], \n",
    "                         util.D_ATTRIBUTIONS:{},\n",
    "                         util.D_ATTRIBUTION:\"\",\n",
    "                         util.D_CONFLICTS:0,\n",
    "                         util.D_MINER:\"\",\n",
    "                         util.D_HASH: \"0000000000000000004b27f9ee7ba33d6f048f684aaeb0eea4befd80f1701126\",\n",
    "                         util.D_PHASH: \"0000000000000000002b5382b8d2d64f0b7caee90fc9951fd5d4d64b99f926bb\",\n",
    "                         util.D_PAYOUT: 0 }"
   ]
  },
  {
   "cell_type": "code",
   "execution_count": 10,
   "metadata": {
    "ExecuteTime": {
     "end_time": "2019-06-17T09:38:38.826152Z",
     "start_time": "2019-06-17T09:38:29.633757Z"
    }
   },
   "outputs": [],
   "source": [
    "with open(blocks_json_file, 'w') as outfile:\n",
    "    json.dump(blocks, outfile)"
   ]
  }
 ],
 "metadata": {
  "kernelspec": {
   "display_name": "Python 3",
   "language": "python",
   "name": "python3"
  },
  "language_info": {
   "codemirror_mode": {
    "name": "ipython",
    "version": 3
   },
   "file_extension": ".py",
   "mimetype": "text/x-python",
   "name": "python",
   "nbconvert_exporter": "python",
   "pygments_lexer": "ipython3",
   "version": "3.6.8"
  }
 },
 "nbformat": 4,
 "nbformat_minor": 2
}
