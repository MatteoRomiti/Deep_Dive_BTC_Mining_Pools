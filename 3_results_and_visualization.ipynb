{
 "cells": [
  {
   "cell_type": "markdown",
   "metadata": {},
   "source": [
    "# Visualize attributions "
   ]
  },
  {
   "cell_type": "markdown",
   "metadata": {},
   "source": [
    "## Imports"
   ]
  },
  {
   "cell_type": "code",
   "execution_count": 1,
   "metadata": {
    "ExecuteTime": {
     "end_time": "2019-06-17T14:12:55.874415Z",
     "start_time": "2019-06-17T14:12:55.299075Z"
    }
   },
   "outputs": [],
   "source": [
    "# python3.5\n",
    "import pandas as pd\n",
    "import numpy as np\n",
    "import matplotlib.pyplot as plt\n",
    "\n",
    "import re\n",
    "import binascii\n",
    "import sys\n",
    "import random # draw samples\n",
    "\n",
    "import csv\n",
    "import json\n",
    "\n",
    "import os.path # os.path.isfile; \n",
    "from collections import Counter\n",
    "\n",
    "import pprint\n",
    "pp = pprint.PrettyPrinter(indent=4)"
   ]
  },
  {
   "cell_type": "code",
   "execution_count": 2,
   "metadata": {
    "ExecuteTime": {
     "end_time": "2019-06-17T14:12:55.881234Z",
     "start_time": "2019-06-17T14:12:55.876124Z"
    }
   },
   "outputs": [
    {
     "data": {
      "text/plain": [
       "<module 'util' from '/home/matteo/deep_dive/util.py'>"
      ]
     },
     "execution_count": 2,
     "metadata": {},
     "output_type": "execute_result"
    }
   ],
   "source": [
    "# custom imports \n",
    "import util\n",
    "from importlib import reload\n",
    "reload(util)"
   ]
  },
  {
   "cell_type": "markdown",
   "metadata": {},
   "source": [
    "## Globals"
   ]
  },
  {
   "cell_type": "code",
   "execution_count": 3,
   "metadata": {
    "ExecuteTime": {
     "end_time": "2019-06-17T14:12:55.885671Z",
     "start_time": "2019-06-17T14:12:55.882946Z"
    }
   },
   "outputs": [
    {
     "name": "stdout",
     "output_type": "stream",
     "text": [
      "556400\n"
     ]
    }
   ],
   "source": [
    "# data up to blockheight \n",
    "current_blockheight = util.CURRENT_BLOCKHEIGHT\n",
    "print(current_blockheight)"
   ]
  },
  {
   "cell_type": "markdown",
   "metadata": {},
   "source": [
    "### Input files"
   ]
  },
  {
   "cell_type": "markdown",
   "metadata": {},
   "source": [
    "#### `blocks_attribution_0-$(current_blockheight).json`\n",
    "already performed block attributions to link same miners and pools together:\n",
    "- `blockchain_info_tag`\n",
    "- `blockchain_info_address`\n",
    "- `blockchain_info`\n",
    "- `blocktrail`\n",
    "- `coinbase_marker`\n",
    "- `graphsense_cluster`"
   ]
  },
  {
   "cell_type": "code",
   "execution_count": 4,
   "metadata": {
    "ExecuteTime": {
     "end_time": "2019-06-17T14:12:55.893936Z",
     "start_time": "2019-06-17T14:12:55.887525Z"
    }
   },
   "outputs": [],
   "source": [
    "blocks_attribution_json_file = './dataset/blocks_attribution_0-' + str(current_blockheight) + '.json'\n",
    "assert( os.path.isfile(blocks_attribution_json_file) )"
   ]
  },
  {
   "cell_type": "markdown",
   "metadata": {},
   "source": [
    "#### `miners_custom.json`\n",
    "The mining entity data from:\n",
    "* blockchain.info \n",
    "* blocktrail.com\n",
    "\n",
    "Plus:\n",
    "* **custom edits and manually identified markers**\n",
    "\n",
    "Again this data is in our custom JSON miner format."
   ]
  },
  {
   "cell_type": "code",
   "execution_count": 5,
   "metadata": {
    "ExecuteTime": {
     "end_time": "2019-06-17T14:12:55.904166Z",
     "start_time": "2019-06-17T14:12:55.897986Z"
    }
   },
   "outputs": [
    {
     "name": "stdout",
     "output_type": "stream",
     "text": [
      "Output file ./dataset/miners_custom.jsonexists, will be overwritten.\n"
     ]
    }
   ],
   "source": [
    "miners_custom_json_file = './dataset/miners_custom.json'\n",
    "if os.path.isfile(miners_custom_json_file):\n",
    "    print(\"Output file \" + miners_custom_json_file +  \"exists, will be overwritten.\")"
   ]
  },
  {
   "cell_type": "markdown",
   "metadata": {},
   "source": [
    "### Output files"
   ]
  },
  {
   "cell_type": "markdown",
   "metadata": {},
   "source": [
    "#### `miners_custom_color.json`\n",
    "Updated with config dict entry including a color for each miner + three pseudo miners:\n",
    "* `unknown`\n",
    "* `conflict`\n",
    "* `misc`: Container for small miners "
   ]
  },
  {
   "cell_type": "code",
   "execution_count": 6,
   "metadata": {
    "ExecuteTime": {
     "end_time": "2019-06-17T14:12:55.910850Z",
     "start_time": "2019-06-17T14:12:55.906702Z"
    }
   },
   "outputs": [
    {
     "name": "stdout",
     "output_type": "stream",
     "text": [
      "Output file ./dataset/miners_custom.jsonexists, will be overwritten.\n"
     ]
    }
   ],
   "source": [
    "miners_custom_color_json_file = './dataset/miners_custom_color.json'\n",
    "if os.path.isfile(miners_custom_color_json_file):\n",
    "    print(\"Output file \" + miners_custom_json_file +  \"exists, will be overwritten.\")"
   ]
  },
  {
   "cell_type": "markdown",
   "metadata": {},
   "source": [
    "#### `blocks_attribution_0-$(current_blockheight).json`\n",
    "Updated with the overall `miner` descision for the block and the number of conflicts. "
   ]
  },
  {
   "cell_type": "code",
   "execution_count": 7,
   "metadata": {
    "ExecuteTime": {
     "end_time": "2019-06-17T14:12:55.919577Z",
     "start_time": "2019-06-17T14:12:55.915203Z"
    }
   },
   "outputs": [
    {
     "name": "stdout",
     "output_type": "stream",
     "text": [
      "Output file ./dataset/blocks_attribution_0-556400.jsonexists, will be overwritten.\n"
     ]
    }
   ],
   "source": [
    "blocks_attribution_json_file = './dataset/blocks_attribution_0-' + str(current_blockheight) + '.json'\n",
    "if os.path.isfile(blocks_attribution_json_file):\n",
    "    print(\"Output file \" + blocks_attribution_json_file +  \"exists, will be overwritten.\")"
   ]
  },
  {
   "cell_type": "markdown",
   "metadata": {},
   "source": [
    "#### `blocks_conflicts_0-$(current_blockheight).json`\n",
    "All conflicting blocks "
   ]
  },
  {
   "cell_type": "code",
   "execution_count": 8,
   "metadata": {
    "ExecuteTime": {
     "end_time": "2019-06-17T14:12:55.925986Z",
     "start_time": "2019-06-17T14:12:55.921641Z"
    }
   },
   "outputs": [
    {
     "name": "stdout",
     "output_type": "stream",
     "text": [
      "Output file ./dataset/blocks_conflicts_0-556400.jsonexists, will be overwritten.\n"
     ]
    }
   ],
   "source": [
    "blocks_conflicts_json_file = './dataset/blocks_conflicts_0-' + str(current_blockheight) + '.json'\n",
    "if os.path.isfile(blocks_conflicts_json_file):\n",
    "    print(\"Output file \" + blocks_conflicts_json_file +  \"exists, will be overwritten.\")"
   ]
  },
  {
   "cell_type": "markdown",
   "metadata": {},
   "source": [
    "## Customize miner color"
   ]
  },
  {
   "cell_type": "markdown",
   "metadata": {},
   "source": [
    "Customize miners and add some configuration settings for plots e.g., give every miner a consistend color"
   ]
  },
  {
   "cell_type": "code",
   "execution_count": 9,
   "metadata": {
    "ExecuteTime": {
     "end_time": "2019-06-17T14:12:56.049648Z",
     "start_time": "2019-06-17T14:12:55.928467Z"
    }
   },
   "outputs": [],
   "source": [
    "with open(miners_custom_json_file, 'r') as fp:\n",
    "    miners = json.load(fp)"
   ]
  },
  {
   "cell_type": "code",
   "execution_count": 10,
   "metadata": {
    "ExecuteTime": {
     "end_time": "2019-06-17T14:12:56.061916Z",
     "start_time": "2019-06-17T14:12:56.052161Z"
    }
   },
   "outputs": [
    {
     "data": {
      "text/plain": [
       "True"
      ]
     },
     "execution_count": 10,
     "metadata": {},
     "output_type": "execute_result"
    }
   ],
   "source": [
    "# add dummy entries for unknown or conflicting miners\n",
    "util.add_miner(\"unknown\",\n",
    "               miners,\n",
    "               names_dict= {},\n",
    "               markers_dict= {},\n",
    "               addresses_dict= {} )\n",
    "util.add_miner(\"conflict\",\n",
    "               miners,\n",
    "               names_dict= {},\n",
    "               markers_dict= {},\n",
    "               addresses_dict= {} )\n",
    "util.add_miner(\"misc\",\n",
    "               miners,\n",
    "               names_dict= {},\n",
    "               markers_dict= {},\n",
    "               addresses_dict= {} )"
   ]
  },
  {
   "cell_type": "code",
   "execution_count": 11,
   "metadata": {
    "ExecuteTime": {
     "end_time": "2019-06-17T14:12:56.111254Z",
     "start_time": "2019-06-17T14:12:56.065863Z"
    }
   },
   "outputs": [],
   "source": [
    "# hardcode colors of large pools\n",
    "# based on:\n",
    "# * https://matplotlib.org/api/colors_api.html\n",
    "# * https://xkcd.com/color/rgb/\n",
    "\n",
    "overwrite = True\n",
    "used_colors = list()\n",
    "\n",
    "with open('./dataset/xkcd_colors.dict', 'r') as fp:\n",
    "    colors = json.load(fp)\n",
    "\n",
    "# unknown\n",
    "m = \"unknown\"\n",
    "color = colors[\"light grey\"]\n",
    "used_colors.append(\"light grey\")\n",
    "if util.D_CONFIG not in miners[ m ].keys():\n",
    "    miners[ m ][ util.D_CONFIG ] = { util.DD_COLOR: color }\n",
    "elif util.DD_COLOR not in miners[ m ][ util.D_CONFIG ] or overwrite:\n",
    "    miners[ m ][ util.D_CONFIG ][ util.DD_COLOR ] = color\n",
    "    \n",
    "# conflict\n",
    "m = \"conflict\"\n",
    "color = colors[\"red\"]\n",
    "used_colors.append(\"red\")\n",
    "if util.D_CONFIG not in miners[ m ].keys():\n",
    "    miners[ m ][ util.D_CONFIG ] = { util.DD_COLOR: color }\n",
    "elif util.DD_COLOR not in miners[ m ][ util.D_CONFIG ] or overwrite:\n",
    "    miners[ m ][ util.D_CONFIG ][ util.DD_COLOR ] = color\n",
    "\n",
    "# --- POOLS ---\n",
    "\n",
    "# BTC.com\n",
    "m = \"BTC.com\"\n",
    "color = \"#0000CD\"\n",
    "used_colors.append(color)\n",
    "#color = colors[\"dark salmon\"]\n",
    "#used_colors.append(\"dark salmon\")\n",
    "if util.D_CONFIG not in miners[ m ].keys():\n",
    "    miners[ m ][ util.D_CONFIG ] = { util.DD_COLOR: color }\n",
    "elif util.DD_COLOR not in miners[ m ][ util.D_CONFIG ] or overwrite:\n",
    "    miners[ m ][ util.D_CONFIG ][ util.DD_COLOR ] = color\n",
    "\n",
    "# AntPool\n",
    "m = \"AntPool\"\n",
    "color = '#FFF200'\n",
    "used_colors.append(color)\n",
    "#color = colors[\"yellow\"]\n",
    "#used_colors.append(\"yellow\")\n",
    "if util.D_CONFIG not in miners[ m ].keys():\n",
    "    miners[ m ][ util.D_CONFIG ] = { util.DD_COLOR: color }\n",
    "elif util.DD_COLOR not in miners[ m ][ util.D_CONFIG ] or overwrite:\n",
    "    miners[ m ][ util.D_CONFIG ][ util.DD_COLOR ] = color\n",
    "\n",
    "# SlushPool\n",
    "m = \"SlushPool\"\n",
    "color = '#FF0000'\n",
    "used_colors.append(color)\n",
    "#color = colors[\"electric blue\"]\n",
    "#used_colors.append(\"electric blue\")\n",
    "if util.D_CONFIG not in miners[ m ].keys():\n",
    "    miners[ m ][ util.D_CONFIG ] = { util.DD_COLOR: color }\n",
    "elif util.DD_COLOR not in miners[ m ][ util.D_CONFIG ] or overwrite:\n",
    "    miners[ m ][ util.D_CONFIG ][ util.DD_COLOR ] = color\n",
    "    \n",
    "# F2Pool\n",
    "m = \"F2Pool\"\n",
    "color = '#7FFF00'\n",
    "used_colors.append(color)\n",
    "#color = colors[\"light orange\"]\n",
    "#used_colors.append(\"light orange\")\n",
    "if util.D_CONFIG not in miners[ m ].keys():\n",
    "    miners[ m ][ util.D_CONFIG ] = { util.DD_COLOR: color }\n",
    "elif util.DD_COLOR not in miners[ m ][ util.D_CONFIG ] or overwrite:\n",
    "    miners[ m ][ util.D_CONFIG ][ util.DD_COLOR ] = color\n",
    "\n",
    "# ViaBTC\n",
    "m = \"ViaBTC\"\n",
    "color = '#FFA500'\n",
    "used_colors.append(color)\n",
    "#color = colors[\"chartreuse\"]\n",
    "#used_colors.append(\"chartreuse\")\n",
    "if util.D_CONFIG not in miners[ m ].keys():\n",
    "    miners[ m ][ util.D_CONFIG ] = { util.DD_COLOR: color }\n",
    "elif util.DD_COLOR not in miners[ m ][ util.D_CONFIG ] or overwrite:\n",
    "    miners[ m ][ util.D_CONFIG ][ util.DD_COLOR ] = color\n",
    "\n",
    "# BTC.TOP\n",
    "m = \"BTC.TOP\"\n",
    "color = '#3D9140'\n",
    "used_colors.append(color)\n",
    "#color = colors[\"light violet\"]\n",
    "#used_colors.append(\"light violet\")\n",
    "if util.D_CONFIG not in miners[ m ].keys():\n",
    "    miners[ m ][ util.D_CONFIG ] = { util.DD_COLOR: color }\n",
    "elif util.DD_COLOR not in miners[ m ][ util.D_CONFIG ] or overwrite:\n",
    "    miners[ m ][ util.D_CONFIG ][ util.DD_COLOR ] = color\n",
    "\n",
    "# BTCC Pool\n",
    "m = \"BTCC Pool\"\n",
    "color = '#CD8500'\n",
    "used_colors.append(color)\n",
    "#color = colors[\"light cyan\"]\n",
    "#used_colors.append(\"light cyan\")\n",
    "if util.D_CONFIG not in miners[ m ].keys():\n",
    "    miners[ m ][ util.D_CONFIG ] = { util.DD_COLOR: color }\n",
    "elif util.DD_COLOR not in miners[ m ][ util.D_CONFIG ] or overwrite:\n",
    "    miners[ m ][ util.D_CONFIG ][ util.DD_COLOR ] = color\n",
    "\n",
    "# BW.COM\n",
    "m = \"BW.COM\"\n",
    "color = '#00E5EE'\n",
    "used_colors.append(color)\n",
    "#color = colors[\"bright purple\"]\n",
    "#used_colors.append(\"bright purple\")\n",
    "if util.D_CONFIG not in miners[ m ].keys():\n",
    "    miners[ m ][ util.D_CONFIG ] = { util.DD_COLOR: color }\n",
    "elif util.DD_COLOR not in miners[ m ][ util.D_CONFIG ] or overwrite:\n",
    "    miners[ m ][ util.D_CONFIG ][ util.DD_COLOR ] = color\n",
    "\n",
    "# BitFury\n",
    "m = \"BitFury\"\n",
    "color = '#FF34B3'\n",
    "used_colors.append(color)\n",
    "#color = colors[\"dark yellow\"]\n",
    "#used_colors.append(\"dark yellow\")\n",
    "if util.D_CONFIG not in miners[ m ].keys():\n",
    "    miners[ m ][ util.D_CONFIG ] = { util.DD_COLOR: color }\n",
    "elif util.DD_COLOR not in miners[ m ][ util.D_CONFIG ] or overwrite:\n",
    "    miners[ m ][ util.D_CONFIG ][ util.DD_COLOR ] = color\n",
    "    \n",
    "# BitClub Network\n",
    "m = \"BitClub Network\"\n",
    "color = '#CDCD00'\n",
    "used_colors.append(color)\n",
    "#color = colors[\"salmon\"]\n",
    "#used_colors.append(\"salmon\")\n",
    "if util.D_CONFIG not in miners[ m ].keys():\n",
    "    miners[ m ][ util.D_CONFIG ] = { util.DD_COLOR: color }\n",
    "elif util.DD_COLOR not in miners[ m ][ util.D_CONFIG ] or overwrite:\n",
    "    miners[ m ][ util.D_CONFIG ][ util.DD_COLOR ] = color\n",
    "\n",
    "# Bixin (HaoBTC)\n",
    "m = \"Bixin\"\n",
    "color = '#6495ED'\n",
    "used_colors.append(color)\n",
    "#color = colors[\"sky\"]\n",
    "#used_colors.append(\"sky\")\n",
    "if util.D_CONFIG not in miners[ m ].keys():\n",
    "    miners[ m ][ util.D_CONFIG ] = { util.DD_COLOR: color }\n",
    "elif util.DD_COLOR not in miners[ m ][ util.D_CONFIG ] or overwrite:\n",
    "    miners[ m ][ util.D_CONFIG ][ util.DD_COLOR ] = color\n",
    "\n",
    "# 1Hash\n",
    "m = \"1Hash\"\n",
    "color = '#CD919E'\n",
    "used_colors.append(color)\n",
    "#color = colors[\"pale pink\"]\n",
    "#used_colors.append(\"pale pink\")\n",
    "if util.D_CONFIG not in miners[ m ].keys():\n",
    "    miners[ m ][ util.D_CONFIG ] = { util.DD_COLOR: color }\n",
    "elif util.DD_COLOR not in miners[ m ][ util.D_CONFIG ] or overwrite:\n",
    "    miners[ m ][ util.D_CONFIG ][ util.DD_COLOR ] = color\n",
    "    \n",
    "# KnCMiner\n",
    "m = \"KnCMiner\"\n",
    "color = '#008B8B'\n",
    "used_colors.append(color)\n",
    "#color = colors[\"light brown\"]\n",
    "#used_colors.append(\"light brown\")\n",
    "if util.D_CONFIG not in miners[ m ].keys():\n",
    "    miners[ m ][ util.D_CONFIG ] = { util.DD_COLOR: color }\n",
    "elif util.DD_COLOR not in miners[ m ][ util.D_CONFIG ] or overwrite:\n",
    "    miners[ m ][ util.D_CONFIG ][ util.DD_COLOR ] = color\n",
    "    \n",
    "# CANOE\n",
    "m = \"CANOE\"\n",
    "color = '#556B2F'\n",
    "used_colors.append(color)\n",
    "#color = colors[\"light yellow\"]\n",
    "#used_colors.append(\"light yellow\")\n",
    "if util.D_CONFIG not in miners[ m ].keys():\n",
    "    miners[ m ][ util.D_CONFIG ] = { util.DD_COLOR: color }\n",
    "elif util.DD_COLOR not in miners[ m ][ util.D_CONFIG ] or overwrite:\n",
    "    miners[ m ][ util.D_CONFIG ][ util.DD_COLOR ] = color\n",
    "\n",
    "# GBMiners\n",
    "m = \"GBMiners\"\n",
    "color = '#8B4789'\n",
    "used_colors.append(color)\n",
    "#color = colors[\"ocean blue\"]\n",
    "#used_colors.append(\"ocean blue\")\n",
    "if util.D_CONFIG not in miners[ m ].keys():\n",
    "    miners[ m ][ util.D_CONFIG ] = { util.DD_COLOR: color }\n",
    "elif util.DD_COLOR not in miners[ m ][ util.D_CONFIG ] or overwrite:\n",
    "    miners[ m ][ util.D_CONFIG ][ util.DD_COLOR ] = color\n",
    "    \n",
    "# KanoPool\n",
    "m = \"KanoPool\"\n",
    "color = '#8B8B00'\n",
    "used_colors.append(color)\n",
    "#color = colors[\"pale orange\"]\n",
    "#used_colors.append(\"pale orange\")\n",
    "if util.D_CONFIG not in miners[ m ].keys():\n",
    "    miners[ m ][ util.D_CONFIG ] = { util.DD_COLOR: color }\n",
    "elif util.DD_COLOR not in miners[ m ][ util.D_CONFIG ] or overwrite:\n",
    "    miners[ m ][ util.D_CONFIG ][ util.DD_COLOR ] = color\n",
    "\n",
    "# xbtc.exx.com&bw.com\n",
    "m = \"xbtc.exx.com&bw.com\"\n",
    "color = '#EED5D2'\n",
    "used_colors.append(color)\n",
    "#color = colors[\"ice blue\"]\n",
    "#used_colors.append(\"ice blue\")\n",
    "if util.D_CONFIG not in miners[ m ].keys():\n",
    "    miners[ m ][ util.D_CONFIG ] = { util.DD_COLOR: color }\n",
    "elif util.DD_COLOR not in miners[ m ][ util.D_CONFIG ] or overwrite:\n",
    "    miners[ m ][ util.D_CONFIG ][ util.DD_COLOR ] = color\n",
    "    \n",
    "# Poolin\n",
    "m = \"Poolin\"\n",
    "color = '#CEA2FD'\n",
    "used_colors.append(color)\n",
    "#color = colors[\"ice blue\"]\n",
    "#used_colors.append(\"ice blue\")\n",
    "if util.D_CONFIG not in miners[ m ].keys():\n",
    "    miners[ m ][ util.D_CONFIG ] = { util.DD_COLOR: color }\n",
    "elif util.DD_COLOR not in miners[ m ][ util.D_CONFIG ] or overwrite:\n",
    "    miners[ m ][ util.D_CONFIG ][ util.DD_COLOR ] = color\n",
    "    "
   ]
  },
  {
   "cell_type": "code",
   "execution_count": 12,
   "metadata": {
    "ExecuteTime": {
     "end_time": "2019-06-17T14:12:56.124876Z",
     "start_time": "2019-06-17T14:12:56.114662Z"
    }
   },
   "outputs": [],
   "source": [
    "# Assign random color, if color is not set yet \n",
    "overwrite = False\n",
    "\n",
    "for m in miners:\n",
    "    color = None\n",
    "    while color is None:\n",
    "        pick_key = random.choice(list(colors.keys()))\n",
    "        if colors[ pick_key ] not in used_colors:\n",
    "            color = colors[ pick_key ]\n",
    "            used_colors.append( colors[ pick_key ] )\n",
    "    if util.D_CONFIG not in miners[ m ].keys() :\n",
    "        miners[ m ][ util.D_CONFIG ] = { util.DD_COLOR: color }\n",
    "    elif util.DD_COLOR not in miners[ m ][ util.D_CONFIG ] or overwrite:\n",
    "        miners[ m ][ util.D_CONFIG ][ util.DD_COLOR ] = color"
   ]
  },
  {
   "cell_type": "code",
   "execution_count": 13,
   "metadata": {
    "ExecuteTime": {
     "end_time": "2019-06-17T14:12:56.641618Z",
     "start_time": "2019-06-17T14:12:56.127898Z"
    }
   },
   "outputs": [],
   "source": [
    "# persist miners with colors in custom file \n",
    "#assert False\n",
    "with open(miners_custom_color_json_file, 'w') as fp:\n",
    "    json.dump(miners, fp)"
   ]
  },
  {
   "cell_type": "markdown",
   "metadata": {},
   "source": [
    "## Final miner attribution"
   ]
  },
  {
   "cell_type": "code",
   "execution_count": 14,
   "metadata": {
    "ExecuteTime": {
     "end_time": "2019-06-17T14:12:56.645626Z",
     "start_time": "2019-06-17T14:12:56.643590Z"
    }
   },
   "outputs": [],
   "source": [
    "# run over all blocks and:\n",
    "# * check for conflicts \n",
    "# * https://en.wikipedia.org/wiki/Fleiss'_kappa"
   ]
  },
  {
   "cell_type": "code",
   "execution_count": 15,
   "metadata": {
    "ExecuteTime": {
     "end_time": "2019-06-17T14:13:31.148030Z",
     "start_time": "2019-06-17T14:12:56.647360Z"
    }
   },
   "outputs": [],
   "source": [
    "blocks = dict()\n",
    "with open(blocks_attribution_json_file, 'r') as fp:\n",
    "    blocks = json.load(fp)"
   ]
  },
  {
   "cell_type": "code",
   "execution_count": 16,
   "metadata": {
    "ExecuteTime": {
     "end_time": "2019-06-17T14:13:36.380112Z",
     "start_time": "2019-06-17T14:13:31.150196Z"
    }
   },
   "outputs": [
    {
     "name": "stdout",
     "output_type": "stream",
     "text": [
      "Number of attributed blocks                : 377968\n",
      "Number of unknown blocks                   : 177570\n",
      "Number of conflicts                        :  863\n",
      "Percent of conflicts                       :  0.001551042415528397\n",
      "Number of blocks with more than one output :  28385\n",
      "Percent of blocks with more than one output:  0.05101545650611071\n"
     ]
    }
   ],
   "source": [
    "# Set verdict regarding miner\n",
    "block_conflicts = dict()\n",
    "\n",
    "i = 0\n",
    "j = 0\n",
    "mn = 0 \n",
    "multioutput_blocks = 0\n",
    "\n",
    "for blknum in blocks:\n",
    "    # remove previous verdict\n",
    "    blocks[ blknum ][ util.D_MINER ] = \"\"\n",
    "    blocks[ blknum ][ util.D_CONFLICTS ] = 0\n",
    "    \n",
    "    if len( blocks[ blknum ][ util.D_ADDRESSES ]) > 1:\n",
    "        multioutput_blocks += 1\n",
    "    \n",
    "    block_miners = set()\n",
    "    attr = list()\n",
    "    conflict = False\n",
    "    for a in blocks[ blknum ][ util.D_ATTRIBUTIONS ]:\n",
    "        if a == \"graphsense_tag\":\n",
    "            # ignore conflicts and output of graphsense_tag for this analysis\n",
    "            continue\n",
    "        attribution = blocks[ blknum ][ util.D_ATTRIBUTIONS ][ a ]\n",
    "        if len(block_miners) == 0:\n",
    "            block_miners.add( attribution[ util.DDD_MINER ] )\n",
    "            attr.append( a )\n",
    "        elif attribution[ util.DDD_MINER ] not in block_miners:\n",
    "            block_miners.add( attribution[ util.DDD_MINER ] )\n",
    "            attr.append( a )\n",
    "            conflict = True\n",
    "    if conflict:\n",
    "        # set block conflicting if conflict is not only with graphsense_tag\n",
    "        block_conflicts[ blknum ] = { \"miners\": list(block_miners) }\n",
    "        block_conflicts[ blknum ][ \"attributions\" ] = attr\n",
    "        \n",
    "        #if len(block_conflicts[ blknum ][ \"miners\"]) == 2 and \"graphsense_tag\" in block_conflicts[ blknum ][ \"attributions\" ]:\n",
    "            # conflict only with graphsense_tag therefore it is not really a conflict\n",
    "        #    for a in blocks[ blknum ][ util.D_ATTRIBUTIONS ]:\n",
    "        #        attribution = blocks[ blknum ][ util.D_ATTRIBUTIONS ][ a ]\n",
    "        #        if a != \"graphsense_tag\" and a != \"\":\n",
    "        #            blocks[ blknum ][ util.D_MINER ] = attribution[ util.DDD_MINER ] \n",
    "        #else:\n",
    "        blocks[ blknum ][ util.D_CONFLICTS ] = len(block_miners)\n",
    "        blocks[ blknum ][ util.D_MINER ] = \"conflict\"\n",
    "        j += 1\n",
    "    elif len(block_miners) == 1:\n",
    "        # set miner of block\n",
    "        block_miner = block_miners.pop()\n",
    "        if ( blocks[ blknum ][ util.D_MINER ] is not None and\n",
    "             blocks[ blknum ][ util.D_MINER ] != \"\" and\n",
    "             blocks[ blknum ][ util.D_MINER ] != block_miner ):\n",
    "            print(\"block_miner = \", block_miner, \" new = \",blocks[ blknum ][ util.D_MINER ])\n",
    "            raise\n",
    "        blocks[ blknum ][ util.D_MINER ] = block_miner\n",
    "        mn += 1\n",
    "    else:\n",
    "        # miner unknown, dont change\n",
    "        blocks[ blknum ][ util.D_MINER ] = \"unknown\"\n",
    "        i += 1\n",
    "\n",
    "print(\"Number of attributed blocks                :\",mn) # 336975 # 376570\n",
    "print(\"Number of unknown blocks                   :\", i) # 176850 # 179234\n",
    "print(\"Number of conflicts                        : \",j) # 416 # 597 # 602\n",
    "print(\"Percent of conflicts                       : \",j/current_blockheight)\n",
    "print(\"Number of blocks with more than one output : \",multioutput_blocks)\n",
    "print(\"Percent of blocks with more than one output: \",multioutput_blocks/current_blockheight)"
   ]
  },
  {
   "cell_type": "code",
   "execution_count": 17,
   "metadata": {
    "ExecuteTime": {
     "end_time": "2019-06-17T14:13:36.385616Z",
     "start_time": "2019-06-17T14:13:36.382159Z"
    }
   },
   "outputs": [
    {
     "data": {
      "text/plain": [
       "863"
      ]
     },
     "execution_count": 17,
     "metadata": {},
     "output_type": "execute_result"
    }
   ],
   "source": [
    "len(block_conflicts) # 416 # 597 # 602"
   ]
  },
  {
   "cell_type": "code",
   "execution_count": 18,
   "metadata": {
    "ExecuteTime": {
     "end_time": "2019-06-17T14:13:36.390237Z",
     "start_time": "2019-06-17T14:13:36.387305Z"
    }
   },
   "outputs": [
    {
     "name": "stdout",
     "output_type": "stream",
     "text": [
      "key   =  '487133'\n",
      "value = \n",
      "{   'attributions': ['blockchain_info_address', 'initial_addr'],\n",
      "    'miners': ['BTC.com', 'Waterhole']}\n"
     ]
    }
   ],
   "source": [
    "util.get_sample(block_conflicts,True,False)"
   ]
  },
  {
   "cell_type": "code",
   "execution_count": 19,
   "metadata": {
    "ExecuteTime": {
     "end_time": "2019-06-17T14:13:36.404357Z",
     "start_time": "2019-06-17T14:13:36.391913Z"
    }
   },
   "outputs": [
    {
     "name": "stdout",
     "output_type": "stream",
     "text": [
      "352403 {'miners': ['digitalBTC', 'digitalX Mintsy'], 'attributions': ['blockchain_info_address', 'btccom_blockchain_info_addr']}\n",
      "352794 {'miners': ['digitalBTC', 'digitalX Mintsy'], 'attributions': ['blockchain_info_address', 'btccom_blockchain_info_addr']}\n",
      "353187 {'miners': ['digitalBTC', 'digitalX Mintsy'], 'attributions': ['blockchain_info_address', 'btccom_blockchain_info_addr']}\n",
      "353428 {'miners': ['digitalBTC', 'digitalX Mintsy'], 'attributions': ['blockchain_info_address', 'btccom_blockchain_info_addr']}\n",
      "353490 {'miners': ['digitalBTC', 'digitalX Mintsy'], 'attributions': ['blockchain_info_address', 'btccom_blockchain_info_addr']}\n",
      "353527 {'miners': ['digitalBTC', 'digitalX Mintsy'], 'attributions': ['blockchain_info_address', 'btccom_blockchain_info_addr']}\n",
      "353571 {'miners': ['digitalBTC', 'digitalX Mintsy'], 'attributions': ['blockchain_info_address', 'btccom_blockchain_info_addr']}\n",
      "353643 {'miners': ['digitalBTC', 'digitalX Mintsy'], 'attributions': ['blockchain_info_address', 'btccom_blockchain_info_addr']}\n",
      "353757 {'miners': ['digitalBTC', 'digitalX Mintsy'], 'attributions': ['blockchain_info_address', 'btccom_blockchain_info_addr']}\n",
      "353802 {'miners': ['digitalBTC', 'digitalX Mintsy'], 'attributions': ['blockchain_info_address', 'btccom_blockchain_info_addr']}\n",
      "354008 {'miners': ['digitalBTC', 'digitalX Mintsy'], 'attributions': ['blockchain_info_address', 'btccom_blockchain_info_addr']}\n",
      "354097 {'miners': ['digitalBTC', 'digitalX Mintsy'], 'attributions': ['blockchain_info_address', 'btccom_blockchain_info_addr']}\n",
      "354215 {'miners': ['digitalBTC', 'digitalX Mintsy'], 'attributions': ['blockchain_info_address', 'btccom_blockchain_info_addr']}\n",
      "354257 {'miners': ['digitalBTC', 'digitalX Mintsy'], 'attributions': ['blockchain_info_address', 'btccom_blockchain_info_addr']}\n",
      "354270 {'miners': ['digitalBTC', 'digitalX Mintsy'], 'attributions': ['blockchain_info_address', 'btccom_blockchain_info_addr']}\n",
      "354357 {'miners': ['digitalBTC', 'digitalX Mintsy'], 'attributions': ['blockchain_info_address', 'btccom_blockchain_info_addr']}\n",
      "354374 {'miners': ['digitalBTC', 'digitalX Mintsy'], 'attributions': ['blockchain_info_address', 'btccom_blockchain_info_addr']}\n",
      "354434 {'miners': ['digitalBTC', 'digitalX Mintsy'], 'attributions': ['blockchain_info_address', 'btccom_blockchain_info_addr']}\n",
      "354538 {'miners': ['digitalBTC', 'digitalX Mintsy'], 'attributions': ['blockchain_info_address', 'btccom_blockchain_info_addr']}\n",
      "354600 {'miners': ['digitalBTC', 'digitalX Mintsy'], 'attributions': ['blockchain_info_address', 'btccom_blockchain_info_addr']}\n",
      "354646 {'miners': ['digitalBTC', 'digitalX Mintsy'], 'attributions': ['blockchain_info_address', 'btccom_blockchain_info_addr']}\n",
      "354662 {'miners': ['digitalBTC', 'digitalX Mintsy'], 'attributions': ['blockchain_info_address', 'btccom_blockchain_info_addr']}\n",
      "354743 {'miners': ['digitalBTC', 'digitalX Mintsy'], 'attributions': ['blockchain_info_address', 'btccom_blockchain_info_addr']}\n",
      "354750 {'miners': ['digitalBTC', 'digitalX Mintsy'], 'attributions': ['blockchain_info_address', 'btccom_blockchain_info_addr']}\n",
      "354940 {'miners': ['digitalBTC', 'digitalX Mintsy'], 'attributions': ['blockchain_info_address', 'btccom_blockchain_info_addr']}\n",
      "355086 {'miners': ['digitalBTC', 'digitalX Mintsy'], 'attributions': ['blockchain_info_address', 'btccom_blockchain_info_addr']}\n",
      "355135 {'miners': ['digitalBTC', 'digitalX Mintsy'], 'attributions': ['blockchain_info_address', 'btccom_blockchain_info_addr']}\n",
      "355155 {'miners': ['digitalBTC', 'digitalX Mintsy'], 'attributions': ['blockchain_info_address', 'btccom_blockchain_info_addr']}\n",
      "355248 {'miners': ['digitalBTC', 'digitalX Mintsy'], 'attributions': ['blockchain_info_address', 'btccom_blockchain_info_addr']}\n",
      "355254 {'miners': ['digitalBTC', 'digitalX Mintsy'], 'attributions': ['blockchain_info_address', 'btccom_blockchain_info_addr']}\n",
      "355305 {'miners': ['digitalBTC', 'digitalX Mintsy'], 'attributions': ['blockchain_info_address', 'btccom_blockchain_info_addr']}\n",
      "355350 {'miners': ['digitalBTC', 'digitalX Mintsy'], 'attributions': ['blockchain_info_address', 'btccom_blockchain_info_addr']}\n",
      "355360 {'miners': ['digitalBTC', 'digitalX Mintsy'], 'attributions': ['blockchain_info_address', 'btccom_blockchain_info_addr']}\n",
      "355423 {'miners': ['digitalBTC', 'digitalX Mintsy'], 'attributions': ['blockchain_info_address', 'btccom_blockchain_info_addr']}\n",
      "355518 {'miners': ['digitalBTC', 'digitalX Mintsy'], 'attributions': ['blockchain_info_address', 'btccom_blockchain_info_addr']}\n",
      "355695 {'miners': ['digitalBTC', 'digitalX Mintsy'], 'attributions': ['blockchain_info_address', 'btccom_blockchain_info_addr']}\n",
      "355729 {'miners': ['digitalBTC', 'digitalX Mintsy'], 'attributions': ['blockchain_info_address', 'btccom_blockchain_info_addr']}\n",
      "355807 {'miners': ['digitalBTC', 'digitalX Mintsy'], 'attributions': ['blockchain_info_address', 'btccom_blockchain_info_addr']}\n",
      "356016 {'miners': ['digitalBTC', 'digitalX Mintsy'], 'attributions': ['blockchain_info_address', 'btccom_blockchain_info_addr']}\n",
      "356094 {'miners': ['digitalBTC', 'digitalX Mintsy'], 'attributions': ['blockchain_info_address', 'btccom_blockchain_info_addr']}\n",
      "356191 {'miners': ['digitalBTC', 'digitalX Mintsy'], 'attributions': ['blockchain_info_address', 'btccom_blockchain_info_addr']}\n",
      "356208 {'miners': ['digitalBTC', 'digitalX Mintsy'], 'attributions': ['blockchain_info_address', 'btccom_blockchain_info_addr']}\n",
      "356537 {'miners': ['digitalBTC', 'digitalX Mintsy'], 'attributions': ['blockchain_info_address', 'btccom_blockchain_info_addr']}\n",
      "356540 {'miners': ['digitalBTC', 'digitalX Mintsy'], 'attributions': ['blockchain_info_address', 'btccom_blockchain_info_addr']}\n",
      "356547 {'miners': ['digitalBTC', 'digitalX Mintsy'], 'attributions': ['blockchain_info_address', 'btccom_blockchain_info_addr']}\n",
      "356564 {'miners': ['digitalBTC', 'digitalX Mintsy'], 'attributions': ['blockchain_info_address', 'btccom_blockchain_info_addr']}\n",
      "356571 {'miners': ['digitalBTC', 'digitalX Mintsy'], 'attributions': ['blockchain_info_address', 'btccom_blockchain_info_addr']}\n",
      "356817 {'miners': ['digitalBTC', 'digitalX Mintsy'], 'attributions': ['blockchain_info_address', 'btccom_blockchain_info_addr']}\n",
      "356824 {'miners': ['digitalBTC', 'digitalX Mintsy'], 'attributions': ['blockchain_info_address', 'btccom_blockchain_info_addr']}\n",
      "356953 {'miners': ['digitalBTC', 'digitalX Mintsy'], 'attributions': ['blockchain_info_address', 'btccom_blockchain_info_addr']}\n",
      "357181 {'miners': ['digitalBTC', 'digitalX Mintsy'], 'attributions': ['blockchain_info_address', 'btccom_blockchain_info_addr']}\n",
      "357329 {'miners': ['digitalBTC', 'digitalX Mintsy'], 'attributions': ['blockchain_info_address', 'btccom_blockchain_info_addr']}\n",
      "357378 {'miners': ['digitalBTC', 'digitalX Mintsy'], 'attributions': ['blockchain_info_address', 'btccom_blockchain_info_addr']}\n",
      "357481 {'miners': ['digitalBTC', 'digitalX Mintsy'], 'attributions': ['blockchain_info_address', 'btccom_blockchain_info_addr']}\n",
      "357571 {'miners': ['digitalBTC', 'digitalX Mintsy'], 'attributions': ['blockchain_info_address', 'btccom_blockchain_info_addr']}\n",
      "357632 {'miners': ['digitalBTC', 'digitalX Mintsy'], 'attributions': ['blockchain_info_address', 'btccom_blockchain_info_addr']}\n",
      "357659 {'miners': ['digitalBTC', 'digitalX Mintsy'], 'attributions': ['blockchain_info_address', 'btccom_blockchain_info_addr']}\n",
      "357712 {'miners': ['digitalBTC', 'digitalX Mintsy'], 'attributions': ['blockchain_info_address', 'btccom_blockchain_info_addr']}\n",
      "357783 {'miners': ['digitalBTC', 'digitalX Mintsy'], 'attributions': ['blockchain_info_address', 'btccom_blockchain_info_addr']}\n",
      "357914 {'miners': ['digitalBTC', 'digitalX Mintsy'], 'attributions': ['blockchain_info_address', 'btccom_blockchain_info_addr']}\n",
      "357998 {'miners': ['digitalBTC', 'digitalX Mintsy'], 'attributions': ['blockchain_info_address', 'btccom_blockchain_info_addr']}\n",
      "358003 {'miners': ['digitalBTC', 'digitalX Mintsy'], 'attributions': ['blockchain_info_address', 'btccom_blockchain_info_addr']}\n",
      "358066 {'miners': ['digitalBTC', 'digitalX Mintsy'], 'attributions': ['blockchain_info_address', 'btccom_blockchain_info_addr']}\n",
      "358191 {'miners': ['digitalBTC', 'digitalX Mintsy'], 'attributions': ['blockchain_info_address', 'btccom_blockchain_info_addr']}\n",
      "358478 {'miners': ['digitalBTC', 'digitalX Mintsy'], 'attributions': ['blockchain_info_address', 'btccom_blockchain_info_addr']}\n",
      "358630 {'miners': ['digitalBTC', 'digitalX Mintsy'], 'attributions': ['blockchain_info_address', 'btccom_blockchain_info_addr']}\n",
      "358822 {'miners': ['digitalBTC', 'digitalX Mintsy'], 'attributions': ['blockchain_info_address', 'btccom_blockchain_info_addr']}\n",
      "358866 {'miners': ['digitalBTC', 'digitalX Mintsy'], 'attributions': ['blockchain_info_address', 'btccom_blockchain_info_addr']}\n",
      "358986 {'miners': ['digitalBTC', 'digitalX Mintsy'], 'attributions': ['blockchain_info_address', 'btccom_blockchain_info_addr']}\n",
      "359202 {'miners': ['digitalBTC', 'digitalX Mintsy'], 'attributions': ['blockchain_info_address', 'btccom_blockchain_info_addr']}\n",
      "359239 {'miners': ['digitalBTC', 'digitalX Mintsy'], 'attributions': ['blockchain_info_address', 'btccom_blockchain_info_addr']}\n",
      "359303 {'miners': ['digitalBTC', 'digitalX Mintsy'], 'attributions': ['blockchain_info_address', 'btccom_blockchain_info_addr']}\n",
      "359401 {'miners': ['digitalBTC', 'digitalX Mintsy'], 'attributions': ['blockchain_info_address', 'btccom_blockchain_info_addr']}\n",
      "359582 {'miners': ['digitalBTC', 'digitalX Mintsy'], 'attributions': ['blockchain_info_address', 'btccom_blockchain_info_addr']}\n",
      "359672 {'miners': ['digitalBTC', 'digitalX Mintsy'], 'attributions': ['blockchain_info_address', 'btccom_blockchain_info_addr']}\n",
      "359965 {'miners': ['digitalBTC', 'digitalX Mintsy'], 'attributions': ['blockchain_info_address', 'btccom_blockchain_info_addr']}\n",
      "359982 {'miners': ['digitalBTC', 'digitalX Mintsy'], 'attributions': ['blockchain_info_address', 'btccom_blockchain_info_addr']}\n",
      "359993 {'miners': ['digitalBTC', 'digitalX Mintsy'], 'attributions': ['blockchain_info_address', 'btccom_blockchain_info_addr']}\n",
      "360109 {'miners': ['digitalBTC', 'digitalX Mintsy'], 'attributions': ['blockchain_info_address', 'btccom_blockchain_info_addr']}\n",
      "360194 {'miners': ['digitalBTC', 'digitalX Mintsy'], 'attributions': ['blockchain_info_address', 'btccom_blockchain_info_addr']}\n",
      "360298 {'miners': ['digitalBTC', 'digitalX Mintsy'], 'attributions': ['blockchain_info_address', 'btccom_blockchain_info_addr']}\n",
      "360406 {'miners': ['digitalBTC', 'digitalX Mintsy'], 'attributions': ['blockchain_info_address', 'btccom_blockchain_info_addr']}\n",
      "360600 {'miners': ['digitalBTC', 'digitalX Mintsy'], 'attributions': ['blockchain_info_address', 'btccom_blockchain_info_addr']}\n",
      "360721 {'miners': ['digitalBTC', 'digitalX Mintsy'], 'attributions': ['blockchain_info_address', 'btccom_blockchain_info_addr']}\n",
      "360741 {'miners': ['digitalBTC', 'digitalX Mintsy'], 'attributions': ['blockchain_info_address', 'btccom_blockchain_info_addr']}\n",
      "360789 {'miners': ['digitalBTC', 'digitalX Mintsy'], 'attributions': ['blockchain_info_address', 'btccom_blockchain_info_addr']}\n",
      "360796 {'miners': ['digitalBTC', 'digitalX Mintsy'], 'attributions': ['blockchain_info_address', 'btccom_blockchain_info_addr']}\n",
      "360915 {'miners': ['digitalBTC', 'digitalX Mintsy'], 'attributions': ['blockchain_info_address', 'btccom_blockchain_info_addr']}\n",
      "360939 {'miners': ['digitalBTC', 'digitalX Mintsy'], 'attributions': ['blockchain_info_address', 'btccom_blockchain_info_addr']}\n",
      "360986 {'miners': ['digitalBTC', 'digitalX Mintsy'], 'attributions': ['blockchain_info_address', 'btccom_blockchain_info_addr']}\n",
      "361268 {'miners': ['digitalBTC', 'digitalX Mintsy'], 'attributions': ['blockchain_info_address', 'btccom_blockchain_info_addr']}\n",
      "361269 {'miners': ['digitalBTC', 'digitalX Mintsy'], 'attributions': ['blockchain_info_address', 'btccom_blockchain_info_addr']}\n",
      "361442 {'miners': ['digitalBTC', 'digitalX Mintsy'], 'attributions': ['blockchain_info_address', 'btccom_blockchain_info_addr']}\n",
      "361528 {'miners': ['digitalBTC', 'digitalX Mintsy'], 'attributions': ['blockchain_info_address', 'btccom_blockchain_info_addr']}\n",
      "361607 {'miners': ['digitalBTC', 'digitalX Mintsy'], 'attributions': ['blockchain_info_address', 'btccom_blockchain_info_addr']}\n",
      "361626 {'miners': ['digitalBTC', 'digitalX Mintsy'], 'attributions': ['blockchain_info_address', 'btccom_blockchain_info_addr']}\n",
      "361714 {'miners': ['digitalBTC', 'digitalX Mintsy'], 'attributions': ['blockchain_info_address', 'btccom_blockchain_info_addr']}\n",
      "361834 {'miners': ['digitalBTC', 'digitalX Mintsy'], 'attributions': ['blockchain_info_address', 'btccom_blockchain_info_addr']}\n",
      "361916 {'miners': ['digitalBTC', 'digitalX Mintsy'], 'attributions': ['blockchain_info_address', 'btccom_blockchain_info_addr']}\n",
      "361930 {'miners': ['digitalBTC', 'digitalX Mintsy'], 'attributions': ['blockchain_info_address', 'btccom_blockchain_info_addr']}\n",
      "362025 {'miners': ['digitalBTC', 'digitalX Mintsy'], 'attributions': ['blockchain_info_address', 'btccom_blockchain_info_addr']}\n",
      "362073 {'miners': ['digitalBTC', 'digitalX Mintsy'], 'attributions': ['blockchain_info_address', 'btccom_blockchain_info_addr']}\n",
      "362215 {'miners': ['digitalBTC', 'digitalX Mintsy'], 'attributions': ['blockchain_info_address', 'btccom_blockchain_info_addr']}\n",
      "362444 {'miners': ['digitalBTC', 'digitalX Mintsy'], 'attributions': ['blockchain_info_address', 'btccom_blockchain_info_addr']}\n",
      "362594 {'miners': ['digitalBTC', 'digitalX Mintsy'], 'attributions': ['blockchain_info_address', 'btccom_blockchain_info_addr']}\n",
      "362992 {'miners': ['digitalBTC', 'digitalX Mintsy'], 'attributions': ['blockchain_info_address', 'btccom_blockchain_info_addr']}\n",
      "363162 {'miners': ['digitalBTC', 'digitalX Mintsy'], 'attributions': ['blockchain_info_address', 'btccom_blockchain_info_addr']}\n",
      "363243 {'miners': ['digitalBTC', 'digitalX Mintsy'], 'attributions': ['blockchain_info_address', 'btccom_blockchain_info_addr']}\n",
      "363570 {'miners': ['digitalBTC', 'digitalX Mintsy'], 'attributions': ['blockchain_info_address', 'btccom_blockchain_info_addr']}\n",
      "363613 {'miners': ['digitalBTC', 'digitalX Mintsy'], 'attributions': ['blockchain_info_address', 'btccom_blockchain_info_addr']}\n",
      "364115 {'miners': ['digitalBTC', 'digitalX Mintsy'], 'attributions': ['blockchain_info_address', 'btccom_blockchain_info_addr']}\n",
      "364169 {'miners': ['digitalBTC', 'digitalX Mintsy'], 'attributions': ['blockchain_info_address', 'btccom_blockchain_info_addr']}\n",
      "364290 {'miners': ['digitalBTC', 'digitalX Mintsy'], 'attributions': ['blockchain_info_address', 'btccom_blockchain_info_addr']}\n",
      "365213 {'miners': ['digitalBTC', 'digitalX Mintsy'], 'attributions': ['blockchain_info_address', 'btccom_blockchain_info_addr']}\n",
      "367741 {'miners': ['digitalBTC', 'digitalX Mintsy'], 'attributions': ['blockchain_info_address', 'btccom_blockchain_info_addr']}\n",
      "368065 {'miners': ['digitalBTC', 'digitalX Mintsy'], 'attributions': ['blockchain_info_address', 'btccom_blockchain_info_addr']}\n",
      "482886 {'miners': ['F2Pool', 'BTCC Pool'], 'attributions': ['blockchain_info_address', 'blocktrail_com']}\n",
      "524045 {'miners': ['BitcoinRussia', 'Bitcoin-Ukraine'], 'attributions': ['blockchain_info_address_update', 'btccom_marker']}\n",
      "BTC.TOP/CANOE =  338\n",
      "Bixin/TangPool =  142\n",
      "BTC.TOP/WAYI.CN =  81\n",
      "BTC.com/Waterhole =  113\n",
      "Yourbtc.net/OzCoin =  66\n",
      "IiaBTC/Okminer =  5\n"
     ]
    },
    {
     "data": {
      "text/plain": [
       "745"
      ]
     },
     "execution_count": 19,
     "metadata": {},
     "output_type": "execute_result"
    }
   ],
   "source": [
    "btc_top_canoe = 0\n",
    "bixin_tangpool = 0 \n",
    "btc_top_wayi_cn = 0\n",
    "btc_com_waterhole = 0\n",
    "yourbtc_net_ozcoin = 0\n",
    "viabtc_okminer = 0\n",
    "\n",
    "for cid in block_conflicts:\n",
    "    c = block_conflicts[cid]\n",
    "    if 'BTC.TOP' in c['miners'] and 'CANOE' in c['miners']:\n",
    "            btc_top_canoe += 1\n",
    "    elif 'Bixin' in c['miners'] and 'TangPool' in c['miners']:\n",
    "            bixin_tangpool += 1\n",
    "    elif 'BTC.TOP' in c['miners'] and 'WAYI.CN' in c['miners']:\n",
    "            btc_top_wayi_cn += 1\n",
    "    elif 'BTC.com' in c['miners'] and 'Waterhole' in c['miners']:\n",
    "            btc_com_waterhole += 1\n",
    "    elif 'Yourbtc.net' in c['miners'] and 'OzCoin' in c['miners']:\n",
    "            yourbtc_net_ozcoin += 1\n",
    "    elif 'ViaBTC' in c['miners'] and 'okminer' in c['miners']:\n",
    "            viabtc_okminer += 1 \n",
    "    else:\n",
    "        print(cid,c)\n",
    "\n",
    "print(\"BTC.TOP/CANOE = \",btc_top_canoe)\n",
    "print(\"Bixin/TangPool = \",bixin_tangpool)\n",
    "print(\"BTC.TOP/WAYI.CN = \",btc_top_wayi_cn)\n",
    "print(\"BTC.com/Waterhole = \",btc_com_waterhole)\n",
    "print(\"Yourbtc.net/OzCoin = \",yourbtc_net_ozcoin)\n",
    "print(\"IiaBTC/Okminer = \",viabtc_okminer)\n",
    "btc_top_canoe + bixin_tangpool + btc_top_wayi_cn + btc_com_waterhole + yourbtc_net_ozcoin + viabtc_okminer"
   ]
  },
  {
   "cell_type": "code",
   "execution_count": 20,
   "metadata": {
    "ExecuteTime": {
     "end_time": "2019-06-17T14:13:36.412279Z",
     "start_time": "2019-06-17T14:13:36.406023Z"
    }
   },
   "outputs": [
    {
     "data": {
      "text/plain": [
       "{'time': 1504226367,\n",
       " 'cb': '03465e07052f4e59412f2cfabe6d6df801e68c34d508a0f3d675e104e36cc4cf7230b15b563f0dbed8ffaff0dcafb104000000f09f909f104d696e656420627920736d636274636300000000000000000000000000000000000000000000000000000000',\n",
       " 'addresses': ['1KFHE7w8BhaENAswwryaoccDb6qcT6DbYY'],\n",
       " 'miner': 'conflict',\n",
       " 'conflicts': 2,\n",
       " 'attribution': '',\n",
       " 'attributions': {'blockchain_info_address': {'miner': 'F2Pool',\n",
       "   'matches': [{'addr_match': '1KFHE7w8BhaENAswwryaoccDb6qcT6DbYY'}],\n",
       "   'src': 'blockchain.info'},\n",
       "  'blockchain_info': {'miner': 'F2Pool',\n",
       "   'matches': [{'addr_match': '1KFHE7w8BhaENAswwryaoccDb6qcT6DbYY'}],\n",
       "   'src': 'blockchain.info'},\n",
       "  'blockchain_info_address_update': {'miner': 'F2Pool',\n",
       "   'matches': [{'addr_match': '1KFHE7w8BhaENAswwryaoccDb6qcT6DbYY'}],\n",
       "   'src': 'blockchain.info'},\n",
       "  'blockchain_info_update': {'miner': 'F2Pool',\n",
       "   'matches': [{'addr_match': '1KFHE7w8BhaENAswwryaoccDb6qcT6DbYY'}],\n",
       "   'src': 'blockchain.info'},\n",
       "  'btccom_address': {'miner': 'F2Pool',\n",
       "   'matches': [{'addr_match': '1KFHE7w8BhaENAswwryaoccDb6qcT6DbYY'}],\n",
       "   'src': 'btccom'},\n",
       "  'btccom': {'miner': 'F2Pool',\n",
       "   'matches': [{'addr_match': '1KFHE7w8BhaENAswwryaoccDb6qcT6DbYY'}],\n",
       "   'src': 'btccom'},\n",
       "  'btccom_address_update': {'miner': 'F2Pool',\n",
       "   'matches': [{'addr_match': '1KFHE7w8BhaENAswwryaoccDb6qcT6DbYY'}],\n",
       "   'src': 'btccom'},\n",
       "  'btccom_update': {'miner': 'F2Pool',\n",
       "   'matches': [{'addr_match': '1KFHE7w8BhaENAswwryaoccDb6qcT6DbYY'}],\n",
       "   'src': 'btccom'},\n",
       "  'btccom_blockchain_info_addr': {'miner': 'F2Pool',\n",
       "   'matches': [{'addr_match': '1KFHE7w8BhaENAswwryaoccDb6qcT6DbYY'}],\n",
       "   'src': 'attribution based on btccom and blockchain.info sources'},\n",
       "  'btccom_blockchain_info': {'miner': 'F2Pool',\n",
       "   'matches': [{'addr_match': '1KFHE7w8BhaENAswwryaoccDb6qcT6DbYY'}],\n",
       "   'src': 'attribution based on btccom and blockchain.info sources'},\n",
       "  'btccom_blockchain_info_addr_update': {'miner': 'F2Pool',\n",
       "   'matches': [{'addr_match': '1KFHE7w8BhaENAswwryaoccDb6qcT6DbYY'}],\n",
       "   'src': 'attribution based on btccom and blockchain.info sources'},\n",
       "  'btccom_blockchain_info_update': {'miner': 'F2Pool',\n",
       "   'matches': [{'addr_match': '1KFHE7w8BhaENAswwryaoccDb6qcT6DbYY'}],\n",
       "   'src': 'attribution based on btccom and blockchain.info sources'},\n",
       "  'initial_addr': {'miner': 'F2Pool',\n",
       "   'matches': [{'addr_match': '1KFHE7w8BhaENAswwryaoccDb6qcT6DbYY'}],\n",
       "   'src': 'initial attribution based on all sources'},\n",
       "  'initial': {'miner': 'F2Pool',\n",
       "   'matches': [{'addr_match': '1KFHE7w8BhaENAswwryaoccDb6qcT6DbYY'}],\n",
       "   'src': 'initial attribution based on all sources'},\n",
       "  'initial_addr_update': {'miner': 'F2Pool',\n",
       "   'matches': [{'addr_match': '1KFHE7w8BhaENAswwryaoccDb6qcT6DbYY'}],\n",
       "   'src': 'initial attribution based on all sources including update'},\n",
       "  'initial_update': {'miner': 'F2Pool',\n",
       "   'matches': [{'addr_match': '1KFHE7w8BhaENAswwryaoccDb6qcT6DbYY'}],\n",
       "   'src': 'initial attribution based on all sources including update'},\n",
       "  'blocktrail_com': {'miner': 'BTCC Pool', 'src': 'blocktrail.com'},\n",
       "  'custom_addr': {'miner': 'F2Pool',\n",
       "   'matches': [{'addr_match': '1KFHE7w8BhaENAswwryaoccDb6qcT6DbYY'}],\n",
       "   'src': 'custom'},\n",
       "  'custom_marker': {'miner': 'F2Pool',\n",
       "   'matches': [{'cb_match': '🐟'}],\n",
       "   'src': 'custom'},\n",
       "  'custom': {'miner': 'F2Pool',\n",
       "   'matches': [{'cb_match': '🐟'},\n",
       "    {'addr_match': '1KFHE7w8BhaENAswwryaoccDb6qcT6DbYY'}],\n",
       "   'src': 'custom'},\n",
       "  'graphsense_tag': {'miner': 'Polmine',\n",
       "   'cluster': 243741486,\n",
       "   'src': 'graphsense'}},\n",
       " 'hash': '0000000000000000012026d56cb9251a5a78092c7981bd895ede8979e3661dc4',\n",
       " 'phash': None,\n",
       " 'payout': '1682192816'}"
      ]
     },
     "execution_count": 20,
     "metadata": {},
     "output_type": "execute_result"
    }
   ],
   "source": [
    "blocks[\"482886\"]"
   ]
  },
  {
   "cell_type": "code",
   "execution_count": 21,
   "metadata": {
    "ExecuteTime": {
     "end_time": "2019-06-17T14:13:36.419047Z",
     "start_time": "2019-06-17T14:13:36.413993Z"
    }
   },
   "outputs": [
    {
     "data": {
      "text/plain": [
       "{'time': 1430024584,\n",
       " 'cb': '03dd6505062f503253482f047c713c5508fabe6d6d00009582bc1f01000000002f6d75746172745365646f6e2f0dd38a2f05e3ffff010000000000000077ffffe5053d8c490d2f6e6f64655374726174756d2f',\n",
       " 'addresses': ['1NY15MK947MLzmPUa2gL7UgyR8prLh2xfu'],\n",
       " 'miner': 'conflict',\n",
       " 'conflicts': 2,\n",
       " 'attribution': '',\n",
       " 'attributions': {'blockchain_info_address': {'miner': 'digitalBTC',\n",
       "   'matches': [{'addr_match': '1NY15MK947MLzmPUa2gL7UgyR8prLh2xfu'}],\n",
       "   'src': 'blockchain.info'},\n",
       "  'blockchain_info': {'miner': 'digitalBTC',\n",
       "   'matches': [{'addr_match': '1NY15MK947MLzmPUa2gL7UgyR8prLh2xfu'}],\n",
       "   'src': 'blockchain.info'},\n",
       "  'blockchain_info_address_update': {'miner': 'digitalBTC',\n",
       "   'matches': [{'addr_match': '1NY15MK947MLzmPUa2gL7UgyR8prLh2xfu'}],\n",
       "   'src': 'blockchain.info'},\n",
       "  'blockchain_info_update': {'miner': 'digitalBTC',\n",
       "   'matches': [{'addr_match': '1NY15MK947MLzmPUa2gL7UgyR8prLh2xfu'}],\n",
       "   'src': 'blockchain.info'},\n",
       "  'btccom_address': {'miner': 'digitalBTC',\n",
       "   'matches': [{'addr_match': '1NY15MK947MLzmPUa2gL7UgyR8prLh2xfu'}],\n",
       "   'src': 'btccom'},\n",
       "  'btccom': {'miner': 'digitalBTC',\n",
       "   'matches': [{'addr_match': '1NY15MK947MLzmPUa2gL7UgyR8prLh2xfu'}],\n",
       "   'src': 'btccom'},\n",
       "  'btccom_address_update': {'miner': 'digitalBTC',\n",
       "   'matches': [{'addr_match': '1NY15MK947MLzmPUa2gL7UgyR8prLh2xfu'}],\n",
       "   'src': 'btccom'},\n",
       "  'btccom_update': {'miner': 'digitalBTC',\n",
       "   'matches': [{'addr_match': '1NY15MK947MLzmPUa2gL7UgyR8prLh2xfu'}],\n",
       "   'src': 'btccom'},\n",
       "  'btccom_blockchain_info_addr': {'miner': 'digitalX Mintsy',\n",
       "   'matches': [{'addr_match': '1NY15MK947MLzmPUa2gL7UgyR8prLh2xfu'}],\n",
       "   'src': 'attribution based on btccom and blockchain.info sources'},\n",
       "  'btccom_blockchain_info': {'miner': 'digitalX Mintsy',\n",
       "   'matches': [{'addr_match': '1NY15MK947MLzmPUa2gL7UgyR8prLh2xfu'}],\n",
       "   'src': 'attribution based on btccom and blockchain.info sources'},\n",
       "  'btccom_blockchain_info_addr_update': {'miner': 'digitalX Mintsy',\n",
       "   'matches': [{'addr_match': '1NY15MK947MLzmPUa2gL7UgyR8prLh2xfu'}],\n",
       "   'src': 'attribution based on btccom and blockchain.info sources'},\n",
       "  'btccom_blockchain_info_update': {'miner': 'digitalX Mintsy',\n",
       "   'matches': [{'addr_match': '1NY15MK947MLzmPUa2gL7UgyR8prLh2xfu'}],\n",
       "   'src': 'attribution based on btccom and blockchain.info sources'},\n",
       "  'initial_addr': {'miner': 'digitalBTC',\n",
       "   'matches': [{'addr_match': '1NY15MK947MLzmPUa2gL7UgyR8prLh2xfu'}],\n",
       "   'src': 'initial attribution based on all sources'},\n",
       "  'initial': {'miner': 'digitalBTC',\n",
       "   'matches': [{'addr_match': '1NY15MK947MLzmPUa2gL7UgyR8prLh2xfu'}],\n",
       "   'src': 'initial attribution based on all sources'},\n",
       "  'initial_addr_update': {'miner': 'digitalBTC',\n",
       "   'matches': [{'addr_match': '1NY15MK947MLzmPUa2gL7UgyR8prLh2xfu'}],\n",
       "   'src': 'initial attribution based on all sources including update'},\n",
       "  'initial_update': {'miner': 'digitalBTC',\n",
       "   'matches': [{'addr_match': '1NY15MK947MLzmPUa2gL7UgyR8prLh2xfu'}],\n",
       "   'src': 'initial attribution based on all sources including update'},\n",
       "  'blocktrail_com': {'miner': 'digitalBTC', 'src': 'blocktrail.com'},\n",
       "  'custom_addr': {'miner': 'digitalBTC',\n",
       "   'matches': [{'addr_match': '1NY15MK947MLzmPUa2gL7UgyR8prLh2xfu'}],\n",
       "   'src': 'custom'},\n",
       "  'custom': {'miner': 'digitalBTC',\n",
       "   'matches': [{'addr_match': '1NY15MK947MLzmPUa2gL7UgyR8prLh2xfu'}],\n",
       "   'src': 'custom'},\n",
       "  'graphsense_tag': {'miner': 'digitalBTC',\n",
       "   'cluster': 72061801,\n",
       "   'src': 'graphsense'}},\n",
       " 'hash': '00000000000000000e6ed6f2db8296aab547670f4cf23847fec76161723efc46',\n",
       " 'phash': None,\n",
       " 'payout': '2508856624'}"
      ]
     },
     "execution_count": 21,
     "metadata": {},
     "output_type": "execute_result"
    }
   ],
   "source": [
    "blocks[\"353757\"]"
   ]
  },
  {
   "cell_type": "code",
   "execution_count": 22,
   "metadata": {
    "ExecuteTime": {
     "end_time": "2019-06-17T14:13:36.426085Z",
     "start_time": "2019-06-17T14:13:36.421342Z"
    }
   },
   "outputs": [
    {
     "data": {
      "text/plain": [
       "{'time': 1516837968,\n",
       " 'cb': '0363b80741d69a471513b5b941d69a471414620e2f63616e6f65706f6f6c2fba0065cf7997010000000000',\n",
       " 'addresses': ['147SwRQdpCfj5p8PnfsXV2SsVVpVcz3aPq'],\n",
       " 'miner': 'conflict',\n",
       " 'conflicts': 2,\n",
       " 'attribution': '',\n",
       " 'attributions': {'blockchain_info_address_update': {'miner': 'BTC.TOP',\n",
       "   'matches': [{'addr_match': '147SwRQdpCfj5p8PnfsXV2SsVVpVcz3aPq'}],\n",
       "   'src': 'blockchain.info'},\n",
       "  'blockchain_info_update': {'miner': 'BTC.TOP',\n",
       "   'matches': [{'addr_match': '147SwRQdpCfj5p8PnfsXV2SsVVpVcz3aPq'}],\n",
       "   'src': 'blockchain.info'},\n",
       "  'btccom_marker': {'miner': 'CANOE',\n",
       "   'matches': [{'cb_match': '/canoepool/'}],\n",
       "   'src': 'btccom'},\n",
       "  'btccom': {'miner': 'CANOE',\n",
       "   'matches': [{'cb_match': '/canoepool/'}],\n",
       "   'src': 'btccom'},\n",
       "  'btccom_address_update': {'miner': 'BTC.TOP',\n",
       "   'matches': [{'addr_match': '147SwRQdpCfj5p8PnfsXV2SsVVpVcz3aPq'}],\n",
       "   'src': 'btccom'},\n",
       "  'btccom_marker_update': {'miner': 'CANOE',\n",
       "   'matches': [{'cb_match': '/canoepool/'}],\n",
       "   'src': 'btccom'},\n",
       "  'btccom_blockchain_info_marker': {'miner': 'CANOE',\n",
       "   'matches': [{'cb_match': '/canoepool/'}],\n",
       "   'src': 'attribution based on btccom and blockchain.info sources'},\n",
       "  'btccom_blockchain_info': {'miner': 'CANOE',\n",
       "   'matches': [{'cb_match': '/canoepool/'}],\n",
       "   'src': 'attribution based on btccom and blockchain.info sources'},\n",
       "  'btccom_blockchain_info_addr_update': {'miner': 'BTC.TOP',\n",
       "   'matches': [{'addr_match': '147SwRQdpCfj5p8PnfsXV2SsVVpVcz3aPq'}],\n",
       "   'src': 'attribution based on btccom and blockchain.info sources'},\n",
       "  'btccom_blockchain_info_update': {'miner': 'CANOE',\n",
       "   'matches': [{'cb_match': '/canoepool/'}],\n",
       "   'src': 'attribution based on btccom and blockchain.info sources'},\n",
       "  'initial_addr': {'miner': 'BTC.TOP',\n",
       "   'matches': [{'addr_match': '147SwRQdpCfj5p8PnfsXV2SsVVpVcz3aPq'}],\n",
       "   'src': 'initial attribution based on all sources'},\n",
       "  'initial_addr1': {'miner': 'CANOE',\n",
       "   'matches': [{'addr_match': '147SwRQdpCfj5p8PnfsXV2SsVVpVcz3aPq'}],\n",
       "   'src': 'initial attribution based on all sources'},\n",
       "  'initial_marker': {'miner': 'CANOE',\n",
       "   'matches': [{'cb_match': '/canoepool/'}],\n",
       "   'src': 'initial attribution based on all sources'},\n",
       "  'initial_addr_update': {'miner': 'BTC.TOP',\n",
       "   'matches': [{'addr_match': '147SwRQdpCfj5p8PnfsXV2SsVVpVcz3aPq'}],\n",
       "   'src': 'initial attribution based on all sources including update'},\n",
       "  'initial_addr_update1': {'miner': 'CANOE',\n",
       "   'matches': [{'addr_match': '147SwRQdpCfj5p8PnfsXV2SsVVpVcz3aPq'}],\n",
       "   'src': 'initial attribution based on all sources including update'},\n",
       "  'initial_marker_update': {'miner': 'CANOE',\n",
       "   'matches': [{'cb_match': '/canoepool/'}],\n",
       "   'src': 'initial attribution based on all sources including update'},\n",
       "  'blocktrail_com': {'miner': 'CANOE', 'src': 'blocktrail.com'},\n",
       "  'custom_addr': {'miner': 'BTC.TOP',\n",
       "   'matches': [{'addr_match': '147SwRQdpCfj5p8PnfsXV2SsVVpVcz3aPq'}],\n",
       "   'src': 'custom'},\n",
       "  'custom_addr1': {'miner': 'CANOE',\n",
       "   'matches': [{'addr_match': '147SwRQdpCfj5p8PnfsXV2SsVVpVcz3aPq'}],\n",
       "   'src': 'custom'},\n",
       "  'custom_marker': {'miner': 'CANOE',\n",
       "   'matches': [{'cb_match': '/canoepool/'}],\n",
       "   'src': 'custom'}},\n",
       " 'hash': '00000000000000000057c2bb8c5fec756c3977649b91d6c8c6e1cb9c78a40044',\n",
       " 'phash': None,\n",
       " 'payout': '1327294818'}"
      ]
     },
     "execution_count": 22,
     "metadata": {},
     "output_type": "execute_result"
    }
   ],
   "source": [
    "blocks[\"505955\"]"
   ]
  },
  {
   "cell_type": "code",
   "execution_count": 23,
   "metadata": {
    "ExecuteTime": {
     "end_time": "2019-06-17T14:13:36.431389Z",
     "start_time": "2019-06-17T14:13:36.428118Z"
    }
   },
   "outputs": [
    {
     "data": {
      "text/plain": [
       "{'time': 1428192635,\n",
       " 'cb': '03275a05062f503253482f04747d20550867ffff4d400000a218466f6c6c6f7720746865207768697465207261626269742e',\n",
       " 'addresses': ['1Mv9oGhatduXxihUvjwxvNpm3ueKT6nJk6'],\n",
       " 'miner': 'unknown',\n",
       " 'conflicts': 0,\n",
       " 'attribution': '',\n",
       " 'attributions': {},\n",
       " 'hash': '000000000000000001b52b5033fbcc0df9ffc78cd84d72fd7c1902aaa75220ec',\n",
       " 'phash': None,\n",
       " 'payout': '2509265092'}"
      ]
     },
     "execution_count": 23,
     "metadata": {},
     "output_type": "execute_result"
    }
   ],
   "source": [
    "blocks[\"350759\"]"
   ]
  },
  {
   "cell_type": "code",
   "execution_count": 24,
   "metadata": {
    "ExecuteTime": {
     "end_time": "2019-06-17T14:13:36.439670Z",
     "start_time": "2019-06-17T14:13:36.433097Z"
    }
   },
   "outputs": [
    {
     "data": {
      "text/plain": [
       "{'time': 1430966288,\n",
       " 'cb': '03e96b05062f503253482f04f0cf4a5508fabe6d6d000000000000000000000000ffffffff0000000600000003000000000000000001000000000000002fffea012da5634f0d2f6e6f64655374726174756d2f',\n",
       " 'addresses': ['1NY15MK947MLzmPUa2gL7UgyR8prLh2xfu'],\n",
       " 'miner': 'conflict',\n",
       " 'conflicts': 2,\n",
       " 'attribution': '',\n",
       " 'attributions': {'blockchain_info_address': {'miner': 'digitalBTC',\n",
       "   'matches': [{'addr_match': '1NY15MK947MLzmPUa2gL7UgyR8prLh2xfu'}],\n",
       "   'src': 'blockchain.info'},\n",
       "  'blockchain_info': {'miner': 'digitalBTC',\n",
       "   'matches': [{'addr_match': '1NY15MK947MLzmPUa2gL7UgyR8prLh2xfu'}],\n",
       "   'src': 'blockchain.info'},\n",
       "  'blockchain_info_address_update': {'miner': 'digitalBTC',\n",
       "   'matches': [{'addr_match': '1NY15MK947MLzmPUa2gL7UgyR8prLh2xfu'}],\n",
       "   'src': 'blockchain.info'},\n",
       "  'blockchain_info_update': {'miner': 'digitalBTC',\n",
       "   'matches': [{'addr_match': '1NY15MK947MLzmPUa2gL7UgyR8prLh2xfu'}],\n",
       "   'src': 'blockchain.info'},\n",
       "  'btccom_address': {'miner': 'digitalBTC',\n",
       "   'matches': [{'addr_match': '1NY15MK947MLzmPUa2gL7UgyR8prLh2xfu'}],\n",
       "   'src': 'btccom'},\n",
       "  'btccom': {'miner': 'digitalBTC',\n",
       "   'matches': [{'addr_match': '1NY15MK947MLzmPUa2gL7UgyR8prLh2xfu'}],\n",
       "   'src': 'btccom'},\n",
       "  'btccom_address_update': {'miner': 'digitalBTC',\n",
       "   'matches': [{'addr_match': '1NY15MK947MLzmPUa2gL7UgyR8prLh2xfu'}],\n",
       "   'src': 'btccom'},\n",
       "  'btccom_update': {'miner': 'digitalBTC',\n",
       "   'matches': [{'addr_match': '1NY15MK947MLzmPUa2gL7UgyR8prLh2xfu'}],\n",
       "   'src': 'btccom'},\n",
       "  'btccom_blockchain_info_addr': {'miner': 'digitalX Mintsy',\n",
       "   'matches': [{'addr_match': '1NY15MK947MLzmPUa2gL7UgyR8prLh2xfu'}],\n",
       "   'src': 'attribution based on btccom and blockchain.info sources'},\n",
       "  'btccom_blockchain_info': {'miner': 'digitalX Mintsy',\n",
       "   'matches': [{'addr_match': '1NY15MK947MLzmPUa2gL7UgyR8prLh2xfu'}],\n",
       "   'src': 'attribution based on btccom and blockchain.info sources'},\n",
       "  'btccom_blockchain_info_addr_update': {'miner': 'digitalX Mintsy',\n",
       "   'matches': [{'addr_match': '1NY15MK947MLzmPUa2gL7UgyR8prLh2xfu'}],\n",
       "   'src': 'attribution based on btccom and blockchain.info sources'},\n",
       "  'btccom_blockchain_info_update': {'miner': 'digitalX Mintsy',\n",
       "   'matches': [{'addr_match': '1NY15MK947MLzmPUa2gL7UgyR8prLh2xfu'}],\n",
       "   'src': 'attribution based on btccom and blockchain.info sources'},\n",
       "  'initial_addr': {'miner': 'digitalBTC',\n",
       "   'matches': [{'addr_match': '1NY15MK947MLzmPUa2gL7UgyR8prLh2xfu'}],\n",
       "   'src': 'initial attribution based on all sources'},\n",
       "  'initial': {'miner': 'digitalBTC',\n",
       "   'matches': [{'addr_match': '1NY15MK947MLzmPUa2gL7UgyR8prLh2xfu'}],\n",
       "   'src': 'initial attribution based on all sources'},\n",
       "  'initial_addr_update': {'miner': 'digitalBTC',\n",
       "   'matches': [{'addr_match': '1NY15MK947MLzmPUa2gL7UgyR8prLh2xfu'}],\n",
       "   'src': 'initial attribution based on all sources including update'},\n",
       "  'initial_update': {'miner': 'digitalBTC',\n",
       "   'matches': [{'addr_match': '1NY15MK947MLzmPUa2gL7UgyR8prLh2xfu'}],\n",
       "   'src': 'initial attribution based on all sources including update'},\n",
       "  'blocktrail_com': {'miner': 'digitalBTC', 'src': 'blocktrail.com'},\n",
       "  'custom_addr': {'miner': 'digitalBTC',\n",
       "   'matches': [{'addr_match': '1NY15MK947MLzmPUa2gL7UgyR8prLh2xfu'}],\n",
       "   'src': 'custom'},\n",
       "  'custom': {'miner': 'digitalBTC',\n",
       "   'matches': [{'addr_match': '1NY15MK947MLzmPUa2gL7UgyR8prLh2xfu'}],\n",
       "   'src': 'custom'},\n",
       "  'graphsense_tag': {'miner': 'digitalBTC',\n",
       "   'cluster': 72061801,\n",
       "   'src': 'graphsense'}},\n",
       " 'hash': '00000000000000000fed7c9dfc0815bef3769b5eabeb7933f67aabe83f7f6c5a',\n",
       " 'phash': None,\n",
       " 'payout': '2524651892'}"
      ]
     },
     "execution_count": 24,
     "metadata": {},
     "output_type": "execute_result"
    }
   ],
   "source": [
    "blocks[\"355305\"]"
   ]
  },
  {
   "cell_type": "code",
   "execution_count": 25,
   "metadata": {
    "ExecuteTime": {
     "end_time": "2019-06-17T14:13:36.446440Z",
     "start_time": "2019-06-17T14:13:36.441170Z"
    }
   },
   "outputs": [
    {
     "data": {
      "text/plain": [
       "{'time': 1545426417,\n",
       " 'cb': '033b770804f1551d5c2f706f6f6c696e2e636f6d2ffabe6d6d4561ce74906b133fab5a1b6cf3452e62617e0d335282714ad23a36d7240e9945010000000000000059002ed44909000000000000',\n",
       " 'addresses': ['3JAvzKWgtxPzcbTqKeAT7qfwoZBjtVmkBU'],\n",
       " 'miner': 'Poolin',\n",
       " 'conflicts': 0,\n",
       " 'attribution': '',\n",
       " 'attributions': {'btccom_marker': {'miner': 'Poolin',\n",
       "   'matches': [{'cb_match': '/poolin.com'}],\n",
       "   'src': 'btccom'},\n",
       "  'btccom': {'miner': 'Poolin',\n",
       "   'matches': [{'cb_match': '/poolin.com'}],\n",
       "   'src': 'btccom'},\n",
       "  'btccom_address_update': {'miner': 'Poolin',\n",
       "   'matches': [{'addr_match': '3JAvzKWgtxPzcbTqKeAT7qfwoZBjtVmkBU'}],\n",
       "   'src': 'btccom'},\n",
       "  'btccom_marker_update': {'miner': 'Poolin',\n",
       "   'matches': [{'cb_match': '/poolin.com'}],\n",
       "   'src': 'btccom'},\n",
       "  'btccom_update': {'miner': 'Poolin',\n",
       "   'matches': [{'cb_match': '/poolin.com'},\n",
       "    {'addr_match': '3JAvzKWgtxPzcbTqKeAT7qfwoZBjtVmkBU'}],\n",
       "   'src': 'btccom'},\n",
       "  'btccom_blockchain_info_marker': {'miner': 'Poolin',\n",
       "   'matches': [{'cb_match': '/poolin.com'}],\n",
       "   'src': 'attribution based on btccom and blockchain.info sources'},\n",
       "  'btccom_blockchain_info': {'miner': 'Poolin',\n",
       "   'matches': [{'cb_match': '/poolin.com'}],\n",
       "   'src': 'attribution based on btccom and blockchain.info sources'},\n",
       "  'btccom_blockchain_info_addr_update': {'miner': 'Poolin',\n",
       "   'matches': [{'addr_match': '3JAvzKWgtxPzcbTqKeAT7qfwoZBjtVmkBU'}],\n",
       "   'src': 'attribution based on btccom and blockchain.info sources'},\n",
       "  'btccom_blockchain_info_update': {'miner': 'Poolin',\n",
       "   'matches': [{'cb_match': '/poolin.com'},\n",
       "    {'addr_match': '3JAvzKWgtxPzcbTqKeAT7qfwoZBjtVmkBU'}],\n",
       "   'src': 'attribution based on btccom and blockchain.info sources'},\n",
       "  'initial_marker': {'miner': 'Poolin',\n",
       "   'matches': [{'cb_match': '/poolin.com'}],\n",
       "   'src': 'initial attribution based on all sources'},\n",
       "  'initial': {'miner': 'Poolin',\n",
       "   'matches': [{'cb_match': '/poolin.com'}],\n",
       "   'src': 'initial attribution based on all sources'},\n",
       "  'initial_addr_update': {'miner': 'Poolin',\n",
       "   'matches': [{'addr_match': '3JAvzKWgtxPzcbTqKeAT7qfwoZBjtVmkBU'}],\n",
       "   'src': 'initial attribution based on all sources including update'},\n",
       "  'initial_marker_update': {'miner': 'Poolin',\n",
       "   'matches': [{'cb_match': '/poolin.com'}],\n",
       "   'src': 'initial attribution based on all sources including update'},\n",
       "  'initial_update': {'miner': 'Poolin',\n",
       "   'matches': [{'cb_match': '/poolin.com'},\n",
       "    {'addr_match': '3JAvzKWgtxPzcbTqKeAT7qfwoZBjtVmkBU'}],\n",
       "   'src': 'initial attribution based on all sources including update'},\n",
       "  'custom_addr': {'miner': 'Poolin',\n",
       "   'matches': [{'addr_match': '3JAvzKWgtxPzcbTqKeAT7qfwoZBjtVmkBU'}],\n",
       "   'src': 'custom'},\n",
       "  'custom_marker': {'miner': 'Poolin',\n",
       "   'matches': [{'cb_match': '/poolin.com'}, {'cb_match': '/poolin.com/'}],\n",
       "   'src': 'custom'},\n",
       "  'custom': {'miner': 'Poolin',\n",
       "   'matches': [{'cb_match': '/poolin.com'},\n",
       "    {'cb_match': '/poolin.com/'},\n",
       "    {'addr_match': '3JAvzKWgtxPzcbTqKeAT7qfwoZBjtVmkBU'}],\n",
       "   'src': 'custom'}},\n",
       " 'hash': '0000000000000000002556b9aeb68868dfbf73d76c4c01f6553af3092a56d0d4',\n",
       " 'phash': None,\n",
       " 'payout': '1259012891'}"
      ]
     },
     "execution_count": 25,
     "metadata": {},
     "output_type": "execute_result"
    }
   ],
   "source": [
    "blocks[\"554811\"] # Poolin"
   ]
  },
  {
   "cell_type": "code",
   "execution_count": 26,
   "metadata": {
    "ExecuteTime": {
     "end_time": "2019-06-17T14:13:36.453331Z",
     "start_time": "2019-06-17T14:13:36.448330Z"
    }
   },
   "outputs": [
    {
     "name": "stdout",
     "output_type": "stream",
     "text": [
      "Number of conflicts including graphsense_tag attribuiton:  0\n"
     ]
    }
   ],
   "source": [
    "i = 0\n",
    "for blknum in block_conflicts:\n",
    "    if \"graphsense_tag\" in block_conflicts[ blknum ][ \"attributions\" ]:\n",
    "        #print(blknum,\":\",block_conflicts[ blknum ])\n",
    "        i += 1\n",
    "print(\"Number of conflicts including graphsense_tag attribuiton: \",i)"
   ]
  },
  {
   "cell_type": "markdown",
   "metadata": {},
   "source": [
    "## Conflicts stats"
   ]
  },
  {
   "cell_type": "code",
   "execution_count": 27,
   "metadata": {
    "ExecuteTime": {
     "end_time": "2019-06-17T14:13:36.461531Z",
     "start_time": "2019-06-17T14:13:36.457944Z"
    }
   },
   "outputs": [
    {
     "data": {
      "text/plain": [
       "'/home/matteo/deep_dive'"
      ]
     },
     "execution_count": 27,
     "metadata": {},
     "output_type": "execute_result"
    }
   ],
   "source": [
    "pwd"
   ]
  },
  {
   "cell_type": "code",
   "execution_count": 28,
   "metadata": {
    "ExecuteTime": {
     "end_time": "2019-06-17T14:13:36.709725Z",
     "start_time": "2019-06-17T14:13:36.464029Z"
    }
   },
   "outputs": [
    {
     "data": {
      "text/plain": [
       "['65']"
      ]
     },
     "execution_count": 28,
     "metadata": {},
     "output_type": "execute_result"
    }
   ],
   "source": [
    "conflicts_blockchain = !jq length \"dataset/miners_initial_blockchaininfo_conflicts.json\" \n",
    "conflicts_blockchain"
   ]
  },
  {
   "cell_type": "code",
   "execution_count": 29,
   "metadata": {
    "ExecuteTime": {
     "end_time": "2019-06-17T14:13:36.934540Z",
     "start_time": "2019-06-17T14:13:36.711848Z"
    }
   },
   "outputs": [
    {
     "data": {
      "text/plain": [
       "['388']"
      ]
     },
     "execution_count": 29,
     "metadata": {},
     "output_type": "execute_result"
    }
   ],
   "source": [
    "conflicts_blockchain = !jq length \"dataset/miners_initial_btccom_conflicts.json\" \n",
    "conflicts_blockchain"
   ]
  },
  {
   "cell_type": "code",
   "execution_count": 30,
   "metadata": {
    "ExecuteTime": {
     "end_time": "2019-06-17T14:13:37.158141Z",
     "start_time": "2019-06-17T14:13:36.937534Z"
    }
   },
   "outputs": [
    {
     "data": {
      "text/plain": [
       "['455']"
      ]
     },
     "execution_count": 30,
     "metadata": {},
     "output_type": "execute_result"
    }
   ],
   "source": [
    "conflicts_initial = !jq length \"dataset/miners_initial_conflicts.json\" \n",
    "conflicts_initial"
   ]
  },
  {
   "cell_type": "code",
   "execution_count": 31,
   "metadata": {
    "ExecuteTime": {
     "end_time": "2019-06-17T14:13:37.174881Z",
     "start_time": "2019-06-17T14:13:37.162963Z"
    }
   },
   "outputs": [],
   "source": [
    "# compare attributions and miners \n",
    "def attribution_and_miner_stats(blocks,startblk=0,endblk=current_blockheight,attr1=None,attr2=None,printa2=False):\n",
    "    overall_attributed_blocks = Counter()\n",
    "    attr_comparision = Counter()\n",
    "    attr1_unique = 0\n",
    "    attr2_unique = 0\n",
    "    value_comparision = Counter()\n",
    "    unknown_counter = 0\n",
    "\n",
    "    for blknum in blocks:\n",
    "        if int(blknum) >= startblk and int(blknum) <= endblk:\n",
    "            # only look at blocks in specified interval\n",
    "            if ( blocks[ blknum ][ util.D_MINER ] is not None and\n",
    "                 blocks[ blknum ][ util.D_MINER ] != \"\" and\n",
    "                 blocks[ blknum ][ util.D_MINER ] != \"unknown\" and\n",
    "                 blocks[ blknum ][ util.D_MINER ] != \"conflict\"):\n",
    "                # only looks at blocks that have been uniquely attributed\n",
    "                overall_attributed_blocks[ blocks[ blknum ][ util.D_MINER ] ] += 1\n",
    "                value_comparision[ blocks[ blknum ][ util.D_MINER ] ] += int(blocks[ blknum ][ util.D_PAYOUT ])\n",
    "                \n",
    "                for a in blocks[ blknum ][ util.D_ATTRIBUTIONS ]:\n",
    "                    attribution = blocks[ blknum ][ util.D_ATTRIBUTIONS ][ a ]\n",
    "                    if attribution[ util.DDD_MINER ] is not None and ( attribution[ util.DDD_MINER ] != \"unknown\" or \n",
    "                                                                       attribution[ util.DDD_MINER ] != \"\" ):\n",
    "                        attr_comparision[a] += 1\n",
    "                if (attr1 is not None and \n",
    "                    attr2 is not None):\n",
    "                    if ( attr1 in blocks[ blknum ][ util.D_ATTRIBUTIONS ].keys() and \n",
    "                         blocks[ blknum ][ util.D_ATTRIBUTIONS ][ attr1 ][ util.DDD_MINER ] == blocks[ blknum ][ util.D_MINER ] and \n",
    "                         ( attr2 not in blocks[ blknum ][ util.D_ATTRIBUTIONS ].keys() or\n",
    "                           blocks[ blknum ][ util.D_ATTRIBUTIONS ][ attr2 ][ util.DDD_MINER ] != blocks[ blknum ][ util.D_MINER ]) ):\n",
    "                        attr1_unique += 1\n",
    "                    if ( attr2 in blocks[ blknum ][ util.D_ATTRIBUTIONS ].keys() and \n",
    "                         blocks[ blknum ][ util.D_ATTRIBUTIONS ][ attr2 ][ util.DDD_MINER ] == blocks[ blknum ][ util.D_MINER ] and \n",
    "                         ( attr1 not in blocks[ blknum ][ util.D_ATTRIBUTIONS ].keys() or\n",
    "                           blocks[ blknum ][ util.D_ATTRIBUTIONS ][ attr1 ][ util.DDD_MINER ] != blocks[ blknum ][ util.D_MINER ]) ):\n",
    "                        attr2_unique += 1\n",
    "                        if printa2:\n",
    "                            pprint.pprint(blocks[ blknum ])\n",
    "            else:\n",
    "                    unknown_counter += 1 \n",
    "\n",
    "    return (overall_attributed_blocks,attr_comparision,value_comparision,attr1_unique,attr2_unique,unknown_counter)   "
   ]
  },
  {
   "cell_type": "code",
   "execution_count": 32,
   "metadata": {
    "ExecuteTime": {
     "end_time": "2019-06-17T14:13:44.696763Z",
     "start_time": "2019-06-17T14:13:37.177036Z"
    }
   },
   "outputs": [],
   "source": [
    "(overall_attributed_blocks,attr_comparision,value_comparision,attr1_unique,attr2_unique,unknown_counter) = attribution_and_miner_stats(blocks,startblk=0,endblk=current_blockheight,attr1=\"btccom_update\",attr2=\"custom\")"
   ]
  },
  {
   "cell_type": "code",
   "execution_count": 33,
   "metadata": {
    "ExecuteTime": {
     "end_time": "2019-06-17T14:13:44.701215Z",
     "start_time": "2019-06-17T14:13:44.698390Z"
    }
   },
   "outputs": [
    {
     "data": {
      "text/plain": [
       "0"
      ]
     },
     "execution_count": 33,
     "metadata": {},
     "output_type": "execute_result"
    }
   ],
   "source": [
    "attr1_unique"
   ]
  },
  {
   "cell_type": "code",
   "execution_count": 34,
   "metadata": {
    "ExecuteTime": {
     "end_time": "2019-06-17T14:13:44.705578Z",
     "start_time": "2019-06-17T14:13:44.702620Z"
    }
   },
   "outputs": [
    {
     "data": {
      "text/plain": [
       "32762"
      ]
     },
     "execution_count": 34,
     "metadata": {},
     "output_type": "execute_result"
    }
   ],
   "source": [
    "attr2_unique"
   ]
  },
  {
   "cell_type": "code",
   "execution_count": 35,
   "metadata": {
    "ExecuteTime": {
     "end_time": "2019-06-17T14:13:51.320653Z",
     "start_time": "2019-06-17T14:13:44.707587Z"
    }
   },
   "outputs": [],
   "source": [
    "(overall_attributed_blocks,attr_comparision,value_comparision,attr1_unique,attr2_unique,unknown_counter) = attribution_and_miner_stats(blocks,startblk=0,endblk=current_blockheight,attr1=\"initial_update\",attr2=\"custom\")"
   ]
  },
  {
   "cell_type": "code",
   "execution_count": 36,
   "metadata": {
    "ExecuteTime": {
     "end_time": "2019-06-17T14:13:51.325373Z",
     "start_time": "2019-06-17T14:13:51.322405Z"
    }
   },
   "outputs": [
    {
     "data": {
      "text/plain": [
       "0"
      ]
     },
     "execution_count": 36,
     "metadata": {},
     "output_type": "execute_result"
    }
   ],
   "source": [
    "attr1_unique"
   ]
  },
  {
   "cell_type": "code",
   "execution_count": 37,
   "metadata": {
    "ExecuteTime": {
     "end_time": "2019-06-17T14:13:51.333803Z",
     "start_time": "2019-06-17T14:13:51.326971Z"
    }
   },
   "outputs": [
    {
     "data": {
      "text/plain": [
       "136"
      ]
     },
     "execution_count": 37,
     "metadata": {},
     "output_type": "execute_result"
    }
   ],
   "source": [
    "attr2_unique"
   ]
  },
  {
   "cell_type": "code",
   "execution_count": 38,
   "metadata": {
    "ExecuteTime": {
     "end_time": "2019-06-17T14:13:51.338461Z",
     "start_time": "2019-06-17T14:13:51.335526Z"
    }
   },
   "outputs": [
    {
     "data": {
      "text/plain": [
       "178433"
      ]
     },
     "execution_count": 38,
     "metadata": {},
     "output_type": "execute_result"
    }
   ],
   "source": [
    "unknown_counter"
   ]
  },
  {
   "cell_type": "code",
   "execution_count": 39,
   "metadata": {
    "ExecuteTime": {
     "end_time": "2019-06-17T14:13:51.343196Z",
     "start_time": "2019-06-17T14:13:51.339904Z"
    }
   },
   "outputs": [
    {
     "data": {
      "text/plain": [
       "[('custom', 375202),\n",
       " ('initial_update', 375066),\n",
       " ('initial', 375007),\n",
       " ('custom_addr', 353005),\n",
       " ('initial_addr_update', 352797),\n",
       " ('btccom_update', 342440),\n",
       " ('initial_addr', 339834),\n",
       " ('blockchain_info_update', 339418),\n",
       " ('btccom_blockchain_info_update', 338310),\n",
       " ('btccom', 337450),\n",
       " ('btccom_blockchain_info', 337450),\n",
       " ('blockchain_info', 334237),\n",
       " ('blocktrail_com', 324541),\n",
       " ('btccom_address_update', 320243),\n",
       " ('blockchain_info_address_update', 317923),\n",
       " ('btccom_blockchain_info_addr_update', 310048),\n",
       " ('custom_marker', 300788),\n",
       " ('btccom_marker', 290659),\n",
       " ('btccom_marker_update', 290659),\n",
       " ('btccom_blockchain_info_marker', 290659)]"
      ]
     },
     "execution_count": 39,
     "metadata": {},
     "output_type": "execute_result"
    }
   ],
   "source": [
    "attr_comparision.most_common(20)"
   ]
  },
  {
   "cell_type": "code",
   "execution_count": 40,
   "metadata": {
    "ExecuteTime": {
     "end_time": "2019-06-17T14:13:51.347215Z",
     "start_time": "2019-06-17T14:13:51.344714Z"
    }
   },
   "outputs": [
    {
     "data": {
      "text/plain": [
       "5181"
      ]
     },
     "execution_count": 40,
     "metadata": {},
     "output_type": "execute_result"
    }
   ],
   "source": [
    "339597 - 334416"
   ]
  },
  {
   "cell_type": "code",
   "execution_count": 41,
   "metadata": {
    "ExecuteTime": {
     "end_time": "2019-06-17T14:13:51.351667Z",
     "start_time": "2019-06-17T14:13:51.348648Z"
    }
   },
   "outputs": [
    {
     "data": {
      "text/plain": [
       "[('DeepBit', 150825369154195),\n",
       " ('BTC Guild', 101077936957999),\n",
       " ('F2Pool', 94255966904593),\n",
       " ('AntPool', 75631913253562),\n",
       " ('SlushPool', 68411579252659),\n",
       " ('GHash.IO', 57912818026142),\n",
       " ('BitFury', 39127324710359),\n",
       " ('BTCC Pool', 36348034271440),\n",
       " ('Eligius', 33798580256054),\n",
       " ('BW.COM', 25004391233293),\n",
       " ('BTC.com', 23478129539374),\n",
       " ('EclipseMC', 21229522038511),\n",
       " ('BitMinter', 20521284590453),\n",
       " ('50BTC', 19865112169688),\n",
       " ('OzCoin', 18697287571190)]"
      ]
     },
     "execution_count": 41,
     "metadata": {},
     "output_type": "execute_result"
    }
   ],
   "source": [
    "value_comparision.most_common(15)"
   ]
  },
  {
   "cell_type": "code",
   "execution_count": 42,
   "metadata": {
    "ExecuteTime": {
     "end_time": "2019-06-17T14:13:51.356240Z",
     "start_time": "2019-06-17T14:13:51.353066Z"
    }
   },
   "outputs": [
    {
     "data": {
      "text/plain": [
       "[('F2Pool', 44144),\n",
       " ('AntPool', 40244),\n",
       " ('BTC Guild', 32936),\n",
       " ('DeepBit', 31107),\n",
       " ('SlushPool', 27709),\n",
       " ('GHash.IO', 23083),\n",
       " ('BitFury', 18666),\n",
       " ('BTCC Pool', 18035),\n",
       " ('BTC.com', 17457),\n",
       " ('BW.COM', 12733),\n",
       " ('ViaBTC', 12069),\n",
       " ('Eligius', 11425),\n",
       " ('BTC.TOP', 11221),\n",
       " ('50BTC', 7859),\n",
       " ('BitMinter', 6451)]"
      ]
     },
     "execution_count": 42,
     "metadata": {},
     "output_type": "execute_result"
    }
   ],
   "source": [
    "overall_attributed_blocks.most_common(15)"
   ]
  },
  {
   "cell_type": "code",
   "execution_count": 43,
   "metadata": {
    "ExecuteTime": {
     "end_time": "2019-06-17T14:13:51.360840Z",
     "start_time": "2019-06-17T14:13:51.357746Z"
    }
   },
   "outputs": [
    {
     "data": {
      "text/plain": [
       "377968"
      ]
     },
     "execution_count": 43,
     "metadata": {},
     "output_type": "execute_result"
    }
   ],
   "source": [
    "sum(overall_attributed_blocks.values())"
   ]
  },
  {
   "cell_type": "code",
   "execution_count": 44,
   "metadata": {
    "ExecuteTime": {
     "end_time": "2019-06-17T14:13:51.365180Z",
     "start_time": "2019-06-17T14:13:51.362394Z"
    }
   },
   "outputs": [
    {
     "data": {
      "text/plain": [
       "53427"
      ]
     },
     "execution_count": 44,
     "metadata": {},
     "output_type": "execute_result"
    }
   ],
   "source": [
    "sum(overall_attributed_blocks.values()) - attr_comparision[\"blocktrail_com\"]"
   ]
  },
  {
   "cell_type": "code",
   "execution_count": 45,
   "metadata": {
    "ExecuteTime": {
     "end_time": "2019-06-17T14:13:51.371234Z",
     "start_time": "2019-06-17T14:13:51.367135Z"
    }
   },
   "outputs": [
    {
     "data": {
      "text/plain": [
       "43731"
      ]
     },
     "execution_count": 45,
     "metadata": {},
     "output_type": "execute_result"
    }
   ],
   "source": [
    "sum(overall_attributed_blocks.values()) - attr_comparision[\"blockchain_info\"]"
   ]
  },
  {
   "cell_type": "code",
   "execution_count": 46,
   "metadata": {
    "ExecuteTime": {
     "end_time": "2019-06-17T14:13:52.642995Z",
     "start_time": "2019-06-17T14:13:51.373590Z"
    }
   },
   "outputs": [],
   "source": [
    "(overall_attributed_blocks,attr_comparision,value_comparision,attr1_unique,attr2_unique,unknown_counter) = attribution_and_miner_stats(blocks,startblk=500000,endblk=current_blockheight,attr1=\"blockchain_info\",attr2=\"custom\")"
   ]
  },
  {
   "cell_type": "code",
   "execution_count": 47,
   "metadata": {
    "ExecuteTime": {
     "end_time": "2019-06-17T14:13:52.647505Z",
     "start_time": "2019-06-17T14:13:52.644637Z"
    }
   },
   "outputs": [
    {
     "data": {
      "text/plain": [
       "0"
      ]
     },
     "execution_count": 47,
     "metadata": {},
     "output_type": "execute_result"
    }
   ],
   "source": [
    "attr1_unique"
   ]
  },
  {
   "cell_type": "code",
   "execution_count": 48,
   "metadata": {
    "ExecuteTime": {
     "end_time": "2019-06-17T14:13:52.657170Z",
     "start_time": "2019-06-17T14:13:52.649199Z"
    }
   },
   "outputs": [
    {
     "data": {
      "text/plain": [
       "2808"
      ]
     },
     "execution_count": 48,
     "metadata": {},
     "output_type": "execute_result"
    }
   ],
   "source": [
    "attr2_unique"
   ]
  },
  {
   "cell_type": "code",
   "execution_count": 49,
   "metadata": {
    "ExecuteTime": {
     "end_time": "2019-06-17T14:13:52.661516Z",
     "start_time": "2019-06-17T14:13:52.658845Z"
    }
   },
   "outputs": [
    {
     "data": {
      "text/plain": [
       "1990"
      ]
     },
     "execution_count": 49,
     "metadata": {},
     "output_type": "execute_result"
    }
   ],
   "source": [
    "unknown_counter"
   ]
  },
  {
   "cell_type": "code",
   "execution_count": 50,
   "metadata": {
    "ExecuteTime": {
     "end_time": "2019-06-17T14:13:52.665763Z",
     "start_time": "2019-06-17T14:13:52.663014Z"
    }
   },
   "outputs": [
    {
     "data": {
      "text/plain": [
       "56400"
      ]
     },
     "execution_count": 50,
     "metadata": {},
     "output_type": "execute_result"
    }
   ],
   "source": [
    "current_blockheight - 500000"
   ]
  },
  {
   "cell_type": "code",
   "execution_count": 51,
   "metadata": {
    "ExecuteTime": {
     "end_time": "2019-06-17T14:13:52.671089Z",
     "start_time": "2019-06-17T14:13:52.667320Z"
    }
   },
   "outputs": [
    {
     "data": {
      "text/plain": [
       "[('custom', 54409),\n",
       " ('btccom_update', 54400),\n",
       " ('btccom_blockchain_info_update', 54372),\n",
       " ('initial_update', 54372),\n",
       " ('initial', 54342),\n",
       " ('btccom', 54334),\n",
       " ('btccom_blockchain_info', 54334),\n",
       " ('custom_addr', 53044),\n",
       " ('btccom_address_update', 53035),\n",
       " ('initial_addr_update', 52957),\n",
       " ('btccom_blockchain_info_addr_update', 52951),\n",
       " ('custom_marker', 52455),\n",
       " ('blockchain_info_update', 51841),\n",
       " ('blockchain_info', 51601),\n",
       " ('blockchain_info_address_update', 51178),\n",
       " ('btccom_marker', 48030),\n",
       " ('btccom_marker_update', 48030),\n",
       " ('btccom_blockchain_info_marker', 48030),\n",
       " ('initial_marker', 48030),\n",
       " ('initial_marker_update', 48030)]"
      ]
     },
     "execution_count": 51,
     "metadata": {},
     "output_type": "execute_result"
    }
   ],
   "source": [
    "attr_comparision.most_common(20)"
   ]
  },
  {
   "cell_type": "code",
   "execution_count": 52,
   "metadata": {
    "ExecuteTime": {
     "end_time": "2019-06-17T14:13:52.675258Z",
     "start_time": "2019-06-17T14:13:52.672768Z"
    }
   },
   "outputs": [
    {
     "data": {
      "text/plain": [
       "-2568"
      ]
     },
     "execution_count": 52,
     "metadata": {},
     "output_type": "execute_result"
    }
   ],
   "source": [
    "51841 - 54409"
   ]
  },
  {
   "cell_type": "code",
   "execution_count": 53,
   "metadata": {
    "ExecuteTime": {
     "end_time": "2019-06-17T14:13:52.680003Z",
     "start_time": "2019-06-17T14:13:52.676973Z"
    }
   },
   "outputs": [
    {
     "data": {
      "text/plain": [
       "32100.0"
      ]
     },
     "execution_count": 53,
     "metadata": {},
     "output_type": "execute_result"
    }
   ],
   "source": [
    "2568 * 12.5"
   ]
  },
  {
   "cell_type": "code",
   "execution_count": 54,
   "metadata": {
    "ExecuteTime": {
     "end_time": "2019-06-17T14:13:52.817793Z",
     "start_time": "2019-06-17T14:13:52.681560Z"
    }
   },
   "outputs": [
    {
     "data": {
      "image/png": "[encoded data removed]",
      "text/plain": [
       "<Figure size 432x288 with 1 Axes>"
      ]
     },
     "metadata": {},
     "output_type": "display_data"
    }
   ],
   "source": [
    "import matplotlib.pyplot as plt\n",
    "import numpy as np\n",
    "\n",
    "fig, ax = plt.subplots()\n",
    "\n",
    "size = 0.3\n",
    "vals = np.array([[56400, 54409], [1990, 1],])\n",
    "\n",
    "cmap = plt.get_cmap(\"tab20c\")\n",
    "outer_colors = cmap(np.arange(3)*4)\n",
    "inner_colors = cmap(np.array([1, 2, 5, 6, 9, 10]))\n",
    "\n",
    "ax.pie(vals.sum(axis=1), radius=1, colors=outer_colors,\n",
    "       wedgeprops=dict(width=size, edgecolor='w'))\n",
    "\n",
    "ax.pie(vals.flatten(), radius=1-size, colors=inner_colors,\n",
    "       wedgeprops=dict(width=size, edgecolor='w'))\n",
    "\n",
    "ax.set(aspect=\"equal\", title='Comparison of Block')\n",
    "plt.show()"
   ]
  },
  {
   "cell_type": "code",
   "execution_count": 55,
   "metadata": {
    "ExecuteTime": {
     "end_time": "2019-06-17T14:13:52.837576Z",
     "start_time": "2019-06-17T14:13:52.823936Z"
    }
   },
   "outputs": [
    {
     "data": {
      "text/plain": [
       "array([110809,   1991])"
      ]
     },
     "execution_count": 55,
     "metadata": {},
     "output_type": "execute_result"
    }
   ],
   "source": [
    "vals.sum(axis=1)"
   ]
  },
  {
   "cell_type": "code",
   "execution_count": 56,
   "metadata": {
    "ExecuteTime": {
     "end_time": "2019-06-17T14:13:52.853428Z",
     "start_time": "2019-06-17T14:13:52.845501Z"
    }
   },
   "outputs": [
    {
     "data": {
      "text/plain": [
       "array([56400, 54409,  1990,     1])"
      ]
     },
     "execution_count": 56,
     "metadata": {},
     "output_type": "execute_result"
    }
   ],
   "source": [
    "vals.flatten()"
   ]
  },
  {
   "cell_type": "code",
   "execution_count": 57,
   "metadata": {
    "ExecuteTime": {
     "end_time": "2019-06-17T14:13:52.927178Z",
     "start_time": "2019-06-17T14:13:52.855813Z"
    }
   },
   "outputs": [
    {
     "data": {
      "image/png": "[encoded data removed]",
      "text/plain": [
       "<Figure size 432x288 with 1 Axes>"
      ]
     },
     "metadata": {},
     "output_type": "display_data"
    }
   ],
   "source": [
    "import matplotlib.pyplot as plt\n",
    "import numpy as np\n",
    "\n",
    "fig, ax = plt.subplots()\n",
    "\n",
    "size = 0.3\n",
    "vals = np.array([[50, 25,8], [30, 15,10],])\n",
    "\n",
    "cmap = plt.get_cmap(\"tab20c\")\n",
    "outer_colors = cmap(np.arange(3)*4)\n",
    "inner_colors = cmap(np.array([1, 2, 5, 6, 9, 10]))\n",
    "\n",
    "ax.pie([80,20], radius=1, colors=outer_colors,\n",
    "       wedgeprops=dict(width=size, edgecolor='w'))\n",
    "\n",
    "ax.pie([80,20], radius=1-size, colors=inner_colors,\n",
    "       wedgeprops=dict(width=size, edgecolor='w'))\n",
    "\n",
    "ax.set(aspect=\"equal\", title='Comparison of Block')\n",
    "plt.show()"
   ]
  },
  {
   "cell_type": "code",
   "execution_count": 58,
   "metadata": {
    "ExecuteTime": {
     "end_time": "2019-06-17T14:13:53.109137Z",
     "start_time": "2019-06-17T14:13:52.929159Z"
    }
   },
   "outputs": [
    {
     "data": {
      "image/png": "[encoded data removed]",
      "text/plain": [
       "<Figure size 432x288 with 1 Axes>"
      ]
     },
     "metadata": {
      "needs_background": "light"
     },
     "output_type": "display_data"
    }
   ],
   "source": [
    "fig, ax = plt.subplots(subplot_kw=dict(polar=True))\n",
    "\n",
    "size = 0.3\n",
    "vals = np.array([[60., 32.], [37., 40.], [29., 10.]])\n",
    "#normalize vals to 2 pi\n",
    "valsnorm = vals/np.sum(vals)*2*np.pi\n",
    "#obtain the ordinates of the bar edges\n",
    "valsleft = np.cumsum(np.append(0, valsnorm.flatten()[:-1])).reshape(vals.shape)\n",
    "\n",
    "cmap = plt.get_cmap(\"tab20c\")\n",
    "outer_colors = cmap(np.arange(3)*4)\n",
    "inner_colors = cmap(np.array([1, 2, 5, 6, 9, 10]))\n",
    "\n",
    "ax.bar(x=valsleft[:, 0],\n",
    "       width=valsnorm.sum(axis=1), bottom=1-size, height=size,\n",
    "       color=outer_colors, edgecolor='w', linewidth=1, align=\"edge\")\n",
    "\n",
    "ax.bar(x=valsleft.flatten(),\n",
    "       width=valsnorm.flatten(), bottom=1-2*size, height=size,\n",
    "       color=inner_colors, edgecolor='w', linewidth=1, align=\"edge\")\n",
    "\n",
    "ax.set(title=\"Pie plot with `ax.bar` and polar coordinates\")\n",
    "ax.set_axis_off()\n",
    "plt.show()"
   ]
  },
  {
   "cell_type": "code",
   "execution_count": 59,
   "metadata": {
    "ExecuteTime": {
     "end_time": "2019-06-17T14:13:53.115457Z",
     "start_time": "2019-06-17T14:13:53.111539Z"
    }
   },
   "outputs": [
    {
     "data": {
      "text/plain": [
       "array([0.        , 2.77910119, 5.10508806])"
      ]
     },
     "execution_count": 59,
     "metadata": {},
     "output_type": "execute_result"
    }
   ],
   "source": [
    "valsleft[:, 0]"
   ]
  },
  {
   "cell_type": "code",
   "execution_count": 60,
   "metadata": {
    "ExecuteTime": {
     "end_time": "2019-06-17T14:13:53.120571Z",
     "start_time": "2019-06-17T14:13:53.117338Z"
    }
   },
   "outputs": [
    {
     "data": {
      "text/plain": [
       "array([0.        , 1.8124573 , 2.77910119, 3.8967832 , 5.10508806,\n",
       "       5.98110909])"
      ]
     },
     "execution_count": 60,
     "metadata": {},
     "output_type": "execute_result"
    }
   ],
   "source": [
    "valsleft.flatten()"
   ]
  },
  {
   "cell_type": "code",
   "execution_count": 61,
   "metadata": {
    "ExecuteTime": {
     "end_time": "2019-06-17T14:13:53.128017Z",
     "start_time": "2019-06-17T14:13:53.122189Z"
    }
   },
   "outputs": [
    {
     "data": {
      "text/plain": [
       "(205753224179, 163)"
      ]
     },
     "execution_count": 61,
     "metadata": {},
     "output_type": "execute_result"
    }
   ],
   "source": [
    "ret = util.get_miner_payouts(blocks=blocks,start_height=555000,end_height=556000,miner_id=\"BTC.com\"); ret"
   ]
  },
  {
   "cell_type": "code",
   "execution_count": 62,
   "metadata": {
    "ExecuteTime": {
     "end_time": "2019-06-17T14:13:53.134139Z",
     "start_time": "2019-06-17T14:13:53.129970Z"
    }
   },
   "outputs": [
    {
     "data": {
      "text/plain": [
       "2057.53224179"
      ]
     },
     "execution_count": 62,
     "metadata": {},
     "output_type": "execute_result"
    }
   ],
   "source": [
    "ret[0]*10**-8 # BTC"
   ]
  },
  {
   "cell_type": "code",
   "execution_count": 63,
   "metadata": {
    "ExecuteTime": {
     "end_time": "2019-06-17T14:13:53.266603Z",
     "start_time": "2019-06-17T14:13:53.139233Z"
    }
   },
   "outputs": [
    {
     "data": {
      "text/plain": [
       "(537833695943, 409)"
      ]
     },
     "execution_count": 63,
     "metadata": {},
     "output_type": "execute_result"
    }
   ],
   "source": [
    "ret = util.get_miner_payouts(blocks=blocks,start_height=500000,end_height=556000,miner_id=\"conflict\"); ret"
   ]
  },
  {
   "cell_type": "code",
   "execution_count": 64,
   "metadata": {
    "ExecuteTime": {
     "end_time": "2019-06-17T14:17:06.880753Z",
     "start_time": "2019-06-17T14:13:53.269425Z"
    }
   },
   "outputs": [],
   "source": [
    "#assert False\n",
    "with open(blocks_attribution_json_file, 'w') as fp: \n",
    "    json.dump(blocks, fp)"
   ]
  },
  {
   "cell_type": "code",
   "execution_count": 65,
   "metadata": {
    "ExecuteTime": {
     "end_time": "2019-06-17T14:17:06.901372Z",
     "start_time": "2019-06-17T14:17:06.883431Z"
    }
   },
   "outputs": [],
   "source": [
    "#assert False\n",
    "with open(blocks_conflicts_json_file, 'w') as fp: \n",
    "    json.dump(block_conflicts, fp)"
   ]
  },
  {
   "cell_type": "markdown",
   "metadata": {},
   "source": [
    "## Pie charts"
   ]
  },
  {
   "cell_type": "code",
   "execution_count": null,
   "metadata": {},
   "outputs": [],
   "source": [
    "import datetime\n",
    "from importlib import reload\n",
    "reload(util)"
   ]
  },
  {
   "cell_type": "code",
   "execution_count": null,
   "metadata": {},
   "outputs": [],
   "source": [
    "period = util.get_aligned_blkidx(backTime=datetime.timedelta(days=14))\n",
    "period"
   ]
  },
  {
   "cell_type": "code",
   "execution_count": null,
   "metadata": {},
   "outputs": [],
   "source": [
    "startBlk = period[0]\n",
    "endBlk = period[1]"
   ]
  },
  {
   "cell_type": "code",
   "execution_count": null,
   "metadata": {},
   "outputs": [],
   "source": [
    "mined_blocks_per_miner = Counter()\n",
    "\n",
    "for blknum in blocks:\n",
    "    if int(blknum) >= startBlk and int(blknum) <= endBlk:\n",
    "        # only run over blocks in interval\n",
    "        miner = blocks[ blknum ][ util.D_MINER ]\n",
    "        #if miner != \"\":\n",
    "        mined_blocks_per_miner[ miner ] += 1"
   ]
  },
  {
   "cell_type": "code",
   "execution_count": null,
   "metadata": {},
   "outputs": [],
   "source": [
    "mined_blocks_per_miner.most_common(10)"
   ]
  },
  {
   "cell_type": "code",
   "execution_count": null,
   "metadata": {},
   "outputs": [],
   "source": [
    "mined_blocks_per_miner.most_common()"
   ]
  },
  {
   "cell_type": "code",
   "execution_count": null,
   "metadata": {},
   "outputs": [],
   "source": [
    "sum(mined_blocks_per_miner.values())*0.01"
   ]
  },
  {
   "cell_type": "code",
   "execution_count": null,
   "metadata": {
    "scrolled": true
   },
   "outputs": [],
   "source": [
    "for i in mined_blocks_per_miner.most_common():\n",
    "    print(i)"
   ]
  },
  {
   "cell_type": "code",
   "execution_count": null,
   "metadata": {},
   "outputs": [],
   "source": [
    "def pie_prepare(startBlk,endBlk,blocks):\n",
    "    mined_blocks_per_miner = Counter()\n",
    "\n",
    "    for blknum in blocks:\n",
    "        if int(blknum) >= startBlk and int(blknum) <= endBlk:\n",
    "            # only run over blocks in interval\n",
    "            miner = blocks[ blknum ][ util.D_MINER ]\n",
    "            #if miner != \"\":\n",
    "            mined_blocks_per_miner[ miner ] += 1\n",
    "            \n",
    "    miscshare = int( sum(mined_blocks_per_miner.values())*0.01 )\n",
    "    misccount = 0\n",
    "    \n",
    "    minerlabels = list()\n",
    "    blockcount = list()\n",
    "    minercolors = list()\n",
    "    explode = list()\n",
    "    \n",
    "    for miner in mined_blocks_per_miner.most_common():\n",
    "        if miner[1] > miscshare:\n",
    "            minerlabels.append(miner[0])\n",
    "            blockcount.append(miner[1])\n",
    "            minercolors.append( miners[ miner[0] ][ util.D_CONFIG ][ util.DD_COLOR ] )\n",
    "            explode.append(0)\n",
    "        else:\n",
    "            # if the number of blocky by this miner is below 1% share\n",
    "            # then add the miner share to misc\n",
    "            misccount += miner[ 1 ]\n",
    "    minerlabels.append(\"misc\")\n",
    "    blockcount.append(misccount)\n",
    "    minercolors.append( miners[ \"misc\" ][ util.D_CONFIG ][ util.DD_COLOR ] )\n",
    "    explode.append(0)\n",
    "    \n",
    "    if len(explode) >= 1:\n",
    "        # set largetst miner share to be highlighted\n",
    "        #explode[0] = 0.1\n",
    "        pass\n",
    "        \n",
    "    return (minerlabels,blockcount,minercolors,tuple(explode))"
   ]
  },
  {
   "cell_type": "code",
   "execution_count": null,
   "metadata": {},
   "outputs": [],
   "source": [
    "labels,sizes,colors,explode = pie_prepare(startBlk,endBlk,blocks)\n",
    "\n",
    "plt.figure(figsize=(16,9))\n",
    "ax1 = plt.gca()\n",
    "#fig1, ax1 = plt.subplots()\n",
    "\n",
    "patches, texts, autotexts = ax1.pie(sizes, \n",
    "        explode=explode, \n",
    "        colors=colors, \n",
    "        labels=labels, \n",
    "        autopct='%1.1f%%', \n",
    "        shadow=False, \n",
    "        radius=0.3,\n",
    "        startangle=90)\n",
    "\n",
    "ax1.axis('equal')  # Equal aspect ratio ensures that pie is drawn as a circle.\n",
    "\n",
    "plt.title('Start block: ' + str(startBlk) + ' End block: ' + str(endBlk), y=1.08, fontsize=20)\n",
    "max_label_size = 10\n",
    "min_label_size = 5\n",
    "label_factor = 3\n",
    "for t,at in zip(texts, autotexts):\n",
    "    #fontsize_labels = max(min(label_factor*float(at.get_text()[:-1]), max_label_size), min_label_size)\n",
    "    #fontsize_perc = max(12*float(at.get_text()[:-1]), 25)\n",
    "    fontsize_labels = 18\n",
    "    fontsize_perc = 15\n",
    "    t.set_fontsize(fontsize_labels) # labels\n",
    "    at.set_fontsize(fontsize_perc)  # percentages\n",
    "\n",
    "#plt.savefig(\"\")\n",
    "plt.show()\n"
   ]
  },
  {
   "cell_type": "markdown",
   "metadata": {},
   "source": [
    "## Stack plots"
   ]
  }
 ],
 "metadata": {
  "kernelspec": {
   "display_name": "Python 3",
   "language": "python",
   "name": "python3"
  },
  "language_info": {
   "codemirror_mode": {
    "name": "ipython",
    "version": 3
   },
   "file_extension": ".py",
   "mimetype": "text/x-python",
   "name": "python",
   "nbconvert_exporter": "python",
   "pygments_lexer": "ipython3",
   "version": "3.6.7"
  }
 },
 "nbformat": 4,
 "nbformat_minor": 2
}
