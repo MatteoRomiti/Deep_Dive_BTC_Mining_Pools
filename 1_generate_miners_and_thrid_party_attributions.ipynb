{
 "cells": [
  {
   "cell_type": "markdown",
   "metadata": {},
   "source": [
    "# Generate miners.json file and performs initial 3rd party attribution for blocks_attribition.json \n",
    "\n",
    "This notebook generates:\n",
    "* `miners.json` miners files containing mining pool addresses and markers. \n",
    "* `blocks_attribution_0-$(current_blockheight).json` attributes miners to blocks based on third party information\n",
    "\n",
    "### Types of attributions:\n",
    "The added attributions are **only** based on the respective sources. Every updated to the *miners* made during the attribution are only relevant for future (custom) attributions:\n",
    "- `blockchain_info_tag`: (unique) from pools.json available on github from blockchain.info, use the pool tag. This information is serves in miners_initial.json\n",
    "- `blockchain_info_address`: (one for each output address) from pools.json available on github from blockchain.info, use the output addresses info \n",
    "- `blockchain_info`: which is the union of the above attributions\n",
    "- `blocktrail`: (unique) use data from blocktrail.com \n",
    "- `btcccom_*`: also attribution form this file which has same syntax as blockchain.info file"
   ]
  },
  {
   "cell_type": "markdown",
   "metadata": {},
   "source": [
    "## Imports"
   ]
  },
  {
   "cell_type": "code",
   "execution_count": 1,
   "metadata": {
    "ExecuteTime": {
     "end_time": "2019-06-02T18:42:17.078438Z",
     "start_time": "2019-06-02T18:42:16.553495Z"
    }
   },
   "outputs": [],
   "source": [
    "# python3.5\n",
    "import pandas as pd\n",
    "import numpy as np\n",
    "import matplotlib.pyplot as plt\n",
    "\n",
    "import re\n",
    "import binascii\n",
    "import sys\n",
    "import random # draw samples\n",
    "\n",
    "import csv\n",
    "import json\n",
    "from collections import Counter\n",
    "from collections import defaultdict\n",
    "import copy\n",
    "\n",
    "import os.path # os.path.isfile; \n",
    "\n",
    "# dict diffing and printing\n",
    "import dictdiffer\n",
    "import pprint\n",
    "pp = pprint.PrettyPrinter(indent=4)"
   ]
  },
  {
   "cell_type": "code",
   "execution_count": 2,
   "metadata": {
    "ExecuteTime": {
     "end_time": "2019-06-02T18:42:18.234900Z",
     "start_time": "2019-06-02T18:42:18.226713Z"
    }
   },
   "outputs": [
    {
     "data": {
      "text/plain": [
       "<module 'util' from '/home/matteo/deep_dive/util.py'>"
      ]
     },
     "execution_count": 2,
     "metadata": {},
     "output_type": "execute_result"
    }
   ],
   "source": [
    "# custom imports \n",
    "import util\n",
    "from importlib import reload\n",
    "reload(util)"
   ]
  },
  {
   "cell_type": "markdown",
   "metadata": {},
   "source": [
    "## Global variables and functions"
   ]
  },
  {
   "cell_type": "code",
   "execution_count": 3,
   "metadata": {
    "ExecuteTime": {
     "end_time": "2019-06-02T18:42:20.398855Z",
     "start_time": "2019-06-02T18:42:20.394562Z"
    }
   },
   "outputs": [
    {
     "name": "stdout",
     "output_type": "stream",
     "text": [
      "556400\n"
     ]
    }
   ],
   "source": [
    "# data up to blockheight \n",
    "current_blockheight = util.CURRENT_BLOCKHEIGHT\n",
    "print(current_blockheight)"
   ]
  },
  {
   "cell_type": "markdown",
   "metadata": {},
   "source": [
    "### Input files"
   ]
  },
  {
   "cell_type": "markdown",
   "metadata": {},
   "source": [
    "#### `blocks_0-$(current_blockheight).json`\n",
    "The block.sjon file filled with raw data form the blockchain"
   ]
  },
  {
   "cell_type": "code",
   "execution_count": 4,
   "metadata": {
    "ExecuteTime": {
     "end_time": "2019-06-02T18:42:30.060150Z",
     "start_time": "2019-06-02T18:42:30.056373Z"
    }
   },
   "outputs": [],
   "source": [
    "blocks_json_file = \"./dataset/blocks_0-\" + str(current_blockheight) + \".json\"\n",
    "assert( os.path.isfile(blocks_json_file) )"
   ]
  },
  {
   "cell_type": "markdown",
   "metadata": {},
   "source": [
    "#### `blockchain.info_$(date -I).json`\n",
    "pools file from blockchain.info from github\n",
    "* https://github.com/blockchain/Blockchain-Known-Pools\n",
    "* https://github.com/blockchain/Blockchain-Known-Pools/tree/82ed31956388e3950845cc2faeaf6679a057ee5b\n",
    "* UPDATE 2019-01-28: https://github.com/blockchain/Blockchain-Known-Pools/tree/29ab27c844ebdb63110f8783f73b9decd4abc221"
   ]
  },
  {
   "cell_type": "code",
   "execution_count": 6,
   "metadata": {},
   "outputs": [
    {
     "name": "stdout",
     "output_type": "stream",
     "text": [
      "/home/aljosha/minerconomics-analytics/1_block_attribution\r\n"
     ]
    }
   ],
   "source": [
    "!pwd"
   ]
  },
  {
   "cell_type": "code",
   "execution_count": 5,
   "metadata": {
    "ExecuteTime": {
     "end_time": "2019-06-02T18:42:39.647426Z",
     "start_time": "2019-06-02T18:42:39.329774Z"
    }
   },
   "outputs": [
    {
     "name": "stdout",
     "output_type": "stream",
     "text": [
      "--2019-06-02 14:42:39--  https://raw.githubusercontent.com/blockchain/Blockchain-Known-Pools/29ab27c844ebdb63110f8783f73b9decd4abc221/pools.json\n",
      "Resolving raw.githubusercontent.com (raw.githubusercontent.com)... 151.101.192.133, 151.101.128.133, 151.101.64.133, ...\n",
      "Connecting to raw.githubusercontent.com (raw.githubusercontent.com)|151.101.192.133|:443... connected.\n",
      "HTTP request sent, awaiting response... 200 OK\n",
      "Length: 22210 (22K) [text/plain]\n",
      "Saving to: ‘./dataset/blockchain.info_2019-01-28.json’\n",
      "\n",
      "./dataset/blockchai 100%[===================>]  21,69K  --.-KB/s    in 0,008s  \n",
      "\n",
      "2019-06-02 14:42:39 (2,70 MB/s) - ‘./dataset/blockchain.info_2019-01-28.json’ saved [22210/22210]\n",
      "\n"
     ]
    }
   ],
   "source": [
    "!wget --output-document='./dataset/blockchain.info_2019-01-28.json' \"https://raw.githubusercontent.com/blockchain/Blockchain-Known-Pools/29ab27c844ebdb63110f8783f73b9decd4abc221/pools.json\""
   ]
  },
  {
   "cell_type": "code",
   "execution_count": 6,
   "metadata": {
    "ExecuteTime": {
     "end_time": "2019-06-02T18:42:43.869211Z",
     "start_time": "2019-06-02T18:42:43.864419Z"
    }
   },
   "outputs": [],
   "source": [
    "#pools_blockchain_info_json_file = './miners_and_pools_sources/blockchain.info_2018-03-10.json'\n",
    "pools_blockchain_info_json_file = './dataset/blockchain.info_2019-01-28.json'\n",
    "assert( os.path.isfile(pools_blockchain_info_json_file) )"
   ]
  },
  {
   "cell_type": "markdown",
   "metadata": {},
   "source": [
    "#### `btccom_$(date -I).json`\n",
    "pools file from btccom from github\n",
    "* https://github.com/btccom/Blockchain-Known-Pools\n",
    "* https://raw.githubusercontent.com/btccom/Blockchain-Known-Pools/650a92227bf65b06ff0a5b58bb57c13856a3babf/pools.json"
   ]
  },
  {
   "cell_type": "code",
   "execution_count": 9,
   "metadata": {},
   "outputs": [
    {
     "name": "stdout",
     "output_type": "stream",
     "text": [
      "/home/aljosha/minerconomics-analytics/1_block_attribution\r\n"
     ]
    }
   ],
   "source": [
    "!pwd"
   ]
  },
  {
   "cell_type": "code",
   "execution_count": 7,
   "metadata": {
    "ExecuteTime": {
     "end_time": "2019-06-02T18:42:47.741647Z",
     "start_time": "2019-06-02T18:42:47.475429Z"
    }
   },
   "outputs": [
    {
     "name": "stdout",
     "output_type": "stream",
     "text": [
      "--2019-06-02 14:42:47--  https://raw.githubusercontent.com/btccom/Blockchain-Known-Pools/650a92227bf65b06ff0a5b58bb57c13856a3babf/pools.json\n",
      "Resolving raw.githubusercontent.com (raw.githubusercontent.com)... 151.101.192.133, 151.101.128.133, 151.101.64.133, ...\n",
      "Connecting to raw.githubusercontent.com (raw.githubusercontent.com)|151.101.192.133|:443... connected.\n",
      "HTTP request sent, awaiting response... 200 OK\n",
      "Length: 25075 (24K) [text/plain]\n",
      "Saving to: ‘./dataset/btccom_2019-02-15.json’\n",
      "\n",
      "./dataset/btccom_20 100%[===================>]  24,49K  --.-KB/s    in 0,005s  \n",
      "\n",
      "2019-06-02 14:42:47 (4,78 MB/s) - ‘./dataset/btccom_2019-02-15.json’ saved [25075/25075]\n",
      "\n"
     ]
    }
   ],
   "source": [
    "!wget --output-document='./dataset/btccom_2019-02-15.json' \"https://raw.githubusercontent.com/btccom/Blockchain-Known-Pools/650a92227bf65b06ff0a5b58bb57c13856a3babf/pools.json\""
   ]
  },
  {
   "cell_type": "code",
   "execution_count": 9,
   "metadata": {
    "ExecuteTime": {
     "end_time": "2019-06-02T18:42:52.366861Z",
     "start_time": "2019-06-02T18:42:52.363493Z"
    }
   },
   "outputs": [],
   "source": [
    "#pools_blockchain_info_json_file = './miners_and_pools_sources/blockchain.info_2018-03-10.json'\n",
    "pools_btccom_json_file = './dataset/btccom_2019-02-15.json'\n",
    "assert( os.path.isfile(pools_btccom_json_file) )"
   ]
  },
  {
   "cell_type": "markdown",
   "metadata": {},
   "source": [
    "#### `blocks_blocktrail_0-514240.json`\n",
    "Attribution information fetched from blocktrail.com \n",
    "This file was generated with `blocktrail_extract.py` from previously fetched info since API has changed\n",
    "\n",
    "new api:\n",
    "* https://www.blocktrail.com/api"
   ]
  },
  {
   "cell_type": "code",
   "execution_count": 10,
   "metadata": {
    "ExecuteTime": {
     "end_time": "2019-06-02T18:42:55.777382Z",
     "start_time": "2019-06-02T18:42:55.773018Z"
    }
   },
   "outputs": [],
   "source": [
    "blocks_blocktrail_json_file = \"./dataset/blocks_blocktrail_0-514240.json\"\n",
    "assert( os.path.isfile(blocks_blocktrail_json_file) )"
   ]
  },
  {
   "cell_type": "markdown",
   "metadata": {},
   "source": [
    "### Output files"
   ]
  },
  {
   "cell_type": "markdown",
   "metadata": {},
   "source": [
    "#### `miners_initial_blockchaininfo.json`\n",
    "The mining entity data from:\n",
    "* blockchain.info \n",
    "\n",
    "in our custom JSON format defined above"
   ]
  },
  {
   "cell_type": "code",
   "execution_count": 11,
   "metadata": {
    "ExecuteTime": {
     "end_time": "2019-06-02T18:43:00.038419Z",
     "start_time": "2019-06-02T18:43:00.033454Z"
    }
   },
   "outputs": [
    {
     "name": "stdout",
     "output_type": "stream",
     "text": [
      "Output file ./dataset/miners_initial_blockchaininfo.jsonexists, will be overwritten.\n"
     ]
    }
   ],
   "source": [
    "miners_initial_blockchaininfo_json_file = './dataset/miners_initial_blockchaininfo.json'\n",
    "if os.path.isfile(miners_initial_blockchaininfo_json_file):\n",
    "    print(\"Output file \" + miners_initial_blockchaininfo_json_file +  \"exists, will be overwritten.\")"
   ]
  },
  {
   "cell_type": "markdown",
   "metadata": {},
   "source": [
    "#### `miners_initial_blockchaininfo_conflicts.json`\n",
    "The mining entity data from:\n",
    "* blockchain.info \n",
    "\n",
    "in our custom JSON format defined above"
   ]
  },
  {
   "cell_type": "code",
   "execution_count": 12,
   "metadata": {
    "ExecuteTime": {
     "end_time": "2019-06-02T18:43:05.573465Z",
     "start_time": "2019-06-02T18:43:05.568983Z"
    }
   },
   "outputs": [
    {
     "name": "stdout",
     "output_type": "stream",
     "text": [
      "Output file ./dataset/miners_initial_blockchaininfo_conflicts.jsonexists, will be overwritten.\n"
     ]
    }
   ],
   "source": [
    "miners_initial_blockchaininfo_conflicts_json_file = './dataset/miners_initial_blockchaininfo_conflicts.json'\n",
    "if os.path.isfile(miners_initial_blockchaininfo_conflicts_json_file):\n",
    "    print(\"Output file \" + miners_initial_blockchaininfo_conflicts_json_file +  \"exists, will be overwritten.\")"
   ]
  },
  {
   "cell_type": "markdown",
   "metadata": {},
   "source": [
    "#### `miners_initial_btccom.json`\n",
    "The mining entity data from:\n",
    "* btccom \n",
    "\n",
    "in our custom JSON format defined above"
   ]
  },
  {
   "cell_type": "code",
   "execution_count": 13,
   "metadata": {
    "ExecuteTime": {
     "end_time": "2019-06-02T18:43:09.809433Z",
     "start_time": "2019-06-02T18:43:09.804237Z"
    }
   },
   "outputs": [
    {
     "name": "stdout",
     "output_type": "stream",
     "text": [
      "Output file ./dataset/miners_initial_btccom.jsonexists, will be overwritten.\n"
     ]
    }
   ],
   "source": [
    "miners_initial_btccom_json_file = './dataset/miners_initial_btccom.json'\n",
    "if os.path.isfile(miners_initial_btccom_json_file):\n",
    "    print(\"Output file \" + miners_initial_btccom_json_file +  \"exists, will be overwritten.\")"
   ]
  },
  {
   "cell_type": "markdown",
   "metadata": {},
   "source": [
    "#### `miners_initial_btccom_conflicts.json`\n",
    "The mining entity data from:\n",
    "* btccom \n",
    "\n",
    "in our custom JSON format defined above"
   ]
  },
  {
   "cell_type": "code",
   "execution_count": 14,
   "metadata": {
    "ExecuteTime": {
     "end_time": "2019-06-02T18:43:13.269077Z",
     "start_time": "2019-06-02T18:43:13.265457Z"
    }
   },
   "outputs": [],
   "source": [
    "miners_initial_btccom_conflicts_json_file = './dataset/miners_initial_btccom_conflicts.json'\n",
    "if os.path.isfile(miners_initial_btccom_conflicts_json_file):\n",
    "    print(\"Output file \" + miners_initial_btccom_conflicts_json_file +  \"exists, will be overwritten.\")"
   ]
  },
  {
   "cell_type": "markdown",
   "metadata": {},
   "source": [
    "#### `miners_initial_incl_blocktrail.json`\n",
    "The mining entity data from:\n",
    "* incl some miners identified by blocktrail \n",
    "\n",
    "in our custom JSON format defined above"
   ]
  },
  {
   "cell_type": "code",
   "execution_count": 15,
   "metadata": {
    "ExecuteTime": {
     "end_time": "2019-06-02T18:43:16.053498Z",
     "start_time": "2019-06-02T18:43:16.048964Z"
    }
   },
   "outputs": [],
   "source": [
    "miners_initial_incl_blocktrail_json_file = './dataset/miners_initial_incl_blocktrail.json'\n",
    "if os.path.isfile(miners_initial_incl_blocktrail_json_file):\n",
    "    print(\"Output file \" + miners_initial_incl_blocktrail_json_file +  \"exists, will be overwritten.\")"
   ]
  },
  {
   "cell_type": "markdown",
   "metadata": {},
   "source": [
    "#### `miners_initial.json`\n",
    "The mining entity data from:\n",
    "* blockchain.info\n",
    "* btccom \n",
    "\n",
    "in our custom JSON format defined above"
   ]
  },
  {
   "cell_type": "code",
   "execution_count": 16,
   "metadata": {
    "ExecuteTime": {
     "end_time": "2019-06-02T18:43:19.164781Z",
     "start_time": "2019-06-02T18:43:19.161047Z"
    }
   },
   "outputs": [],
   "source": [
    "miners_initial_json_file = './dataset/miners_initial.json'\n",
    "if os.path.isfile(miners_initial_json_file):\n",
    "    print(\"Output file \" + miners_initial_json_file +  \"exists, will be overwritten.\")"
   ]
  },
  {
   "cell_type": "markdown",
   "metadata": {},
   "source": [
    "#### `miners_initial_conflicts.json`\n",
    "The mining entity data from:\n",
    "* blockchain.info\n",
    "* btccom \n",
    "\n",
    "in our custom JSON format defined above"
   ]
  },
  {
   "cell_type": "code",
   "execution_count": 17,
   "metadata": {
    "ExecuteTime": {
     "end_time": "2019-06-02T18:43:23.019847Z",
     "start_time": "2019-06-02T18:43:23.015821Z"
    }
   },
   "outputs": [],
   "source": [
    "miners_initial_conflicts_json_file = './dataset/miners_initial_conflicts.json'\n",
    "if os.path.isfile(miners_initial_conflicts_json_file):\n",
    "    print(\"Output file \" + miners_initial_conflicts_json_file +  \"exists, will be overwritten.\")"
   ]
  },
  {
   "cell_type": "markdown",
   "metadata": {},
   "source": [
    "#### `miners.json`\n",
    "The mining entity data from:\n",
    "* blockchain.info \n",
    "* blocktrail.com\n",
    "\n",
    "Again this data is in our custom JSON format defined above."
   ]
  },
  {
   "cell_type": "code",
   "execution_count": 18,
   "metadata": {
    "ExecuteTime": {
     "end_time": "2019-06-02T18:43:26.603800Z",
     "start_time": "2019-06-02T18:43:26.600030Z"
    }
   },
   "outputs": [],
   "source": [
    "miners_json_file = './dataset/miners.json'\n",
    "if os.path.isfile(miners_json_file):\n",
    "    print(\"Output file \" + miners_json_file +  \"exists, will be overwritten.\")"
   ]
  },
  {
   "cell_type": "markdown",
   "metadata": {},
   "source": [
    "#### `blocks_attribution_0-$(current_blockheight).json`\n",
    "already performed block attributions to link same miners and pools together:\n",
    "- `blockchain_info_marker`\n",
    "- `blockchain_info_address`\n",
    "- `blockchain_info`\n",
    "- `blocktrail`\n",
    "- `btccom`\n",
    "- `btccom_address`\n",
    "- `btccom_marker`"
   ]
  },
  {
   "cell_type": "code",
   "execution_count": 19,
   "metadata": {
    "ExecuteTime": {
     "end_time": "2019-06-02T18:43:29.758969Z",
     "start_time": "2019-06-02T18:43:29.755382Z"
    }
   },
   "outputs": [
    {
     "name": "stdout",
     "output_type": "stream",
     "text": [
      "Output file ./dataset/blocks_attribution_0-556400.jsonexists, will be overwritten.\n"
     ]
    }
   ],
   "source": [
    "blocks_attribution_json_file = './dataset/blocks_attribution_0-' + str(current_blockheight) + '.json'\n",
    "if os.path.isfile(blocks_attribution_json_file):\n",
    "    print(\"Output file \" + blocks_attribution_json_file +  \"exists, will be overwritten.\")"
   ]
  },
  {
   "cell_type": "markdown",
   "metadata": {},
   "source": [
    "## miners.json example structure which should get populated in this notebook\n"
   ]
  },
  {
   "cell_type": "code",
   "execution_count": 22,
   "metadata": {},
   "outputs": [
    {
     "name": "stdout",
     "output_type": "stream",
     "text": [
      "{\n",
      "  \"miner_id\": {\n",
      "    \"addresses\": {\n",
      "      \"addresss\": {\n",
      "        \"comment\": \"\",\n",
      "        \"currencies\": [\n",
      "          \"\"\n",
      "        ],\n",
      "        \"firstUsed\": \"\",\n",
      "        \"lastUsed\": \"\",\n",
      "        \"sources\": [\n",
      "          \"\"\n",
      "        ]\n",
      "      }\n",
      "    },\n",
      "    \"markers\": {\n",
      "      \"marker\": {\n",
      "        \"comment\": \"\",\n",
      "        \"currencies\": [\n",
      "          \"\"\n",
      "        ],\n",
      "        \"firstUsed\": \"\",\n",
      "        \"lastUsed\": \"\",\n",
      "        \"sources\": [\n",
      "          \"\"\n",
      "        ]\n",
      "      }\n",
      "    },\n",
      "    \"names\": {\n",
      "      \"name\": {\n",
      "        \"comment\": \"\",\n",
      "        \"currencies:\": [\n",
      "          \"\"\n",
      "        ],\n",
      "        \"firstUsed\": \"\",\n",
      "        \"fullName\": \"\",\n",
      "        \"lastUsed\": \"\",\n",
      "        \"sources\": [\n",
      "          \"\"\n",
      "        ],\n",
      "        \"url\": \"\"\n",
      "      }\n",
      "    }\n",
      "  }\n",
      "}\n"
     ]
    }
   ],
   "source": [
    "# Show example file\n",
    "with open(miners_example_file) as miners_example_fp:\n",
    "    miners_example = json.load(miners_example_fp)\n",
    "    \n",
    "print(json.dumps(miners_example, indent=2, sort_keys=True))\n"
   ]
  },
  {
   "cell_type": "markdown",
   "metadata": {},
   "source": [
    "## Add pools file form blockcahin.info "
   ]
  },
  {
   "cell_type": "code",
   "execution_count": 20,
   "metadata": {
    "ExecuteTime": {
     "end_time": "2019-06-02T18:43:40.450195Z",
     "start_time": "2019-06-02T18:43:40.446051Z"
    }
   },
   "outputs": [],
   "source": [
    "with open (pools_blockchain_info_json_file) as pools_bc_data:\n",
    "    pools_bc = json.load(pools_bc_data)"
   ]
  },
  {
   "cell_type": "code",
   "execution_count": 21,
   "metadata": {
    "ExecuteTime": {
     "end_time": "2019-06-02T18:43:42.431690Z",
     "start_time": "2019-06-02T18:43:42.426090Z"
    }
   },
   "outputs": [
    {
     "name": "stdout",
     "output_type": "stream",
     "text": [
      "coinbase_tags\n",
      "payout_addresses\n"
     ]
    }
   ],
   "source": [
    "for field in pools_bc:\n",
    "    print(field)"
   ]
  },
  {
   "cell_type": "code",
   "execution_count": 22,
   "metadata": {
    "ExecuteTime": {
     "end_time": "2019-06-02T18:43:43.558319Z",
     "start_time": "2019-06-02T18:43:43.553934Z"
    }
   },
   "outputs": [],
   "source": [
    "assert \"payout_addresses\" in pools_bc.keys()\n",
    "assert \"coinbase_tags\" in pools_bc.keys()"
   ]
  },
  {
   "cell_type": "code",
   "execution_count": 23,
   "metadata": {
    "ExecuteTime": {
     "end_time": "2019-06-02T18:43:44.567241Z",
     "start_time": "2019-06-02T18:43:44.561842Z"
    }
   },
   "outputs": [
    {
     "data": {
      "text/plain": [
       "85"
      ]
     },
     "execution_count": 23,
     "metadata": {},
     "output_type": "execute_result"
    }
   ],
   "source": [
    "len(pools_bc[\"payout_addresses\"]) # 85"
   ]
  },
  {
   "cell_type": "code",
   "execution_count": 24,
   "metadata": {
    "ExecuteTime": {
     "end_time": "2019-06-02T18:43:45.301173Z",
     "start_time": "2019-06-02T18:43:45.295312Z"
    }
   },
   "outputs": [
    {
     "data": {
      "text/plain": [
       "89"
      ]
     },
     "execution_count": 24,
     "metadata": {},
     "output_type": "execute_result"
    }
   ],
   "source": [
    "len(pools_bc[\"coinbase_tags\"]) # 89"
   ]
  },
  {
   "cell_type": "markdown",
   "metadata": {},
   "source": [
    "## Add pools file form btccom"
   ]
  },
  {
   "cell_type": "markdown",
   "metadata": {},
   "source": [
    "Compare and add the info from the btccom file"
   ]
  },
  {
   "cell_type": "code",
   "execution_count": 25,
   "metadata": {
    "ExecuteTime": {
     "end_time": "2019-06-02T18:43:49.877602Z",
     "start_time": "2019-06-02T18:43:49.874126Z"
    }
   },
   "outputs": [],
   "source": [
    "with open (pools_btccom_json_file) as pools_btccom_data:\n",
    "    pools_btccom = json.load(pools_btccom_data)"
   ]
  },
  {
   "cell_type": "code",
   "execution_count": 26,
   "metadata": {
    "ExecuteTime": {
     "end_time": "2019-06-02T18:43:51.188247Z",
     "start_time": "2019-06-02T18:43:51.184233Z"
    }
   },
   "outputs": [
    {
     "name": "stdout",
     "output_type": "stream",
     "text": [
      "coinbase_tags\n",
      "payout_addresses\n"
     ]
    }
   ],
   "source": [
    "for field in pools_btccom:\n",
    "    print(field)"
   ]
  },
  {
   "cell_type": "code",
   "execution_count": 27,
   "metadata": {
    "ExecuteTime": {
     "end_time": "2019-06-02T18:43:52.261563Z",
     "start_time": "2019-06-02T18:43:52.256403Z"
    }
   },
   "outputs": [],
   "source": [
    "assert \"payout_addresses\" in pools_bc.keys()\n",
    "assert \"coinbase_tags\" in pools_bc.keys()"
   ]
  },
  {
   "cell_type": "code",
   "execution_count": 31,
   "metadata": {},
   "outputs": [
    {
     "data": {
      "text/plain": [
       "93"
      ]
     },
     "execution_count": 31,
     "metadata": {},
     "output_type": "execute_result"
    }
   ],
   "source": [
    "len(pools_btccom[\"payout_addresses\"]) # 93"
   ]
  },
  {
   "cell_type": "code",
   "execution_count": 32,
   "metadata": {},
   "outputs": [
    {
     "data": {
      "text/plain": [
       "104"
      ]
     },
     "execution_count": 32,
     "metadata": {},
     "output_type": "execute_result"
    }
   ],
   "source": [
    "len(pools_btccom[\"coinbase_tags\"]) # 104"
   ]
  },
  {
   "cell_type": "code",
   "execution_count": 28,
   "metadata": {
    "ExecuteTime": {
     "end_time": "2019-06-02T18:43:56.400336Z",
     "start_time": "2019-06-02T18:43:56.384409Z"
    }
   },
   "outputs": [
    {
     "name": "stdout",
     "output_type": "stream",
     "text": [
      "('add',\n",
      " 'coinbase_tags',\n",
      " [('BITFARMS', {'link': 'https://www.bitarms.io/', 'name': 'Bitfarms'}),\n",
      "  ('/Huobi/', {'link': 'https://www.poolhb.com/', 'name': 'Huobi.pool'}),\n",
      "  ('/E2M & BTC.TOP/', {'link': 'http://www.easy2mine.com/', 'name': 'WAYI.CN'}),\n",
      "  ('/canoepool/', {'link': 'https://www.canoepool.com/', 'name': 'CanoePool'}),\n",
      "  ('Mined By AntPool', {'link': 'https://www.antpool.com/', 'name': 'AntPool'}),\n",
      "  ('BWPool', {'link': 'https://bwpool.net/', 'name': 'BWPool'}),\n",
      "  ('/DCEX/', {'link': 'http://dcexploration.cn', 'name': 'DCEX'}),\n",
      "  ('/BTPOOL/', {'link': '', 'name': 'BTPOOL'}),\n",
      "  ('/Rawpool.com/',\n",
      "   {'link': 'https://www.rawpool.com/', 'name': 'Rawpool.com'}),\n",
      "  ('/Helix/', {'link': '', 'name': 'Helix'}),\n",
      "  ('/Bitcoin-Ukraine.com.ua/',\n",
      "   {'link': 'https://bitcoin-ukraine.com.ua/', 'name': 'Bitcoin-Ukraine'}),\n",
      "  ('/poolin.com', {'link': 'https://www.poolin.com/', 'name': 'Poolin'}),\n",
      "  ('/SecretSuperstar/', {'link': '', 'name': 'SecretSuperstar'}),\n",
      "  ('/tigerpool.net', {'link': '', 'name': 'tigerpool.net'}),\n",
      "  ('/SigmaPool.com/',\n",
      "   {'link': 'https://sigmapool.com', 'name': 'sigmapool.com'}),\n",
      "  ('/www.okpool.top/',\n",
      "   {'link': 'https://www.okpool.top', 'name': 'okpool.top'})])\n",
      "('remove',\n",
      " 'coinbase_tags',\n",
      " [('SigmaPool.com',\n",
      "   {'link': 'https://www.sigmapool.com/', 'name': 'SigmaPool.com'})])\n",
      "('add',\n",
      " 'payout_addresses',\n",
      " [('3GvEGtnvgeBJ3p3EpdZhvUkxY4pDARkbjd',\n",
      "   {'link': 'https://www.bitfarms.io/', 'name': 'Bitfarms'}),\n",
      "  ('165GCEAx81wce33FWEnPCRhdjcXCrBJdKn',\n",
      "   {'link': 'https://bitcoin-russia.ru/', 'name': 'BitcoinRussia'}),\n",
      "  ('34qkc2iac6RsyxZVfyE2S5U5WcRsbg2dpK',\n",
      "   {'link': 'https://pool.btc.com', 'name': 'BTC.com'}),\n",
      "  ('3EhLZarJUNSfV6TWMZY1Nh5mi3FMsdHa5U',\n",
      "   {'link': 'https://pool.btc.com', 'name': 'BTC.com'}),\n",
      "  ('1GP8eWArgpwRum76saJS4cZKCHWJHs9PQo',\n",
      "   {'link': 'https://btc.canoepool.com/', 'name': 'CanoePool'}),\n",
      "  ('1FbBbv5oYqFKwiPm4CAqvAy8345n8AQ74b',\n",
      "   {'link': 'https://www.rawpool.com/', 'name': 'Rawpool.com'}),\n",
      "  ('1LsFmhnne74EmU4q4aobfxfrWY4wfMVd8w', {'link': '', 'name': 'tiger'}),\n",
      "  ('3JQSigWTCHyBLRD979JWgEtWP5YiiFwcQB',\n",
      "   {'link': 'https://www.poolin.com/', 'name': 'Poolin'})])\n"
     ]
    }
   ],
   "source": [
    "diffs = list(dictdiffer.diff(pools_bc,pools_btccom))\n",
    "for diff in diffs:\n",
    "    if diff[0] == \"add\":\n",
    "        pprint.pprint(diff)\n",
    "    if diff[0] == \"remove\":\n",
    "        pprint.pprint(diff)"
   ]
  },
  {
   "cell_type": "code",
   "execution_count": 29,
   "metadata": {
    "ExecuteTime": {
     "end_time": "2019-06-02T18:43:59.296473Z",
     "start_time": "2019-06-02T18:43:59.288612Z"
    }
   },
   "outputs": [
    {
     "name": "stdout",
     "output_type": "stream",
     "text": [
      "('change',\n",
      " ['coinbase_tags', '/solo.ckpool.org/', 'name'],\n",
      " ('Solo CKPool', 'Solo CK'))\n",
      "('change', 'coinbase_tags./NiceHashSolo.name', ('NiceHash Solo', 'NiceHash'))\n",
      "('change',\n",
      " 'coinbase_tags./BitClub Network/.name',\n",
      " ('BitClub Network', 'BitClub'))\n",
      "('change', 'coinbase_tags.BTCChina Pool.name', ('BTCC Pool', 'BTCC'))\n",
      "('change', ['coinbase_tags', 'btcchina.com', 'name'], ('BTCC Pool', 'BTCC'))\n",
      "('change', ['coinbase_tags', 'BTCChina.com', 'name'], ('BTCC Pool', 'BTCC'))\n",
      "('change', 'coinbase_tags./BTCC/.name', ('BTCC Pool', 'BTCC'))\n",
      "('change', 'coinbase_tags.BW Pool.name', ('BW.COM', 'BWPool'))\n",
      "('change',\n",
      " ['coinbase_tags', 'xbtc.exx.com&bw.com', 'name'],\n",
      " ('xbtc.exx.com&bw.com', 'EXX&BW'))\n",
      "('change', 'coinbase_tags./CANOE/.name', ('CANOE', 'CanoePool'))\n",
      "('change', 'coinbase_tags./haominer/.name', ('Haominer', 'haominer'))\n",
      "('change',\n",
      " 'payout_addresses.1JLRXD8rjRgQtTS9MvfQALfHgGWau9L9ky.name',\n",
      " ('BW.COM', 'BWPool'))\n",
      "('change',\n",
      " 'payout_addresses.155fzsEBHy9Ri2bMQ8uuuR3tv1YzcDywd4.name',\n",
      " ('BitClub Network', 'BitClub'))\n",
      "('change',\n",
      " 'payout_addresses.152f1muMCNa7goXYhYAQC61hxEgGacmncB.name',\n",
      " ('BTCC Pool', 'BTCC'))\n",
      "('change',\n",
      " 'payout_addresses.19RE4mz2UbDxDVougc6GGdoT4x5yXxwFq2.name',\n",
      " (\"Patel's Mining pool\", 'Patels'))\n",
      "('change',\n",
      " 'payout_addresses.197miJmttpCt2ubVs6DDtGBYFDroxHmvVB.name',\n",
      " (\"Patel's Mining pool\", 'Patels'))\n",
      "('change',\n",
      " 'payout_addresses.1AZ6BkCo4zgTuuLpRStJH8iNsehXTMp456.name',\n",
      " ('Bitcoin India', 'BitcoinIndia'))\n"
     ]
    }
   ],
   "source": [
    "for diff in diffs:\n",
    "    if diff[0] == \"change\":\n",
    "        #if type(diff[1]) is list:\n",
    "        #    \"name\" in diff[1]:\n",
    "        #        pprint.pprint(diff)\n",
    "        #else:\n",
    "            if \"name\" in diff[1]:\n",
    "                pprint.pprint(diff)"
   ]
  },
  {
   "cell_type": "markdown",
   "metadata": {},
   "source": [
    "## Create miners\\_initial\\_....json file"
   ]
  },
  {
   "cell_type": "code",
   "execution_count": 30,
   "metadata": {
    "ExecuteTime": {
     "end_time": "2019-06-02T18:44:02.750183Z",
     "start_time": "2019-06-02T18:44:02.740287Z"
    },
    "scrolled": true
   },
   "outputs": [],
   "source": [
    "class ConflictingPoolData(Exception):\n",
    "    pass\n",
    "\n",
    "def add_makers_from_source(pools_dict,miners_dict,source,currency=[ \"BTC\",] ):\n",
    "    # Add all markers from blockchain.info pools.json style file converted to a pools_dict\n",
    "    # fields of blockchain.info dict\n",
    "    fpayout=\"payout_addresses\"\n",
    "    ftags=\"coinbase_tags\"\n",
    "    fname=\"name\"\n",
    "    furl=\"link\"\n",
    "\n",
    "    for marker in pools_dict[ftags]:\n",
    "        pool_name = pools_dict[ftags][marker][fname]\n",
    "        pool_name_lookup = util.get_miner_id_by_name(miners_dict,pool_name)\n",
    "        if pool_name_lookup is not None and pool_name_lookup != pool_name:\n",
    "            # print a note if a pool has more than one name, this is ok \n",
    "            print(\"duplicate name in markers: \" + pool_name + \" - \" + pool_name_lookup)\n",
    "            pool_name = pool_name_lookup\n",
    "        pool_url = pools_dict[ftags][marker][furl]\n",
    "\n",
    "        \n",
    "        if pool_name in miners_dict.keys() and marker in miners_dict[ pool_name ][ util.D_MARKERS ]:\n",
    "            # print a note if a pool has more than one marker, this is ok \n",
    "            print(\"Same marker for pool: \" + pool_name + \" marker:\" +  marker)\n",
    "        elif pool_name in miners_dict.keys():\n",
    "            # print a note if a pool has more than one marker, this is ok \n",
    "            print(\"Multiple markers for pool: \" + pool_name)\n",
    "\n",
    "        names_dict = { pools_dict[ftags][marker][fname]: { util.DD_URL:pool_url,\n",
    "                                    util.DD_CURRENCIES: currency,\n",
    "                                    util.DD_FULLNAME: \"\",\n",
    "                                    util.DD_FIRSTUSED: 0,\n",
    "                                    util.DD_LASTUSED: 0,\n",
    "                                    util.DD_SOURCES: source} } \n",
    "\n",
    "        markers_dict = { marker: {  util.DD_CURRENCIES: currency,\n",
    "                                    util.DD_FIRSTUSED: 0,\n",
    "                                    util.DD_LASTUSED: 0,\n",
    "                                    util.DD_SOURCES: source } }  \n",
    "\n",
    "        util.add_miner(pool_name,\n",
    "                 miners_dict,\n",
    "                 names_dict,\n",
    "                 markers_dict)\n",
    "\n",
    "        #print(pool_name + \"\\t\" + marker + \"\\t\" + pool_url)\n",
    "    return miners_dict\n"
   ]
  },
  {
   "cell_type": "code",
   "execution_count": 31,
   "metadata": {
    "ExecuteTime": {
     "end_time": "2019-06-02T18:44:03.771284Z",
     "start_time": "2019-06-02T18:44:03.759673Z"
    }
   },
   "outputs": [],
   "source": [
    "def add_addresses_from_source(pools_dict,miners_dict,source,currency=[ \"BTC\",] ):\n",
    "    # Add all addresses from blockchain.info style file \n",
    "    # fields of blockchain.info dict\n",
    "    fpayout=\"payout_addresses\"\n",
    "    ftags=\"coinbase_tags\"\n",
    "    fname=\"name\"\n",
    "    furl=\"link\"\n",
    "    \n",
    "    for address in pools_dict[fpayout]:\n",
    "        pool_name = pools_dict[fpayout][address][fname]\n",
    "        pool_url = pools_dict[fpayout][address][furl]\n",
    "        \n",
    "        pool_name_lookup = util.get_miner_id_by_name(miners_dict,pool_name)\n",
    "        if pool_name_lookup is not None and pool_name_lookup != pool_name:\n",
    "            # print a note if a pool has more than one name, this is ok \n",
    "            print(\"duplicate name in addresses: \" + pool_name + \" - \" + pool_name_lookup)\n",
    "            pool_name = pool_name_lookup\n",
    "        \n",
    "        if pool_name in miners_dict:\n",
    "            # add address to a existing pool\n",
    "            #print(\"Adding address \" + address + \" to pool \"+ pool_name)\n",
    "\n",
    "            # check for duplicated pool_names with different addresses, this should not happen\n",
    "            #print(json.dumps(miners, indent=2, sort_keys=True))\n",
    "            stored_pool_url = miners_dict[ pool_name ][ util.D_NAMES ][ pool_name ][\"url\"]\n",
    "\n",
    "            if ( pool_url.strip(\"/\").strip(\"https://www.\").strip(\"http://www.\").strip(\"http://\")\n",
    "            != stored_pool_url.strip(\"/\").strip(\"https://www.\").strip(\"http://www.\").strip(\"http://\") ):\n",
    "                print(\"CONFLICTING URL: \" + repr(pool_url) )\n",
    "                print(\"CONFLICTING URL: \" + repr(stored_pool_url) )\n",
    "                #raise ConflictingPoolData()\n",
    "\n",
    "            # check if address already added \n",
    "            #if address in miners[pool_name][\"addresses\"]:\n",
    "            #    print(\" \" + repr(pool_url) + repr(pool_name) + repr(address))\n",
    "            #    print(\" \" + repr(miners[pool_name][\"addresses\"][address]) )\n",
    "            #    raise ConflictingPoolData()\n",
    "                \n",
    "            names_dict = { pools_dict[fpayout][address][fname]: { util.DD_URL:pool_url,\n",
    "                                    util.DD_CURRENCIES: currency,\n",
    "                                    util.DD_FULLNAME: \"\",\n",
    "                                    util.DD_FIRSTUSED: 0,\n",
    "                                    util.DD_LASTUSED: 0,\n",
    "                                    util.DD_SOURCES: source} }\n",
    "            \n",
    "            addresses_dict={ address: { util.DD_CURRENCIES: currency,\n",
    "                                                 util.DD_FIRSTUSED: 0,\n",
    "                                                 util.DD_LASTUSED: 0,\n",
    "                                                 util.DD_SOURCES: source } }\n",
    "\n",
    "            util.add_miner(miner_id=pool_name,\n",
    "                     miners=miners_dict,\n",
    "                     names_dict=names_dict,\n",
    "                     addresses_dict=addresses_dict)\n",
    "        else:\n",
    "            # ceate new pool for new address\n",
    "            print(\"new pool: \" + pool_name)\n",
    "            util.add_miner(miner_id=pool_name,\n",
    "                     miners=miners_dict,\n",
    "                     names_dict= { pool_name: { util.DD_URL:pool_url,\n",
    "                                                util.DD_CURRENCIES: currency,\n",
    "                                                util.DD_FULLNAME: \"\",\n",
    "                                                util.DD_FIRSTUSED: 0,\n",
    "                                                util.DD_LASTUSED: 0,\n",
    "                                                util.DD_SOURCES:source } },\n",
    "                     addresses_dict= { address: { util.DD_CURRENCIES: currency,\n",
    "                                                  util.DD_FIRSTUSED: 0,\n",
    "                                                  util.DD_LASTUSED: 0,\n",
    "                                                  util.DD_SOURCES: source } }, )\n",
    "    return miners_dict\n",
    "        "
   ]
  },
  {
   "cell_type": "markdown",
   "metadata": {},
   "source": [
    "## Create miners_initial_blockchaininfo.json file from blockchain.info\n",
    "This initial pools files is based soly on data from *blockchain.info* github repository. \n",
    "It should give us a clear start to begin with. "
   ]
  },
  {
   "cell_type": "code",
   "execution_count": 32,
   "metadata": {
    "ExecuteTime": {
     "end_time": "2019-06-02T18:44:06.291629Z",
     "start_time": "2019-06-02T18:44:06.286378Z"
    }
   },
   "outputs": [
    {
     "name": "stdout",
     "output_type": "stream",
     "text": [
      "Multiple markers for pool: OzCoin\n",
      "Multiple markers for pool: TripleMining\n",
      "Multiple markers for pool: Polmine\n",
      "Multiple markers for pool: AntPool\n",
      "Multiple markers for pool: BTCC Pool\n",
      "Multiple markers for pool: BTCC Pool\n",
      "Multiple markers for pool: BTCC Pool\n",
      "Multiple markers for pool: BitFury\n",
      "Multiple markers for pool: ViaBTC\n",
      "Multiple markers for pool: PHash.IO\n"
     ]
    }
   ],
   "source": [
    "# Boostrap pools files with blockchain.info github data\n",
    "# https://github.com/blockchain/Blockchain-Known-Pools/tree/82ed31956388e3950845cc2faeaf6679a057ee5b\n",
    "miners_initial_blockchaininfo = dict()\n",
    "miners_initial_blockchaininfo.clear()\n",
    "\n",
    "miners_initial_blockchaininfo = add_makers_from_source(pools_bc,miners_dict=miners_initial_blockchaininfo,source=[\"blockchain.info github\",])"
   ]
  },
  {
   "cell_type": "code",
   "execution_count": 33,
   "metadata": {
    "ExecuteTime": {
     "end_time": "2019-06-02T18:44:07.377402Z",
     "start_time": "2019-06-02T18:44:07.368796Z"
    }
   },
   "outputs": [
    {
     "name": "stdout",
     "output_type": "stream",
     "text": [
      "new pool: BTC Nuggets\n",
      "new pool: EkanemBTC\n",
      "new pool: Huobi\n",
      "new pool: CloudHashing\n",
      "new pool: digitalX Mintsy\n",
      "new pool: Telco 214\n",
      "new pool: BTC Pool Party\n",
      "new pool: Multipool\n",
      "new pool: transactioncoinmining\n",
      "new pool: BTCDig\n",
      "new pool: Tricky's BTC Pool\n",
      "new pool: BTCMP\n",
      "new pool: Eobot\n",
      "new pool: UNOMP\n",
      "new pool: Patel's Mining pool\n",
      "new pool: GoGreenLight\n",
      "new pool: Poolin\n"
     ]
    }
   ],
   "source": [
    "miners_initial_blockchaininfo = add_addresses_from_source(pools_bc,miners_dict=miners_initial_blockchaininfo,source=[\"blockchain.info github\",])"
   ]
  },
  {
   "cell_type": "code",
   "execution_count": 34,
   "metadata": {
    "ExecuteTime": {
     "end_time": "2019-06-02T18:44:11.330452Z",
     "start_time": "2019-06-02T18:44:11.325731Z"
    }
   },
   "outputs": [
    {
     "name": "stdout",
     "output_type": "stream",
     "text": [
      "\n"
     ]
    }
   ],
   "source": [
    "# 'digitalX Mintsy' => 'digitalBTC'\n",
    "util.add_miner('digitalBTC',miners_initial_blockchaininfo) # already exists \n",
    "util.unify_miners('digitalX Mintsy','digitalBTC',miners_initial_blockchaininfo)\n",
    "print()"
   ]
  },
  {
   "cell_type": "code",
   "execution_count": 35,
   "metadata": {
    "ExecuteTime": {
     "end_time": "2019-06-02T18:44:12.203488Z",
     "start_time": "2019-06-02T18:44:12.198191Z"
    },
    "scrolled": true
   },
   "outputs": [
    {
     "data": {
      "text/plain": [
       "{'names': {'BW.COM': {'url': 'https://bw.com',\n",
       "   'currencies': ['BTC'],\n",
       "   'fullName': '',\n",
       "   'firstUsed': 0,\n",
       "   'lastUsed': 0,\n",
       "   'sources': ['blockchain.info github']}},\n",
       " 'markers': {'BW Pool': {'currencies': ['BTC'],\n",
       "   'firstUsed': 0,\n",
       "   'lastUsed': 0,\n",
       "   'sources': ['blockchain.info github']}},\n",
       " 'addresses': {'1JLRXD8rjRgQtTS9MvfQALfHgGWau9L9ky': {'currencies': ['BTC'],\n",
       "   'firstUsed': 0,\n",
       "   'lastUsed': 0,\n",
       "   'sources': ['blockchain.info github']}}}"
      ]
     },
     "execution_count": 35,
     "metadata": {},
     "output_type": "execute_result"
    }
   ],
   "source": [
    "util.get_sample(miners_initial_blockchaininfo)"
   ]
  },
  {
   "cell_type": "code",
   "execution_count": 36,
   "metadata": {
    "ExecuteTime": {
     "end_time": "2019-06-02T18:44:13.352232Z",
     "start_time": "2019-06-02T18:44:13.339855Z"
    }
   },
   "outputs": [],
   "source": [
    "with open(miners_initial_blockchaininfo_json_file, 'w') as outfile:\n",
    "    json.dump(miners_initial_blockchaininfo, outfile)"
   ]
  },
  {
   "cell_type": "markdown",
   "metadata": {},
   "source": [
    "## blockchain.info only attribution"
   ]
  },
  {
   "cell_type": "code",
   "execution_count": 37,
   "metadata": {
    "ExecuteTime": {
     "end_time": "2019-06-02T18:44:18.345691Z",
     "start_time": "2019-06-02T18:44:14.852536Z"
    }
   },
   "outputs": [],
   "source": [
    "# freshly read clean blocks.json file without any attributions\n",
    "blocks = dict()\n",
    "blocks.clear()\n",
    "\n",
    "with open(blocks_json_file, 'r') as fp:\n",
    "    blocks = json.load(fp)"
   ]
  },
  {
   "cell_type": "code",
   "execution_count": 38,
   "metadata": {
    "ExecuteTime": {
     "end_time": "2019-06-02T18:44:20.525703Z",
     "start_time": "2019-06-02T18:44:20.518978Z"
    }
   },
   "outputs": [],
   "source": [
    "# freshly read lean miners_minitial file (from blockchain.info) without any modifications\n",
    "miners_initial_blockchaininfo = dict()\n",
    "miners_initial_blockchaininfo.clear()\n",
    "\n",
    "with open(miners_initial_blockchaininfo_json_file, 'r') as fp:\n",
    "    miners_initial_blockchaininfo = json.load(fp)"
   ]
  },
  {
   "cell_type": "code",
   "execution_count": 39,
   "metadata": {
    "ExecuteTime": {
     "end_time": "2019-06-02T18:44:21.794656Z",
     "start_time": "2019-06-02T18:44:21.789655Z"
    }
   },
   "outputs": [
    {
     "data": {
      "text/plain": [
       "{'names': {'Bitcoin.com': {'url': 'https://www.bitcoin.com',\n",
       "   'currencies': ['BTC'],\n",
       "   'fullName': '',\n",
       "   'firstUsed': 0,\n",
       "   'lastUsed': 0,\n",
       "   'sources': ['blockchain.info github']}},\n",
       " 'markers': {'pool.bitcoin.com': {'currencies': ['BTC'],\n",
       "   'firstUsed': 0,\n",
       "   'lastUsed': 0,\n",
       "   'sources': ['blockchain.info github']}},\n",
       " 'addresses': {}}"
      ]
     },
     "execution_count": 39,
     "metadata": {},
     "output_type": "execute_result"
    }
   ],
   "source": [
    "util.get_sample(miners_initial_blockchaininfo)"
   ]
  },
  {
   "cell_type": "code",
   "execution_count": 40,
   "metadata": {
    "ExecuteTime": {
     "end_time": "2019-06-02T18:44:26.450003Z",
     "start_time": "2019-06-02T18:44:26.432255Z"
    }
   },
   "outputs": [],
   "source": [
    "def attribute_blocks(blocks,\n",
    "                     miners_dict,\n",
    "                     addr_attr,\n",
    "                     marker_attr,\n",
    "                     both_attr,\n",
    "                     source,\n",
    "                     override=False,\n",
    "                     update=False):\n",
    "    \"\"\" Attribute given blocks based on given miners_dict json\n",
    "    \n",
    "    Takes names for the different attribution per address, marker and both as well as a source \n",
    "    from where the miners_dict information comes from. Overrides existing attributions with given\n",
    "    names if override flag is set. \n",
    "    Returns tuple of (blocks,miners_dict,conflicts) and does change miners_dict in the process.\n",
    "    \"\"\"\n",
    "    i = 0\n",
    "    conflicts = list()\n",
    "    conflicts.clear()\n",
    "\n",
    "    for blknum in blocks:\n",
    "        match = list()\n",
    "        addr_match = list()\n",
    "        cb_match = list()\n",
    "\n",
    "        try:\n",
    "            # first always test if not already attributed \n",
    "            if ( addr_attr not in blocks[ blknum ][ util.D_ATTRIBUTIONS ].keys() ) or override:\n",
    "                # match address\n",
    "                if len( blocks[ blknum ][ util.D_ADDRESSES ] ) == 1:\n",
    "                    # only match if there is just one output address in the coinbase \n",
    "                    address = blocks[ blknum ][ util.D_ADDRESSES ][0]\n",
    "                    match = util.match_address_to_miner( address, miners_dict, strict=False, blknum=int(blknum) )\n",
    "\n",
    "                    if len( match ) >= 1:\n",
    "                        # if multiple coinbase markers match we can get more than one match\n",
    "                        matched_miners = defaultdict(list)\n",
    "                        for ma in match:\n",
    "                            matched_miners[ ma[0] ].append( ma[1] )\n",
    "                        j = 0\n",
    "                        attr = \"\"\n",
    "                        for mi in matched_miners:\n",
    "                            blocks[ blknum ][ util.D_ATTRIBUTIONS ][ addr_attr + attr ] = { util.DDD_MINER:mi,\n",
    "                                                                                               \"matches\":matched_miners[mi],\n",
    "                                                                                               util.DDD_SRC:source }\n",
    "                            j += 1\n",
    "                            attr = str(j)\n",
    "\n",
    "            if ( marker_attr not in blocks[ blknum ][ util.D_ATTRIBUTIONS ].keys() ) or override:\n",
    "                # match coinbase\n",
    "                coinbase = blocks[ blknum ][ util.D_CB ]\n",
    "                match = util.match_coinbase_to_miner( coinbase, miners_dict, strict=False, blknum=int(blknum) )\n",
    "\n",
    "                if len( match ) >= 1:\n",
    "                    # if multiple coinbase markers match we can get more than one match\n",
    "                    matched_miners = defaultdict(list)\n",
    "                    for ma in match:\n",
    "                        matched_miners[ ma[0] ].append( ma[1] )\n",
    "                    j = 0\n",
    "                    attr = \"\"\n",
    "                    for mi in matched_miners:\n",
    "                        blocks[ blknum ][ util.D_ATTRIBUTIONS ][ marker_attr + attr ] = { util.DDD_MINER:mi,\n",
    "                                                                                           \"matches\":matched_miners[mi],\n",
    "                                                                                           util.DDD_SRC:source }\n",
    "                        j += 1\n",
    "                        attr = str(j)\n",
    "\n",
    "            if ( both_attr not in blocks[ blknum ][ util.D_ATTRIBUTIONS ].keys() ) or override:\n",
    "                # match both and update miners\n",
    "                coinbase = blocks[ blknum ][ util.D_CB ]\n",
    "                if len( blocks[ blknum ][ util.D_ADDRESSES ] ) == 1:\n",
    "                    address = blocks[ blknum ][ util.D_ADDRESSES ][0]\n",
    "                    match = util.match_miner(miners_dict,address,coinbase,update=update, blknum=int(blknum) )\n",
    "                else:\n",
    "                    match = util.match_miner(miners=miners_dict,coinbase=coinbase, blknum=int(blknum) )\n",
    "\n",
    "                if len( match ) > 0:\n",
    "                    # There could be more than one marker of the same pool that matches simultaniously\n",
    "                    matches = list()\n",
    "                    #print(match)\n",
    "                    for m in match:\n",
    "                        matches.append( m[1] )\n",
    "                    blocks[ blknum ][ util.D_ATTRIBUTIONS ][ both_attr ] = { util.DDD_MINER:match[0][0],\n",
    "                                                                                    \"matches\":matches,\n",
    "                                                                                    util.DDD_SRC:source }\n",
    "        except util.ConflictingMinerData as e:\n",
    "            print()\n",
    "            print(\"Message    = \",e.message)\n",
    "            print(\"Blockheight= \",blknum)\n",
    "            print(\"Miner1     = \",e.miner1)\n",
    "            print(\"Miner2     = \",e.miner2)\n",
    "            print(\"Coinbase   = \",e.coinbase)\n",
    "            print(\"CoinbaseStr= \",repr(binascii.unhexlify(e.coinbase)))\n",
    "            print(\"Addesses   = \",e.address)\n",
    "            print(\"addr_match = \",e.addr_match)\n",
    "            print(\"cb_match   = \",e.cb_match)\n",
    "            conflicts.append( { \"message\":e.message,\n",
    "                                util.DDD_MINER + \"1\":e.miner1,\n",
    "                                util.DDD_MINER + \"2\":e.miner2,\n",
    "                                util.D_CB + \"1\":e.coinbase,\n",
    "                                \"address\": e.address,\n",
    "                                \"addr_match\": e.addr_match,\n",
    "                                \"cb_match\": e.cb_match,\n",
    "                                util.DDD_SRC:source } )\n",
    "\n",
    "        # progress bar     \n",
    "        i+=1\n",
    "        if i % 1000 == 0:\n",
    "            print(i,end=\"\\r\")\n",
    "            sys.stdout.flush()\n",
    "    return (blocks,miners_dict,conflicts)"
   ]
  },
  {
   "cell_type": "code",
   "execution_count": 46,
   "metadata": {},
   "outputs": [],
   "source": [
    "# this dict will be updated when coinbase matches are found and there is only one address \n",
    "# as the coinbase output\n",
    "#miners = dict()\n",
    "#miners.clear()\n",
    "#miners = copy.deepcopy(miners_initial_blockchaininfo)"
   ]
  },
  {
   "cell_type": "markdown",
   "metadata": {},
   "source": [
    "Attribute blocks to miners according to **blockchain.info** github file.\n",
    "Even this file contains some conflicts when attributing according to address vs marker.\n",
    "See below for conflicts:"
   ]
  },
  {
   "cell_type": "code",
   "execution_count": 41,
   "metadata": {
    "ExecuteTime": {
     "end_time": "2019-06-02T18:46:25.325100Z",
     "start_time": "2019-06-02T18:44:29.223389Z"
    }
   },
   "outputs": [
    {
     "name": "stdout",
     "output_type": "stream",
     "text": [
      "482000\n",
      "Message    =  Addr and Cb match differ\n",
      "Blockheight=  482059\n",
      "Miner1     =  Waterhole\n",
      "Miner2     =  BTC.com\n",
      "Coinbase   =  030b5b0704465fa1592f4254432e434f4d2ffabe6d6dff48161efa0f0b44fc9463e380e6b585ff91ac3f9c973d156dfff35fd553cdb101000000000000000228124b7faf010000000000\n",
      "CoinbaseStr=  b'\\x03\\x0b[\\x07\\x04F_\\xa1Y/BTC.COM/\\xfa\\xbemm\\xffH\\x16\\x1e\\xfa\\x0f\\x0bD\\xfc\\x94c\\xe3\\x80\\xe6\\xb5\\x85\\xff\\x91\\xac?\\x9c\\x97=\\x15m\\xff\\xf3_\\xd5S\\xcd\\xb1\\x01\\x00\\x00\\x00\\x00\\x00\\x00\\x00\\x02(\\x12K\\x7f\\xaf\\x01\\x00\\x00\\x00\\x00\\x00'\n",
      "Addesses   =  1FLH1SoLv4U68yUERhDiWzrJn5TggMqkaZ\n",
      "addr_match =  [('Waterhole', {'addr_match': '1FLH1SoLv4U68yUERhDiWzrJn5TggMqkaZ'})]\n",
      "cb_match   =  [('BTC.com', {'cb_match': '/BTC.COM/'})]\n",
      "\n",
      "Message    =  Addr and Cb match differ\n",
      "Blockheight=  482221\n",
      "Miner1     =  Waterhole\n",
      "Miner2     =  BTC.com\n",
      "Coinbase   =  03ad5b0704a4e6a2592f4254432e434f4d2ffabe6d6d0dd4f6c7dac894c84821c9fed8c15a621583ada8e4177c182c011cab52e2d6d0010000000000000001292f8e92ae010000000000\n",
      "CoinbaseStr=  b'\\x03\\xad[\\x07\\x04\\xa4\\xe6\\xa2Y/BTC.COM/\\xfa\\xbemm\\r\\xd4\\xf6\\xc7\\xda\\xc8\\x94\\xc8H!\\xc9\\xfe\\xd8\\xc1Zb\\x15\\x83\\xad\\xa8\\xe4\\x17|\\x18,\\x01\\x1c\\xabR\\xe2\\xd6\\xd0\\x01\\x00\\x00\\x00\\x00\\x00\\x00\\x00\\x01)/\\x8e\\x92\\xae\\x01\\x00\\x00\\x00\\x00\\x00'\n",
      "Addesses   =  1FLH1SoLv4U68yUERhDiWzrJn5TggMqkaZ\n",
      "addr_match =  [('Waterhole', {'addr_match': '1FLH1SoLv4U68yUERhDiWzrJn5TggMqkaZ'})]\n",
      "cb_match   =  [('BTC.com', {'cb_match': '/BTC.COM/'})]\n",
      "556000\r"
     ]
    }
   ],
   "source": [
    "# attribute blocks to miners according to blockcahin.info initial mapping\n",
    "(blocks,miners_initial_blockchaininfo,conflicts) = util.attribute_blocks(blocks=blocks,\n",
    "                                   miners_dict=miners_initial_blockchaininfo,\n",
    "                                   addr_attr=util.DD_BCI_ADDR_ATTR,\n",
    "                                   marker_attr=util.DD_BCI_MARK_ATTR,\n",
    "                                   both_attr=util.DD_BCI_ATTR,\n",
    "                                   source=\"blockchain.info\",\n",
    "                                   override=True)"
   ]
  },
  {
   "cell_type": "code",
   "execution_count": 42,
   "metadata": {
    "ExecuteTime": {
     "end_time": "2019-06-02T18:46:25.331049Z",
     "start_time": "2019-06-02T18:46:25.327067Z"
    }
   },
   "outputs": [
    {
     "data": {
      "text/plain": [
       "2"
      ]
     },
     "execution_count": 42,
     "metadata": {},
     "output_type": "execute_result"
    }
   ],
   "source": [
    "len(conflicts) # 2"
   ]
  },
  {
   "cell_type": "code",
   "execution_count": 43,
   "metadata": {
    "ExecuteTime": {
     "end_time": "2019-06-02T18:46:27.102232Z",
     "start_time": "2019-06-02T18:46:27.098896Z"
    }
   },
   "outputs": [],
   "source": [
    "# introduced checkpoint\n",
    "assert 2 == len(conflicts)"
   ]
  },
  {
   "cell_type": "code",
   "execution_count": 105,
   "metadata": {
    "ExecuteTime": {
     "end_time": "2019-06-02T19:08:24.028642Z",
     "start_time": "2019-06-02T19:08:24.025511Z"
    }
   },
   "outputs": [],
   "source": [
    "# attribute blocks to miners according to blockcahin.info initial mapping\n",
    "(blocks,miners_initial_blockchaininfo,conflicts) = util.attribute_blocks(blocks=blocks,\n",
    "                                   miners_dict=miners_initial_blockchaininfo,\n",
    "                                   addr_attr=util.DD_BCI_ADDR_ATTR + \"_update\",\n",
    "                                   marker_attr=util.DD_BCI_MARK_ATTR + \"_update\",\n",
    "                                   both_attr=util.DD_BCI_ATTR + \"_update\",\n",
    "                                   source=\"blockchain.info\",\n",
    "                                   override=True,\n",
    "                                   update=True)"
   ]
  },
  {
   "cell_type": "code",
   "execution_count": 104,
   "metadata": {
    "ExecuteTime": {
     "end_time": "2019-06-02T19:08:18.160053Z",
     "start_time": "2019-06-02T19:08:18.155357Z"
    }
   },
   "outputs": [],
   "source": [
    "(blocks,miners_initial_blockchaininfo,conflicts) = util.attribute_blocks(blocks=blocks,\n",
    "                                   miners_dict=miners_initial_blockchaininfo,\n",
    "                                   addr_attr=util.DD_BCI_ADDR_ATTR + \"_update\",\n",
    "                                   marker_attr=util.DD_BCI_MARK_ATTR + \"_update\",\n",
    "                                   both_attr=util.DD_BCI_ATTR + \"_update\",\n",
    "                                   source=\"blockchain.info\",\n",
    "                                   override=True,\n",
    "                                   update=True)"
   ]
  },
  {
   "cell_type": "code",
   "execution_count": 46,
   "metadata": {
    "ExecuteTime": {
     "end_time": "2019-06-02T18:52:04.164883Z",
     "start_time": "2019-06-02T18:52:04.159696Z"
    }
   },
   "outputs": [
    {
     "data": {
      "text/plain": [
       "65"
      ]
     },
     "execution_count": 46,
     "metadata": {},
     "output_type": "execute_result"
    }
   ],
   "source": [
    "len(conflicts) # 5"
   ]
  },
  {
   "cell_type": "code",
   "execution_count": 47,
   "metadata": {
    "ExecuteTime": {
     "end_time": "2019-06-02T18:52:37.298770Z",
     "start_time": "2019-06-02T18:52:37.290570Z"
    }
   },
   "outputs": [],
   "source": [
    "with open(miners_initial_blockchaininfo_conflicts_json_file, 'w') as outfile:\n",
    "    json.dump(conflicts, outfile)"
   ]
  },
  {
   "cell_type": "code",
   "execution_count": 55,
   "metadata": {},
   "outputs": [
    {
     "data": {
      "text/plain": [
       "{'addresses': ['1NY15MK947MLzmPUa2gL7UgyR8prLh2xfu'],\n",
       " 'attribution': '',\n",
       " 'attributions': {'blockchain_info': {'matches': [{'addr_match': '1NY15MK947MLzmPUa2gL7UgyR8prLh2xfu'}],\n",
       "   'miner': 'digitalBTC',\n",
       "   'src': 'blockchain.info'},\n",
       "  'blockchain_info_address': {'matches': [{'addr_match': '1NY15MK947MLzmPUa2gL7UgyR8prLh2xfu'}],\n",
       "   'miner': 'digitalBTC',\n",
       "   'src': 'blockchain.info'},\n",
       "  'blockchain_info_address_update': {'matches': [{'addr_match': '1NY15MK947MLzmPUa2gL7UgyR8prLh2xfu'}],\n",
       "   'miner': 'digitalBTC',\n",
       "   'src': 'blockchain.info'},\n",
       "  'blockchain_info_update': {'matches': [{'addr_match': '1NY15MK947MLzmPUa2gL7UgyR8prLh2xfu'}],\n",
       "   'miner': 'digitalBTC',\n",
       "   'src': 'blockchain.info'}},\n",
       " 'cb': '03dd6505062f503253482f047c713c5508fabe6d6d00009582bc1f01000000002f6d75746172745365646f6e2f0dd38a2f05e3ffff010000000000000077ffffe5053d8c490d2f6e6f64655374726174756d2f',\n",
       " 'conflicts': 0,\n",
       " 'hash': '00000000000000000e6ed6f2db8296aab547670f4cf23847fec76161723efc46',\n",
       " 'miner': '',\n",
       " 'payout': '2508856624',\n",
       " 'phash': None,\n",
       " 'time': 1430024584}"
      ]
     },
     "execution_count": 55,
     "metadata": {},
     "output_type": "execute_result"
    }
   ],
   "source": [
    "blocks[\"353757\"]"
   ]
  },
  {
   "cell_type": "markdown",
   "metadata": {},
   "source": [
    "Print and investigate the conflicts:"
   ]
  },
  {
   "cell_type": "code",
   "execution_count": 56,
   "metadata": {},
   "outputs": [
    {
     "data": {
      "text/plain": [
       "{'addresses': ['1FLH1SoLv4U68yUERhDiWzrJn5TggMqkaZ'],\n",
       " 'attribution': '',\n",
       " 'attributions': {'blockchain_info_address': {'matches': [{'addr_match': '1FLH1SoLv4U68yUERhDiWzrJn5TggMqkaZ'}],\n",
       "   'miner': 'Waterhole',\n",
       "   'src': 'blockchain.info'},\n",
       "  'blockchain_info_address_update': {'matches': [{'addr_match': '1FLH1SoLv4U68yUERhDiWzrJn5TggMqkaZ'}],\n",
       "   'miner': 'Waterhole',\n",
       "   'src': 'blockchain.info'},\n",
       "  'blockchain_info_marker': {'matches': [{'cb_match': '/BTC.COM/'}],\n",
       "   'miner': 'BTC.com',\n",
       "   'src': 'blockchain.info'},\n",
       "  'blockchain_info_marker_update': {'matches': [{'cb_match': '/BTC.COM/'}],\n",
       "   'miner': 'BTC.com',\n",
       "   'src': 'blockchain.info'}},\n",
       " 'cb': '030b5b0704465fa1592f4254432e434f4d2ffabe6d6dff48161efa0f0b44fc9463e380e6b585ff91ac3f9c973d156dfff35fd553cdb101000000000000000228124b7faf010000000000',\n",
       " 'conflicts': 0,\n",
       " 'hash': '000000000000000000ee874c85580ea9c9297d4fcf4fe0bf59b696d1dbd10290',\n",
       " 'miner': '',\n",
       " 'payout': '1701199633',\n",
       " 'phash': None,\n",
       " 'time': 1503747909}"
      ]
     },
     "execution_count": 56,
     "metadata": {},
     "output_type": "execute_result"
    }
   ],
   "source": [
    "blocks[\"482059\"]"
   ]
  },
  {
   "cell_type": "code",
   "execution_count": 57,
   "metadata": {},
   "outputs": [
    {
     "data": {
      "text/plain": [
       "{'addresses': ['1FLH1SoLv4U68yUERhDiWzrJn5TggMqkaZ'],\n",
       " 'attribution': '',\n",
       " 'attributions': {'blockchain_info_address': {'matches': [{'addr_match': '1FLH1SoLv4U68yUERhDiWzrJn5TggMqkaZ'}],\n",
       "   'miner': 'Waterhole',\n",
       "   'src': 'blockchain.info'},\n",
       "  'blockchain_info_address_update': {'matches': [{'addr_match': '1FLH1SoLv4U68yUERhDiWzrJn5TggMqkaZ'}],\n",
       "   'miner': 'Waterhole',\n",
       "   'src': 'blockchain.info'},\n",
       "  'blockchain_info_marker': {'matches': [{'cb_match': '/BTC.COM/'}],\n",
       "   'miner': 'BTC.com',\n",
       "   'src': 'blockchain.info'},\n",
       "  'blockchain_info_marker_update': {'matches': [{'cb_match': '/BTC.COM/'}],\n",
       "   'miner': 'BTC.com',\n",
       "   'src': 'blockchain.info'}},\n",
       " 'cb': '03ad5b0704a4e6a2592f4254432e434f4d2ffabe6d6d0dd4f6c7dac894c84821c9fed8c15a621583ada8e4177c182c011cab52e2d6d0010000000000000001292f8e92ae010000000000',\n",
       " 'conflicts': 0,\n",
       " 'hash': '000000000000000000d172ef46944db6127dbebe815664f26f37fef3e22fd65b',\n",
       " 'miner': '',\n",
       " 'payout': '1293786138',\n",
       " 'phash': None,\n",
       " 'time': 1503848099}"
      ]
     },
     "execution_count": 57,
     "metadata": {},
     "output_type": "execute_result"
    }
   ],
   "source": [
    "blocks[\"482221\"]"
   ]
  },
  {
   "cell_type": "code",
   "execution_count": 58,
   "metadata": {},
   "outputs": [
    {
     "data": {
      "text/plain": [
       "{'addresses': ['1GG9HQZchCRxPSBV5SwZ9GoYEVq9vVLGqU'],\n",
       " 'attribution': '',\n",
       " 'attributions': {'blockchain_info': {'matches': [{'cb_match': 'ozco.in'}],\n",
       "   'miner': 'OzCoin',\n",
       "   'src': 'blockchain.info'},\n",
       "  'blockchain_info_address_update': {'matches': [{'addr_match': '1GG9HQZchCRxPSBV5SwZ9GoYEVq9vVLGqU'}],\n",
       "   'miner': 'Yourbtc.net',\n",
       "   'src': 'blockchain.info'},\n",
       "  'blockchain_info_marker': {'matches': [{'cb_match': 'ozco.in'}],\n",
       "   'miner': 'OzCoin',\n",
       "   'src': 'blockchain.info'},\n",
       "  'blockchain_info_marker_update': {'matches': [{'cb_match': 'ozco.in'}],\n",
       "   'miner': 'OzCoin',\n",
       "   'src': 'blockchain.info'}},\n",
       " 'cb': '70736a04ba760e1a0418930700522cfabe6d6dc15059fd58be57a512008aff27237100949e3afd1e7f7be1dc5cc5346f7169b401000000000000006f7a636f2e696eac1eeeed88',\n",
       " 'conflicts': 0,\n",
       " 'hash': '00000000000004a975cb9331f6264330b8b5d96db58b5917f41d721141efba9a',\n",
       " 'miner': '',\n",
       " 'payout': '5004514921',\n",
       " 'phash': None,\n",
       " 'time': 1325312734}"
      ]
     },
     "execution_count": 58,
     "metadata": {},
     "output_type": "execute_result"
    }
   ],
   "source": [
    "blocks[\"159929\"]"
   ]
  },
  {
   "cell_type": "code",
   "execution_count": 59,
   "metadata": {},
   "outputs": [
    {
     "data": {
      "text/plain": [
       "{'addresses': ['1GG9HQZchCRxPSBV5SwZ9GoYEVq9vVLGqU'],\n",
       " 'attribution': '',\n",
       " 'attributions': {'blockchain_info': {'matches': [{'cb_match': 'ozco.in'}],\n",
       "   'miner': 'OzCoin',\n",
       "   'src': 'blockchain.info'},\n",
       "  'blockchain_info_address_update': {'matches': [{'addr_match': '1GG9HQZchCRxPSBV5SwZ9GoYEVq9vVLGqU'}],\n",
       "   'miner': 'Yourbtc.net',\n",
       "   'src': 'blockchain.info'},\n",
       "  'blockchain_info_marker': {'matches': [{'cb_match': 'ozco.in'}],\n",
       "   'miner': 'OzCoin',\n",
       "   'src': 'blockchain.info'},\n",
       "  'blockchain_info_marker_update': {'matches': [{'cb_match': 'ozco.in'}],\n",
       "   'miner': 'OzCoin',\n",
       "   'src': 'blockchain.info'}},\n",
       " 'cb': '70736a04ba760e1a040c9b0100522cfabe6d6dd5198c9a7f3796c9599592dc199792cc88c0a5588c2b9f5b491c1d8cbed5700601000000000000006f7a636f2e696eac1eeeed88',\n",
       " 'conflicts': 0,\n",
       " 'hash': '0000000000000afe20d9da4428d75588696ba4352931a386d9732ca74bfcfbc2',\n",
       " 'miner': '',\n",
       " 'payout': '5000300000',\n",
       " 'phash': None,\n",
       " 'time': 1325270885}"
      ]
     },
     "execution_count": 59,
     "metadata": {},
     "output_type": "execute_result"
    }
   ],
   "source": [
    "blocks[\"159846\"]"
   ]
  },
  {
   "cell_type": "code",
   "execution_count": 60,
   "metadata": {},
   "outputs": [
    {
     "data": {
      "text/plain": [
       "{'addresses': ['1GG9HQZchCRxPSBV5SwZ9GoYEVq9vVLGqU'],\n",
       " 'attribution': '',\n",
       " 'attributions': {'blockchain_info': {'matches': [{'cb_match': 'ozco.in'}],\n",
       "   'miner': 'OzCoin',\n",
       "   'src': 'blockchain.info'},\n",
       "  'blockchain_info_address_update': {'matches': [{'addr_match': '1GG9HQZchCRxPSBV5SwZ9GoYEVq9vVLGqU'}],\n",
       "   'miner': 'Yourbtc.net',\n",
       "   'src': 'blockchain.info'},\n",
       "  'blockchain_info_marker': {'matches': [{'cb_match': 'ozco.in'}],\n",
       "   'miner': 'OzCoin',\n",
       "   'src': 'blockchain.info'},\n",
       "  'blockchain_info_marker_update': {'matches': [{'cb_match': 'ozco.in'}],\n",
       "   'miner': 'OzCoin',\n",
       "   'src': 'blockchain.info'}},\n",
       " 'cb': '70736a04ba760e1a04f9850000522cfabe6d6daa7399390129c5b877981adab8face0bd391539f3127cad753419a506405ced001000000000000006f7a636f2e696eac1eeeed88',\n",
       " 'conflicts': 0,\n",
       " 'hash': '00000000000004f1db65f2026e4d91e3f88644c2da9b213cee1b01848dc16ecd',\n",
       " 'miner': '',\n",
       " 'payout': '5000000000',\n",
       " 'phash': None,\n",
       " 'time': 1325333051}"
      ]
     },
     "execution_count": 60,
     "metadata": {},
     "output_type": "execute_result"
    }
   ],
   "source": [
    "blocks[\"159964\"]"
   ]
  },
  {
   "cell_type": "markdown",
   "metadata": {},
   "source": [
    "Print and check random block:"
   ]
  },
  {
   "cell_type": "code",
   "execution_count": 61,
   "metadata": {},
   "outputs": [
    {
     "data": {
      "text/plain": [
       "{'addresses': ['1H1sq6Msgt9HjRrBuz8ieZdThzWXS6oPVA',\n",
       "  '1P7ym2BcYePrhBrTwNKBe8zgettjtPUzuG'],\n",
       " 'attribution': '',\n",
       " 'attributions': {'blockchain_info': {'matches': [{'cb_match': 'KnCMiner'}],\n",
       "   'miner': 'KnCMiner',\n",
       "   'src': 'blockchain.info'},\n",
       "  'blockchain_info_marker': {'matches': [{'cb_match': 'KnCMiner'}],\n",
       "   'miner': 'KnCMiner',\n",
       "   'src': 'blockchain.info'},\n",
       "  'blockchain_info_marker_update': {'matches': [{'cb_match': 'KnCMiner'}],\n",
       "   'miner': 'KnCMiner',\n",
       "   'src': 'blockchain.info'},\n",
       "  'blockchain_info_update': {'matches': [{'cb_match': 'KnCMiner'}],\n",
       "   'miner': 'KnCMiner',\n",
       "   'src': 'blockchain.info'}},\n",
       " 'cb': '0363c204184b6e434d696e6572422d5031c4654b832a94115b53cdbcacf80f00005a730200',\n",
       " 'conflicts': 0,\n",
       " 'hash': '00000000000000002e7db7f737b81db0965bd17aa7886683bb22ceceef24d75c',\n",
       " 'miner': '',\n",
       " 'payout': '2508543256',\n",
       " 'phash': None,\n",
       " 'time': 1405992108}"
      ]
     },
     "execution_count": 61,
     "metadata": {},
     "output_type": "execute_result"
    }
   ],
   "source": [
    "util.get_sample(blocks)"
   ]
  },
  {
   "cell_type": "markdown",
   "metadata": {},
   "source": [
    "Check how many addresses have been added by marker detection:"
   ]
  },
  {
   "cell_type": "code",
   "execution_count": 48,
   "metadata": {
    "ExecuteTime": {
     "end_time": "2019-06-02T18:52:53.258182Z",
     "start_time": "2019-06-02T18:52:53.255128Z"
    }
   },
   "outputs": [],
   "source": [
    "def check_for_miner_addresses_from_markers(miners):\n",
    "    # check for miners addresses added based on markers \n",
    "    i = 0 \n",
    "    for miner in miners:\n",
    "        for addr in miners[ miner ][ util.D_ADDRESSES ]:\n",
    "            if util.DD_SOURCES in miners[ miner ][ util.D_ADDRESSES ][ addr ]:\n",
    "                if \"cb marker\" in miners[ miner ][ util.D_ADDRESSES ][ addr ][ util.DD_SOURCES ]:\n",
    "                    #print(\"miner: \",miner,\" addr: \", addr)\n",
    "                    i += 1\n",
    "            #else:\n",
    "                #print(miners[ miner ])\n",
    "                #break\n",
    "    return i\n",
    "            "
   ]
  },
  {
   "cell_type": "code",
   "execution_count": 49,
   "metadata": {
    "ExecuteTime": {
     "end_time": "2019-06-02T18:52:55.435971Z",
     "start_time": "2019-06-02T18:52:55.425699Z"
    }
   },
   "outputs": [
    {
     "name": "stdout",
     "output_type": "stream",
     "text": [
      "Added addresses by marker:  6021\n"
     ]
    }
   ],
   "source": [
    "print(\"Added addresses by marker: \",util.check_for_miner_addresses_from_markers(miners_initial_blockchaininfo)) # 6021"
   ]
  },
  {
   "cell_type": "code",
   "execution_count": 50,
   "metadata": {
    "ExecuteTime": {
     "end_time": "2019-06-02T18:52:59.296842Z",
     "start_time": "2019-06-02T18:52:59.287748Z"
    }
   },
   "outputs": [],
   "source": [
    "assert util.check_for_miner_addresses_from_markers(miners_initial_blockchaininfo) == 6021"
   ]
  },
  {
   "cell_type": "markdown",
   "metadata": {},
   "source": [
    "Check if these addtions have caused address collisions:"
   ]
  },
  {
   "cell_type": "code",
   "execution_count": 51,
   "metadata": {
    "ExecuteTime": {
     "end_time": "2019-06-02T18:53:01.757830Z",
     "start_time": "2019-06-02T18:53:01.751651Z"
    }
   },
   "outputs": [],
   "source": [
    "def check_for_obvious_address_collisions(miners):\n",
    "    # check for obvious address collisions:\n",
    "    addr_collision = False\n",
    "    address_conflicts = Counter()\n",
    "\n",
    "    for m in miners:\n",
    "        for a in miners[ m ][ util.D_ADDRESSES ].keys():\n",
    "            address_conflicts[ a ] += 1\n",
    "\n",
    "    for at in address_conflicts.most_common():\n",
    "        if at[1] > 1:\n",
    "            #address_conflicts_list.append( at[0] )\n",
    "            print(at[0],\":\",at[1])\n",
    "            addr_collision = True\n",
    "    return addr_collision"
   ]
  },
  {
   "cell_type": "code",
   "execution_count": 52,
   "metadata": {
    "ExecuteTime": {
     "end_time": "2019-06-02T18:53:05.157687Z",
     "start_time": "2019-06-02T18:53:03.941112Z"
    }
   },
   "outputs": [],
   "source": [
    "assert util.check_for_obvious_address_collisions(miners_initial_blockchaininfo) == False"
   ]
  },
  {
   "cell_type": "code",
   "execution_count": 65,
   "metadata": {},
   "outputs": [
    {
     "data": {
      "text/plain": [
       "{'addresses': {},\n",
       " 'markers': {'Mined by MultiCoin.co': {'currencies': ['BTC'],\n",
       "   'firstUsed': 0,\n",
       "   'lastUsed': 0,\n",
       "   'sources': ['blockchain.info github']}},\n",
       " 'names': {'MultiCoin.co': {'currencies': ['BTC'],\n",
       "   'firstUsed': 0,\n",
       "   'fullName': '',\n",
       "   'lastUsed': 0,\n",
       "   'sources': ['blockchain.info github'],\n",
       "   'url': 'http://multicoin.co'}}}"
      ]
     },
     "execution_count": 65,
     "metadata": {},
     "output_type": "execute_result"
    }
   ],
   "source": [
    "util.get_sample(miners_initial_blockchaininfo)"
   ]
  },
  {
   "cell_type": "markdown",
   "metadata": {},
   "source": [
    "## Fresh btccom only attribution and create miners_initial_btccom.json"
   ]
  },
  {
   "cell_type": "markdown",
   "metadata": {},
   "source": [
    "Attribute all blocks based soly on the btccom attribution"
   ]
  },
  {
   "cell_type": "code",
   "execution_count": 53,
   "metadata": {
    "ExecuteTime": {
     "end_time": "2019-06-02T18:53:10.006312Z",
     "start_time": "2019-06-02T18:53:10.000982Z"
    }
   },
   "outputs": [
    {
     "name": "stdout",
     "output_type": "stream",
     "text": [
      "Multiple markers for pool: OzCoin\n",
      "Multiple markers for pool: TripleMining\n",
      "Multiple markers for pool: Polmine\n",
      "Multiple markers for pool: AntPool\n",
      "Multiple markers for pool: AntPool\n",
      "Multiple markers for pool: BTCC\n",
      "Multiple markers for pool: BTCC\n",
      "Multiple markers for pool: BTCC\n",
      "Multiple markers for pool: BWPool\n",
      "Multiple markers for pool: BitFury\n",
      "Multiple markers for pool: ViaBTC\n",
      "Multiple markers for pool: CanoePool\n",
      "Multiple markers for pool: PHash.IO\n"
     ]
    }
   ],
   "source": [
    "# Boostrap pools files with blockchain.info github data\n",
    "# https://github.com/blockchain/Blockchain-Known-Pools/tree/82ed31956388e3950845cc2faeaf6679a057ee5b\n",
    "miners_initial_btccom = dict()\n",
    "miners_initial_btccom.clear()\n",
    "\n",
    "miners_initial_btccom = add_makers_from_source(pools_btccom,miners_initial_btccom,source=[\"btccom github\",])"
   ]
  },
  {
   "cell_type": "code",
   "execution_count": 54,
   "metadata": {
    "ExecuteTime": {
     "end_time": "2019-06-02T18:53:10.993932Z",
     "start_time": "2019-06-02T18:53:10.985725Z"
    }
   },
   "outputs": [
    {
     "name": "stdout",
     "output_type": "stream",
     "text": [
      "CONFLICTING URL: 'https://www.bitfarms.io/'\n",
      "CONFLICTING URL: 'https://www.bitarms.io/'\n",
      "new pool: BTC Nuggets\n",
      "new pool: Huobi\n",
      "new pool: CloudHashing\n",
      "new pool: digitalX Mintsy\n",
      "new pool: Telco 214\n",
      "new pool: BTC Pool Party\n",
      "new pool: Multipool\n",
      "new pool: transactioncoinmining\n",
      "new pool: BTCDig\n",
      "new pool: Tricky's BTC Pool\n",
      "new pool: BTCMP\n",
      "new pool: Eobot\n",
      "new pool: UNOMP\n",
      "new pool: Patels\n",
      "new pool: GoGreenLight\n",
      "new pool: BitcoinIndia\n",
      "CONFLICTING URL: 'https://btc.canoepool.com/'\n",
      "CONFLICTING URL: 'https://www.canoepool.com/'\n",
      "new pool: EkanemBTC\n",
      "new pool: CANOE\n",
      "new pool: tiger\n"
     ]
    }
   ],
   "source": [
    "miners_initial_btccom = add_addresses_from_source(pools_btccom,miners_initial_btccom,source=[\"btccom github\",])"
   ]
  },
  {
   "cell_type": "code",
   "execution_count": 68,
   "metadata": {},
   "outputs": [
    {
     "name": "stdout",
     "output_type": "stream",
     "text": [
      "\n"
     ]
    }
   ],
   "source": [
    "# rename miners according to blockchain.info\n",
    "# Therefore we create a new empty miner and move the existing one into it\n",
    "# 'BTCC' => 'BTCC Pool'\n",
    "util.add_miner('BTCC Pool',miners_initial_btccom)\n",
    "util.unify_miners('BTCC','BTCC Pool',miners_initial_btccom)\n",
    "print()"
   ]
  },
  {
   "cell_type": "code",
   "execution_count": 55,
   "metadata": {
    "ExecuteTime": {
     "end_time": "2019-06-02T18:53:12.996835Z",
     "start_time": "2019-06-02T18:53:12.992965Z"
    }
   },
   "outputs": [
    {
     "name": "stdout",
     "output_type": "stream",
     "text": [
      "\n"
     ]
    }
   ],
   "source": [
    "# 'BWPool' => 'BW.COM'\n",
    "util.add_miner('BW.COM',miners_initial_btccom)\n",
    "util.unify_miners('BWPool','BW.COM',miners_initial_btccom)\n",
    "print()\n"
   ]
  },
  {
   "cell_type": "code",
   "execution_count": 56,
   "metadata": {
    "ExecuteTime": {
     "end_time": "2019-06-02T18:53:13.486435Z",
     "start_time": "2019-06-02T18:53:13.481206Z"
    }
   },
   "outputs": [
    {
     "name": "stdout",
     "output_type": "stream",
     "text": [
      "\n"
     ]
    }
   ],
   "source": [
    "# 'Solo CK' => 'Solo CKPool'\n",
    "util.add_miner('Solo CKPool',miners_initial_btccom)\n",
    "util.unify_miners('Solo CK','Solo CKPool',miners_initial_btccom)\n",
    "print()"
   ]
  },
  {
   "cell_type": "code",
   "execution_count": 57,
   "metadata": {
    "ExecuteTime": {
     "end_time": "2019-06-02T18:53:14.007574Z",
     "start_time": "2019-06-02T18:53:14.002911Z"
    }
   },
   "outputs": [
    {
     "name": "stdout",
     "output_type": "stream",
     "text": [
      "\n"
     ]
    }
   ],
   "source": [
    "# 'BitClub' => 'BitClub Network'\n",
    "util.add_miner('BitClub Network',miners_initial_btccom)\n",
    "util.unify_miners('BitClub','BitClub Network',miners_initial_btccom)\n",
    "print()"
   ]
  },
  {
   "cell_type": "code",
   "execution_count": 58,
   "metadata": {
    "ExecuteTime": {
     "end_time": "2019-06-02T18:53:14.563789Z",
     "start_time": "2019-06-02T18:53:14.559814Z"
    }
   },
   "outputs": [
    {
     "name": "stdout",
     "output_type": "stream",
     "text": [
      "\n"
     ]
    }
   ],
   "source": [
    "# 'Huobi.pool' => 'Huobi'\n",
    "#util.add_miner('Huobi',miners_initial_btccom) # already exists \n",
    "util.unify_miners('Huobi.pool','Huobi',miners_initial_btccom)\n",
    "print()"
   ]
  },
  {
   "cell_type": "code",
   "execution_count": 59,
   "metadata": {
    "ExecuteTime": {
     "end_time": "2019-06-02T18:53:15.050038Z",
     "start_time": "2019-06-02T18:53:15.045379Z"
    }
   },
   "outputs": [
    {
     "name": "stdout",
     "output_type": "stream",
     "text": [
      "\n"
     ]
    }
   ],
   "source": [
    "# 'sigmapool.com' => 'SigmaPool.com'\n",
    "util.add_miner('SigmaPool.com',miners_initial_btccom)  \n",
    "util.unify_miners('sigmapool.com','SigmaPool.com',miners_initial_btccom)\n",
    "print()"
   ]
  },
  {
   "cell_type": "code",
   "execution_count": 60,
   "metadata": {
    "ExecuteTime": {
     "end_time": "2019-06-02T18:53:15.637179Z",
     "start_time": "2019-06-02T18:53:15.631761Z"
    }
   },
   "outputs": [
    {
     "name": "stdout",
     "output_type": "stream",
     "text": [
      "\n"
     ]
    }
   ],
   "source": [
    "# 'EXX&BW' => 'xbtc.exx.com&bw.com'\n",
    "util.add_miner('xbtc.exx.com&bw.com',miners_initial_btccom) \n",
    "util.unify_miners('EXX&BW','xbtc.exx.com&bw.com',miners_initial_btccom)\n",
    "print()"
   ]
  },
  {
   "cell_type": "code",
   "execution_count": 61,
   "metadata": {
    "ExecuteTime": {
     "end_time": "2019-06-02T18:53:16.287203Z",
     "start_time": "2019-06-02T18:53:16.282031Z"
    }
   },
   "outputs": [
    {
     "name": "stdout",
     "output_type": "stream",
     "text": [
      "\n"
     ]
    }
   ],
   "source": [
    "# 'haominer' => 'Haominer'\n",
    "util.add_miner('Haominer',miners_initial_btccom) # already exists \n",
    "util.unify_miners('haominer','Haominer',miners_initial_btccom)\n",
    "print()"
   ]
  },
  {
   "cell_type": "code",
   "execution_count": 62,
   "metadata": {
    "ExecuteTime": {
     "end_time": "2019-06-02T18:53:16.706260Z",
     "start_time": "2019-06-02T18:53:16.702809Z"
    }
   },
   "outputs": [
    {
     "name": "stdout",
     "output_type": "stream",
     "text": [
      "\n"
     ]
    }
   ],
   "source": [
    "# \"Patels\" => \"Patel's Mining pool\"\n",
    "util.add_miner(\"Patel's Mining pool\",miners_initial_btccom) # already exists \n",
    "util.unify_miners(\"Patels\",\"Patel's Mining pool\",miners_initial_btccom)\n",
    "print()"
   ]
  },
  {
   "cell_type": "code",
   "execution_count": 63,
   "metadata": {
    "ExecuteTime": {
     "end_time": "2019-06-02T18:53:17.295661Z",
     "start_time": "2019-06-02T18:53:17.291987Z"
    }
   },
   "outputs": [
    {
     "name": "stdout",
     "output_type": "stream",
     "text": [
      "\n"
     ]
    }
   ],
   "source": [
    "# 'digitalX Mintsy' => 'digitalBTC'\n",
    "util.add_miner('digitalBTC',miners_initial_btccom) # already exists \n",
    "util.unify_miners('digitalX Mintsy','digitalBTC',miners_initial_btccom)\n",
    "print()"
   ]
  },
  {
   "cell_type": "code",
   "execution_count": 64,
   "metadata": {
    "ExecuteTime": {
     "end_time": "2019-06-02T18:53:17.894545Z",
     "start_time": "2019-06-02T18:53:17.891423Z"
    }
   },
   "outputs": [
    {
     "name": "stdout",
     "output_type": "stream",
     "text": [
      "\n"
     ]
    }
   ],
   "source": [
    "# 'NiceHash' => 'NiceHash Solo'\n",
    "util.add_miner('NiceHash Solo',miners_initial_btccom) # already exists \n",
    "util.unify_miners('NiceHash','NiceHash Solo',miners_initial_btccom)\n",
    "print()"
   ]
  },
  {
   "cell_type": "code",
   "execution_count": 65,
   "metadata": {
    "ExecuteTime": {
     "end_time": "2019-06-02T18:53:18.747054Z",
     "start_time": "2019-06-02T18:53:18.739968Z"
    }
   },
   "outputs": [
    {
     "data": {
      "text/plain": [
       "{'names': {'DCExploration': {'url': 'http://dcexploration.cn',\n",
       "   'currencies': ['BTC'],\n",
       "   'fullName': '',\n",
       "   'firstUsed': 0,\n",
       "   'lastUsed': 0,\n",
       "   'sources': ['btccom github']}},\n",
       " 'markers': {'/DCExploration/': {'currencies': ['BTC'],\n",
       "   'firstUsed': 0,\n",
       "   'lastUsed': 0,\n",
       "   'sources': ['btccom github']}},\n",
       " 'addresses': {}}"
      ]
     },
     "execution_count": 65,
     "metadata": {},
     "output_type": "execute_result"
    }
   ],
   "source": [
    "miners_initial_btccom[\"DCExploration\"]"
   ]
  },
  {
   "cell_type": "code",
   "execution_count": 66,
   "metadata": {
    "ExecuteTime": {
     "end_time": "2019-06-02T18:53:19.471786Z",
     "start_time": "2019-06-02T18:53:19.465314Z"
    }
   },
   "outputs": [
    {
     "data": {
      "text/plain": [
       "{'names': {'DCEX': {'url': 'http://dcexploration.cn',\n",
       "   'currencies': ['BTC'],\n",
       "   'fullName': '',\n",
       "   'firstUsed': 0,\n",
       "   'lastUsed': 0,\n",
       "   'sources': ['btccom github']}},\n",
       " 'markers': {'/DCEX/': {'currencies': ['BTC'],\n",
       "   'firstUsed': 0,\n",
       "   'lastUsed': 0,\n",
       "   'sources': ['btccom github']}},\n",
       " 'addresses': {}}"
      ]
     },
     "execution_count": 66,
     "metadata": {},
     "output_type": "execute_result"
    }
   ],
   "source": [
    "miners_initial_btccom[\"DCEX\"]"
   ]
  },
  {
   "cell_type": "code",
   "execution_count": 67,
   "metadata": {
    "ExecuteTime": {
     "end_time": "2019-06-02T18:53:20.391370Z",
     "start_time": "2019-06-02T18:53:20.386107Z"
    }
   },
   "outputs": [
    {
     "name": "stdout",
     "output_type": "stream",
     "text": [
      "\n"
     ]
    }
   ],
   "source": [
    "util.unify_miners(\"DCEX\",\"DCExploration\",miners_initial_btccom)\n",
    "print()"
   ]
  },
  {
   "cell_type": "code",
   "execution_count": 68,
   "metadata": {
    "ExecuteTime": {
     "end_time": "2019-06-02T18:53:21.072088Z",
     "start_time": "2019-06-02T18:53:21.065562Z"
    }
   },
   "outputs": [
    {
     "data": {
      "text/plain": [
       "{'names': {'Bitcoin India': {'url': 'https://bitcoin-india.org',\n",
       "   'currencies': ['BTC'],\n",
       "   'fullName': '',\n",
       "   'firstUsed': 0,\n",
       "   'lastUsed': 0,\n",
       "   'sources': ['btccom github']}},\n",
       " 'markers': {'/Bitcoin-India/': {'currencies': ['BTC'],\n",
       "   'firstUsed': 0,\n",
       "   'lastUsed': 0,\n",
       "   'sources': ['btccom github']}},\n",
       " 'addresses': {}}"
      ]
     },
     "execution_count": 68,
     "metadata": {},
     "output_type": "execute_result"
    }
   ],
   "source": [
    "miners_initial_btccom[\"Bitcoin India\"]"
   ]
  },
  {
   "cell_type": "code",
   "execution_count": 69,
   "metadata": {
    "ExecuteTime": {
     "end_time": "2019-06-02T18:53:21.817775Z",
     "start_time": "2019-06-02T18:53:21.811534Z"
    }
   },
   "outputs": [
    {
     "data": {
      "text/plain": [
       "{'names': {'BitcoinIndia': {'url': 'https://pool.bitcoin-india.org/',\n",
       "   'currencies': ['BTC'],\n",
       "   'fullName': '',\n",
       "   'firstUsed': 0,\n",
       "   'lastUsed': 0,\n",
       "   'sources': ['btccom github']}},\n",
       " 'markers': {},\n",
       " 'addresses': {'1AZ6BkCo4zgTuuLpRStJH8iNsehXTMp456': {'currencies': ['BTC'],\n",
       "   'firstUsed': 0,\n",
       "   'lastUsed': 0,\n",
       "   'sources': ['btccom github']}}}"
      ]
     },
     "execution_count": 69,
     "metadata": {},
     "output_type": "execute_result"
    }
   ],
   "source": [
    "miners_initial_btccom[\"BitcoinIndia\"]"
   ]
  },
  {
   "cell_type": "code",
   "execution_count": 70,
   "metadata": {
    "ExecuteTime": {
     "end_time": "2019-06-02T18:53:22.554253Z",
     "start_time": "2019-06-02T18:53:22.548822Z"
    }
   },
   "outputs": [
    {
     "name": "stdout",
     "output_type": "stream",
     "text": [
      "\n"
     ]
    }
   ],
   "source": [
    "util.unify_miners(\"BitcoinIndia\",\"Bitcoin India\",miners_initial_btccom)\n",
    "print()"
   ]
  },
  {
   "cell_type": "code",
   "execution_count": 71,
   "metadata": {
    "ExecuteTime": {
     "end_time": "2019-06-02T18:53:23.143157Z",
     "start_time": "2019-06-02T18:53:23.139034Z"
    }
   },
   "outputs": [
    {
     "data": {
      "text/plain": [
       "{'names': {'CANOE': {'url': 'https://www.canoepool.com',\n",
       "   'currencies': ['BTC'],\n",
       "   'fullName': '',\n",
       "   'firstUsed': 0,\n",
       "   'lastUsed': 0,\n",
       "   'sources': ['btccom github']}},\n",
       " 'markers': {},\n",
       " 'addresses': {'1Afcpc2FpPnREU6i52K3cicmHdvYRAH9Wo': {'currencies': ['BTC'],\n",
       "   'firstUsed': 0,\n",
       "   'lastUsed': 0,\n",
       "   'sources': ['btccom github']}}}"
      ]
     },
     "execution_count": 71,
     "metadata": {},
     "output_type": "execute_result"
    }
   ],
   "source": [
    "miners_initial_btccom[\"CANOE\"]"
   ]
  },
  {
   "cell_type": "code",
   "execution_count": 72,
   "metadata": {
    "ExecuteTime": {
     "end_time": "2019-06-02T18:53:23.863134Z",
     "start_time": "2019-06-02T18:53:23.856404Z"
    }
   },
   "outputs": [
    {
     "data": {
      "text/plain": [
       "{'names': {'CanoePool': {'url': 'https://www.canoepool.com/',\n",
       "   'currencies': ['BTC'],\n",
       "   'fullName': '',\n",
       "   'firstUsed': 0,\n",
       "   'lastUsed': 0,\n",
       "   'sources': ['btccom github']}},\n",
       " 'markers': {'/canoepool/': {'currencies': ['BTC'],\n",
       "   'firstUsed': 0,\n",
       "   'lastUsed': 0,\n",
       "   'sources': ['btccom github']},\n",
       "  '/CANOE/': {'currencies': ['BTC'],\n",
       "   'firstUsed': 0,\n",
       "   'lastUsed': 0,\n",
       "   'sources': ['btccom github']}},\n",
       " 'addresses': {'1GP8eWArgpwRum76saJS4cZKCHWJHs9PQo': {'currencies': ['BTC'],\n",
       "   'firstUsed': 0,\n",
       "   'lastUsed': 0,\n",
       "   'sources': ['btccom github']}}}"
      ]
     },
     "execution_count": 72,
     "metadata": {},
     "output_type": "execute_result"
    }
   ],
   "source": [
    "miners_initial_btccom[\"CanoePool\"]"
   ]
  },
  {
   "cell_type": "code",
   "execution_count": 73,
   "metadata": {
    "ExecuteTime": {
     "end_time": "2019-06-02T18:53:27.232864Z",
     "start_time": "2019-06-02T18:53:27.228490Z"
    }
   },
   "outputs": [
    {
     "name": "stdout",
     "output_type": "stream",
     "text": [
      "\n"
     ]
    }
   ],
   "source": [
    "util.unify_miners(\"CanoePool\",\"CANOE\",miners_initial_btccom)\n",
    "print()"
   ]
  },
  {
   "cell_type": "code",
   "execution_count": 74,
   "metadata": {
    "ExecuteTime": {
     "end_time": "2019-06-02T18:53:27.907008Z",
     "start_time": "2019-06-02T18:53:27.898806Z"
    },
    "scrolled": true
   },
   "outputs": [
    {
     "data": {
      "text/plain": [
       "{'names': {'Bitsolo': {'url': 'http://bitsolo.net/',\n",
       "   'currencies': ['BTC'],\n",
       "   'fullName': '',\n",
       "   'firstUsed': 0,\n",
       "   'lastUsed': 0,\n",
       "   'sources': ['btccom github']}},\n",
       " 'markers': {'Bitsolo Pool': {'currencies': ['BTC'],\n",
       "   'firstUsed': 0,\n",
       "   'lastUsed': 0,\n",
       "   'sources': ['btccom github']}},\n",
       " 'addresses': {'18zRehBcA2YkYvsC7dfQiFJNyjmWvXsvon': {'currencies': ['BTC'],\n",
       "   'firstUsed': 0,\n",
       "   'lastUsed': 0,\n",
       "   'sources': ['btccom github']}}}"
      ]
     },
     "execution_count": 74,
     "metadata": {},
     "output_type": "execute_result"
    }
   ],
   "source": [
    "util.get_sample(miners_initial_btccom)"
   ]
  },
  {
   "cell_type": "code",
   "execution_count": 75,
   "metadata": {
    "ExecuteTime": {
     "end_time": "2019-06-02T18:53:31.718825Z",
     "start_time": "2019-06-02T18:53:31.708443Z"
    }
   },
   "outputs": [],
   "source": [
    "with open(miners_initial_btccom_json_file, 'w') as outfile:\n",
    "    json.dump(miners_initial_btccom, outfile)"
   ]
  },
  {
   "cell_type": "code",
   "execution_count": 76,
   "metadata": {
    "ExecuteTime": {
     "end_time": "2019-06-02T18:53:32.696399Z",
     "start_time": "2019-06-02T18:53:32.689616Z"
    }
   },
   "outputs": [],
   "source": [
    "# this dict will be updated when coinbase matches are found and there is only one address \n",
    "# as the coinbase output\n",
    "miners = dict()\n",
    "miners.clear()\n",
    "miners = copy.deepcopy(miners_initial_btccom)"
   ]
  },
  {
   "cell_type": "code",
   "execution_count": 77,
   "metadata": {
    "ExecuteTime": {
     "end_time": "2019-06-02T18:56:04.923288Z",
     "start_time": "2019-06-02T18:53:34.734314Z"
    }
   },
   "outputs": [
    {
     "name": "stdout",
     "output_type": "stream",
     "text": [
      "482000\n",
      "Message    =  Addr and Cb match differ\n",
      "Blockheight=  482059\n",
      "Miner1     =  Waterhole\n",
      "Miner2     =  BTC.com\n",
      "Coinbase   =  030b5b0704465fa1592f4254432e434f4d2ffabe6d6dff48161efa0f0b44fc9463e380e6b585ff91ac3f9c973d156dfff35fd553cdb101000000000000000228124b7faf010000000000\n",
      "CoinbaseStr=  b'\\x03\\x0b[\\x07\\x04F_\\xa1Y/BTC.COM/\\xfa\\xbemm\\xffH\\x16\\x1e\\xfa\\x0f\\x0bD\\xfc\\x94c\\xe3\\x80\\xe6\\xb5\\x85\\xff\\x91\\xac?\\x9c\\x97=\\x15m\\xff\\xf3_\\xd5S\\xcd\\xb1\\x01\\x00\\x00\\x00\\x00\\x00\\x00\\x00\\x02(\\x12K\\x7f\\xaf\\x01\\x00\\x00\\x00\\x00\\x00'\n",
      "Addesses   =  1FLH1SoLv4U68yUERhDiWzrJn5TggMqkaZ\n",
      "addr_match =  [('Waterhole', {'addr_match': '1FLH1SoLv4U68yUERhDiWzrJn5TggMqkaZ'})]\n",
      "cb_match   =  [('BTC.com', {'cb_match': '/BTC.COM/'})]\n",
      "\n",
      "Message    =  Addr and Cb match differ\n",
      "Blockheight=  482221\n",
      "Miner1     =  Waterhole\n",
      "Miner2     =  BTC.com\n",
      "Coinbase   =  03ad5b0704a4e6a2592f4254432e434f4d2ffabe6d6d0dd4f6c7dac894c84821c9fed8c15a621583ada8e4177c182c011cab52e2d6d0010000000000000001292f8e92ae010000000000\n",
      "CoinbaseStr=  b'\\x03\\xad[\\x07\\x04\\xa4\\xe6\\xa2Y/BTC.COM/\\xfa\\xbemm\\r\\xd4\\xf6\\xc7\\xda\\xc8\\x94\\xc8H!\\xc9\\xfe\\xd8\\xc1Zb\\x15\\x83\\xad\\xa8\\xe4\\x17|\\x18,\\x01\\x1c\\xabR\\xe2\\xd6\\xd0\\x01\\x00\\x00\\x00\\x00\\x00\\x00\\x00\\x01)/\\x8e\\x92\\xae\\x01\\x00\\x00\\x00\\x00\\x00'\n",
      "Addesses   =  1FLH1SoLv4U68yUERhDiWzrJn5TggMqkaZ\n",
      "addr_match =  [('Waterhole', {'addr_match': '1FLH1SoLv4U68yUERhDiWzrJn5TggMqkaZ'})]\n",
      "cb_match   =  [('BTC.com', {'cb_match': '/BTC.COM/'})]\n",
      "524000\n",
      "Message    =  Addr and Cb match differ\n",
      "Blockheight=  524045\n",
      "Miner1     =  BitcoinRussia\n",
      "Miner2     =  Bitcoin-Ukraine\n",
      "Coinbase   =  030dff0704bbbe055b08fabe6d6d5161e32de4ba2440240366a8777307840c73e448a8e5239e663916c17e0be144010000000000000078054a364b5fe107182f426974636f696e2d556b7261696e652e636f6d2e75612f\n",
      "CoinbaseStr=  b'\\x03\\r\\xff\\x07\\x04\\xbb\\xbe\\x05[\\x08\\xfa\\xbemmQa\\xe3-\\xe4\\xba$@$\\x03f\\xa8ws\\x07\\x84\\x0cs\\xe4H\\xa8\\xe5#\\x9ef9\\x16\\xc1~\\x0b\\xe1D\\x01\\x00\\x00\\x00\\x00\\x00\\x00\\x00x\\x05J6K_\\xe1\\x07\\x18/Bitcoin-Ukraine.com.ua/'\n",
      "Addesses   =  165GCEAx81wce33FWEnPCRhdjcXCrBJdKn\n",
      "addr_match =  [('BitcoinRussia', {'addr_match': '165GCEAx81wce33FWEnPCRhdjcXCrBJdKn'})]\n",
      "cb_match   =  [('Bitcoin-Ukraine', {'cb_match': '/Bitcoin-Ukraine.com.ua/'})]\n",
      "556000\r"
     ]
    }
   ],
   "source": [
    "# attribute blocks to miners according to btccom initial mapping\n",
    "(blocks,miners_initial_btccom,conflicts) = util.attribute_blocks(blocks=blocks,\n",
    "                                   miners_dict=miners_initial_btccom,\n",
    "                                   addr_attr=util.DD_BTCCOM_ADDR_ATTR,\n",
    "                                   marker_attr=util.DD_BTCCOM_MARK_ATTR,\n",
    "                                   both_attr=util.DD_BTCCOM_ATTR,\n",
    "                                   source=\"btccom\",\n",
    "                                   override=True)"
   ]
  },
  {
   "cell_type": "code",
   "execution_count": 79,
   "metadata": {
    "ExecuteTime": {
     "end_time": "2019-06-02T18:57:29.614311Z",
     "start_time": "2019-06-02T18:57:29.610360Z"
    }
   },
   "outputs": [
    {
     "data": {
      "text/plain": [
       "3"
      ]
     },
     "execution_count": 79,
     "metadata": {},
     "output_type": "execute_result"
    }
   ],
   "source": [
    "len(conflicts) # 3"
   ]
  },
  {
   "cell_type": "code",
   "execution_count": 93,
   "metadata": {},
   "outputs": [],
   "source": [
    "assert len(conflicts) == 3"
   ]
  },
  {
   "cell_type": "code",
   "execution_count": 94,
   "metadata": {},
   "outputs": [
    {
     "data": {
      "text/plain": [
       "{'addresses': ['165GCEAx81wce33FWEnPCRhdjcXCrBJdKn'],\n",
       " 'attribution': '',\n",
       " 'attributions': {'blockchain_info_address_update': {'matches': [{'addr_match': '165GCEAx81wce33FWEnPCRhdjcXCrBJdKn'}],\n",
       "   'miner': 'BitcoinRussia',\n",
       "   'src': 'blockchain.info'},\n",
       "  'blockchain_info_update': {'matches': [{'addr_match': '165GCEAx81wce33FWEnPCRhdjcXCrBJdKn'}],\n",
       "   'miner': 'BitcoinRussia',\n",
       "   'src': 'blockchain.info'},\n",
       "  'btccom_address': {'matches': [{'addr_match': '165GCEAx81wce33FWEnPCRhdjcXCrBJdKn'}],\n",
       "   'miner': 'BitcoinRussia',\n",
       "   'src': 'btccom'},\n",
       "  'btccom_marker': {'matches': [{'cb_match': '/Bitcoin-Ukraine.com.ua/'}],\n",
       "   'miner': 'Bitcoin-Ukraine',\n",
       "   'src': 'btccom'}},\n",
       " 'cb': '030dff0704bbbe055b08fabe6d6d5161e32de4ba2440240366a8777307840c73e448a8e5239e663916c17e0be144010000000000000078054a364b5fe107182f426974636f696e2d556b7261696e652e636f6d2e75612f',\n",
       " 'conflicts': 0,\n",
       " 'hash': '00000000000000000038b67cc69238ebc13b7c63410200d03b67be05ed8af0e0',\n",
       " 'miner': '',\n",
       " 'payout': '1265971913',\n",
       " 'phash': None,\n",
       " 'time': 1527103163}"
      ]
     },
     "execution_count": 94,
     "metadata": {},
     "output_type": "execute_result"
    }
   ],
   "source": [
    "blocks[\"524045\"]"
   ]
  },
  {
   "cell_type": "code",
   "execution_count": 81,
   "metadata": {
    "ExecuteTime": {
     "end_time": "2019-06-02T19:02:49.612023Z",
     "start_time": "2019-06-02T19:02:49.608756Z"
    },
    "scrolled": true
   },
   "outputs": [],
   "source": [
    "# attribute blocks to miners according to btccom initial mapping\n",
    "# update initial mapping when coinbase marker matches and there is only one output address of coinbase tx\n",
    "(blocks,miners_initial_btccom,conflicts) = util.attribute_blocks(blocks=blocks,\n",
    "                                   miners_dict=miners_initial_btccom,\n",
    "                                   addr_attr=util.DD_BTCCOM_ADDR_ATTR + \"_update\",\n",
    "                                   marker_attr=util.DD_BTCCOM_MARK_ATTR + \"_update\",\n",
    "                                   both_attr=util.DD_BTCCOM_ATTR + \"_update\",\n",
    "                                   source=\"btccom\",\n",
    "                                   override=True,\n",
    "                                   update=True)"
   ]
  },
  {
   "cell_type": "code",
   "execution_count": 82,
   "metadata": {
    "ExecuteTime": {
     "end_time": "2019-06-02T19:02:55.308727Z",
     "start_time": "2019-06-02T19:02:55.299758Z"
    }
   },
   "outputs": [
    {
     "data": {
      "text/plain": [
       "388"
      ]
     },
     "execution_count": 82,
     "metadata": {},
     "output_type": "execute_result"
    }
   ],
   "source": [
    "len(conflicts)"
   ]
  },
  {
   "cell_type": "code",
   "execution_count": 83,
   "metadata": {
    "ExecuteTime": {
     "end_time": "2019-06-02T19:02:59.873034Z",
     "start_time": "2019-06-02T19:02:59.866947Z"
    }
   },
   "outputs": [
    {
     "data": {
      "text/plain": [
       "322"
      ]
     },
     "execution_count": 83,
     "metadata": {},
     "output_type": "execute_result"
    }
   ],
   "source": [
    "i = 0 \n",
    "for c in conflicts:\n",
    "    if c[ \"miner1\" ] == \"CANOE\" or c[ \"miner2\"] == \"CANOE\":\n",
    "        i += 1\n",
    "i"
   ]
  },
  {
   "cell_type": "code",
   "execution_count": 85,
   "metadata": {
    "ExecuteTime": {
     "end_time": "2019-06-02T19:06:25.657073Z",
     "start_time": "2019-06-02T19:06:25.652749Z"
    }
   },
   "outputs": [],
   "source": [
    "# attribute blocks to miners according to btccom initial mapping \n",
    "# updated with single addresses on which coinbase marker matched \n",
    "(blocks,miners_initial_btccom,conflicts) = util.attribute_blocks(blocks=blocks,\n",
    "                                   miners_dict=miners_initial_btccom,\n",
    "                                   addr_attr=util.DD_BTCCOM_ADDR_ATTR + \"_update\",\n",
    "                                   marker_attr=util.DD_BTCCOM_MARK_ATTR + \"_update\",\n",
    "                                   both_attr=util.DD_BTCCOM_ATTR + \"_update\",\n",
    "                                   source=\"btccom\",\n",
    "                                   override=True,\n",
    "                                   update=True)"
   ]
  },
  {
   "cell_type": "code",
   "execution_count": 86,
   "metadata": {
    "ExecuteTime": {
     "end_time": "2019-06-02T19:06:32.724187Z",
     "start_time": "2019-06-02T19:06:32.714801Z"
    }
   },
   "outputs": [
    {
     "data": {
      "text/plain": [
       "388"
      ]
     },
     "execution_count": 86,
     "metadata": {},
     "output_type": "execute_result"
    }
   ],
   "source": [
    "len(conflicts)"
   ]
  },
  {
   "cell_type": "code",
   "execution_count": 87,
   "metadata": {
    "ExecuteTime": {
     "end_time": "2019-06-02T19:06:38.531741Z",
     "start_time": "2019-06-02T19:06:38.517283Z"
    }
   },
   "outputs": [],
   "source": [
    "with open(miners_initial_btccom_conflicts_json_file, 'w') as outfile:\n",
    "    json.dump(conflicts, outfile)"
   ]
  },
  {
   "cell_type": "code",
   "execution_count": 88,
   "metadata": {
    "ExecuteTime": {
     "end_time": "2019-06-02T19:06:41.950931Z",
     "start_time": "2019-06-02T19:06:41.936447Z"
    }
   },
   "outputs": [
    {
     "name": "stdout",
     "output_type": "stream",
     "text": [
      "Added addresses by marker:  6067\n"
     ]
    }
   ],
   "source": [
    "print(\"Added addresses by marker: \",util.check_for_miner_addresses_from_markers(miners_initial_btccom)) # 6067"
   ]
  },
  {
   "cell_type": "code",
   "execution_count": 104,
   "metadata": {},
   "outputs": [],
   "source": [
    "assert util.check_for_miner_addresses_from_markers(miners_initial_btccom) == 6067"
   ]
  },
  {
   "cell_type": "code",
   "execution_count": 89,
   "metadata": {
    "ExecuteTime": {
     "end_time": "2019-06-02T19:06:48.602760Z",
     "start_time": "2019-06-02T19:06:48.573091Z"
    }
   },
   "outputs": [],
   "source": [
    "assert util.check_for_obvious_address_collisions(miners_initial_btccom) == False"
   ]
  },
  {
   "cell_type": "code",
   "execution_count": 106,
   "metadata": {},
   "outputs": [
    {
     "data": {
      "text/plain": [
       "{'addresses': ['1DDVcMv7DqcThcFDmqD9aLUkRByMDuAm5v'],\n",
       " 'attribution': '',\n",
       " 'attributions': {},\n",
       " 'cb': '04d21c081b0147',\n",
       " 'conflicts': 0,\n",
       " 'hash': '00000000000069c0cd2c3ed74f04cdc43f00870f583d0d670e8d0c9f278ff481',\n",
       " 'miner': '',\n",
       " 'payout': '5000000000',\n",
       " 'phash': None,\n",
       " 'time': 1291440815}"
      ]
     },
     "execution_count": 106,
     "metadata": {},
     "output_type": "execute_result"
    }
   ],
   "source": [
    "util.get_sample(blocks)"
   ]
  },
  {
   "cell_type": "markdown",
   "metadata": {},
   "source": [
    "## Miner unification between blockchain.info and btccom and enrich miners file from btccom"
   ]
  },
  {
   "cell_type": "code",
   "execution_count": 90,
   "metadata": {
    "ExecuteTime": {
     "end_time": "2019-06-02T19:06:54.240219Z",
     "start_time": "2019-06-02T19:06:54.233097Z"
    }
   },
   "outputs": [
    {
     "name": "stdout",
     "output_type": "stream",
     "text": [
      "Multiple markers for pool: OzCoin\n",
      "Multiple markers for pool: TripleMining\n",
      "Multiple markers for pool: Polmine\n",
      "Multiple markers for pool: AntPool\n",
      "Multiple markers for pool: BTCC Pool\n",
      "Multiple markers for pool: BTCC Pool\n",
      "Multiple markers for pool: BTCC Pool\n",
      "Multiple markers for pool: BitFury\n",
      "Multiple markers for pool: ViaBTC\n",
      "Multiple markers for pool: PHash.IO\n"
     ]
    }
   ],
   "source": [
    "# Boostrap pools files with blockchain.info github data\n",
    "# https://github.com/blockchain/Blockchain-Known-Pools/tree/82ed31956388e3950845cc2faeaf6679a057ee5b\n",
    "miners = dict()\n",
    "miners.clear()\n",
    "\n",
    "miners = add_makers_from_source(pools_bc,miners,source=[\"blockchain.info github\",])"
   ]
  },
  {
   "cell_type": "code",
   "execution_count": 91,
   "metadata": {
    "ExecuteTime": {
     "end_time": "2019-06-02T19:06:56.725243Z",
     "start_time": "2019-06-02T19:06:56.714667Z"
    }
   },
   "outputs": [],
   "source": [
    "diffs = list(dictdiffer.diff(pools_bc,pools_btccom))\n",
    "for diff in diffs:\n",
    "    if diff[0] == \"change\":\n",
    "        if \"name\" in diff[1]:\n",
    "            #pprint.pprint(diff)\n",
    "            util.add_name(miner=diff[2][0],miners=miners,name=diff[2][1],source=\"btccom github\",currencies=[\"BTC\",])"
   ]
  },
  {
   "cell_type": "code",
   "execution_count": 92,
   "metadata": {
    "ExecuteTime": {
     "end_time": "2019-06-02T19:06:57.437619Z",
     "start_time": "2019-06-02T19:06:57.434391Z"
    }
   },
   "outputs": [],
   "source": [
    "assert util.get_miner_id_by_name(miners,'NiceHash') == 'NiceHash Solo'"
   ]
  },
  {
   "cell_type": "code",
   "execution_count": 93,
   "metadata": {
    "ExecuteTime": {
     "end_time": "2019-06-02T19:06:58.199753Z",
     "start_time": "2019-06-02T19:06:58.183452Z"
    },
    "scrolled": true
   },
   "outputs": [
    {
     "name": "stdout",
     "output_type": "stream",
     "text": [
      "duplicate name in markers: CanoePool - CANOE\n",
      "Multiple markers for pool: CANOE\n",
      "Same marker for pool: BTC.TOP marker:/BTC.TOP/\n",
      "Same marker for pool: Bitcoin.com marker:pool.bitcoin.com\n",
      "Same marker for pool: 175btc marker:Mined By 175btc.com\n",
      "Same marker for pool: GBMiners marker:/mined by gbminers/\n",
      "Same marker for pool: A-XBT marker:/A-XBT/\n",
      "Same marker for pool: ASICMiner marker:ASICMiner\n",
      "Same marker for pool: BitMinter marker:BitMinter\n",
      "Same marker for pool: BitcoinRussia marker:/Bitcoin-Russia.ru/\n",
      "Same marker for pool: BTCServ marker:btcserv\n",
      "Same marker for pool: simplecoin.us marker:simplecoin\n",
      "Same marker for pool: BTC Guild marker:BTC Guild\n",
      "Same marker for pool: Eligius marker:Eligius\n",
      "Same marker for pool: OzCoin marker:ozco.in\n",
      "Same marker for pool: OzCoin marker:ozcoin\n",
      "Same marker for pool: EclipseMC marker:EMC\n",
      "Same marker for pool: MaxBTC marker:MaxBTC\n",
      "Same marker for pool: TripleMining marker:triplemining\n",
      "Same marker for pool: TripleMining marker:Triplemining.com\n",
      "Same marker for pool: CoinLab marker:CoinLab\n",
      "Same marker for pool: 50BTC marker:50BTC\n",
      "Same marker for pool: GHash.IO marker:ghash.io\n",
      "Same marker for pool: ST Mining Corp marker:st mining corp\n",
      "Same marker for pool: Bitparking marker:bitparking\n",
      "Same marker for pool: mmpool marker:mmpool\n",
      "Same marker for pool: Polmine marker:by polmine.pl\n",
      "Same marker for pool: Polmine marker:bypmneU\n",
      "Same marker for pool: KnCMiner marker:KnCMiner\n",
      "Same marker for pool: Bitalo marker:Bitalo\n",
      "Same marker for pool: F2Pool marker:七彩神仙鱼\n",
      "Same marker for pool: HHTT marker:HHTT\n",
      "Same marker for pool: MegaBigPower marker:megabigpower.com\n",
      "Same marker for pool: Mt Red marker:/mtred/\n",
      "Same marker for pool: NMCbit marker:nmcbit.com\n",
      "Same marker for pool: Yourbtc.net marker:yourbtc.net\n",
      "Same marker for pool: Give Me Coins marker:Give-Me-Coins\n",
      "Same marker for pool: SlushPool marker:/slush/\n",
      "Same marker for pool: AntPool marker:Mined by AntPool\n",
      "Multiple markers for pool: AntPool\n",
      "Same marker for pool: AntPool marker:/AntPool/\n",
      "Same marker for pool: MultiCoin.co marker:Mined by MultiCoin.co\n",
      "Same marker for pool: bcpool.io marker:bcpool.io\n",
      "Same marker for pool: Cointerra marker:cointerra\n",
      "Same marker for pool: KanoPool marker:Kano\n",
      "duplicate name in markers: Solo CK - Solo CKPool\n",
      "Same marker for pool: Solo CKPool marker:/solo.ckpool.org/\n",
      "Same marker for pool: CKPool marker:/ckpool.org/\n",
      "duplicate name in markers: NiceHash - NiceHash Solo\n",
      "Same marker for pool: NiceHash Solo marker:/NiceHashSolo\n",
      "duplicate name in markers: BitClub - BitClub Network\n",
      "Same marker for pool: BitClub Network marker:/BitClub Network/\n",
      "Same marker for pool: Bitcoin Affiliate Network marker:bitcoinaffiliatenetwork.com\n",
      "duplicate name in markers: BTCC - BTCC Pool\n",
      "Same marker for pool: BTCC Pool marker:BTCChina Pool\n",
      "duplicate name in markers: BTCC - BTCC Pool\n",
      "Same marker for pool: BTCC Pool marker:btcchina.com\n",
      "duplicate name in markers: BTCC - BTCC Pool\n",
      "Same marker for pool: BTCC Pool marker:BTCChina.com\n",
      "duplicate name in markers: BTCC - BTCC Pool\n",
      "Same marker for pool: BTCC Pool marker:/BTCC/\n",
      "duplicate name in markers: BWPool - BW.COM\n",
      "Same marker for pool: BW.COM marker:BW Pool\n",
      "duplicate name in markers: BWPool - BW.COM\n",
      "Multiple markers for pool: BW.COM\n",
      "duplicate name in markers: EXX&BW - xbtc.exx.com&bw.com\n",
      "Same marker for pool: xbtc.exx.com&bw.com marker:xbtc.exx.com&bw.com\n",
      "Same marker for pool: Bitsolo marker:Bitsolo Pool\n",
      "Same marker for pool: BitFury marker:/BitFury/\n",
      "Same marker for pool: BitFury marker:/Bitfury/\n",
      "Same marker for pool: 21 Inc. marker:/pool34/\n",
      "Same marker for pool: digitalBTC marker:/agentD/\n",
      "Same marker for pool: 8baochi marker:/八宝池 8baochi.com/\n",
      "Same marker for pool: myBTCcoin Pool marker:myBTCcoin Pool\n",
      "Same marker for pool: TBDice marker:TBDice\n",
      "Same marker for pool: HASHPOOL marker:HASHPOOL\n",
      "Same marker for pool: Nexious marker:/Nexious/\n",
      "Same marker for pool: Bravo Mining marker:/bravo-mining/\n",
      "Same marker for pool: HotPool marker:/HotPool/\n",
      "Same marker for pool: BCMonster marker:/BCMonster/\n",
      "Same marker for pool: 1Hash marker:Mined by 1hash.com\n",
      "Same marker for pool: Bixin marker:/HaoBTC/\n",
      "Same marker for pool: ViaBTC marker:viabtc.com deploy\n",
      "Same marker for pool: ViaBTC marker:/ViaBTC/\n",
      "Same marker for pool: ConnectBTC marker:/ConnectBTC - Home for Miners/\n",
      "Same marker for pool: BATPOOL marker:/BATPOOL/\n",
      "duplicate name in markers: CanoePool - CANOE\n",
      "Same marker for pool: CANOE marker:/CANOE/\n",
      "Same marker for pool: Waterhole marker:/WATERHOLE.IO/\n",
      "Same marker for pool: BTC.com marker:/BTC.COM/\n",
      "Same marker for pool: DCExploration marker:/DCExploration/\n",
      "Same marker for pool: 58COIN marker:/58coin.com/\n",
      "Same marker for pool: Bitcoin India marker:/Bitcoin-India/\n",
      "Same marker for pool: shawnp0wers marker:--Nug--\n",
      "Same marker for pool: PHash.IO marker:/phash.io/\n",
      "Same marker for pool: PHash.IO marker:/phash.cn/\n",
      "Same marker for pool: RigPool marker:/RigPool.com/\n",
      "Same marker for pool: HAOZHUZHU marker:/haozhuzhu/\n",
      "Same marker for pool: 7pool marker:/$Mined by 7pool.com/\n",
      "Same marker for pool: MiningKings marker:/mined by poopbut/\n",
      "Same marker for pool: HashBX marker:/Mined by HashBX.io/\n",
      "Same marker for pool: DPOOL marker:/DPOOL.TOP/\n",
      "duplicate name in markers: haominer - Haominer\n",
      "Same marker for pool: Haominer marker:/haominer/\n"
     ]
    }
   ],
   "source": [
    "miners = add_makers_from_source(pools_btccom,miners,source=[\"btccom github\",])"
   ]
  },
  {
   "cell_type": "code",
   "execution_count": 94,
   "metadata": {
    "ExecuteTime": {
     "end_time": "2019-06-02T19:07:01.185281Z",
     "start_time": "2019-06-02T19:07:01.179419Z"
    },
    "scrolled": true
   },
   "outputs": [],
   "source": [
    "assert \"BWPool\" in miners[\"BW.COM\"][ util.D_NAMES ].keys()"
   ]
  },
  {
   "cell_type": "code",
   "execution_count": 95,
   "metadata": {
    "ExecuteTime": {
     "end_time": "2019-06-02T19:07:02.133070Z",
     "start_time": "2019-06-02T19:07:02.123405Z"
    },
    "scrolled": true
   },
   "outputs": [
    {
     "name": "stdout",
     "output_type": "stream",
     "text": [
      "new pool: BTC Nuggets\n",
      "new pool: EkanemBTC\n",
      "new pool: Huobi\n",
      "new pool: CloudHashing\n",
      "new pool: digitalX Mintsy\n",
      "new pool: Telco 214\n",
      "new pool: BTC Pool Party\n",
      "new pool: Multipool\n",
      "new pool: transactioncoinmining\n",
      "new pool: BTCDig\n",
      "new pool: Tricky's BTC Pool\n",
      "new pool: BTCMP\n",
      "new pool: Eobot\n",
      "new pool: UNOMP\n",
      "new pool: Patel's Mining pool\n",
      "new pool: GoGreenLight\n"
     ]
    }
   ],
   "source": [
    "miners = add_addresses_from_source(pools_bc,miners,source=[\"blockchain.info github\",])"
   ]
  },
  {
   "cell_type": "code",
   "execution_count": 96,
   "metadata": {
    "ExecuteTime": {
     "end_time": "2019-06-02T19:07:03.622505Z",
     "start_time": "2019-06-02T19:07:03.614904Z"
    },
    "scrolled": true
   },
   "outputs": [
    {
     "data": {
      "text/plain": [
       "{'names': {'Huobi.pool': {'url': 'https://www.poolhb.com/',\n",
       "   'currencies': ['BTC'],\n",
       "   'fullName': '',\n",
       "   'firstUsed': 0,\n",
       "   'lastUsed': 0,\n",
       "   'sources': ['btccom github', 'blockchain.info github']}},\n",
       " 'markers': {'/Huobi/': {'currencies': ['BTC'],\n",
       "   'firstUsed': 0,\n",
       "   'lastUsed': 0,\n",
       "   'sources': ['btccom github', 'blockchain.info github']}},\n",
       " 'addresses': {}}"
      ]
     },
     "execution_count": 96,
     "metadata": {},
     "output_type": "execute_result"
    }
   ],
   "source": [
    "miners[\"Huobi.pool\"]"
   ]
  },
  {
   "cell_type": "code",
   "execution_count": 97,
   "metadata": {
    "ExecuteTime": {
     "end_time": "2019-06-02T19:07:07.399268Z",
     "start_time": "2019-06-02T19:07:07.391959Z"
    },
    "scrolled": true
   },
   "outputs": [
    {
     "data": {
      "text/plain": [
       "{'names': {'Huobi': {'url': 'http://www.huobi.com',\n",
       "   'currencies': ['BTC'],\n",
       "   'fullName': '',\n",
       "   'firstUsed': 0,\n",
       "   'lastUsed': 0,\n",
       "   'sources': ['blockchain.info github']}},\n",
       " 'markers': {},\n",
       " 'addresses': {'3HuobiNg2wHjdPU2mQczL9on8WF7hZmaGd': {'currencies': ['BTC'],\n",
       "   'firstUsed': 0,\n",
       "   'lastUsed': 0,\n",
       "   'sources': ['blockchain.info github']}}}"
      ]
     },
     "execution_count": 97,
     "metadata": {},
     "output_type": "execute_result"
    }
   ],
   "source": [
    "miners[\"Huobi\"]"
   ]
  },
  {
   "cell_type": "code",
   "execution_count": 98,
   "metadata": {
    "ExecuteTime": {
     "end_time": "2019-06-02T19:07:12.326663Z",
     "start_time": "2019-06-02T19:07:12.322943Z"
    }
   },
   "outputs": [
    {
     "name": "stdout",
     "output_type": "stream",
     "text": [
      "\n"
     ]
    }
   ],
   "source": [
    "util.unify_miners(\"Huobi.pool\",\"Huobi\",miners)\n",
    "print()"
   ]
  },
  {
   "cell_type": "code",
   "execution_count": 99,
   "metadata": {
    "ExecuteTime": {
     "end_time": "2019-06-02T19:07:18.302737Z",
     "start_time": "2019-06-02T19:07:18.292618Z"
    },
    "scrolled": true
   },
   "outputs": [
    {
     "name": "stdout",
     "output_type": "stream",
     "text": [
      "CONFLICTING URL: 'https://www.bitfarms.io/'\n",
      "CONFLICTING URL: 'https://www.bitarms.io/'\n",
      "duplicate name in addresses: BWPool - BW.COM\n",
      "CONFLICTING URL: 'https://bwpool.net/'\n",
      "CONFLICTING URL: 'https://bw.com'\n",
      "duplicate name in addresses: BitClub - BitClub Network\n",
      "duplicate name in addresses: BTCC - BTCC Pool\n",
      "new pool: Patels\n",
      "duplicate name in addresses: BitcoinIndia - Bitcoin India\n",
      "CONFLICTING URL: 'https://pool.bitcoin-india.org/'\n",
      "CONFLICTING URL: 'https://bitcoin-india.org'\n",
      "duplicate name in addresses: CanoePool - CANOE\n",
      "CONFLICTING URL: 'https://btc.canoepool.com/'\n",
      "CONFLICTING URL: 'https://www.canoepool.com'\n",
      "new pool: tiger\n"
     ]
    }
   ],
   "source": [
    "miners = add_addresses_from_source(pools_btccom,miners,source=[\"btccom github\",])"
   ]
  },
  {
   "cell_type": "code",
   "execution_count": 117,
   "metadata": {},
   "outputs": [
    {
     "data": {
      "text/plain": [
       "{'addresses': {},\n",
       " 'markers': {'/DCExploration/': {'currencies': ['BTC'],\n",
       "   'firstUsed': 0,\n",
       "   'lastUsed': 0,\n",
       "   'sources': ['blockchain.info github', 'btccom github']}},\n",
       " 'names': {'DCExploration': {'currencies': ['BTC'],\n",
       "   'firstUsed': 0,\n",
       "   'fullName': '',\n",
       "   'lastUsed': 0,\n",
       "   'sources': ['blockchain.info github', 'btccom github'],\n",
       "   'url': ''}}}"
      ]
     },
     "execution_count": 117,
     "metadata": {},
     "output_type": "execute_result"
    }
   ],
   "source": [
    "miners[\"DCExploration\"]"
   ]
  },
  {
   "cell_type": "code",
   "execution_count": 118,
   "metadata": {},
   "outputs": [
    {
     "data": {
      "text/plain": [
       "{'addresses': {},\n",
       " 'markers': {'/DCEX/': {'currencies': ['BTC'],\n",
       "   'firstUsed': 0,\n",
       "   'lastUsed': 0,\n",
       "   'sources': ['btccom github', 'blockchain.info github']}},\n",
       " 'names': {'DCEX': {'currencies': ['BTC'],\n",
       "   'firstUsed': 0,\n",
       "   'fullName': '',\n",
       "   'lastUsed': 0,\n",
       "   'sources': ['btccom github', 'blockchain.info github'],\n",
       "   'url': 'http://dcexploration.cn'}}}"
      ]
     },
     "execution_count": 118,
     "metadata": {},
     "output_type": "execute_result"
    }
   ],
   "source": [
    "miners[\"DCEX\"]"
   ]
  },
  {
   "cell_type": "code",
   "execution_count": 100,
   "metadata": {
    "ExecuteTime": {
     "end_time": "2019-06-02T19:07:31.596220Z",
     "start_time": "2019-06-02T19:07:31.592013Z"
    }
   },
   "outputs": [
    {
     "name": "stdout",
     "output_type": "stream",
     "text": [
      "\n"
     ]
    }
   ],
   "source": [
    "util.unify_miners(\"DCEX\",\"DCExploration\",miners)\n",
    "print()"
   ]
  },
  {
   "cell_type": "code",
   "execution_count": 120,
   "metadata": {},
   "outputs": [
    {
     "data": {
      "text/plain": [
       "{'addresses': {},\n",
       " 'markers': {'/SigmaPool.com/': {'currencies': ['BTC'],\n",
       "   'firstUsed': 0,\n",
       "   'lastUsed': 0,\n",
       "   'sources': ['btccom github', 'blockchain.info github']}},\n",
       " 'names': {'sigmapool.com': {'currencies': ['BTC'],\n",
       "   'firstUsed': 0,\n",
       "   'fullName': '',\n",
       "   'lastUsed': 0,\n",
       "   'sources': ['btccom github', 'blockchain.info github'],\n",
       "   'url': 'https://sigmapool.com'}}}"
      ]
     },
     "execution_count": 120,
     "metadata": {},
     "output_type": "execute_result"
    }
   ],
   "source": [
    "miners[\"sigmapool.com\"]"
   ]
  },
  {
   "cell_type": "code",
   "execution_count": 121,
   "metadata": {},
   "outputs": [
    {
     "data": {
      "text/plain": [
       "{'addresses': {},\n",
       " 'markers': {'SigmaPool.com': {'currencies': ['BTC'],\n",
       "   'firstUsed': 0,\n",
       "   'lastUsed': 0,\n",
       "   'sources': ['blockchain.info github', 'btccom github']}},\n",
       " 'names': {'SigmaPool.com': {'currencies': ['BTC'],\n",
       "   'firstUsed': 0,\n",
       "   'fullName': '',\n",
       "   'lastUsed': 0,\n",
       "   'sources': ['blockchain.info github', 'btccom github'],\n",
       "   'url': 'https://www.sigmapool.com/'}}}"
      ]
     },
     "execution_count": 121,
     "metadata": {},
     "output_type": "execute_result"
    }
   ],
   "source": [
    "miners[\"SigmaPool.com\"]"
   ]
  },
  {
   "cell_type": "code",
   "execution_count": 101,
   "metadata": {
    "ExecuteTime": {
     "end_time": "2019-06-02T19:07:36.830237Z",
     "start_time": "2019-06-02T19:07:36.825138Z"
    }
   },
   "outputs": [
    {
     "name": "stdout",
     "output_type": "stream",
     "text": [
      "\n"
     ]
    }
   ],
   "source": [
    "util.unify_miners(\"sigmapool.com\",\"SigmaPool.com\",miners)\n",
    "print()"
   ]
  },
  {
   "cell_type": "code",
   "execution_count": 123,
   "metadata": {
    "scrolled": true
   },
   "outputs": [
    {
     "data": {
      "text/plain": [
       "{'addresses': {'1LsFmhnne74EmU4q4aobfxfrWY4wfMVd8w': {'currencies': ['BTC'],\n",
       "   'firstUsed': 0,\n",
       "   'lastUsed': 0,\n",
       "   'sources': ['btccom github']}},\n",
       " 'markers': {},\n",
       " 'names': {'tiger': {'currencies': ['BTC'],\n",
       "   'firstUsed': 0,\n",
       "   'fullName': '',\n",
       "   'lastUsed': 0,\n",
       "   'sources': ['btccom github'],\n",
       "   'url': ''}}}"
      ]
     },
     "execution_count": 123,
     "metadata": {},
     "output_type": "execute_result"
    }
   ],
   "source": [
    "miners[\"tiger\"]"
   ]
  },
  {
   "cell_type": "code",
   "execution_count": 124,
   "metadata": {
    "scrolled": true
   },
   "outputs": [
    {
     "data": {
      "text/plain": [
       "{'addresses': {'197miJmttpCt2ubVs6DDtGBYFDroxHmvVB': {'currencies': ['BTC'],\n",
       "   'firstUsed': 0,\n",
       "   'lastUsed': 0,\n",
       "   'sources': ['btccom github']},\n",
       "  '19RE4mz2UbDxDVougc6GGdoT4x5yXxwFq2': {'currencies': ['BTC'],\n",
       "   'firstUsed': 0,\n",
       "   'lastUsed': 0,\n",
       "   'sources': ['btccom github']}},\n",
       " 'markers': {},\n",
       " 'names': {'Patels': {'currencies': ['BTC'],\n",
       "   'firstUsed': 0,\n",
       "   'fullName': '',\n",
       "   'lastUsed': 0,\n",
       "   'sources': ['btccom github'],\n",
       "   'url': 'http://patelsminingpool.com/'}}}"
      ]
     },
     "execution_count": 124,
     "metadata": {},
     "output_type": "execute_result"
    }
   ],
   "source": [
    "miners[\"Patels\"]"
   ]
  },
  {
   "cell_type": "code",
   "execution_count": 102,
   "metadata": {
    "ExecuteTime": {
     "end_time": "2019-06-02T19:07:45.548231Z",
     "start_time": "2019-06-02T19:07:45.542756Z"
    },
    "scrolled": true
   },
   "outputs": [],
   "source": [
    "assert \"BitcoinIndia\" in miners[\"Bitcoin India\"][ util.D_NAMES ].keys()\n",
    "assert \"CanoePool\" in miners[\"CANOE\"][ util.D_NAMES ].keys()"
   ]
  },
  {
   "cell_type": "code",
   "execution_count": 126,
   "metadata": {
    "scrolled": true
   },
   "outputs": [
    {
     "data": {
      "text/plain": [
       "{'addresses': {'18cBEMRxXHqzWWCxZNtU91F5sbUNKhL5PX': {'currencies': ['BTC'],\n",
       "   'firstUsed': 0,\n",
       "   'lastUsed': 0,\n",
       "   'sources': ['blockchain.info github', 'btccom github']}},\n",
       " 'markers': {'/ViaBTC/': {'currencies': ['BTC'],\n",
       "   'firstUsed': 0,\n",
       "   'lastUsed': 0,\n",
       "   'sources': ['blockchain.info github', 'btccom github']},\n",
       "  'viabtc.com deploy': {'currencies': ['BTC'],\n",
       "   'firstUsed': 0,\n",
       "   'lastUsed': 0,\n",
       "   'sources': ['blockchain.info github', 'btccom github']}},\n",
       " 'names': {'ViaBTC': {'currencies': ['BTC'],\n",
       "   'firstUsed': 0,\n",
       "   'fullName': '',\n",
       "   'lastUsed': 0,\n",
       "   'sources': ['blockchain.info github', 'btccom github'],\n",
       "   'url': 'https://viabtc.com'}}}"
      ]
     },
     "execution_count": 126,
     "metadata": {},
     "output_type": "execute_result"
    }
   ],
   "source": [
    "util.get_sample(miners)"
   ]
  },
  {
   "cell_type": "markdown",
   "metadata": {},
   "source": [
    "## Miner unification between blockchain.info and blocktrail.com"
   ]
  },
  {
   "cell_type": "code",
   "execution_count": 106,
   "metadata": {
    "ExecuteTime": {
     "end_time": "2019-06-02T19:08:59.707484Z",
     "start_time": "2019-06-02T19:08:59.078203Z"
    }
   },
   "outputs": [],
   "source": [
    "with open(blocks_blocktrail_json_file, 'r') as fp:\n",
    "    blocks_blocktrail = json.load(fp)"
   ]
  },
  {
   "cell_type": "code",
   "execution_count": 107,
   "metadata": {
    "ExecuteTime": {
     "end_time": "2019-06-02T19:09:07.142109Z",
     "start_time": "2019-06-02T19:09:07.137589Z"
    }
   },
   "outputs": [
    {
     "data": {
      "text/plain": [
       "{'miner': 'BW Pool', 'src': 'blocktrail.com'}"
      ]
     },
     "execution_count": 107,
     "metadata": {},
     "output_type": "execute_result"
    }
   ],
   "source": [
    "blocks_blocktrail[\"400000\"]"
   ]
  },
  {
   "cell_type": "markdown",
   "metadata": {},
   "source": [
    "Try to match every pool/miner name in the *blocktrail.com* attribution to a name from the *blockchain.info* attribution"
   ]
  },
  {
   "cell_type": "code",
   "execution_count": 108,
   "metadata": {
    "ExecuteTime": {
     "end_time": "2019-06-02T19:09:12.324278Z",
     "start_time": "2019-06-02T19:09:10.193344Z"
    }
   },
   "outputs": [],
   "source": [
    "miners_bci = set()\n",
    "miners_bt = set()\n",
    "miners_both = set()\n",
    "\n",
    "for blknum in blocks:\n",
    "    if blknum in blocks_blocktrail.keys():\n",
    "        # check if there is a blocktrail.com attribution for this block\n",
    "        if ( util.DD_BCI_ATTR in blocks[ blknum ][ util.D_ATTRIBUTIONS ].keys() or\n",
    "             util.DD_BCI_MARK_ATTR in blocks[ blknum ][ util.D_ATTRIBUTIONS ].keys() or\n",
    "             util.DD_BCI_ADDR_ATTR in blocks[ blknum ][ util.D_ATTRIBUTIONS ].keys() ):\n",
    "            # check if there is a blockchain.info attribution already\n",
    "            \n",
    "            # assign blockchain.info attribuiton:\n",
    "            if util.DD_BCI_ATTR in blocks[ blknum ][ util.D_ATTRIBUTIONS ].keys():\n",
    "                miner_bci = blocks[ blknum ][ util.D_ATTRIBUTIONS ][ util.DD_BCI_ATTR ][ util.DDD_MINER ]\n",
    "                src_bci = blocks[ blknum ][ util.D_ATTRIBUTIONS ][ util.DD_BCI_ATTR ][ util.DDD_SRC ]\n",
    "            elif util.DD_BCI_MARK_ATTR in blocks[ blknum ][ util.D_ATTRIBUTIONS ].keys():\n",
    "                miner_bci = blocks[ blknum ][ util.D_ATTRIBUTIONS ][ util.DD_BCI_MARK_ATTR ][ util.DDD_MINER ]\n",
    "                src_bci = blocks[ blknum ][ util.D_ATTRIBUTIONS ][ util.DD_BCI_MARK_ATTR ][ util.DDD_SRC ]\n",
    "            elif util.DD_BCI_ADDR_ATTR in blocks[ blknum ][ util.D_ATTRIBUTIONS ].keys():\n",
    "                miner_bci = blocks[ blknum ][ util.D_ATTRIBUTIONS ][ util.DD_BCI_ADDR_ATTR ][ util.DDD_MINER ]\n",
    "                src_bci = blocks[ blknum ][ util.D_ATTRIBUTIONS ][ util.DD_BCI_ADDR_ATTR ][ util.DDD_SRC ]\n",
    "            \n",
    "            # assign blocktrail.com attribution:\n",
    "            miner_bt = blocks_blocktrail[ blknum ][ util.DDD_MINER ]\n",
    "            src_bt = blocks_blocktrail[ blknum ][ util.DDD_SRC ]\n",
    "            \n",
    "            if miner_bt == \"unknown\" or miner_bt == \"Unknown Entity\":\n",
    "                # only try to match known miners \n",
    "                continue\n",
    "            \n",
    "            # try some simple name matching of pool/miner:\n",
    "            if miner_bci == miner_bt:\n",
    "                miners_both.add(miner_bci)\n",
    "                \n",
    "            elif miner_bci.lower() == miner_bt.lower():\n",
    "                miners_both.add(miner_bci.lower())\n",
    "                \n",
    "                util.add_name( miner_bci, miners, miner_bci.lower(), \"blocktrail.com\" )\n",
    "                util.add_name( miner_bci, miners, miner_bt, \"blocktrail.com\" ) \n",
    "                \n",
    "            elif re.sub('[^a-z0-9]','',miner_bci.lower() ) == re.sub('[^a-z0-9]','',miner_bt.lower() ):\n",
    "                miners_both.add( re.sub('[^a-z0-9]', '', miner_bci.lower() ) )\n",
    "                \n",
    "                util.add_name( miner_bci, miners, re.sub('[^a-z0-9]','',miner_bci.lower() ), \"blocktrail.com\" )\n",
    "                util.add_name( miner_bci, miners, miner_bt, \"blocktrail.com\" )\n",
    "                \n",
    "            elif ( re.sub( 'pool', '', re.sub('[^a-z0-9]','',miner_bci.lower() ) ) == \n",
    "                   re.sub( 'pool', '', re.sub('[^a-z0-9]','',miner_bt.lower() ) ) ):\n",
    "                miners_both.add( re.sub( 'pool', '', re.sub('[^a-z0-9]', '', miner_bci.lower() ) ) )\n",
    "                \n",
    "                util.add_name( miner_bci, miners, re.sub( 'pool', '', re.sub('[^a-z0-9]','',miner_bci.lower() ) ), \"blocktrail.com\" )\n",
    "                util.add_name( miner_bci, miners, miner_bt, \"blocktrail.com\" )\n",
    "            else:\n",
    "                # if no name has matched yet and no other miner matches directly add both names to a list \n",
    "                # to relsove later manually\n",
    "                if miner_bt not in miners.keys():\n",
    "                    miners_bci.add(miner_bci)\n",
    "                    miners_bt.add(miner_bt)\n"
   ]
  },
  {
   "cell_type": "code",
   "execution_count": 109,
   "metadata": {
    "ExecuteTime": {
     "end_time": "2019-06-02T19:09:14.381146Z",
     "start_time": "2019-06-02T19:09:14.372954Z"
    }
   },
   "outputs": [
    {
     "data": {
      "text/plain": [
       "59"
      ]
     },
     "execution_count": 109,
     "metadata": {},
     "output_type": "execute_result"
    }
   ],
   "source": [
    "len(sorted(miners_both))"
   ]
  },
  {
   "cell_type": "code",
   "execution_count": 131,
   "metadata": {},
   "outputs": [],
   "source": [
    "assert len(sorted(miners_both)) == 59"
   ]
  },
  {
   "cell_type": "code",
   "execution_count": 110,
   "metadata": {
    "ExecuteTime": {
     "end_time": "2019-06-02T19:09:17.930053Z",
     "start_time": "2019-06-02T19:09:17.922448Z"
    },
    "scrolled": true
   },
   "outputs": [
    {
     "data": {
      "text/plain": [
       "['BW.COM',\n",
       " 'Bitcoin Affiliate Network',\n",
       " 'Bixin',\n",
       " 'F2Pool',\n",
       " 'Huobi',\n",
       " 'KanoPool',\n",
       " 'Yourbtc.net',\n",
       " 'simplecoin.us',\n",
       " 'xbtc.exx.com&bw.com']"
      ]
     },
     "execution_count": 110,
     "metadata": {},
     "output_type": "execute_result"
    }
   ],
   "source": [
    "sorted(miners_bci)"
   ]
  },
  {
   "cell_type": "code",
   "execution_count": 111,
   "metadata": {
    "ExecuteTime": {
     "end_time": "2019-06-02T19:09:21.269516Z",
     "start_time": "2019-06-02T19:09:21.264676Z"
    }
   },
   "outputs": [],
   "source": [
    "assert len(miners_bci) == 9"
   ]
  },
  {
   "cell_type": "code",
   "execution_count": 112,
   "metadata": {
    "ExecuteTime": {
     "end_time": "2019-06-02T19:09:24.051507Z",
     "start_time": "2019-06-02T19:09:24.045568Z"
    }
   },
   "outputs": [
    {
     "data": {
      "text/plain": [
       "['Avalon + Huobi',\n",
       " 'BTCC',\n",
       " 'BW Pool',\n",
       " 'BitAffNet',\n",
       " 'DiscusFish / F2Pool',\n",
       " 'EXX & BW',\n",
       " 'HaoBTC',\n",
       " 'Kano CKPool',\n",
       " 'Simplecoin',\n",
       " 'YourBTC']"
      ]
     },
     "execution_count": 112,
     "metadata": {},
     "output_type": "execute_result"
    }
   ],
   "source": [
    "sorted(miners_bt)"
   ]
  },
  {
   "cell_type": "code",
   "execution_count": 113,
   "metadata": {
    "ExecuteTime": {
     "end_time": "2019-06-02T19:09:24.999862Z",
     "start_time": "2019-06-02T19:09:24.996291Z"
    }
   },
   "outputs": [],
   "source": [
    "assert len(miners_bt) == 10"
   ]
  },
  {
   "cell_type": "markdown",
   "metadata": {},
   "source": [
    "Manually fix pool/miner names that are not recognized automatically by adding them to the *names* dict of a *miner*:"
   ]
  },
  {
   "cell_type": "code",
   "execution_count": 114,
   "metadata": {
    "ExecuteTime": {
     "end_time": "2019-06-02T19:09:28.686190Z",
     "start_time": "2019-06-02T19:09:28.674297Z"
    }
   },
   "outputs": [
    {
     "data": {
      "text/plain": [
       "{'names': {'digitalX Mintsy': {'url': 'https://www.mintsy.co',\n",
       "   'currencies': ['BTC'],\n",
       "   'fullName': '',\n",
       "   'firstUsed': 0,\n",
       "   'lastUsed': 0,\n",
       "   'sources': ['blockchain.info github', 'btccom github', 'blocktrail.com']}},\n",
       " 'markers': {},\n",
       " 'addresses': {'1NY15MK947MLzmPUa2gL7UgyR8prLh2xfu': {'currencies': ['BTC'],\n",
       "   'firstUsed': 0,\n",
       "   'lastUsed': 0,\n",
       "   'sources': ['blockchain.info github', 'btccom github', 'blocktrail.com']}}}"
      ]
     },
     "execution_count": 114,
     "metadata": {},
     "output_type": "execute_result"
    }
   ],
   "source": [
    "# manual miner name fixes\n",
    "\n",
    "# merge pool names:\n",
    "util.add_name( \"Huobi\", miners, 'Avalon + Huobi', \"blocktrail.com\" )\n",
    "\n",
    "util.add_name( \"BTCC Pool\", miners, 'BTCC', \"blocktrail.com\" )\n",
    "\n",
    "util.add_name( \"BW.COM\", miners, 'BW Pool', \"blocktrail.com\" )\n",
    "\n",
    "util.add_name( \"Bitcoin Affiliate Network\", miners, 'BitAffNet', \"blocktrail.com\" )\n",
    "\n",
    "util.add_name( \"CANOE\", miners, 'Canoe Pool', \"blocktrail.com\" )\n",
    "\n",
    "util.add_name( \"F2Pool\", miners, 'DiscusFish / F2Pool', \"blocktrail.com\" )\n",
    "util.add_name( \"F2Pool\", miners, 'DiscusFish', \"blocktrail.com\" )\n",
    "\n",
    "util.add_name( \"xbtc.exx.com&bw.com\", miners, \"EXX & BW\", \"blocktrail.com\" )\n",
    "\n",
    "util.add_name( \"Bixin\", miners, \"HaoBTC\", \"blocktrail.com\" )\n",
    "names_dict= { \"HaoBTC\": {  util.DD_URL:\"https://haobtc.com/\",\n",
    "                           util.DD_CURRENCIES: [\"BTC\",],\n",
    "                           util.DD_FULLNAME: \"\",\n",
    "                           util.DD_FIRSTUSED: 0,\n",
    "                           util.DD_LASTUSED: 0,\n",
    "                           util.DD_SOURCES:[\"blocktrail.com\",] } }\n",
    "util.add_miner( \"Bixin\", miners, names_dict, update=True )\n",
    "\n",
    "util.add_name( \"KanoPool\", miners, \"Kano CKPool\", \"blocktrail.com\" )\n",
    "\n",
    "util.add_name( \"simplecoin.us\", miners, \"Simplecoin\", \"blocktrail.com\" )\n",
    "\n",
    "util.add_name( \"Yourbtc.net\", miners, \"YourBTC\", \"blocktrail.com\" )\n",
    "\n",
    "# add non-machted pool name manually\n",
    "util.add_name( \"digitalX Mintsy\", miners, \"digitalX Mintsy\", \"blocktrail.com\" )\n"
   ]
  },
  {
   "cell_type": "code",
   "execution_count": 115,
   "metadata": {
    "ExecuteTime": {
     "end_time": "2019-06-02T19:09:30.815392Z",
     "start_time": "2019-06-02T19:09:30.809822Z"
    }
   },
   "outputs": [],
   "source": [
    "assert \"KNCMiner\" in miners[\"KnCMiner\"][ util.D_NAMES ].keys()\n",
    "assert \"kncminer\" in miners[\"KnCMiner\"][ util.D_NAMES ].keys()"
   ]
  },
  {
   "cell_type": "code",
   "execution_count": 116,
   "metadata": {
    "ExecuteTime": {
     "end_time": "2019-06-02T19:09:34.707930Z",
     "start_time": "2019-06-02T19:09:34.690739Z"
    }
   },
   "outputs": [],
   "source": [
    "with open(miners_initial_json_file, 'w') as outfile:\n",
    "    json.dump(miners, outfile)"
   ]
  },
  {
   "cell_type": "code",
   "execution_count": 117,
   "metadata": {
    "ExecuteTime": {
     "end_time": "2019-06-02T19:09:35.882032Z",
     "start_time": "2019-06-02T19:09:35.871436Z"
    }
   },
   "outputs": [],
   "source": [
    "miners_initial = copy.deepcopy(miners)"
   ]
  },
  {
   "cell_type": "markdown",
   "metadata": {},
   "source": [
    "## blocktrail.com attribution with unified miner ids\n",
    "Run blocktrail attribution again with unified names and attribute blocks according to blocktrail based on unified names"
   ]
  },
  {
   "cell_type": "code",
   "execution_count": 118,
   "metadata": {
    "ExecuteTime": {
     "end_time": "2019-06-02T19:09:42.837088Z",
     "start_time": "2019-06-02T19:09:38.536145Z"
    }
   },
   "outputs": [
    {
     "name": "stdout",
     "output_type": "stream",
     "text": [
      "DeepBit : 14RxyduJ3CJnCqMGo7Bbz43axv1wdFZ5yM\n",
      "P2Pool.org : 15rLkQjruGDKnQpm8Y6RdvRJJ9BNKzbvEw\n",
      "Satoshi Systems : 1E9UoAzRpnZeymLh4JnLjADEaVyG5xKWma\n",
      "itzod : 1JaepCfDnErPTPA96HJr7kfHZXLsN4asmH\n",
      "IceDrill : 12ej4RUwoszmQoKYyFg6Ej27L82xhFS5Ao\n",
      "Poolz 4 you : 1HhZiLEY8YatYS1KywhgetZVvnZ6j3pA8z\n",
      "TangPool : 12Taz8FFXQ3E2AGn3ZW1SZM5bLnYGX4xR6\n"
     ]
    }
   ],
   "source": [
    "unknown_counter = 0\n",
    "attribution_counter = 0 \n",
    "\n",
    "for blknum in blocks:\n",
    "    # iterate over all blocks once\n",
    "    if blknum in blocks_blocktrail.keys():\n",
    "        # check if block was attributed by blocktrail\n",
    "        miner_bt = blocks_blocktrail[ blknum ][ util.DDD_MINER ]\n",
    "        if miner_bt == \"unknown\" or miner_bt == \"Unknown Entity\":\n",
    "            unknown_counter +=1 \n",
    "            continue\n",
    "            \n",
    "        miner_uid = miner_bt\n",
    "        mapped = False\n",
    "        for miner_id in miners:\n",
    "            # check if there is a unified miner id for this miner already in miners.json\n",
    "            if miner_bt in miners[ miner_id ][ util.D_NAMES ].keys():\n",
    "                # unified miner_id found\n",
    "                miner_uid = miner_id\n",
    "                mapped = True\n",
    "                break\n",
    "                \n",
    "        if not mapped and len( blocks[ blknum ][ util.D_ADDRESSES ] ) == 1:\n",
    "            # if miner name could not be mapped to list of existing miner names\n",
    "            # it is probably a new miner and gets added as such\n",
    "            address = blocks[ blknum ][ util.D_ADDRESSES ][0]\n",
    "            print(miner_uid,\":\",address)\n",
    "            attribution_counter += 1\n",
    "            util.add_miner(miner_uid,\n",
    "                     miners,\n",
    "                     names_dict= { miner_uid: { util.DD_URL:\"\",\n",
    "                                            util.DD_CURRENCIES: [\"BTC\",],\n",
    "                                            util.DD_FULLNAME: \"\",\n",
    "                                            util.DD_FIRSTUSED: 0,\n",
    "                                            util.DD_LASTUSED: 0,\n",
    "                                            util.DD_SOURCES:[\"blocktrail.com\",] } },\n",
    "                     addresses_dict= { address: { util.DD_CURRENCIES: [\"BTC\",],\n",
    "                                              util.DD_FIRSTUSED: 0,\n",
    "                                              util.DD_LASTUSED: 0,\n",
    "                                              util.DD_SOURCES:[\"blocktrail.com\",] } }, )\n",
    "        elif mapped and len( blocks[ blknum ][ util.D_ADDRESSES ] ) == 1:\n",
    "            # the the miner could be mapped then check if we already have the address \n",
    "            # of the coinbase output mapped to this miner \n",
    "            # (if there is only one address in the block coinbase output)\n",
    "            # If we dont have the address add it, if we have it add \"blocktrail.com\" as source to the address\n",
    "            address = blocks[ blknum ][ util.D_ADDRESSES ][0]\n",
    "            \"\"\"\n",
    "            if address == \"1FLH1SoLv4U68yUERhDiWzrJn5TggMqkaZ\":\n",
    "                # check for specific address \n",
    "                for attr in blocks[ blknum ][ util.D_ATTRIBUTIONS ].keys():\n",
    "                    if blocks[ blknum ][ util.D_ATTRIBUTIONS ][ attr ][ \"miner\" ] != miner_uid:\n",
    "                        print(blknum,\":\",blocks[ blknum ][ util.D_ATTRIBUTIONS ][ attr ][ \"miner\" ],\"--\",miner_uid)\n",
    "            \"\"\"            \n",
    "            util.add_addr(miner_uid,miners,address,source=\"blocktrail.com\",currencies=[\"BTC\",])\n",
    "            attribution_counter += 1\n",
    "        \n",
    "        # attribute block based on miner_uid in any case\n",
    "        blocks[ blknum ][ util.D_ATTRIBUTIONS ][ util.DD_BT_ATTR ] = { util.DDD_MINER:miner_uid,\n",
    "                                                                       util.DDD_SRC:\"blocktrail.com\" }       \n",
    "        "
   ]
  },
  {
   "cell_type": "code",
   "execution_count": 141,
   "metadata": {},
   "outputs": [
    {
     "data": {
      "text/plain": [
       "514240"
      ]
     },
     "execution_count": 141,
     "metadata": {},
     "output_type": "execute_result"
    }
   ],
   "source": [
    "len(blocks_blocktrail)"
   ]
  },
  {
   "cell_type": "code",
   "execution_count": 119,
   "metadata": {
    "ExecuteTime": {
     "end_time": "2019-06-02T19:09:47.495501Z",
     "start_time": "2019-06-02T19:09:47.486005Z"
    }
   },
   "outputs": [
    {
     "data": {
      "text/plain": [
       "301026"
      ]
     },
     "execution_count": 119,
     "metadata": {},
     "output_type": "execute_result"
    }
   ],
   "source": [
    "attribution_counter"
   ]
  },
  {
   "cell_type": "code",
   "execution_count": 120,
   "metadata": {
    "ExecuteTime": {
     "end_time": "2019-06-02T19:09:49.804756Z",
     "start_time": "2019-06-02T19:09:49.794035Z"
    }
   },
   "outputs": [
    {
     "data": {
      "text/plain": [
       "189135"
      ]
     },
     "execution_count": 120,
     "metadata": {},
     "output_type": "execute_result"
    }
   ],
   "source": [
    "unknown_counter"
   ]
  },
  {
   "cell_type": "markdown",
   "metadata": {},
   "source": [
    "## Check block attributions"
   ]
  },
  {
   "cell_type": "code",
   "execution_count": 121,
   "metadata": {
    "ExecuteTime": {
     "end_time": "2019-06-02T19:09:59.938650Z",
     "start_time": "2019-06-02T19:09:59.929971Z"
    }
   },
   "outputs": [
    {
     "data": {
      "text/plain": [
       "{'time': 1231006505,\n",
       " 'cb': '04ffff001d0104455468652054696d65732030332f4a616e2f32303039204368616e63656c6c6f72206f6e206272696e6b206f66207365636f6e64206261696c6f757420666f722062616e6b73',\n",
       " 'addresses': ['1A1zP1eP5QGefi2DMPTfTL5SLmv7DivfNa'],\n",
       " 'miner': '',\n",
       " 'conflicts': 0,\n",
       " 'attribution': '',\n",
       " 'attributions': {},\n",
       " 'hash': '000000000019d6689c085ae165831e934ff763ae46a2a6c172b3f1b60a8ce26f',\n",
       " 'phash': None,\n",
       " 'payout': '5000000000'}"
      ]
     },
     "execution_count": 121,
     "metadata": {},
     "output_type": "execute_result"
    }
   ],
   "source": [
    "blocks[\"0\"]"
   ]
  },
  {
   "cell_type": "code",
   "execution_count": 123,
   "metadata": {
    "ExecuteTime": {
     "end_time": "2019-06-02T19:10:23.802657Z",
     "start_time": "2019-06-02T19:10:23.476395Z"
    }
   },
   "outputs": [
    {
     "name": "stdout",
     "output_type": "stream",
     "text": [
      "0\n",
      "556400\n"
     ]
    }
   ],
   "source": [
    "minblk = len(blocks) # check if start is really genesis at height 0 \n",
    "maxblk = 0\n",
    "for blknum in blocks.keys():\n",
    "    if int(blknum) < minblk:\n",
    "        minblk = int(blknum)\n",
    "    if int(blknum) > maxblk:\n",
    "        maxblk = int(blknum)\n",
    "        \n",
    "assert minblk == 0\n",
    "assert maxblk == current_blockheight\n",
    "print(minblk)\n",
    "print(maxblk)"
   ]
  },
  {
   "cell_type": "markdown",
   "metadata": {},
   "source": [
    "### Analyze and resolve address/attribution conflicts "
   ]
  },
  {
   "cell_type": "markdown",
   "metadata": {},
   "source": [
    "Search for address conflicts where one address was attributed to more than one pool"
   ]
  },
  {
   "cell_type": "code",
   "execution_count": 124,
   "metadata": {
    "ExecuteTime": {
     "end_time": "2019-06-02T19:10:29.577743Z",
     "start_time": "2019-06-02T19:10:29.539601Z"
    }
   },
   "outputs": [
    {
     "name": "stdout",
     "output_type": "stream",
     "text": [
      "1KFHE7w8BhaENAswwryaoccDb6qcT6DbYY : 2\n",
      "1MimPd6LrPKGftPRHWdfk8S3KYBfN4ELnD : 2\n",
      "147SwRQdpCfj5p8PnfsXV2SsVVpVcz3aPq : 2\n",
      "1FLH1SoLv4U68yUERhDiWzrJn5TggMqkaZ : 2\n",
      "19RE4mz2UbDxDVougc6GGdoT4x5yXxwFq2 : 2\n",
      "197miJmttpCt2ubVs6DDtGBYFDroxHmvVB : 2\n"
     ]
    },
    {
     "data": {
      "text/plain": [
       "True"
      ]
     },
     "execution_count": 124,
     "metadata": {},
     "output_type": "execute_result"
    }
   ],
   "source": [
    "# there should be 6 address conflicts now\n",
    "util.check_for_obvious_address_collisions(miners)"
   ]
  },
  {
   "cell_type": "code",
   "execution_count": 125,
   "metadata": {
    "ExecuteTime": {
     "end_time": "2019-06-02T19:10:35.536233Z",
     "start_time": "2019-06-02T19:10:35.494617Z"
    },
    "scrolled": true
   },
   "outputs": [
    {
     "name": "stdout",
     "output_type": "stream",
     "text": [
      "---\n",
      "1KFHE7w8BhaENAswwryaoccDb6qcT6DbYY :\n",
      "miner =  F2Pool \n",
      " {'currencies': ['BTC'], 'firstUsed': 0, 'lastUsed': 0, 'sources': ['blockchain.info github', 'btccom github', 'blocktrail.com']} \n",
      "\n",
      "1KFHE7w8BhaENAswwryaoccDb6qcT6DbYY :\n",
      "miner =  BTCC Pool \n",
      " {'sources': ['blocktrail.com'], 'firstUsed': 0, 'lastUsed': 0, 'currencies': ['BTC']} \n",
      "\n",
      "---\n",
      "1MimPd6LrPKGftPRHWdfk8S3KYBfN4ELnD :\n",
      "miner =  digitalBTC \n",
      " {'currencies': ['BTC'], 'firstUsed': 0, 'lastUsed': 0, 'sources': ['blockchain.info github', 'btccom github', 'blocktrail.com']} \n",
      "\n",
      "1MimPd6LrPKGftPRHWdfk8S3KYBfN4ELnD :\n",
      "miner =  digitalX Mintsy \n",
      " {'sources': ['blocktrail.com'], 'firstUsed': 0, 'lastUsed': 0, 'currencies': ['BTC']} \n",
      "\n",
      "---\n",
      "147SwRQdpCfj5p8PnfsXV2SsVVpVcz3aPq :\n",
      "miner =  BTC.TOP \n",
      " {'sources': ['blocktrail.com'], 'firstUsed': 0, 'lastUsed': 0, 'currencies': ['BTC']} \n",
      "\n",
      "147SwRQdpCfj5p8PnfsXV2SsVVpVcz3aPq :\n",
      "miner =  CANOE \n",
      " {'sources': ['blocktrail.com'], 'firstUsed': 0, 'lastUsed': 0, 'currencies': ['BTC']} \n",
      "\n",
      "---\n",
      "1FLH1SoLv4U68yUERhDiWzrJn5TggMqkaZ :\n",
      "miner =  BTC.com \n",
      " {'sources': ['blocktrail.com'], 'firstUsed': 0, 'lastUsed': 0, 'currencies': ['BTC']} \n",
      "\n",
      "1FLH1SoLv4U68yUERhDiWzrJn5TggMqkaZ :\n",
      "miner =  Waterhole \n",
      " {'currencies': ['BTC'], 'firstUsed': 0, 'lastUsed': 0, 'sources': ['blockchain.info github', 'btccom github', 'blocktrail.com']} \n",
      "\n",
      "---\n",
      "19RE4mz2UbDxDVougc6GGdoT4x5yXxwFq2 :\n",
      "miner =  Patel's Mining pool \n",
      " {'currencies': ['BTC'], 'firstUsed': 0, 'lastUsed': 0, 'sources': ['blockchain.info github', 'btccom github', 'blocktrail.com']} \n",
      "\n",
      "19RE4mz2UbDxDVougc6GGdoT4x5yXxwFq2 :\n",
      "miner =  Patels \n",
      " {'currencies': ['BTC'], 'firstUsed': 0, 'lastUsed': 0, 'sources': ['btccom github', 'blocktrail.com']} \n",
      "\n",
      "---\n",
      "197miJmttpCt2ubVs6DDtGBYFDroxHmvVB :\n",
      "miner =  Patel's Mining pool \n",
      " {'currencies': ['BTC'], 'firstUsed': 0, 'lastUsed': 0, 'sources': ['blockchain.info github', 'btccom github', 'blocktrail.com']} \n",
      "\n",
      "197miJmttpCt2ubVs6DDtGBYFDroxHmvVB :\n",
      "miner =  Patels \n",
      " {'currencies': ['BTC'], 'firstUsed': 0, 'lastUsed': 0, 'sources': ['btccom github', 'blocktrail.com']} \n",
      "\n"
     ]
    }
   ],
   "source": [
    "address_conflicts_list = list()\n",
    "\n",
    "remove_conflicts = False\n",
    "address_conflicts = Counter()\n",
    "\n",
    "for m in miners:\n",
    "    for a in miners[ m ][ util.D_ADDRESSES ].keys():\n",
    "        address_conflicts[ a ] += 1\n",
    "\n",
    "for at in address_conflicts.most_common():\n",
    "    if at[1] > 1:\n",
    "        address_conflicts_list.append( at[0] )\n",
    "\n",
    "#print(address_conflicts_list)\n",
    "\n",
    "for a in address_conflicts_list:\n",
    "    print(\"---\")\n",
    "    for m in miners:\n",
    "        if a in miners[ m ][ util.D_ADDRESSES ].keys():\n",
    "            print(a,\":\\nminer = \",m,\"\\n\",miners[ m ][ util.D_ADDRESSES ][ a ],\"\\n\")\n",
    "            if remove_conflicts and 'blocktrail.com' in miners[ m ][ util.D_ADDRESSES ][ a ][ util.DD_SOURCES ]:\n",
    "                miners[ m ][ util.D_ADDRESSES ].pop( a , None)\n"
   ]
  },
  {
   "cell_type": "markdown",
   "metadata": {},
   "source": [
    "#### 1KFHE7w8BhaENAswwryaoccDb6qcT6DbYY\n",
    "\n",
    "This address was a mis attribution by *Blocktrail.com* because the coinbase includes `btcc` and the Fish of discus fish."
   ]
  },
  {
   "cell_type": "code",
   "execution_count": 126,
   "metadata": {
    "ExecuteTime": {
     "end_time": "2019-06-02T19:11:01.695481Z",
     "start_time": "2019-06-02T19:11:00.514463Z"
    }
   },
   "outputs": [
    {
     "name": "stdout",
     "output_type": "stream",
     "text": [
      "482886 :  F2Pool  ( blockchain.info ) --  BTCC Pool  ( blocktrail.com )\n",
      "\t b'\\x03F^\\x07\\x05/NYA/,\\xfa\\xbemm\\xf8\\x01\\xe6\\x8c4\\xd5\\x08\\xa0\\xf3\\xd6u\\xe1\\x04\\xe3l\\xc4\\xcfr0\\xb1[V?\\r\\xbe\\xd8\\xff\\xaf\\xf0\\xdc\\xaf\\xb1\\x04\\x00\\x00\\x00\\xf0\\x9f\\x90\\x9f\\x10Mined by smcbtcc\\x00\\x00\\x00\\x00\\x00\\x00\\x00\\x00\\x00\\x00\\x00\\x00\\x00\\x00\\x00\\x00\\x00\\x00\\x00\\x00\\x00\\x00\\x00\\x00\\x00\\x00\\x00\\x00'\n"
     ]
    }
   ],
   "source": [
    "for blknum in blocks:\n",
    "    if blknum in blocks_blocktrail.keys() and len( blocks[ blknum ][ util.D_ADDRESSES ] ) == 1 and blocks[ blknum ][ util.D_ADDRESSES ][ 0 ] == \"1KFHE7w8BhaENAswwryaoccDb6qcT6DbYY\":\n",
    "        miner_bt = blocks_blocktrail[ blknum ][ util.DDD_MINER ]\n",
    "        miner_uid = \"\"\n",
    "        for miner_id in miners:\n",
    "            # check if there is a unified miner id for this miner already in miners.json\n",
    "            if miner_bt in miners[ miner_id ][ util.D_NAMES ].keys():\n",
    "                # unified miner_id found\n",
    "                miner_uid = miner_id\n",
    "                mapped = True\n",
    "                break\n",
    "        if mapped:        \n",
    "            for attr in blocks[ blknum ][ util.D_ATTRIBUTIONS ].keys():\n",
    "                if blocks[ blknum ][ util.D_ATTRIBUTIONS ][ attr ][ util.DDD_MINER ] != miner_uid:\n",
    "                    print(blknum,\": \",blocks[ blknum ][ util.D_ATTRIBUTIONS ][ attr ][ util.DDD_MINER ],\" (\",\n",
    "                          blocks[ blknum ][ util.D_ATTRIBUTIONS ][ attr ][ util.DDD_SRC ],\") -- \",\n",
    "                          miner_uid,\" ( blocktrail.com )\")\n",
    "                    print(\"\\t\", repr(binascii.unhexlify(blocks[ blknum ][ util.D_CB ]) ) )\n",
    "                    break"
   ]
  },
  {
   "cell_type": "code",
   "execution_count": 151,
   "metadata": {},
   "outputs": [
    {
     "name": "stdout",
     "output_type": "stream",
     "text": [
      "{'lastUsed': 0, 'currencies': ['BTC'], 'sources': ['blocktrail.com'], 'firstUsed': 0}\n"
     ]
    },
    {
     "data": {
      "text/plain": [
       "{'currencies': ['BTC'],\n",
       " 'firstUsed': 0,\n",
       " 'lastUsed': 0,\n",
       " 'sources': ['blocktrail.com']}"
      ]
     },
     "execution_count": 151,
     "metadata": {},
     "output_type": "execute_result"
    }
   ],
   "source": [
    "print(miners[\"BTCC Pool\"][ util.D_ADDRESSES ][ \"1KFHE7w8BhaENAswwryaoccDb6qcT6DbYY\" ])\n",
    "miners[\"BTCC Pool\"][ util.D_ADDRESSES ].pop( \"1KFHE7w8BhaENAswwryaoccDb6qcT6DbYY\" , None)"
   ]
  },
  {
   "cell_type": "markdown",
   "metadata": {},
   "source": [
    "#### 1MimPd6LrPKGftPRHWdfk8S3KYBfN4ELnD\n",
    "#### 19vvtxUpbidB8MT5CsSYYTBEjMRnowSZj4\n",
    "#### 12f1FoTYvYiSmiDSVfeHcw8gS8Fp7xREUW\n",
    "There are multiple occasions where *blocktrail.com* attributed blocks differently than *blockchain.info*\n",
    "**digitalBTC** and **digitalX Mintsy**.\n",
    "Accodring to an online search they really belong to the same company digitalBTC:\n",
    "* https://www.coindesk.com/digitalbtc-launches-mining-contracts-platform-digitalx-mintsy/"
   ]
  },
  {
   "cell_type": "code",
   "execution_count": 127,
   "metadata": {
    "ExecuteTime": {
     "end_time": "2019-06-02T19:11:14.248220Z",
     "start_time": "2019-06-02T19:11:13.554721Z"
    }
   },
   "outputs": [
    {
     "name": "stdout",
     "output_type": "stream",
     "text": [
      "298955 :  digitalBTC  ( blockchain.info ) --  digitalX Mintsy  ( blocktrail.com )\n",
      "\t b\"\\x03\\xcb\\x8f\\x04\\x06/P2SH/\\x04\\xab!eS\\x08@\\x00\\x00'\\x0f\\x91\\x85\\xca\\r/nodeStratum/\"\n",
      "299011 :  digitalBTC  ( blockchain.info ) --  digitalX Mintsy  ( blocktrail.com )\n",
      "\t b'\\x03\\x03\\x90\\x04\\x06/P2SH/\\x04\\x95\\xafeS\\x08P\\x00\\x00\\n\\x10\\xc5\\x18@\\r/nodeStratum/'\n",
      "299228 :  digitalBTC  ( blockchain.info ) --  digitalX Mintsy  ( blocktrail.com )\n",
      "\t b'\\x03\\xdc\\x90\\x04\\x06/P2SH/\\x04\\xe9\\xc1gS\\x08p\\x00\\x00<\\x0c\\xb5\\xb8d\\r/nodeStratum/'\n",
      "299240 :  digitalBTC  ( blockchain.info ) --  digitalX Mintsy  ( blocktrail.com )\n",
      "\t b'\\x03\\xe8\\x90\\x04\\x06/P2SH/\\x04\\x12\\xd9gS\\x08\\x10\\x00\\x00a\\x14\\x1c\\xec#\\r/nodeStratum/'\n",
      "299273 :  digitalBTC  ( blockchain.info ) --  digitalX Mintsy  ( blocktrail.com )\n",
      "\t b'\\x03\\t\\x91\\x04\\x06/P2SH/\\x047-hS\\x08 \\x00\\x00\\x02\\x15\\xb7\\xfd\\x8b\\r/nodeStratum/'\n",
      "299274 :  digitalBTC  ( blockchain.info ) --  digitalX Mintsy  ( blocktrail.com )\n",
      "\t b'\\x03\\n\\x91\\x04\\x06/P2SH/\\x04\\x8a-hS\\x08 \\x00\\x00 \\x14`R\\x7f\\r/nodeStratum/'\n",
      "299703 :  digitalBTC  ( blockchain.info ) --  digitalX Mintsy  ( blocktrail.com )\n",
      "\t b'\\x03\\xb7\\x92\\x04\\x06/P2SH/\\x04\\x12skS\\x08\\x18\\x00\\x00\\x00\\x0fb `\\r/nodeStratum/'\n",
      "299790 :  digitalBTC  ( blockchain.info ) --  digitalX Mintsy  ( blocktrail.com )\n",
      "\t b'\\x03\\x0e\\x93\\x04\\x06/P2SH/\\x04\\x82\\x1clS\\x08\\x17\\xff\\xff\\xdf\\x1aYO\\xa4\\r/nodeStratum/'\n",
      "300140 :  digitalBTC  ( blockchain.info ) --  digitalX Mintsy  ( blocktrail.com )\n",
      "\t b'\\x03l\\x94\\x04\\x06/P2SH/\\x04H\\xcanS\\x08\\x00\\x00\\x00P\\x1fZ\\xe7\\xca\\r/nodeStratum/'\n",
      "300170 :  digitalBTC  ( blockchain.info ) --  digitalX Mintsy  ( blocktrail.com )\n",
      "\t b'\\x03\\x8a\\x94\\x04\\x06/P2SH/\\x04\\xc2\\x03oS\\x08\\x00\\x00\\x00F\\x1f\\xec\\xde\\xb9\\r/nodeStratum/'\n",
      "300172 :  digitalBTC  ( blockchain.info ) --  digitalX Mintsy  ( blocktrail.com )\n",
      "\t b'\\x03\\x8c\\x94\\x04\\x06/P2SH/\\x04\\xe2\\x08oS\\x08\\x1f\\xff\\xff\\xd6\\x1f\\x12\\xa4\\xcf\\r/nodeStratum/'\n",
      "300365 :  digitalBTC  ( blockchain.info ) --  digitalX Mintsy  ( blocktrail.com )\n",
      "\t b'\\x03M\\x95\\x04\\x06/P2SH/\\x04\\xe2\\xaepS\\x08o\\xff\\xff\\xd5!\\x19U\\xa9\\r/nodeStratum/'\n",
      "300428 :  digitalBTC  ( blockchain.info ) --  digitalX Mintsy  ( blocktrail.com )\n",
      "\t b'\\x03\\x8c\\x95\\x04\\x06/P2SH/\\x04\\xba7qS\\x08\\x17\\xff\\xff\\xe1\"a\\xe3\\xf5\\r/nodeStratum/'\n",
      "300471 :  digitalBTC  ( blockchain.info ) --  digitalX Mintsy  ( blocktrail.com )\n",
      "\t b'\\x03\\xb7\\x95\\x04\\x06/P2SH/\\x04\\xdd\\x8aqS\\x08\\x00\\x00\\x00M\"I\\xab\\xbc\\r/nodeStratum/'\n",
      "300529 :  digitalBTC  ( blockchain.info ) --  digitalX Mintsy  ( blocktrail.com )\n",
      "\t b'\\x03\\xf1\\x95\\x04\\x06/P2SH/\\x04P\\x01rS\\x08o\\xff\\xff\\xdc$\\xbc\\xcd\\x01\\r/nodeStratum/'\n",
      "300604 :  digitalBTC  ( blockchain.info ) --  digitalX Mintsy  ( blocktrail.com )\n",
      "\t b'\\x03<\\x96\\x04\\x06/P2SH/\\x04S\\x9erS\\x08\\x1f\\xff\\xff\\xe2\\x1e0Q\\xf7\\r/nodeStratum/'\n",
      "300607 :  digitalBTC  ( blockchain.info ) --  digitalX Mintsy  ( blocktrail.com )\n",
      "\t b'\\x03?\\x96\\x04\\x06/P2SH/\\x04)\\xa2rS\\x08o\\xff\\xff\\xe6&[\\x96a\\r/nodeStratum/'\n",
      "300697 :  digitalBTC  ( blockchain.info ) --  digitalX Mintsy  ( blocktrail.com )\n",
      "\t b'\\x03\\x99\\x96\\x04\\x06/P2SH/\\x04\\rrsS\\x08x\\x00\\x00B%\\x83 k\\r/nodeStratum/'\n",
      "300771 :  digitalBTC  ( blockchain.info ) --  digitalX Mintsy  ( blocktrail.com )\n",
      "\t b'\\x03\\xe3\\x96\\x04\\x06/P2SH/\\x04#\\x0btS\\x08o\\xff\\xff\\xe5&\\x0f\\xbe\\x98\\r/nodeStratum/'\n",
      "300773 :  digitalBTC  ( blockchain.info ) --  digitalX Mintsy  ( blocktrail.com )\n",
      "\t b\"\\x03\\xe5\\x96\\x04\\x06/P2SH/\\x04\\xc5\\x0ftS\\x08\\x00\\x00\\x00''\\x07px\\r/nodeStratum/\"\n",
      "300807 :  digitalBTC  ( blockchain.info ) --  digitalX Mintsy  ( blocktrail.com )\n",
      "\t b'\\x03\\x07\\x97\\x04\\x06/P2SH/\\x04\\xe9EtS\\x08x\\x00\\x00\\x19&@\\x0f\\xbd\\r/nodeStratum/'\n",
      "300930 :  digitalBTC  ( blockchain.info ) --  digitalX Mintsy  ( blocktrail.com )\n",
      "\t b'\\x03\\x82\\x97\\x04\\x06/P2SH/\\x04!MuS\\x08o\\xff\\xff\\xf2)\\xa6\\xf1\\xcd\\r/nodeStratum/'\n",
      "301021 :  digitalBTC  ( blockchain.info ) --  digitalX Mintsy  ( blocktrail.com )\n",
      "\t b'\\x03\\xdd\\x97\\x04\\x06/P2SH/\\x04Y\\xf0uS\\x08\\x00\\x00\\x00\\x10+\\xe56\\xa3\\r/nodeStratum/'\n",
      "301157 :  digitalBTC  ( blockchain.info ) --  digitalX Mintsy  ( blocktrail.com )\n",
      "\t b'\\x03e\\x98\\x04\\x06/P2SH/\\x04t\\xf6vS\\x08o\\xff\\xff\\xc8,\\xed\\xa9\\xfa\\r/nodeStratum/'\n",
      "301173 :  digitalBTC  ( blockchain.info ) --  digitalX Mintsy  ( blocktrail.com )\n",
      "\t b'\\x03u\\x98\\x04\\x06/P2SH/\\x04\\xb5\\x11wS\\x080\\x00\\x003+\\xd83\\x81\\r/nodeStratum/'\n",
      "301351 :  digitalBTC  ( blockchain.info ) --  digitalX Mintsy  ( blocktrail.com )\n",
      "\t b\"\\x03'\\x99\\x04\\x06/P2SH/\\x04\\xa9\\x80xS\\x08(\\x00\\x00-/\\x02&3\\r/nodeStratum/\"\n",
      "301413 :  digitalBTC  ( blockchain.info ) --  digitalX Mintsy  ( blocktrail.com )\n",
      "\t b'\\x03e\\x99\\x04\\x06/P2SH/\\x04\\xfc\\xf8xS\\x08\\x17\\xff\\xff\\xdd.BkM\\r/nodeStratum/'\n",
      "301419 :  digitalBTC  ( blockchain.info ) --  digitalX Mintsy  ( blocktrail.com )\n",
      "\t b'\\x03k\\x99\\x04\\x06/P2SH/\\x042\\x00yS\\x08\\x1f\\xff\\xff\\xfa/\\xe0A8\\r/nodeStratum/'\n",
      "301623 :  digitalBTC  ( blockchain.info ) --  digitalX Mintsy  ( blocktrail.com )\n",
      "\t b'\\x037\\x9a\\x04\\x06/P2SH/\\x04\\xfe\\x88zS\\x08/\\xff\\xff\\xba.N\\xd7+\\r/nodeStratum/'\n",
      "301737 :  digitalBTC  ( blockchain.info ) --  digitalX Mintsy  ( blocktrail.com )\n",
      "\t b'\\x03\\xa9\\x9a\\x04\\x06/P2SH/\\x04\\xd6N{S\\x08p\\x00\\x00\\x194\\xd06\\x1f\\r/nodeStratum/'\n",
      "301825 :  digitalBTC  ( blockchain.info ) --  digitalX Mintsy  ( blocktrail.com )\n",
      "\t b'\\x03\\x01\\x9b\\x04\\x06/P2SH/\\x04\\xf1\\x12|S\\x08p\\x00\\x00\\x025-m\\xaf\\r/nodeStratum/'\n",
      "301958 :  digitalBTC  ( blockchain.info ) --  digitalX Mintsy  ( blocktrail.com )\n",
      "\t b'\\x03\\x86\\x9b\\x04\\x06/P2SH/\\x04.\\x05}S\\x08h\\x00\\x00\\r7n\\x9f\\xf9\\r/nodeStratum/'\n",
      "302437 :  digitalBTC  ( blockchain.info ) --  digitalX Mintsy  ( blocktrail.com )\n",
      "\t b'\\x03e\\x9d\\x04\\x06/P2SH/\\x04\\xbb\\xde\\x80S\\x08\\x18\\x00\\x00\\x05\\x03\\xdb\\xc3\\xb7\\r/nodeStratum/'\n",
      "302804 :  digitalBTC  ( blockchain.info ) --  digitalX Mintsy  ( blocktrail.com )\n",
      "\t b'\\x03\\xd4\\x9e\\x04\\x06/P2SH/\\x04\\xad\\xfc\\x83S\\x08\\x07\\xff\\xff\\xfaB\\x1f?\\xe3\\r/nodeStratum/'\n",
      "302894 :  digitalBTC  ( blockchain.info ) --  digitalX Mintsy  ( blocktrail.com )\n",
      "\t b'\\x03.\\x9f\\x04\\x06/P2SH/\\x04\\t\\xe4\\x84S\\x08`\\x00\\x00\"?\\xf1\\xdad\\r/nodeStratum/'\n",
      "302909 :  digitalBTC  ( blockchain.info ) --  digitalX Mintsy  ( blocktrail.com )\n",
      "\t b'\\x03=\\x9f\\x04\\x06/P2SH/\\x04\\x84\\x01\\x85S\\x08\\x07\\xff\\xff\\xf9B\\x91\\xbe\\xd9\\r/nodeStratum/'\n",
      "303068 :  digitalBTC  ( blockchain.info ) --  digitalX Mintsy  ( blocktrail.com )\n",
      "\t b'\\x03\\xdc\\x9f\\x04\\x06/P2SH/\\x04-)\\x86S\\x08g\\xff\\xff\\xfdFa\\x0f\\xcb\\r/nodeStratum/'\n",
      "303076 :  digitalBTC  ( blockchain.info ) --  digitalX Mintsy  ( blocktrail.com )\n",
      "\t b'\\x03\\xe4\\x9f\\x04\\x06/P2SH/\\x04?1\\x86S\\x08g\\xff\\xff\\x90F\\x15b\\xd7\\r/nodeStratum/'\n",
      "303167 :  digitalBTC  ( blockchain.info ) --  digitalX Mintsy  ( blocktrail.com )\n",
      "\t b\"\\x03?\\xa0\\x04\\x06/P2SH/\\x04\\xd7.\\x87S\\x08'\\xff\\xff\\xcfG\\x18#z\\r/nodeStratum/\"\n",
      "303324 :  digitalBTC  ( blockchain.info ) --  digitalX Mintsy  ( blocktrail.com )\n",
      "\t b'\\x03\\xdc\\xa0\\x04\\x06/P2SH/\\x04\\xf9|\\x88S\\x08g\\xff\\xff\\xc2Fs\\\\\\xe6\\r/nodeStratum/'\n",
      "303614 :  digitalBTC  ( blockchain.info ) --  digitalX Mintsy  ( blocktrail.com )\n",
      "\t b\"\\x03\\xfe\\xa1\\x04\\x06/P2SH/\\x04)\\xe5\\x8aS\\x08'\\xff\\xfd\\x8aB\\xb4\\xb79\\r/nodeStratum/\"\n",
      "303616 :  digitalBTC  ( blockchain.info ) --  digitalX Mintsy  ( blocktrail.com )\n",
      "\t b\"\\x03\\x00\\xa2\\x04\\x06/P2SH/\\x04Z\\xe7\\x8aS\\x08'\\xff\\xfd\\xbbKK\\xb6\\xac\\r/nodeStratum/\"\n",
      "303715 :  digitalBTC  ( blockchain.info ) --  digitalX Mintsy  ( blocktrail.com )\n",
      "\t b\"\\x03c\\xa2\\x04\\x06/P2SH/\\x04O\\xa6\\x8bS\\x08'\\xff\\xfd\\xe5K\\x97\\x9b\\x1a\\r/nodeStratum/\"\n",
      "303967 :  digitalBTC  ( blockchain.info ) --  digitalX Mintsy  ( blocktrail.com )\n",
      "\t b'\\x03_\\xa3\\x04\\x06/P2SH/\\x04\\x14m\\x8dS\\x08g\\xff\\xfb\\xf2QV\\\\X\\r/nodeStratum/'\n",
      "304057 :  digitalBTC  ( blockchain.info ) --  digitalX Mintsy  ( blocktrail.com )\n",
      "\t b\"\\x03\\xb9\\xa3\\x04\\x06/P2SH/\\x04\\x0f\\x0f\\x8eS\\x08'\\xff\\xfe\\x06Gs\\xb72\\r/nodeStratum/\"\n",
      "304164 :  digitalBTC  ( blockchain.info ) --  digitalX Mintsy  ( blocktrail.com )\n",
      "\t b'\\x03$\\xa4\\x04\\x06/P2SH/\\x04\\xfa\\xd4\\x8eS\\x08\\x07\\xff\\xfe|\\x0fG\\xc8\\xe6\\r/nodeStratum/'\n",
      "304267 :  digitalBTC  ( blockchain.info ) --  digitalX Mintsy  ( blocktrail.com )\n",
      "\t b'\\x03\\x8b\\xa4\\x04\\x06/P2SH/\\x04+\\x9f\\x8fS\\x080\\x00\\x01\\x1eQK\\x99B\\r/nodeStratum/'\n",
      "304467 :  digitalBTC  ( blockchain.info ) --  digitalX Mintsy  ( blocktrail.com )\n",
      "\t b'\\x03S\\xa5\\x04\\x06/P2SH/\\x04xW\\x91S\\x08\\x1f\\xff\\xfd\\xf1\\x13\\x942\\xc1\\r/nodeStratum/'\n",
      "304527 :  digitalBTC  ( blockchain.info ) --  digitalX Mintsy  ( blocktrail.com )\n",
      "\t b\"\\x03\\x8f\\xa5\\x04\\x06/P2SH/\\x04\\xde\\xef\\x91S\\x08'\\xff\\xfd\\x84\\x10\\xbe=\\xeb\\r/nodeStratum/\"\n",
      "304942 :  digitalBTC  ( blockchain.info ) --  digitalX Mintsy  ( blocktrail.com )\n",
      "\t b'\\x03.\\xa7\\x04\\x06/P2SH/\\x04S\\xa9\\x95S\\x080\\x00\\x01\\x1fZ\\xf5o\\xd6\\r/nodeStratum/'\n",
      "305078 :  digitalBTC  ( blockchain.info ) --  digitalX Mintsy  ( blocktrail.com )\n",
      "\t b'\\x03\\xb6\\xa7\\x04\\x06/P2SH/\\x04\\x94\\xc0\\x96S\\x08\\x18\\x00\\x00?^7\\xc1.\\x05/p01/'\n",
      "305436 :  digitalBTC  ( blockchain.info ) --  digitalX Mintsy  ( blocktrail.com )\n",
      "\t b'\\x03\\x1c\\xa9\\x04\\x06/P2SH/\\x04I\\xc1\\x99S\\x08h\\x00\\x00@d\\x9c\\xc2f\\x05/p01/'\n",
      "305655 :  digitalBTC  ( blockchain.info ) --  digitalX Mintsy  ( blocktrail.com )\n",
      "\t b'\\x03\\xf7\\xa9\\x04\\x06/P2SH/\\x04*~\\x9bS\\x08/\\xff\\xfe\\x93P\\x00\\x02\\x86\\x05/p01/'\n",
      "305667 :  digitalBTC  ( blockchain.info ) --  digitalX Mintsy  ( blocktrail.com )\n",
      "\t b'\\x03\\x03\\xaa\\x04\\x06/P2SH/\\x04,\\x95\\x9bS\\x088\\x00\\x01\\x17\\x10\\x00\\x01\\x90\\x05/p01/'\n",
      "305677 :  digitalBTC  ( blockchain.info ) --  digitalX Mintsy  ( blocktrail.com )\n",
      "\t b'\\x03\\r\\xaa\\x04\\x06/P2SH/\\x04\\xe9\\xa9\\x9bS\\x08o\\xff\\xffcp\\x00\\x00~\\x05/p01/'\n",
      "305679 :  digitalBTC  ( blockchain.info ) --  digitalX Mintsy  ( blocktrail.com )\n",
      "\t b'\\x03\\x0f\\xaa\\x04\\x06/P2SH/\\x04 \\xaf\\x9bS\\x088\\x00\\x00MP\\x00\\x00o\\x05/p01/'\n",
      "305688 :  digitalBTC  ( blockchain.info ) --  digitalX Mintsy  ( blocktrail.com )\n",
      "\t b'\\x03\\x18\\xaa\\x04\\x06/P2SH/\\x04\\xfa\\xba\\x9bS\\x08h\\x00\\x02\\x1f\\x10\\x00\\x01z\\x05/p01/'\n",
      "305740 :  digitalBTC  ( blockchain.info ) --  digitalX Mintsy  ( blocktrail.com )\n",
      "\t b'\\x03L\\xaa\\x04\\x06/P2SH/\\x04q\\x16\\x9cS\\x08/\\xff\\xff\\x97`\\x00\\x01\\xe3\\x05/p01/'\n",
      "305744 :  digitalBTC  ( blockchain.info ) --  digitalX Mintsy  ( blocktrail.com )\n",
      "\t b'\\x03P\\xaa\\x04\\x06/P2SH/\\x04\\xab$\\x9cS\\x08o\\xff\\xfe~\\x00\\x00\\x00\\xd1\\x05/p01/'\n",
      "305764 :  digitalBTC  ( blockchain.info ) --  digitalX Mintsy  ( blocktrail.com )\n",
      "\t b'\\x03d\\xaa\\x04\\x06/P2SH/\\x04\\x1bN\\x9cS\\x08/\\xff\\xff\\xffi4\\x9ak\\x05/p01/'\n",
      "305793 :  digitalBTC  ( blockchain.info ) --  digitalX Mintsy  ( blocktrail.com )\n",
      "\t b'\\x03\\x81\\xaa\\x04\\x06/P2SH/\\x04\\x96\\x87\\x9cS\\x08h\\x00\\x07\\xd1\\x00\\x00\\x02\\xc0\\x05/p01/'\n",
      "305840 :  digitalBTC  ( blockchain.info ) --  digitalX Mintsy  ( blocktrail.com )\n",
      "\t b'\\x03\\xb0\\xaa\\x04\\x06/P2SH/\\x04e\\xe1\\x9cS\\x08h\\x00\\x07_p\\x00\\x030\\x05/p01/'\n",
      "305885 :  digitalBTC  ( blockchain.info ) --  digitalX Mintsy  ( blocktrail.com )\n",
      "\t b'\\x03\\xdd\\xaa\\x04\\x06/P2SH/\\x04\\x1c\"\\x9dS\\x08\\x18\\x00\\x04\\x8c`\\x00\\x03\\x95\\x05/p01/'\n",
      "305919 :  digitalBTC  ( blockchain.info ) --  digitalX Mintsy  ( blocktrail.com )\n",
      "\t b'\\x03\\xff\\xaa\\x04\\x06/P2SH/\\x04\\xe9g\\x9dS\\x08h\\x00\\x00Eg\\x82\\xe7\\xff\\x05/p01/'\n",
      "353392 :  digitalBTC  ( blockchain.info ) --  digitalX Mintsy  ( blocktrail.com )\n",
      "\t b'\\x03pd\\x05\\x06/P2SH/\\x04y\\x1b9U\\x08o\\xff\\xfe\\xd3,bis\\x08/agentD/'\n",
      "353612 :  digitalBTC  ( blockchain.info ) --  digitalX Mintsy  ( blocktrail.com )\n",
      "\t b'\\x03Le\\x05\\x06/P2SH/\\x04;?;U\\x08\\x10\\x00\\x01\\x10@\\x00\\x04\\x13\\x08/agentD/'\n",
      "353690 :  digitalBTC  ( blockchain.info ) --  digitalX Mintsy  ( blocktrail.com )\n",
      "\t b'\\x03\\x9ae\\x05\\x06/P2SH/\\x04\\x15\\xf2;U\\x08o\\xff\\xff\\xed\\x10\\x00\\x01t\\x08/agentD/'\n",
      "353865 :  digitalBTC  ( blockchain.info ) --  digitalX Mintsy  ( blocktrail.com )\n",
      "\t b'\\x03If\\x05\\x06/P2SH/\\x04\\xd3\\x7f=U\\x080\\x00\\x00+\\x10\\x00\\x02E\\x08/agentD/'\n",
      "353900 :  digitalBTC  ( blockchain.info ) --  digitalX Mintsy  ( blocktrail.com )\n",
      "\t b'\\x03lf\\x05\\x06/P2SH/\\x04\\xd7\\xd0=U\\x08\\x18\\x00\\x00\\r \\x00\\x06b\\x08/agentD/'\n",
      "353995 :  digitalBTC  ( blockchain.info ) --  digitalX Mintsy  ( blocktrail.com )\n",
      "\t b'\\x03\\xcbf\\x05\\x06/P2SH/\\x04.\\xc1>U\\x08O\\xff\\xff\\xda`\\x00\\x02\\x7f\\x08/agentD/'\n",
      "354165 :  digitalBTC  ( blockchain.info ) --  digitalX Mintsy  ( blocktrail.com )\n",
      "\t b'\\x03ug\\x05\\x06/P2SH/\\x04\\x0e=@U\\x08\\x10\\x00\\x02\\xc6@\\x00\\x02\\x95\\x08/agentD/'\n",
      "354181 :  digitalBTC  ( blockchain.info ) --  digitalX Mintsy  ( blocktrail.com )\n",
      "\t b'\\x03\\x85g\\x05\\x06/P2SH/\\x04\\xd1p@U\\x08o\\xff\\xfb~\\x10\\x00\\x06\\xe2\\x08/agentD/'\n",
      "354653 :  digitalBTC  ( blockchain.info ) --  digitalX Mintsy  ( blocktrail.com )\n",
      "\t b'\\x03]i\\x05\\x06/P2SH/\\x04\\xcc\\xddDU\\x08o\\xff\\xff\\xef@\\x00\\x03v\\x08/agentD/'\n",
      "354904 :  digitalBTC  ( blockchain.info ) --  digitalX Mintsy  ( blocktrail.com )\n",
      "\t b'\\x03Xj\\x05\\x06/P2SH/\\x04!EGU\\x080\\x00\\x07rP\\x00\\x05_\\x08/agentD/'\n"
     ]
    },
    {
     "name": "stdout",
     "output_type": "stream",
     "text": [
      "74\n"
     ]
    }
   ],
   "source": [
    "i = 0\n",
    "for blknum in blocks:\n",
    "    if blknum in blocks_blocktrail.keys() and len( blocks[ blknum ][ util.D_ADDRESSES ] ) == 1 and blocks[ blknum ][ util.D_ADDRESSES ][ 0 ] == \"1MimPd6LrPKGftPRHWdfk8S3KYBfN4ELnD\":\n",
    "        miner_bt = blocks_blocktrail[ blknum ][ util.DDD_MINER ]\n",
    "        miner_uid = \"\"\n",
    "        for miner_id in miners:\n",
    "            # check if there is a unified miner id for this miner already in miners.json\n",
    "            if miner_bt in miners[ miner_id ][ util.D_NAMES ].keys():\n",
    "                # unified miner_id found\n",
    "                miner_uid = miner_id\n",
    "                mapped = True\n",
    "                break\n",
    "        if mapped:        \n",
    "            for attr in blocks[ blknum ][ util.D_ATTRIBUTIONS ].keys():\n",
    "                if blocks[ blknum ][ util.D_ATTRIBUTIONS ][ attr ][ util.DDD_MINER ] != miner_uid:\n",
    "                    print(blknum,\": \",blocks[ blknum ][ util.D_ATTRIBUTIONS ][ attr ][ util.DDD_MINER ],\" (\",\n",
    "                          blocks[ blknum ][ util.D_ATTRIBUTIONS ][ attr ][ util.DDD_SRC ],\") -- \",\n",
    "                          miner_uid,\" ( blocktrail.com )\")\n",
    "                    print(\"\\t\", repr(binascii.unhexlify(blocks[ blknum ][ util.D_CB ]) ) )\n",
    "                    i += 1\n",
    "                    break\n",
    "print(i)"
   ]
  },
  {
   "cell_type": "code",
   "execution_count": 128,
   "metadata": {
    "ExecuteTime": {
     "end_time": "2019-06-02T19:11:23.484174Z",
     "start_time": "2019-06-02T19:11:23.479059Z"
    }
   },
   "outputs": [
    {
     "name": "stdout",
     "output_type": "stream",
     "text": [
      "{'names': {'digitalX Mintsy': {'url': 'https://www.mintsy.co', 'currencies': ['BTC'], 'fullName': '', 'firstUsed': 0, 'lastUsed': 0, 'sources': ['blockchain.info github', 'btccom github', 'blocktrail.com']}}, 'markers': {}, 'addresses': {'1NY15MK947MLzmPUa2gL7UgyR8prLh2xfu': {'currencies': ['BTC'], 'firstUsed': 0, 'lastUsed': 0, 'sources': ['blockchain.info github', 'btccom github', 'blocktrail.com']}, '1MimPd6LrPKGftPRHWdfk8S3KYBfN4ELnD': {'sources': ['blocktrail.com'], 'firstUsed': 0, 'lastUsed': 0, 'currencies': ['BTC']}, '19vvtxUpbidB8MT5CsSYYTBEjMRnowSZj4': {'sources': ['blocktrail.com'], 'firstUsed': 0, 'lastUsed': 0, 'currencies': ['BTC']}, '12f1FoTYvYiSmiDSVfeHcw8gS8Fp7xREUW': {'sources': ['blocktrail.com'], 'firstUsed': 0, 'lastUsed': 0, 'currencies': ['BTC']}}}\n",
      "\n"
     ]
    }
   ],
   "source": [
    "print(miners[\"digitalX Mintsy\"])\n",
    "util.unify_miners(\"digitalX Mintsy\",\"digitalBTC\",miners)\n",
    "print()"
   ]
  },
  {
   "cell_type": "markdown",
   "metadata": {},
   "source": [
    "#### 147SwRQdpCfj5p8PnfsXV2SsVVpVcz3aPq\n",
    "There are multiple occasions where *blocktrail.com* attributed blocks differently than *blockchain.info*:\n",
    "**CANOE** and **BTC.TOP**.\n",
    "\n",
    "With current information this cannot be resolved. "
   ]
  },
  {
   "cell_type": "code",
   "execution_count": 130,
   "metadata": {
    "ExecuteTime": {
     "end_time": "2019-06-02T19:11:36.111471Z",
     "start_time": "2019-06-02T19:11:36.101454Z"
    }
   },
   "outputs": [],
   "source": [
    "i = 0\n",
    "for blknum in blocks:\n",
    "    if blknum in blocks_blocktrail.keys() and len( blocks[ blknum ][ util.D_ADDRESSES ] ) == 1 and blocks[ blknum ][ util.D_ADDRESSES ][ 0 ] == \"147SwRQdpCfj5p8PnfsXV2SsVVpVcz3aPq\":\n",
    "        miner_bt = blocks_blocktrail[ blknum ][ util.DDD_MINER ]\n",
    "        miner_uid = \"\"\n",
    "        for miner_id in miners:\n",
    "            # check if there is a unified miner id for this miner already in miners.json\n",
    "            if miner_bt in miners[ miner_id ][ util.D_NAMES ].keys():\n",
    "                # unified miner_id found\n",
    "                miner_uid = miner_id\n",
    "                mapped = True\n",
    "                break\n",
    "        if mapped:        \n",
    "            for attr in blocks[ blknum ][ util.D_ATTRIBUTIONS ].keys():\n",
    "                if blocks[ blknum ][ util.D_ATTRIBUTIONS ][ attr ][ util.DDD_MINER ] != miner_uid:\n",
    "                    print(blknum,\": \",blocks[ blknum ][ util.D_ATTRIBUTIONS ][ attr ][ util.DDD_MINER ],\" (\",\n",
    "                          blocks[ blknum ][ util.D_ATTRIBUTIONS ][ attr ][ util.DDD_SRC ],\") -- \",\n",
    "                          miner_uid,\" ( blocktrail.com )\")\n",
    "                    print(\"\\t\", repr(binascii.unhexlify(blocks[ blknum ][ util.D_CB ]) ) )\n",
    "                    i += 1\n",
    "                    break\n",
    "print(i)"
   ]
  },
  {
   "cell_type": "markdown",
   "metadata": {},
   "source": [
    "#### 1FLH1SoLv4U68yUERhDiWzrJn5TggMqkaZ\n",
    "* 482059\n",
    "* 482221\n",
    "\n",
    "Waterhole -- BTC.com \n",
    "\n",
    "With current information this cannot be resovled"
   ]
  },
  {
   "cell_type": "code",
   "execution_count": 136,
   "metadata": {
    "ExecuteTime": {
     "end_time": "2019-06-02T19:13:44.721657Z",
     "start_time": "2019-06-02T19:13:44.349723Z"
    }
   },
   "outputs": [],
   "source": [
    "with open(miners_initial_incl_blocktrail_json_file, 'w') as outfile:\n",
    "    json.dump(miners, outfile)"
   ]
  },
  {
   "cell_type": "markdown",
   "metadata": {},
   "source": [
    "## Redo `blockchain.info` and `blocktrail.com` attributioins based on modified miner data\n",
    "With updated miners "
   ]
  },
  {
   "cell_type": "code",
   "execution_count": 137,
   "metadata": {
    "ExecuteTime": {
     "end_time": "2019-06-02T19:13:48.300975Z",
     "start_time": "2019-06-02T19:13:48.284384Z"
    }
   },
   "outputs": [],
   "source": [
    "miners = dict()\n",
    "miners.clear()\n",
    "\n",
    "with open(miners_initial_json_file, 'r') as fp:\n",
    "    miners = json.load(fp)"
   ]
  },
  {
   "cell_type": "code",
   "execution_count": 140,
   "metadata": {
    "ExecuteTime": {
     "end_time": "2019-06-02T19:14:16.664612Z",
     "start_time": "2019-06-02T19:14:16.660243Z"
    }
   },
   "outputs": [],
   "source": [
    "# Update the miners initial but not persist them after that step\n",
    "print(miners_initial[\"digitalX Mintsy\"])\n",
    "util.unify_miners(\"digitalX Mintsy\",\"digitalBTC\",miners_initial)"
   ]
  },
  {
   "cell_type": "code",
   "execution_count": 159,
   "metadata": {},
   "outputs": [
    {
     "data": {
      "text/plain": [
       "{'addresses': {'1KPQkehgYAqwiC6UCcbojM3mbGjURrQJF2': {'currencies': ['BTC'],\n",
       "   'firstUsed': 0,\n",
       "   'lastUsed': 0,\n",
       "   'sources': ['blockchain.info github', 'btccom github', 'blocktrail.com']}},\n",
       " 'markers': {'/ConnectBTC - Home for Miners/': {'currencies': ['BTC'],\n",
       "   'firstUsed': 0,\n",
       "   'lastUsed': 0,\n",
       "   'sources': ['blockchain.info github', 'btccom github', 'blocktrail.com']}},\n",
       " 'names': {'ConnectBTC': {'currencies': ['BTC'],\n",
       "   'firstUsed': 0,\n",
       "   'fullName': '',\n",
       "   'lastUsed': 0,\n",
       "   'sources': ['blockchain.info github', 'btccom github', 'blocktrail.com'],\n",
       "   'url': 'https://www.connectbtc.com'}}}"
      ]
     },
     "execution_count": 159,
     "metadata": {},
     "output_type": "execute_result"
    }
   ],
   "source": [
    "util.get_sample(miners)"
   ]
  },
  {
   "cell_type": "code",
   "execution_count": 160,
   "metadata": {},
   "outputs": [
    {
     "data": {
      "text/plain": [
       "{'addresses': ['16mCKDJqGp2yGM4vYkkHydQgQogwiWtX9F',\n",
       "  '16NB52SewXETqfrawp1Fooo1kS6oDFgPNc',\n",
       "  '18d3HV2bm94UyY4a9DrPfoZ17sXuiDQq2B',\n",
       "  '18FHEZ47jUcgo29WfoF5JN3imQi414D5iQ',\n",
       "  '18pcZWZa79VqkCBS55mAyXwh9UCj1PrxKq',\n",
       "  '19dNbhJ4LeoThc5ck8GafN43xQ8EsVDPie',\n",
       "  '1DKsUFRMH4yiQeKyauHoBadPZnJEcpqWbW',\n",
       "  '1DXfYWL1S1cpdNMS9bRXHYEqXevhKgE9HQ',\n",
       "  '1G3nmSyhtGc2FFdUKiQfjMEjNZLFVE66MF',\n",
       "  '1GvZ7Y5NejG4bHS9NpxPVSNA4tawcXnoRV',\n",
       "  '1JKi5gSthVsDJ7brXN9jSqEicB2Qx4cjDK',\n",
       "  '1JqMb42q7PpqvBEVxNNK6SXTRTMCRncPFW',\n",
       "  '1Kseaf5QeTv61ghTobCHdzRAkMSiKVUPtW',\n",
       "  '1MegiuY2FZNSQb86zZR4qFvJQS3zE4MZze',\n",
       "  '1MNdLkFk8y5rk5WzmXjn8ESxSU5sixv4sP',\n",
       "  '1MU9UeqgsWDNkjppbyJUdTbq7JrEJKGFvQ',\n",
       "  '1MXGXsZTBewv8XUjL8vnZ3PGsZ95mEexLk',\n",
       "  '1NFvvAu3DoFsDhW31Lnr71aMhVhF3ETP7K',\n",
       "  '1NNSeVpihhfgo5zHW86xC22Dd4nMj1wHAk',\n",
       "  '1NqJH2zjSBAgat16ZpZQ1FAb83J8MaSCom',\n",
       "  '1Rq7HRPfBXjjzPWT1ptko4MFUyiXQJQC2'],\n",
       " 'attribution': '',\n",
       " 'attributions': {'blockchain_info': {'matches': [{'cb_match': 'Eligius'}],\n",
       "   'miner': 'Eligius',\n",
       "   'src': 'blockchain.info'},\n",
       "  'blockchain_info_marker': {'matches': [{'cb_match': 'Eligius'}],\n",
       "   'miner': 'Eligius',\n",
       "   'src': 'blockchain.info'},\n",
       "  'blockchain_info_marker_update': {'matches': [{'cb_match': 'Eligius'}],\n",
       "   'miner': 'Eligius',\n",
       "   'src': 'blockchain.info'},\n",
       "  'blockchain_info_update': {'matches': [{'cb_match': 'Eligius'}],\n",
       "   'miner': 'Eligius',\n",
       "   'src': 'blockchain.info'},\n",
       "  'blocktrail_com': {'miner': 'Eligius', 'src': 'blocktrail.com'},\n",
       "  'btccom': {'matches': [{'cb_match': 'Eligius'}],\n",
       "   'miner': 'Eligius',\n",
       "   'src': 'btccom'},\n",
       "  'btccom_marker': {'matches': [{'cb_match': 'Eligius'}],\n",
       "   'miner': 'Eligius',\n",
       "   'src': 'btccom'},\n",
       "  'btccom_marker_update': {'matches': [{'cb_match': 'Eligius'}],\n",
       "   'miner': 'Eligius',\n",
       "   'src': 'btccom'},\n",
       "  'btccom_update': {'matches': [{'cb_match': 'Eligius'}],\n",
       "   'miner': 'Eligius',\n",
       "   'src': 'btccom'}},\n",
       " 'cb': '0325b5050d00456c69676975730055f2e07bfabe6d6def2274aedf9b4a1d8571571cd87ba954552fd90ed8e02f30b10f634d3e1795140400000000000000002f737333392f00640100009ff20000',\n",
       " 'conflicts': 0,\n",
       " 'hash': '00000000000000001167bff28ccf6afb79f8b875dd924fd05253647639b11d02',\n",
       " 'miner': '',\n",
       " 'payout': '2513872302',\n",
       " 'phash': None,\n",
       " 'time': 1441980539}"
      ]
     },
     "execution_count": 160,
     "metadata": {},
     "output_type": "execute_result"
    }
   ],
   "source": [
    "util.get_sample(blocks)"
   ]
  },
  {
   "cell_type": "code",
   "execution_count": 141,
   "metadata": {
    "ExecuteTime": {
     "end_time": "2019-06-02T19:16:17.755311Z",
     "start_time": "2019-06-02T19:14:24.466296Z"
    }
   },
   "outputs": [
    {
     "name": "stdout",
     "output_type": "stream",
     "text": [
      "482000\n",
      "Message    =  Addr and Cb match differ\n",
      "Blockheight=  482059\n",
      "Miner1     =  Waterhole\n",
      "Miner2     =  BTC.com\n",
      "Coinbase   =  030b5b0704465fa1592f4254432e434f4d2ffabe6d6dff48161efa0f0b44fc9463e380e6b585ff91ac3f9c973d156dfff35fd553cdb101000000000000000228124b7faf010000000000\n",
      "CoinbaseStr=  b'\\x03\\x0b[\\x07\\x04F_\\xa1Y/BTC.COM/\\xfa\\xbemm\\xffH\\x16\\x1e\\xfa\\x0f\\x0bD\\xfc\\x94c\\xe3\\x80\\xe6\\xb5\\x85\\xff\\x91\\xac?\\x9c\\x97=\\x15m\\xff\\xf3_\\xd5S\\xcd\\xb1\\x01\\x00\\x00\\x00\\x00\\x00\\x00\\x00\\x02(\\x12K\\x7f\\xaf\\x01\\x00\\x00\\x00\\x00\\x00'\n",
      "Addesses   =  1FLH1SoLv4U68yUERhDiWzrJn5TggMqkaZ\n",
      "addr_match =  [('Waterhole', {'addr_match': '1FLH1SoLv4U68yUERhDiWzrJn5TggMqkaZ'})]\n",
      "cb_match   =  [('BTC.com', {'cb_match': '/BTC.COM/'})]\n",
      "\n",
      "Message    =  Addr and Cb match differ\n",
      "Blockheight=  482221\n",
      "Miner1     =  Waterhole\n",
      "Miner2     =  BTC.com\n",
      "Coinbase   =  03ad5b0704a4e6a2592f4254432e434f4d2ffabe6d6d0dd4f6c7dac894c84821c9fed8c15a621583ada8e4177c182c011cab52e2d6d0010000000000000001292f8e92ae010000000000\n",
      "CoinbaseStr=  b'\\x03\\xad[\\x07\\x04\\xa4\\xe6\\xa2Y/BTC.COM/\\xfa\\xbemm\\r\\xd4\\xf6\\xc7\\xda\\xc8\\x94\\xc8H!\\xc9\\xfe\\xd8\\xc1Zb\\x15\\x83\\xad\\xa8\\xe4\\x17|\\x18,\\x01\\x1c\\xabR\\xe2\\xd6\\xd0\\x01\\x00\\x00\\x00\\x00\\x00\\x00\\x00\\x01)/\\x8e\\x92\\xae\\x01\\x00\\x00\\x00\\x00\\x00'\n",
      "Addesses   =  1FLH1SoLv4U68yUERhDiWzrJn5TggMqkaZ\n",
      "addr_match =  [('Waterhole', {'addr_match': '1FLH1SoLv4U68yUERhDiWzrJn5TggMqkaZ'})]\n",
      "cb_match   =  [('BTC.com', {'cb_match': '/BTC.COM/'})]\n",
      "524000\n",
      "Message    =  Addr and Cb match differ\n",
      "Blockheight=  524045\n",
      "Miner1     =  BitcoinRussia\n",
      "Miner2     =  Bitcoin-Ukraine\n",
      "Coinbase   =  030dff0704bbbe055b08fabe6d6d5161e32de4ba2440240366a8777307840c73e448a8e5239e663916c17e0be144010000000000000078054a364b5fe107182f426974636f696e2d556b7261696e652e636f6d2e75612f\n",
      "CoinbaseStr=  b'\\x03\\r\\xff\\x07\\x04\\xbb\\xbe\\x05[\\x08\\xfa\\xbemmQa\\xe3-\\xe4\\xba$@$\\x03f\\xa8ws\\x07\\x84\\x0cs\\xe4H\\xa8\\xe5#\\x9ef9\\x16\\xc1~\\x0b\\xe1D\\x01\\x00\\x00\\x00\\x00\\x00\\x00\\x00x\\x05J6K_\\xe1\\x07\\x18/Bitcoin-Ukraine.com.ua/'\n",
      "Addesses   =  165GCEAx81wce33FWEnPCRhdjcXCrBJdKn\n",
      "addr_match =  [('BitcoinRussia', {'addr_match': '165GCEAx81wce33FWEnPCRhdjcXCrBJdKn'})]\n",
      "cb_match   =  [('Bitcoin-Ukraine', {'cb_match': '/Bitcoin-Ukraine.com.ua/'})]\n",
      "556000\r"
     ]
    }
   ],
   "source": [
    "# attribute blocks to miners according to blockcahin.info initial mapping\n",
    "(blocks,miners,conflicts) = util.attribute_blocks(blocks=blocks,\n",
    "                                   miners_dict=miners,\n",
    "                                   addr_attr=\"btccom_blockchain_info_addr\",\n",
    "                                   marker_attr=\"btccom_blockchain_info_marker\",\n",
    "                                   both_attr=\"btccom_blockchain_info\",\n",
    "                                   source=\"attribution based on btccom and blockchain.info sources\",\n",
    "                                   override=True,\n",
    "                                   update=False)"
   ]
  },
  {
   "cell_type": "code",
   "execution_count": 142,
   "metadata": {
    "ExecuteTime": {
     "end_time": "2019-06-02T19:16:44.320816Z",
     "start_time": "2019-06-02T19:16:44.316860Z"
    }
   },
   "outputs": [
    {
     "data": {
      "text/plain": [
       "3"
      ]
     },
     "execution_count": 142,
     "metadata": {},
     "output_type": "execute_result"
    }
   ],
   "source": [
    "len(conflicts) "
   ]
  },
  {
   "cell_type": "code",
   "execution_count": 145,
   "metadata": {
    "ExecuteTime": {
     "end_time": "2019-06-02T19:21:37.165656Z",
     "start_time": "2019-06-02T19:21:37.163155Z"
    }
   },
   "outputs": [],
   "source": [
    "# attribute blocks to miners according to blockcahin.info initial mapping\n",
    "(blocks,miners,conflicts) = util.attribute_blocks(blocks=blocks,\n",
    "                                   miners_dict=miners,\n",
    "                                   addr_attr=\"btccom_blockchain_info_addr_update\",\n",
    "                                   marker_attr=\"btccom_blockchain_info_update\",\n",
    "                                   both_attr=\"btccom_blockchain_info_update\",\n",
    "                                   source=\"attribution based on btccom and blockchain.info sources\",\n",
    "                                   override=True,\n",
    "                                   update=True)"
   ]
  },
  {
   "cell_type": "code",
   "execution_count": 144,
   "metadata": {
    "ExecuteTime": {
     "end_time": "2019-06-02T19:21:28.952889Z",
     "start_time": "2019-06-02T19:21:28.947151Z"
    }
   },
   "outputs": [
    {
     "data": {
      "text/plain": [
       "388"
      ]
     },
     "execution_count": 144,
     "metadata": {},
     "output_type": "execute_result"
    }
   ],
   "source": [
    "len(conflicts) # 479 # 455"
   ]
  },
  {
   "cell_type": "code",
   "execution_count": 146,
   "metadata": {
    "ExecuteTime": {
     "end_time": "2019-06-02T19:22:06.379310Z",
     "start_time": "2019-06-02T19:22:06.295327Z"
    }
   },
   "outputs": [],
   "source": [
    "miners = dict()\n",
    "miners.clear()\n",
    "\n",
    "with open(miners_initial_incl_blocktrail_json_file, 'r') as fp:\n",
    "    miners = json.load(fp)"
   ]
  },
  {
   "cell_type": "code",
   "execution_count": 148,
   "metadata": {
    "ExecuteTime": {
     "end_time": "2019-06-02T19:24:48.917986Z",
     "start_time": "2019-06-02T19:24:48.915036Z"
    }
   },
   "outputs": [],
   "source": [
    "(blocks,miners,conflicts) = util.attribute_blocks(blocks=blocks,\n",
    "                                   miners_dict=miners,\n",
    "                                   addr_attr=\"initial_addr\",\n",
    "                                   marker_attr=\"initial_marker\",\n",
    "                                   both_attr=\"initial\",\n",
    "                                   source=\"initial attribution based on all sources\",\n",
    "                                   override=True,\n",
    "                                   update=False)"
   ]
  },
  {
   "cell_type": "code",
   "execution_count": 149,
   "metadata": {
    "ExecuteTime": {
     "end_time": "2019-06-02T19:24:54.395485Z",
     "start_time": "2019-06-02T19:24:54.384731Z"
    }
   },
   "outputs": [
    {
     "data": {
      "text/plain": [
       "455"
      ]
     },
     "execution_count": 149,
     "metadata": {},
     "output_type": "execute_result"
    }
   ],
   "source": [
    "len(conflicts)"
   ]
  },
  {
   "cell_type": "code",
   "execution_count": 151,
   "metadata": {
    "ExecuteTime": {
     "end_time": "2019-06-02T19:27:43.749348Z",
     "start_time": "2019-06-02T19:27:43.745862Z"
    },
    "scrolled": true
   },
   "outputs": [],
   "source": [
    "(blocks,miners,conflicts) = util.attribute_blocks(blocks=blocks,\n",
    "                                   miners_dict=miners,\n",
    "                                   addr_attr=\"initial_addr_update\",\n",
    "                                   marker_attr=\"initial_marker_update\",\n",
    "                                   both_attr=\"initial_update\",\n",
    "                                   source=\"initial attribution based on all sources including update\",\n",
    "                                   override=True,\n",
    "                                   update=True)"
   ]
  },
  {
   "cell_type": "code",
   "execution_count": 152,
   "metadata": {
    "ExecuteTime": {
     "end_time": "2019-06-02T19:27:47.630517Z",
     "start_time": "2019-06-02T19:27:47.620940Z"
    }
   },
   "outputs": [
    {
     "data": {
      "text/plain": [
       "455"
      ]
     },
     "execution_count": 152,
     "metadata": {},
     "output_type": "execute_result"
    }
   ],
   "source": [
    "len(conflicts) # 479 # 455"
   ]
  },
  {
   "cell_type": "code",
   "execution_count": 153,
   "metadata": {
    "ExecuteTime": {
     "end_time": "2019-06-02T19:27:56.570926Z",
     "start_time": "2019-06-02T19:27:56.550059Z"
    }
   },
   "outputs": [],
   "source": [
    "with open(miners_initial_conflicts_json_file, 'w') as fp:\n",
    "    json.dump(conflicts, fp)"
   ]
  },
  {
   "cell_type": "markdown",
   "metadata": {},
   "source": [
    "Redo/Update the blocks json attribution of blocktrail to unify the name of digitalX Mintsy in this\n",
    "attribution data"
   ]
  },
  {
   "cell_type": "code",
   "execution_count": 154,
   "metadata": {
    "ExecuteTime": {
     "end_time": "2019-06-02T19:28:08.612351Z",
     "start_time": "2019-06-02T19:28:04.360415Z"
    }
   },
   "outputs": [],
   "source": [
    "# blocktrail.com again to map 'digitalX Mintsy' to 'digitalBTC' correctly\n",
    "\n",
    "for blknum in blocks:\n",
    "    # iterate over all blocks once\n",
    "    if blknum in blocks_blocktrail.keys():\n",
    "        # check if block was attributed by blocktrail\n",
    "        \n",
    "        # !!! remove old blocktrail.com attribution\n",
    "        blocks[ blknum ][ util.D_ATTRIBUTIONS ].pop( util.DD_BT_ATTR, None)\n",
    "        \n",
    "        miner_bt = blocks_blocktrail[ blknum ][ util.DDD_MINER ]\n",
    "        if miner_bt == \"unknown\" or miner_bt == \"Unknown Entity\":\n",
    "            continue\n",
    "            \n",
    "        miner_uid = miner_bt\n",
    "        mapped = False\n",
    "        for miner_id in miners:\n",
    "            # check if there is a unified miner id for this miner already in miners.json\n",
    "            if miner_bt in miners[ miner_id ][ util.D_NAMES ].keys():\n",
    "                # unified miner_id found\n",
    "                miner_uid = miner_id\n",
    "                mapped = True\n",
    "                break\n",
    "                \n",
    "        if not mapped and len( blocks[ blknum ][ util.D_ADDRESSES ] ) == 1:\n",
    "            # if miner name could not be mapped to list of existing miner names\n",
    "            # it is probably a new miner and gets added as such\n",
    "            address = blocks[ blknum ][ util.D_ADDRESSES ][0]\n",
    "            print(miner_uid,\":\",address)\n",
    "            util.add_miner(miner_uid,\n",
    "                     miners,\n",
    "                     names_dict= { miner_uid: { util.DD_URL:\"\",\n",
    "                                            util.DD_CURRENCIES: [\"BTC\",],\n",
    "                                            util.DD_FULLNAME: \"\",\n",
    "                                            util.DD_FIRSTUSED: 0,\n",
    "                                            util.DD_LASTUSED: 0,\n",
    "                                            util.DD_SOURCES:[\"blocktrail.com\",] } },\n",
    "                     addresses_dict= { address: { util.DD_CURRENCIES: [\"BTC\",],\n",
    "                                              util.DD_FIRSTUSED: 0,\n",
    "                                              util.DD_LASTUSED: 0,\n",
    "                                              util.DD_SOURCES:[\"blocktrail.com\",] } }, )\n",
    "        elif mapped and len( blocks[ blknum ][ util.D_ADDRESSES ] ) == 1:\n",
    "            # the the miner could be mapped then check if we already have the address \n",
    "            # of the coinbase output mapped to this miner \n",
    "            # (if there is only one address in the block coinbase output)\n",
    "            # If we dont have the address add it, if we have it add \"blocktrail.com\" as source to the address\n",
    "            address = blocks[ blknum ][ util.D_ADDRESSES ][0]\n",
    "            \"\"\"\n",
    "            if address == \"1FLH1SoLv4U68yUERhDiWzrJn5TggMqkaZ\":\n",
    "                # check for specific address \n",
    "                for attr in blocks[ blknum ][ util.D_ATTRIBUTIONS ].keys():\n",
    "                    if blocks[ blknum ][ util.D_ATTRIBUTIONS ][ attr ][ \"miner\" ] != miner_uid:\n",
    "                        print(blknum,\":\",blocks[ blknum ][ util.D_ATTRIBUTIONS ][ attr ][ \"miner\" ],\"--\",miner_uid)\n",
    "            \"\"\"            \n",
    "            util.add_addr(miner_uid,miners,address,source=\"blocktrail.com\",currencies=[\"BTC\",])\n",
    "        \n",
    "        # attribute block based on miner_uid in any case\n",
    "        blocks[ blknum ][ util.D_ATTRIBUTIONS ][ util.DD_BT_ATTR ] = { util.DDD_MINER:miner_uid,\n",
    "                                                                       util.DDD_SRC:\"blocktrail.com\" }       \n",
    "        "
   ]
  },
  {
   "cell_type": "markdown",
   "metadata": {},
   "source": [
    "Reapply fixes and checks to see if everything is consistant "
   ]
  },
  {
   "cell_type": "code",
   "execution_count": 155,
   "metadata": {
    "ExecuteTime": {
     "end_time": "2019-06-02T19:28:08.618703Z",
     "start_time": "2019-06-02T19:28:08.614216Z"
    }
   },
   "outputs": [
    {
     "name": "stdout",
     "output_type": "stream",
     "text": [
      "{'sources': ['blocktrail.com'], 'firstUsed': 0, 'lastUsed': 0, 'currencies': ['BTC']}\n"
     ]
    },
    {
     "data": {
      "text/plain": [
       "{'sources': ['blocktrail.com'],\n",
       " 'firstUsed': 0,\n",
       " 'lastUsed': 0,\n",
       " 'currencies': ['BTC']}"
      ]
     },
     "execution_count": 155,
     "metadata": {},
     "output_type": "execute_result"
    }
   ],
   "source": [
    "# first re-undo the incorrec attribution of blocktrail which messes up BTCC and F2Pool:\n",
    "print(miners[\"BTCC Pool\"][ util.D_ADDRESSES ][ \"1KFHE7w8BhaENAswwryaoccDb6qcT6DbYY\" ])\n",
    "miners[\"BTCC Pool\"][ util.D_ADDRESSES ].pop( \"1KFHE7w8BhaENAswwryaoccDb6qcT6DbYY\" , None)"
   ]
  },
  {
   "cell_type": "code",
   "execution_count": 156,
   "metadata": {
    "ExecuteTime": {
     "end_time": "2019-06-02T19:28:14.976325Z",
     "start_time": "2019-06-02T19:28:14.961568Z"
    }
   },
   "outputs": [
    {
     "name": "stdout",
     "output_type": "stream",
     "text": [
      "F2Pool\n",
      "{'addresses': {'13NA7X1u18CgGa7RzTDyvuuoLJtLRvXgke': {'currencies': ['BTC'],\n",
      "                                                      'firstUsed': 0,\n",
      "                                                      'lastUsed': 0,\n",
      "                                                      'sources': ['blocktrail.com']},\n",
      "               '1KFHE7w8BhaENAswwryaoccDb6qcT6DbYY': {'currencies': ['BTC'],\n",
      "                                                      'firstUsed': 0,\n",
      "                                                      'lastUsed': 0,\n",
      "                                                      'sources': ['blockchain.info '\n",
      "                                                                  'github',\n",
      "                                                                  'btccom '\n",
      "                                                                  'github',\n",
      "                                                                  'blocktrail.com']},\n",
      "               '1LoveYoURwCeQu6dURqTQ7hrhYXDA4eJyn': {'currencies': ['BTC'],\n",
      "                                                      'firstUsed': 0,\n",
      "                                                      'lastUsed': 0,\n",
      "                                                      'sources': ['blocktrail.com']}},\n",
      " 'markers': {'七彩神仙鱼': {'currencies': ['BTC'],\n",
      "                       'firstUsed': 0,\n",
      "                       'lastUsed': 0,\n",
      "                       'sources': ['blockchain.info github',\n",
      "                                   'btccom github',\n",
      "                                   'blocktrail.com']}},\n",
      " 'names': {'DiscusFish': {'currencies': [],\n",
      "                          'firstUsed': 0,\n",
      "                          'fullName': '',\n",
      "                          'lastUsed': 0,\n",
      "                          'sources': ['blocktrail.com'],\n",
      "                          'url': ''},\n",
      "           'DiscusFish / F2Pool': {'currencies': [],\n",
      "                                   'firstUsed': 0,\n",
      "                                   'fullName': '',\n",
      "                                   'lastUsed': 0,\n",
      "                                   'sources': ['blocktrail.com'],\n",
      "                                   'url': ''},\n",
      "           'F2Pool': {'currencies': ['BTC'],\n",
      "                      'firstUsed': 0,\n",
      "                      'fullName': '',\n",
      "                      'lastUsed': 0,\n",
      "                      'sources': ['blockchain.info github',\n",
      "                                  'btccom github',\n",
      "                                  'blocktrail.com'],\n",
      "                      'url': 'https://www.f2pool.com'}}}\n"
     ]
    }
   ],
   "source": [
    "for m in miners:\n",
    "    if util.D_ADDRESSES in miners[ m ].keys():\n",
    "        for addr in miners[ m ][ util.D_ADDRESSES ]:\n",
    "            if addr == \"1KFHE7w8BhaENAswwryaoccDb6qcT6DbYY\":\n",
    "                print(m)\n",
    "                pprint.pprint(miners[ m ])"
   ]
  },
  {
   "cell_type": "markdown",
   "metadata": {},
   "source": [
    "## Persist files "
   ]
  },
  {
   "cell_type": "code",
   "execution_count": 157,
   "metadata": {
    "ExecuteTime": {
     "end_time": "2019-06-02T19:28:27.578481Z",
     "start_time": "2019-06-02T19:28:27.191241Z"
    }
   },
   "outputs": [],
   "source": [
    "with open(miners_json_file, 'w') as fp:\n",
    "    json.dump(miners, fp)"
   ]
  },
  {
   "cell_type": "code",
   "execution_count": 158,
   "metadata": {
    "ExecuteTime": {
     "end_time": "2019-06-02T19:30:40.091320Z",
     "start_time": "2019-06-02T19:28:28.038361Z"
    }
   },
   "outputs": [],
   "source": [
    "with open(blocks_attribution_json_file, 'w') as fp:\n",
    "    json.dump(blocks, fp)"
   ]
  }
 ],
 "metadata": {
  "kernelspec": {
   "display_name": "Python 3",
   "language": "python",
   "name": "python3"
  },
  "language_info": {
   "codemirror_mode": {
    "name": "ipython",
    "version": 3
   },
   "file_extension": ".py",
   "mimetype": "text/x-python",
   "name": "python",
   "nbconvert_exporter": "python",
   "pygments_lexer": "ipython3",
   "version": "3.6.7"
  }
 },
 "nbformat": 4,
 "nbformat_minor": 2
}
